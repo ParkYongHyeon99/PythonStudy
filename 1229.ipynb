{
 "cells": [
  {
   "cell_type": "code",
   "execution_count": 163,
   "id": "8b45f8da",
   "metadata": {},
   "outputs": [
    {
     "ename": "SyntaxError",
     "evalue": "invalid syntax (2281441428.py, line 3)",
     "output_type": "error",
     "traceback": [
      "\u001b[1;36m  Cell \u001b[1;32mIn[163], line 3\u001b[1;36m\u001b[0m\n\u001b[1;33m    import tqdm from tqdm\u001b[0m\n\u001b[1;37m                ^\u001b[0m\n\u001b[1;31mSyntaxError\u001b[0m\u001b[1;31m:\u001b[0m invalid syntax\n"
     ]
    }
   ],
   "source": [
    "import pandas as pd\n",
    "from my_utils2 import *\n",
    "import tqdm from tqdm"
   ]
  },
  {
   "cell_type": "markdown",
   "id": "3757b4ae",
   "metadata": {},
   "source": [
    "### 닉네임과 tag를 통해 매치데이터를 임의의 숫자만큼 가져와서 그사람이 플레이한 챔피언들의 데이터프레임 만들기\n",
    "### 결과컬럼 - [챔피언이름 , 전체게임횟수, 승,패,승률,kills,deaths,assists,kda]"
   ]
  },
  {
   "cell_type": "code",
   "execution_count": null,
   "id": "ca666b48",
   "metadata": {},
   "outputs": [],
   "source": [
    "def get_data(nickname, tag, num, queue):\n",
    "    url = f'https://asia.api.riotgames.com/riot/account/v1/accounts/by-riot-id/{nickname}/{tag}?api_key={api_key}'\n",
    "    res = requests.get(url).json()\n",
    "    puuid = res['puuid']\n",
    "    \n",
    "    url2 = f'https://asia.api.riotgames.com/lol/match/v5/matches/by-puuid/{puuid}/ids?queue={queue}&type=ranked&start=0&count={num}&api_key={api_key}'\n",
    "    res2 = requests.get(url2).json()\n",
    "    \n",
    "    \n",
    "    \n",
    "    "
   ]
  },
  {
   "cell_type": "code",
   "execution_count": 417,
   "id": "880c2c84",
   "metadata": {},
   "outputs": [],
   "source": [
    "name = 'Tagdx'\n",
    "tag = '3597'\n",
    "api_key = 'RGAPI-798eb514-99d5-4a07-a165-d21c43381dc0'\n",
    "num = 50\n",
    "queue = 420"
   ]
  },
  {
   "cell_type": "code",
   "execution_count": 341,
   "id": "476dd7f6",
   "metadata": {},
   "outputs": [],
   "source": [
    "url = f'https://asia.api.riotgames.com/riot/account/v1/accounts/by-riot-id/{name}/{tag}?api_key={api_key}'"
   ]
  },
  {
   "cell_type": "code",
   "execution_count": 343,
   "id": "8710af5e",
   "metadata": {},
   "outputs": [],
   "source": [
    "res = requests.get(url).json()"
   ]
  },
  {
   "cell_type": "code",
   "execution_count": 347,
   "id": "9e1e4396",
   "metadata": {},
   "outputs": [],
   "source": [
    "puuid = res['puuid']"
   ]
  },
  {
   "cell_type": "code",
   "execution_count": 348,
   "id": "21498fa3",
   "metadata": {},
   "outputs": [
    {
     "data": {
      "text/plain": [
       "'N5LHp-boX7Mf0dUUJqRrcdrstVmsyAMnQN2RCd_wq0jzlGJMd5KRij3zdpToMLHLr12lOh_5ALusWw'"
      ]
     },
     "execution_count": 348,
     "metadata": {},
     "output_type": "execute_result"
    }
   ],
   "source": [
    "puuid"
   ]
  },
  {
   "cell_type": "code",
   "execution_count": 360,
   "id": "e5cfe9dc",
   "metadata": {},
   "outputs": [],
   "source": [
    "url2 = f'https://asia.api.riotgames.com/lol/match/v5/matches/by-puuid/{puuid}/ids?queue={queue}&type=ranked&start=0&count={num}&api_key={api_key}'"
   ]
  },
  {
   "cell_type": "code",
   "execution_count": 456,
   "id": "8318b4c6",
   "metadata": {},
   "outputs": [
    {
     "name": "stderr",
     "output_type": "stream",
     "text": [
      "100%|██████████████████████████████████████████████████████████████████████████████████| 50/50 [01:13<00:00,  1.46s/it]\n"
     ]
    }
   ],
   "source": [
    "df_create = []\n",
    "for match_id in tqdm(requests.get(url2).json()):\n",
    "    url3 = f'https://asia.api.riotgames.com/lol/match/v5/matches/{match_id}?api_key={api_key}'\n",
    "    matches = requests.get(url3).json()\n",
    "    tmp = []\n",
    "    try:\n",
    "        for match in matches['info']['participants']:\n",
    "            if match['riotIdGameName']== name and match['riotIdTagline'] == tag:\n",
    "                tmp.append(match['championName'])\n",
    "                tmp.append(match['win'])\n",
    "                tmp.append(match['kills'])\n",
    "                tmp.append(match['deaths'])\n",
    "                tmp.append(match['assists'])\n",
    "        df_create.append(tmp)\n",
    "    except:\n",
    "        try:\n",
    "            for match in matches['info']['participants']:\n",
    "                if match['riotIdName']== name and match['riotIdTagline'] == tag:\n",
    "                    tmp.append(match['championName'])\n",
    "                    tmp.append(match['win'])\n",
    "                    tmp.append(match['kills'])\n",
    "                    tmp.append(match['deaths'])\n",
    "                    tmp.append(match['assists'])\n",
    "            df_create.append(tmp)\n",
    "        except:\n",
    "            continue"
   ]
  },
  {
   "cell_type": "code",
   "execution_count": 465,
   "id": "0607c8df",
   "metadata": {},
   "outputs": [],
   "source": [
    "df = pd.DataFrame(df_create, columns = ['championName', 'win', 'kills', 'deaths', 'assists'])"
   ]
  },
  {
   "cell_type": "code",
   "execution_count": 466,
   "id": "5ed444b2",
   "metadata": {},
   "outputs": [],
   "source": [
    "cnt_df = df[['championName', 'win']].groupby('championName').count().rename(columns = {'win' : 'cnt'})"
   ]
  },
  {
   "cell_type": "code",
   "execution_count": 468,
   "id": "8bf7ff7d",
   "metadata": {},
   "outputs": [],
   "source": [
    "sum_df = df.groupby('championName').sum()"
   ]
  },
  {
   "cell_type": "code",
   "execution_count": 470,
   "id": "fb9c03f0",
   "metadata": {},
   "outputs": [],
   "source": [
    "result_df = pd.merge(sum_df, cnt_df, on = 'championName')"
   ]
  },
  {
   "cell_type": "code",
   "execution_count": 472,
   "id": "264edae7",
   "metadata": {},
   "outputs": [],
   "source": [
    "result_df['lose'] = result_df.cnt - result_df.win"
   ]
  },
  {
   "cell_type": "code",
   "execution_count": 474,
   "id": "bae5b5a6",
   "metadata": {},
   "outputs": [],
   "source": [
    "result_df['win_rate'] = round(result_df.win / result_df.cnt, 2)*100"
   ]
  },
  {
   "cell_type": "code",
   "execution_count": 476,
   "id": "afc8fb25",
   "metadata": {},
   "outputs": [],
   "source": [
    "result_df['kda'] = round((result_df.kills + result_df.assists) / result_df.deaths, 2)"
   ]
  },
  {
   "cell_type": "code",
   "execution_count": 478,
   "id": "0fca3255",
   "metadata": {},
   "outputs": [
    {
     "data": {
      "text/html": [
       "<div>\n",
       "<style scoped>\n",
       "    .dataframe tbody tr th:only-of-type {\n",
       "        vertical-align: middle;\n",
       "    }\n",
       "\n",
       "    .dataframe tbody tr th {\n",
       "        vertical-align: top;\n",
       "    }\n",
       "\n",
       "    .dataframe thead th {\n",
       "        text-align: right;\n",
       "    }\n",
       "</style>\n",
       "<table border=\"1\" class=\"dataframe\">\n",
       "  <thead>\n",
       "    <tr style=\"text-align: right;\">\n",
       "      <th></th>\n",
       "      <th>cnt</th>\n",
       "      <th>win</th>\n",
       "      <th>lose</th>\n",
       "      <th>win_rate</th>\n",
       "      <th>kills</th>\n",
       "      <th>deaths</th>\n",
       "      <th>assists</th>\n",
       "      <th>kda</th>\n",
       "    </tr>\n",
       "    <tr>\n",
       "      <th>championName</th>\n",
       "      <th></th>\n",
       "      <th></th>\n",
       "      <th></th>\n",
       "      <th></th>\n",
       "      <th></th>\n",
       "      <th></th>\n",
       "      <th></th>\n",
       "      <th></th>\n",
       "    </tr>\n",
       "  </thead>\n",
       "  <tbody>\n",
       "    <tr>\n",
       "      <th>Nidalee</th>\n",
       "      <td>17</td>\n",
       "      <td>7</td>\n",
       "      <td>10</td>\n",
       "      <td>41.0</td>\n",
       "      <td>139</td>\n",
       "      <td>98</td>\n",
       "      <td>124</td>\n",
       "      <td>2.68</td>\n",
       "    </tr>\n",
       "    <tr>\n",
       "      <th>Graves</th>\n",
       "      <td>6</td>\n",
       "      <td>4</td>\n",
       "      <td>2</td>\n",
       "      <td>67.0</td>\n",
       "      <td>42</td>\n",
       "      <td>36</td>\n",
       "      <td>47</td>\n",
       "      <td>2.47</td>\n",
       "    </tr>\n",
       "    <tr>\n",
       "      <th>LeeSin</th>\n",
       "      <td>6</td>\n",
       "      <td>1</td>\n",
       "      <td>5</td>\n",
       "      <td>17.0</td>\n",
       "      <td>29</td>\n",
       "      <td>43</td>\n",
       "      <td>45</td>\n",
       "      <td>1.72</td>\n",
       "    </tr>\n",
       "    <tr>\n",
       "      <th>Kindred</th>\n",
       "      <td>5</td>\n",
       "      <td>2</td>\n",
       "      <td>3</td>\n",
       "      <td>40.0</td>\n",
       "      <td>32</td>\n",
       "      <td>38</td>\n",
       "      <td>33</td>\n",
       "      <td>1.71</td>\n",
       "    </tr>\n",
       "    <tr>\n",
       "      <th>Ekko</th>\n",
       "      <td>3</td>\n",
       "      <td>2</td>\n",
       "      <td>1</td>\n",
       "      <td>67.0</td>\n",
       "      <td>22</td>\n",
       "      <td>14</td>\n",
       "      <td>24</td>\n",
       "      <td>3.29</td>\n",
       "    </tr>\n",
       "    <tr>\n",
       "      <th>Evelynn</th>\n",
       "      <td>3</td>\n",
       "      <td>1</td>\n",
       "      <td>2</td>\n",
       "      <td>33.0</td>\n",
       "      <td>18</td>\n",
       "      <td>16</td>\n",
       "      <td>12</td>\n",
       "      <td>1.88</td>\n",
       "    </tr>\n",
       "    <tr>\n",
       "      <th>Fiora</th>\n",
       "      <td>2</td>\n",
       "      <td>1</td>\n",
       "      <td>1</td>\n",
       "      <td>50.0</td>\n",
       "      <td>7</td>\n",
       "      <td>10</td>\n",
       "      <td>5</td>\n",
       "      <td>1.20</td>\n",
       "    </tr>\n",
       "    <tr>\n",
       "      <th>Viego</th>\n",
       "      <td>2</td>\n",
       "      <td>1</td>\n",
       "      <td>1</td>\n",
       "      <td>50.0</td>\n",
       "      <td>9</td>\n",
       "      <td>13</td>\n",
       "      <td>16</td>\n",
       "      <td>1.92</td>\n",
       "    </tr>\n",
       "    <tr>\n",
       "      <th>Karthus</th>\n",
       "      <td>1</td>\n",
       "      <td>1</td>\n",
       "      <td>0</td>\n",
       "      <td>100.0</td>\n",
       "      <td>6</td>\n",
       "      <td>5</td>\n",
       "      <td>15</td>\n",
       "      <td>4.20</td>\n",
       "    </tr>\n",
       "    <tr>\n",
       "      <th>Taliyah</th>\n",
       "      <td>1</td>\n",
       "      <td>1</td>\n",
       "      <td>0</td>\n",
       "      <td>100.0</td>\n",
       "      <td>5</td>\n",
       "      <td>5</td>\n",
       "      <td>8</td>\n",
       "      <td>2.60</td>\n",
       "    </tr>\n",
       "    <tr>\n",
       "      <th>Talon</th>\n",
       "      <td>1</td>\n",
       "      <td>1</td>\n",
       "      <td>0</td>\n",
       "      <td>100.0</td>\n",
       "      <td>12</td>\n",
       "      <td>1</td>\n",
       "      <td>10</td>\n",
       "      <td>22.00</td>\n",
       "    </tr>\n",
       "    <tr>\n",
       "      <th>Aatrox</th>\n",
       "      <td>1</td>\n",
       "      <td>0</td>\n",
       "      <td>1</td>\n",
       "      <td>0.0</td>\n",
       "      <td>2</td>\n",
       "      <td>7</td>\n",
       "      <td>2</td>\n",
       "      <td>0.57</td>\n",
       "    </tr>\n",
       "    <tr>\n",
       "      <th>Gwen</th>\n",
       "      <td>1</td>\n",
       "      <td>0</td>\n",
       "      <td>1</td>\n",
       "      <td>0.0</td>\n",
       "      <td>3</td>\n",
       "      <td>9</td>\n",
       "      <td>6</td>\n",
       "      <td>1.00</td>\n",
       "    </tr>\n",
       "    <tr>\n",
       "      <th>Sylas</th>\n",
       "      <td>1</td>\n",
       "      <td>0</td>\n",
       "      <td>1</td>\n",
       "      <td>0.0</td>\n",
       "      <td>1</td>\n",
       "      <td>5</td>\n",
       "      <td>1</td>\n",
       "      <td>0.40</td>\n",
       "    </tr>\n",
       "  </tbody>\n",
       "</table>\n",
       "</div>"
      ],
      "text/plain": [
       "              cnt  win  lose  win_rate  kills  deaths  assists    kda\n",
       "championName                                                         \n",
       "Nidalee        17    7    10      41.0    139      98      124   2.68\n",
       "Graves          6    4     2      67.0     42      36       47   2.47\n",
       "LeeSin          6    1     5      17.0     29      43       45   1.72\n",
       "Kindred         5    2     3      40.0     32      38       33   1.71\n",
       "Ekko            3    2     1      67.0     22      14       24   3.29\n",
       "Evelynn         3    1     2      33.0     18      16       12   1.88\n",
       "Fiora           2    1     1      50.0      7      10        5   1.20\n",
       "Viego           2    1     1      50.0      9      13       16   1.92\n",
       "Karthus         1    1     0     100.0      6       5       15   4.20\n",
       "Taliyah         1    1     0     100.0      5       5        8   2.60\n",
       "Talon           1    1     0     100.0     12       1       10  22.00\n",
       "Aatrox          1    0     1       0.0      2       7        2   0.57\n",
       "Gwen            1    0     1       0.0      3       9        6   1.00\n",
       "Sylas           1    0     1       0.0      1       5        1   0.40"
      ]
     },
     "execution_count": 478,
     "metadata": {},
     "output_type": "execute_result"
    }
   ],
   "source": [
    "result_df[['cnt', 'win', 'lose', 'win_rate', 'kills', 'deaths', 'assists', 'kda']].sort_values(by = ['cnt', 'win_rate'], ascending=False)"
   ]
  },
  {
   "cell_type": "code",
   "execution_count": null,
   "id": "38ecdfa6",
   "metadata": {},
   "outputs": [],
   "source": []
  },
  {
   "cell_type": "code",
   "execution_count": null,
   "id": "6cae3776",
   "metadata": {},
   "outputs": [],
   "source": []
  },
  {
   "cell_type": "code",
   "execution_count": null,
   "id": "55082e98",
   "metadata": {},
   "outputs": [],
   "source": []
  },
  {
   "cell_type": "code",
   "execution_count": null,
   "id": "c56389d3",
   "metadata": {},
   "outputs": [],
   "source": []
  }
 ],
 "metadata": {
  "kernelspec": {
   "display_name": "Python 3 (ipykernel)",
   "language": "python",
   "name": "python3"
  },
  "language_info": {
   "codemirror_mode": {
    "name": "ipython",
    "version": 3
   },
   "file_extension": ".py",
   "mimetype": "text/x-python",
   "name": "python",
   "nbconvert_exporter": "python",
   "pygments_lexer": "ipython3",
   "version": "3.11.5"
  }
 },
 "nbformat": 4,
 "nbformat_minor": 5
}
