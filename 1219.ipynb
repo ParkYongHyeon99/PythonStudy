{
 "cells": [
  {
   "cell_type": "code",
   "execution_count": 461,
   "id": "a4b9a06e",
   "metadata": {},
   "outputs": [],
   "source": [
    "import my_utils as mu"
   ]
  },
  {
   "cell_type": "code",
   "execution_count": 37,
   "id": "b3c8f775",
   "metadata": {},
   "outputs": [],
   "source": [
    "import requests"
   ]
  },
  {
   "cell_type": "code",
   "execution_count": 30,
   "id": "03b46294",
   "metadata": {},
   "outputs": [],
   "source": [
    "riot_api_key = 'RGAPI-798eb514-99d5-4a07-a165-d21c43381dc0'"
   ]
  },
  {
   "cell_type": "code",
   "execution_count": 26,
   "id": "85b0685d",
   "metadata": {},
   "outputs": [],
   "source": [
    "puu_id = mu.get_puuid('패드립박는기계#KR1')"
   ]
  },
  {
   "cell_type": "code",
   "execution_count": 27,
   "id": "70c2882f",
   "metadata": {},
   "outputs": [],
   "source": [
    "match_list = mu.get_match_id(puu_id)"
   ]
  },
  {
   "cell_type": "code",
   "execution_count": 29,
   "id": "64c50ae9",
   "metadata": {},
   "outputs": [],
   "source": [
    "matches, timelines = mu.get_matches_timelines(match_list[0])"
   ]
  },
  {
   "cell_type": "code",
   "execution_count": 41,
   "id": "1dd89759",
   "metadata": {},
   "outputs": [],
   "source": [
    "url = f'https://kr.api.riotgames.com/lol/league/v4/entries/RANKED_SOLO_5x5/GOLD/IV?page=2&api_key={riot_api_key}'"
   ]
  },
  {
   "cell_type": "code",
   "execution_count": 49,
   "id": "ed8582c5",
   "metadata": {},
   "outputs": [],
   "source": [
    "res = requests.get(url).json()"
   ]
  },
  {
   "cell_type": "code",
   "execution_count": 52,
   "id": "adf75133",
   "metadata": {},
   "outputs": [],
   "source": [
    "summoner_Id = res[0]['summonerId']"
   ]
  },
  {
   "cell_type": "code",
   "execution_count": 54,
   "id": "680a2a36",
   "metadata": {},
   "outputs": [],
   "source": [
    "url2 = f'https://kr.api.riotgames.com/lol/summoner/v4/summoners/{summoner_Id}?api_key={riot_api_key}'"
   ]
  },
  {
   "cell_type": "code",
   "execution_count": 55,
   "id": "ddb5fc56",
   "metadata": {},
   "outputs": [],
   "source": [
    "res2 = requests.get(url2).json()"
   ]
  },
  {
   "cell_type": "code",
   "execution_count": 56,
   "id": "95ed1441",
   "metadata": {},
   "outputs": [
    {
     "data": {
      "text/plain": [
       "{'id': '-Xw7Np89cWEPwd4W5j5MjA1ZxuqeOvIf8ZSOcUrYjT1HxzsY',\n",
       " 'accountId': 'dU_6TsUAUntg9f6MdTVaPcNfGnVAI7VIM7YBha4Lc9f8q0A-yANOqvkG',\n",
       " 'puuid': 'bVYLugh0bdX528BZCcQ0ADAJd0y6CD6lIlzqYde8buOD-EyHAVHJ5GGkX7qw8AnFjvB_ux7UQHiDxA',\n",
       " 'name': '지종혁',\n",
       " 'profileIconId': 3546,\n",
       " 'revisionDate': 1700888788000,\n",
       " 'summonerLevel': 66}"
      ]
     },
     "execution_count": 56,
     "metadata": {},
     "output_type": "execute_result"
    }
   ],
   "source": [
    "res2"
   ]
  },
  {
   "cell_type": "markdown",
   "id": "24abd439",
   "metadata": {},
   "source": [
    "# get_rawdata(tier)\n",
    "\n",
    "# df columns = [match_id, matches, timelines]"
   ]
  },
  {
   "cell_type": "code",
   "execution_count": 311,
   "id": "3686c5da",
   "metadata": {},
   "outputs": [],
   "source": [
    "import random\n",
    "import pandas as pd\n",
    "from tqdm import tqdm"
   ]
  },
  {
   "cell_type": "code",
   "execution_count": 462,
   "id": "261e13af",
   "metadata": {},
   "outputs": [],
   "source": [
    "def get_rawdata(tier):\n",
    "    division_list = ['I', 'II', 'III', 'IV']\n",
    "    lst = []\n",
    "    page = random.randrange(1, 20)\n",
    "    print('get summonerId...')\n",
    "    for division in tqdm(division_list):\n",
    "        url = f'https://kr.api.riotgames.com/lol/league/v4/entries/RANKED_SOLO_5x5/{tier}/{division}?page={page}&api_key={riot_api_key}'\n",
    "        res = requests.get(url).json()\n",
    "        lst += random.sample(res, 3)\n",
    "    # lst라는 변수에서 summonerId만 리스트에 담기\n",
    "    summoner_id_list = list(map(lambda x:x ['summonerId'], lst))\n",
    "    \n",
    "    # summonerId가 다른 리스트를 통해 puuid\n",
    "    print('get puuId....')\n",
    "    \n",
    "    puu_id_list = []\n",
    "    for summoner_id in tqdm(summoner_id_list):\n",
    "        url = f'https://kr.api.riotgames.com/lol/summoner/v4/summoners/{summoner_id}?api_key={riot_api_key}'\n",
    "        res = requests.get(url).json()\n",
    "        puu_id = res['puuid']\n",
    "        puu_id_list.append(puu_id)\n",
    "    \n",
    "    # puuid를 통해 matchId를 가져오기 -> 3개씩 담기\n",
    "    match_id_list = []\n",
    "    for puu_id in puu_id_list:\n",
    "        match_ids = mu.get_match_id(puu_id, 3)\n",
    "        match_id_list.extend(match_ids)\n",
    "    print('get matches & timelines.....')\n",
    "    \n",
    "    df_create = []\n",
    "    for match_id in tqdm(match_id_list):\n",
    "        matches, timelines = mu.get_matches_timelines(match_id)\n",
    "        df_create.append([match_id, matches, timelines])\n",
    "    # matches, timelines을 불러서 이중리스트를 만들고 데이터프레임으로 만들어서\n",
    "    df = pd.DataFrame(df_create, columns = ['match_id', 'matches', 'timelines'])\n",
    "    \n",
    "    return df"
   ]
  },
  {
   "cell_type": "code",
   "execution_count": 463,
   "id": "33a3503c",
   "metadata": {
    "scrolled": true
   },
   "outputs": [
    {
     "name": "stdout",
     "output_type": "stream",
     "text": [
      "get summonerId...\n"
     ]
    },
    {
     "name": "stderr",
     "output_type": "stream",
     "text": [
      "100%|████████████████████████████████████████████████████████████████████████████████████| 4/4 [00:03<00:00,  1.10it/s]\n"
     ]
    },
    {
     "name": "stdout",
     "output_type": "stream",
     "text": [
      "get puuId....\n"
     ]
    },
    {
     "name": "stderr",
     "output_type": "stream",
     "text": [
      "100%|██████████████████████████████████████████████████████████████████████████████████| 12/12 [00:10<00:00,  1.18it/s]\n"
     ]
    },
    {
     "name": "stdout",
     "output_type": "stream",
     "text": [
      "get matches & timelines.....\n"
     ]
    },
    {
     "name": "stderr",
     "output_type": "stream",
     "text": [
      "100%|██████████████████████████████████████████████████████████████████████████████████| 36/36 [01:12<00:00,  2.02s/it]\n"
     ]
    },
    {
     "data": {
      "text/html": [
       "<div>\n",
       "<style scoped>\n",
       "    .dataframe tbody tr th:only-of-type {\n",
       "        vertical-align: middle;\n",
       "    }\n",
       "\n",
       "    .dataframe tbody tr th {\n",
       "        vertical-align: top;\n",
       "    }\n",
       "\n",
       "    .dataframe thead th {\n",
       "        text-align: right;\n",
       "    }\n",
       "</style>\n",
       "<table border=\"1\" class=\"dataframe\">\n",
       "  <thead>\n",
       "    <tr style=\"text-align: right;\">\n",
       "      <th></th>\n",
       "      <th>match_id</th>\n",
       "      <th>matches</th>\n",
       "      <th>timelines</th>\n",
       "    </tr>\n",
       "  </thead>\n",
       "  <tbody>\n",
       "    <tr>\n",
       "      <th>0</th>\n",
       "      <td>KR_6857306563</td>\n",
       "      <td>{'metadata': {'dataVersion': '2', 'matchId': '...</td>\n",
       "      <td>{'metadata': {'dataVersion': '2', 'matchId': '...</td>\n",
       "    </tr>\n",
       "    <tr>\n",
       "      <th>1</th>\n",
       "      <td>KR_6857258549</td>\n",
       "      <td>{'metadata': {'dataVersion': '2', 'matchId': '...</td>\n",
       "      <td>{'metadata': {'dataVersion': '2', 'matchId': '...</td>\n",
       "    </tr>\n",
       "    <tr>\n",
       "      <th>2</th>\n",
       "      <td>KR_6856741635</td>\n",
       "      <td>{'metadata': {'dataVersion': '2', 'matchId': '...</td>\n",
       "      <td>{'metadata': {'dataVersion': '2', 'matchId': '...</td>\n",
       "    </tr>\n",
       "    <tr>\n",
       "      <th>3</th>\n",
       "      <td>KR_6846152150</td>\n",
       "      <td>{'metadata': {'dataVersion': '2', 'matchId': '...</td>\n",
       "      <td>{'metadata': {'dataVersion': '2', 'matchId': '...</td>\n",
       "    </tr>\n",
       "    <tr>\n",
       "      <th>4</th>\n",
       "      <td>KR_6846099822</td>\n",
       "      <td>{'metadata': {'dataVersion': '2', 'matchId': '...</td>\n",
       "      <td>{'metadata': {'dataVersion': '2', 'matchId': '...</td>\n",
       "    </tr>\n",
       "    <tr>\n",
       "      <th>5</th>\n",
       "      <td>KR_6846055364</td>\n",
       "      <td>{'metadata': {'dataVersion': '2', 'matchId': '...</td>\n",
       "      <td>{'metadata': {'dataVersion': '2', 'matchId': '...</td>\n",
       "    </tr>\n",
       "    <tr>\n",
       "      <th>6</th>\n",
       "      <td>KR_6853126155</td>\n",
       "      <td>{'metadata': {'dataVersion': '2', 'matchId': '...</td>\n",
       "      <td>{'metadata': {'dataVersion': '2', 'matchId': '...</td>\n",
       "    </tr>\n",
       "    <tr>\n",
       "      <th>7</th>\n",
       "      <td>KR_6853064994</td>\n",
       "      <td>{'metadata': {'dataVersion': '2', 'matchId': '...</td>\n",
       "      <td>{'metadata': {'dataVersion': '2', 'matchId': '...</td>\n",
       "    </tr>\n",
       "    <tr>\n",
       "      <th>8</th>\n",
       "      <td>KR_6852951588</td>\n",
       "      <td>{'metadata': {'dataVersion': '2', 'matchId': '...</td>\n",
       "      <td>{'metadata': {'dataVersion': '2', 'matchId': '...</td>\n",
       "    </tr>\n",
       "    <tr>\n",
       "      <th>9</th>\n",
       "      <td>KR_6857688003</td>\n",
       "      <td>{'metadata': {'dataVersion': '2', 'matchId': '...</td>\n",
       "      <td>{'metadata': {'dataVersion': '2', 'matchId': '...</td>\n",
       "    </tr>\n",
       "    <tr>\n",
       "      <th>10</th>\n",
       "      <td>KR_6857671257</td>\n",
       "      <td>{'metadata': {'dataVersion': '2', 'matchId': '...</td>\n",
       "      <td>{'metadata': {'dataVersion': '2', 'matchId': '...</td>\n",
       "    </tr>\n",
       "    <tr>\n",
       "      <th>11</th>\n",
       "      <td>KR_6857658394</td>\n",
       "      <td>{'metadata': {'dataVersion': '2', 'matchId': '...</td>\n",
       "      <td>{'metadata': {'dataVersion': '2', 'matchId': '...</td>\n",
       "    </tr>\n",
       "    <tr>\n",
       "      <th>12</th>\n",
       "      <td>KR_6857919683</td>\n",
       "      <td>{'metadata': {'dataVersion': '2', 'matchId': '...</td>\n",
       "      <td>{'metadata': {'dataVersion': '2', 'matchId': '...</td>\n",
       "    </tr>\n",
       "    <tr>\n",
       "      <th>13</th>\n",
       "      <td>KR_6857881380</td>\n",
       "      <td>{'metadata': {'dataVersion': '2', 'matchId': '...</td>\n",
       "      <td>{'metadata': {'dataVersion': '2', 'matchId': '...</td>\n",
       "    </tr>\n",
       "    <tr>\n",
       "      <th>14</th>\n",
       "      <td>KR_6857851794</td>\n",
       "      <td>{'metadata': {'dataVersion': '2', 'matchId': '...</td>\n",
       "      <td>{'metadata': {'dataVersion': '2', 'matchId': '...</td>\n",
       "    </tr>\n",
       "    <tr>\n",
       "      <th>15</th>\n",
       "      <td>KR_6774023895</td>\n",
       "      <td>{'metadata': {'dataVersion': '2', 'matchId': '...</td>\n",
       "      <td>{'metadata': {'dataVersion': '2', 'matchId': '...</td>\n",
       "    </tr>\n",
       "    <tr>\n",
       "      <th>16</th>\n",
       "      <td>KR_6774001624</td>\n",
       "      <td>{'metadata': {'dataVersion': '2', 'matchId': '...</td>\n",
       "      <td>{'metadata': {'dataVersion': '2', 'matchId': '...</td>\n",
       "    </tr>\n",
       "    <tr>\n",
       "      <th>17</th>\n",
       "      <td>KR_6773947694</td>\n",
       "      <td>{'metadata': {'dataVersion': '2', 'matchId': '...</td>\n",
       "      <td>{'metadata': {'dataVersion': '2', 'matchId': '...</td>\n",
       "    </tr>\n",
       "    <tr>\n",
       "      <th>18</th>\n",
       "      <td>KR_6845654556</td>\n",
       "      <td>{'metadata': {'dataVersion': '2', 'matchId': '...</td>\n",
       "      <td>{'metadata': {'dataVersion': '2', 'matchId': '...</td>\n",
       "    </tr>\n",
       "    <tr>\n",
       "      <th>19</th>\n",
       "      <td>KR_6845545831</td>\n",
       "      <td>{'metadata': {'dataVersion': '2', 'matchId': '...</td>\n",
       "      <td>{'metadata': {'dataVersion': '2', 'matchId': '...</td>\n",
       "    </tr>\n",
       "    <tr>\n",
       "      <th>20</th>\n",
       "      <td>KR_6845468396</td>\n",
       "      <td>{'metadata': {'dataVersion': '2', 'matchId': '...</td>\n",
       "      <td>{'metadata': {'dataVersion': '2', 'matchId': '...</td>\n",
       "    </tr>\n",
       "    <tr>\n",
       "      <th>21</th>\n",
       "      <td>KR_6847879912</td>\n",
       "      <td>{'metadata': {'dataVersion': '2', 'matchId': '...</td>\n",
       "      <td>{'metadata': {'dataVersion': '2', 'matchId': '...</td>\n",
       "    </tr>\n",
       "    <tr>\n",
       "      <th>22</th>\n",
       "      <td>KR_6847872611</td>\n",
       "      <td>{'metadata': {'dataVersion': '2', 'matchId': '...</td>\n",
       "      <td>{'metadata': {'dataVersion': '2', 'matchId': '...</td>\n",
       "    </tr>\n",
       "    <tr>\n",
       "      <th>23</th>\n",
       "      <td>KR_6847858954</td>\n",
       "      <td>{'metadata': {'dataVersion': '2', 'matchId': '...</td>\n",
       "      <td>{'metadata': {'dataVersion': '2', 'matchId': '...</td>\n",
       "    </tr>\n",
       "    <tr>\n",
       "      <th>24</th>\n",
       "      <td>KR_6839416469</td>\n",
       "      <td>{'metadata': {'dataVersion': '2', 'matchId': '...</td>\n",
       "      <td>{'metadata': {'dataVersion': '2', 'matchId': '...</td>\n",
       "    </tr>\n",
       "    <tr>\n",
       "      <th>25</th>\n",
       "      <td>KR_6839338595</td>\n",
       "      <td>{'metadata': {'dataVersion': '2', 'matchId': '...</td>\n",
       "      <td>{'metadata': {'dataVersion': '2', 'matchId': '...</td>\n",
       "    </tr>\n",
       "    <tr>\n",
       "      <th>26</th>\n",
       "      <td>KR_6839266029</td>\n",
       "      <td>{'metadata': {'dataVersion': '2', 'matchId': '...</td>\n",
       "      <td>{'metadata': {'dataVersion': '2', 'matchId': '...</td>\n",
       "    </tr>\n",
       "    <tr>\n",
       "      <th>27</th>\n",
       "      <td>KR_6832809995</td>\n",
       "      <td>{'metadata': {'dataVersion': '2', 'matchId': '...</td>\n",
       "      <td>{'metadata': {'dataVersion': '2', 'matchId': '...</td>\n",
       "    </tr>\n",
       "    <tr>\n",
       "      <th>28</th>\n",
       "      <td>KR_6832746773</td>\n",
       "      <td>{'metadata': {'dataVersion': '2', 'matchId': '...</td>\n",
       "      <td>{'metadata': {'dataVersion': '2', 'matchId': '...</td>\n",
       "    </tr>\n",
       "    <tr>\n",
       "      <th>29</th>\n",
       "      <td>KR_6832706528</td>\n",
       "      <td>{'metadata': {'dataVersion': '2', 'matchId': '...</td>\n",
       "      <td>{'metadata': {'dataVersion': '2', 'matchId': '...</td>\n",
       "    </tr>\n",
       "    <tr>\n",
       "      <th>30</th>\n",
       "      <td>KR_6840901323</td>\n",
       "      <td>{'metadata': {'dataVersion': '2', 'matchId': '...</td>\n",
       "      <td>{'metadata': {'dataVersion': '2', 'matchId': '...</td>\n",
       "    </tr>\n",
       "    <tr>\n",
       "      <th>31</th>\n",
       "      <td>KR_6803851131</td>\n",
       "      <td>{'metadata': {'dataVersion': '2', 'matchId': '...</td>\n",
       "      <td>{'metadata': {'dataVersion': '2', 'matchId': '...</td>\n",
       "    </tr>\n",
       "    <tr>\n",
       "      <th>32</th>\n",
       "      <td>KR_6800672636</td>\n",
       "      <td>{'metadata': {'dataVersion': '2', 'matchId': '...</td>\n",
       "      <td>{'metadata': {'dataVersion': '2', 'matchId': '...</td>\n",
       "    </tr>\n",
       "    <tr>\n",
       "      <th>33</th>\n",
       "      <td>KR_6857540649</td>\n",
       "      <td>{'metadata': {'dataVersion': '2', 'matchId': '...</td>\n",
       "      <td>{'metadata': {'dataVersion': '2', 'matchId': '...</td>\n",
       "    </tr>\n",
       "    <tr>\n",
       "      <th>34</th>\n",
       "      <td>KR_6856185558</td>\n",
       "      <td>{'metadata': {'dataVersion': '2', 'matchId': '...</td>\n",
       "      <td>{'metadata': {'dataVersion': '2', 'matchId': '...</td>\n",
       "    </tr>\n",
       "    <tr>\n",
       "      <th>35</th>\n",
       "      <td>KR_6855909533</td>\n",
       "      <td>{'metadata': {'dataVersion': '2', 'matchId': '...</td>\n",
       "      <td>{'metadata': {'dataVersion': '2', 'matchId': '...</td>\n",
       "    </tr>\n",
       "  </tbody>\n",
       "</table>\n",
       "</div>"
      ],
      "text/plain": [
       "         match_id                                            matches  \\\n",
       "0   KR_6857306563  {'metadata': {'dataVersion': '2', 'matchId': '...   \n",
       "1   KR_6857258549  {'metadata': {'dataVersion': '2', 'matchId': '...   \n",
       "2   KR_6856741635  {'metadata': {'dataVersion': '2', 'matchId': '...   \n",
       "3   KR_6846152150  {'metadata': {'dataVersion': '2', 'matchId': '...   \n",
       "4   KR_6846099822  {'metadata': {'dataVersion': '2', 'matchId': '...   \n",
       "5   KR_6846055364  {'metadata': {'dataVersion': '2', 'matchId': '...   \n",
       "6   KR_6853126155  {'metadata': {'dataVersion': '2', 'matchId': '...   \n",
       "7   KR_6853064994  {'metadata': {'dataVersion': '2', 'matchId': '...   \n",
       "8   KR_6852951588  {'metadata': {'dataVersion': '2', 'matchId': '...   \n",
       "9   KR_6857688003  {'metadata': {'dataVersion': '2', 'matchId': '...   \n",
       "10  KR_6857671257  {'metadata': {'dataVersion': '2', 'matchId': '...   \n",
       "11  KR_6857658394  {'metadata': {'dataVersion': '2', 'matchId': '...   \n",
       "12  KR_6857919683  {'metadata': {'dataVersion': '2', 'matchId': '...   \n",
       "13  KR_6857881380  {'metadata': {'dataVersion': '2', 'matchId': '...   \n",
       "14  KR_6857851794  {'metadata': {'dataVersion': '2', 'matchId': '...   \n",
       "15  KR_6774023895  {'metadata': {'dataVersion': '2', 'matchId': '...   \n",
       "16  KR_6774001624  {'metadata': {'dataVersion': '2', 'matchId': '...   \n",
       "17  KR_6773947694  {'metadata': {'dataVersion': '2', 'matchId': '...   \n",
       "18  KR_6845654556  {'metadata': {'dataVersion': '2', 'matchId': '...   \n",
       "19  KR_6845545831  {'metadata': {'dataVersion': '2', 'matchId': '...   \n",
       "20  KR_6845468396  {'metadata': {'dataVersion': '2', 'matchId': '...   \n",
       "21  KR_6847879912  {'metadata': {'dataVersion': '2', 'matchId': '...   \n",
       "22  KR_6847872611  {'metadata': {'dataVersion': '2', 'matchId': '...   \n",
       "23  KR_6847858954  {'metadata': {'dataVersion': '2', 'matchId': '...   \n",
       "24  KR_6839416469  {'metadata': {'dataVersion': '2', 'matchId': '...   \n",
       "25  KR_6839338595  {'metadata': {'dataVersion': '2', 'matchId': '...   \n",
       "26  KR_6839266029  {'metadata': {'dataVersion': '2', 'matchId': '...   \n",
       "27  KR_6832809995  {'metadata': {'dataVersion': '2', 'matchId': '...   \n",
       "28  KR_6832746773  {'metadata': {'dataVersion': '2', 'matchId': '...   \n",
       "29  KR_6832706528  {'metadata': {'dataVersion': '2', 'matchId': '...   \n",
       "30  KR_6840901323  {'metadata': {'dataVersion': '2', 'matchId': '...   \n",
       "31  KR_6803851131  {'metadata': {'dataVersion': '2', 'matchId': '...   \n",
       "32  KR_6800672636  {'metadata': {'dataVersion': '2', 'matchId': '...   \n",
       "33  KR_6857540649  {'metadata': {'dataVersion': '2', 'matchId': '...   \n",
       "34  KR_6856185558  {'metadata': {'dataVersion': '2', 'matchId': '...   \n",
       "35  KR_6855909533  {'metadata': {'dataVersion': '2', 'matchId': '...   \n",
       "\n",
       "                                            timelines  \n",
       "0   {'metadata': {'dataVersion': '2', 'matchId': '...  \n",
       "1   {'metadata': {'dataVersion': '2', 'matchId': '...  \n",
       "2   {'metadata': {'dataVersion': '2', 'matchId': '...  \n",
       "3   {'metadata': {'dataVersion': '2', 'matchId': '...  \n",
       "4   {'metadata': {'dataVersion': '2', 'matchId': '...  \n",
       "5   {'metadata': {'dataVersion': '2', 'matchId': '...  \n",
       "6   {'metadata': {'dataVersion': '2', 'matchId': '...  \n",
       "7   {'metadata': {'dataVersion': '2', 'matchId': '...  \n",
       "8   {'metadata': {'dataVersion': '2', 'matchId': '...  \n",
       "9   {'metadata': {'dataVersion': '2', 'matchId': '...  \n",
       "10  {'metadata': {'dataVersion': '2', 'matchId': '...  \n",
       "11  {'metadata': {'dataVersion': '2', 'matchId': '...  \n",
       "12  {'metadata': {'dataVersion': '2', 'matchId': '...  \n",
       "13  {'metadata': {'dataVersion': '2', 'matchId': '...  \n",
       "14  {'metadata': {'dataVersion': '2', 'matchId': '...  \n",
       "15  {'metadata': {'dataVersion': '2', 'matchId': '...  \n",
       "16  {'metadata': {'dataVersion': '2', 'matchId': '...  \n",
       "17  {'metadata': {'dataVersion': '2', 'matchId': '...  \n",
       "18  {'metadata': {'dataVersion': '2', 'matchId': '...  \n",
       "19  {'metadata': {'dataVersion': '2', 'matchId': '...  \n",
       "20  {'metadata': {'dataVersion': '2', 'matchId': '...  \n",
       "21  {'metadata': {'dataVersion': '2', 'matchId': '...  \n",
       "22  {'metadata': {'dataVersion': '2', 'matchId': '...  \n",
       "23  {'metadata': {'dataVersion': '2', 'matchId': '...  \n",
       "24  {'metadata': {'dataVersion': '2', 'matchId': '...  \n",
       "25  {'metadata': {'dataVersion': '2', 'matchId': '...  \n",
       "26  {'metadata': {'dataVersion': '2', 'matchId': '...  \n",
       "27  {'metadata': {'dataVersion': '2', 'matchId': '...  \n",
       "28  {'metadata': {'dataVersion': '2', 'matchId': '...  \n",
       "29  {'metadata': {'dataVersion': '2', 'matchId': '...  \n",
       "30  {'metadata': {'dataVersion': '2', 'matchId': '...  \n",
       "31  {'metadata': {'dataVersion': '2', 'matchId': '...  \n",
       "32  {'metadata': {'dataVersion': '2', 'matchId': '...  \n",
       "33  {'metadata': {'dataVersion': '2', 'matchId': '...  \n",
       "34  {'metadata': {'dataVersion': '2', 'matchId': '...  \n",
       "35  {'metadata': {'dataVersion': '2', 'matchId': '...  "
      ]
     },
     "execution_count": 463,
     "metadata": {},
     "output_type": "execute_result"
    }
   ],
   "source": [
    "get_rawdata('GOLD')"
   ]
  },
  {
   "cell_type": "code",
   "execution_count": 464,
   "id": "e3042be6",
   "metadata": {},
   "outputs": [
    {
     "ename": "NameError",
     "evalue": "name 'df_create' is not defined",
     "output_type": "error",
     "traceback": [
      "\u001b[1;31m---------------------------------------------------------------------------\u001b[0m",
      "\u001b[1;31mNameError\u001b[0m                                 Traceback (most recent call last)",
      "Cell \u001b[1;32mIn[464], line 1\u001b[0m\n\u001b[1;32m----> 1\u001b[0m df_create\n",
      "\u001b[1;31mNameError\u001b[0m: name 'df_create' is not defined"
     ]
    }
   ],
   "source": []
  },
  {
   "cell_type": "code",
   "execution_count": null,
   "id": "2777505e",
   "metadata": {},
   "outputs": [],
   "source": []
  },
  {
   "cell_type": "code",
   "execution_count": null,
   "id": "adce0300",
   "metadata": {},
   "outputs": [],
   "source": [
    "\n"
   ]
  },
  {
   "cell_type": "code",
   "execution_count": null,
   "id": "43e549f5",
   "metadata": {},
   "outputs": [],
   "source": []
  },
  {
   "cell_type": "code",
   "execution_count": null,
   "id": "42318f68",
   "metadata": {},
   "outputs": [],
   "source": []
  },
  {
   "cell_type": "code",
   "execution_count": null,
   "id": "4c87f48a",
   "metadata": {},
   "outputs": [],
   "source": []
  },
  {
   "cell_type": "code",
   "execution_count": null,
   "id": "8dc244e7",
   "metadata": {},
   "outputs": [],
   "source": []
  },
  {
   "cell_type": "code",
   "execution_count": null,
   "id": "56c1c259",
   "metadata": {},
   "outputs": [],
   "source": []
  },
  {
   "cell_type": "code",
   "execution_count": null,
   "id": "8ff54c0f",
   "metadata": {},
   "outputs": [],
   "source": []
  },
  {
   "cell_type": "code",
   "execution_count": null,
   "id": "e73ea019",
   "metadata": {},
   "outputs": [],
   "source": []
  },
  {
   "cell_type": "code",
   "execution_count": null,
   "id": "c2ac684d",
   "metadata": {},
   "outputs": [],
   "source": []
  },
  {
   "cell_type": "code",
   "execution_count": null,
   "id": "c936dcbb",
   "metadata": {},
   "outputs": [],
   "source": []
  },
  {
   "cell_type": "code",
   "execution_count": null,
   "id": "8283357e",
   "metadata": {},
   "outputs": [],
   "source": []
  },
  {
   "cell_type": "code",
   "execution_count": null,
   "id": "10981efd",
   "metadata": {},
   "outputs": [],
   "source": []
  },
  {
   "cell_type": "code",
   "execution_count": null,
   "id": "b2c58506",
   "metadata": {},
   "outputs": [],
   "source": []
  },
  {
   "cell_type": "code",
   "execution_count": null,
   "id": "6d5c5ed5",
   "metadata": {},
   "outputs": [],
   "source": []
  },
  {
   "cell_type": "code",
   "execution_count": null,
   "id": "e4450012",
   "metadata": {},
   "outputs": [],
   "source": []
  },
  {
   "cell_type": "code",
   "execution_count": null,
   "id": "b0777998",
   "metadata": {},
   "outputs": [],
   "source": []
  },
  {
   "cell_type": "code",
   "execution_count": null,
   "id": "f2093155",
   "metadata": {},
   "outputs": [],
   "source": []
  }
 ],
 "metadata": {
  "kernelspec": {
   "display_name": "Python 3 (ipykernel)",
   "language": "python",
   "name": "python3"
  },
  "language_info": {
   "codemirror_mode": {
    "name": "ipython",
    "version": 3
   },
   "file_extension": ".py",
   "mimetype": "text/x-python",
   "name": "python",
   "nbconvert_exporter": "python",
   "pygments_lexer": "ipython3",
   "version": "3.11.5"
  }
 },
 "nbformat": 4,
 "nbformat_minor": 5
}
