{
 "cells": [
  {
   "cell_type": "code",
   "execution_count": 1,
   "id": "99d7c4b2",
   "metadata": {},
   "outputs": [],
   "source": [
    "import pandas as pd\n",
    "from my_utils2 import *\n",
    "import matplotlib.pyplot as plt\n",
    "from matplotlib import font_manager, rc"
   ]
  },
  {
   "cell_type": "code",
   "execution_count": 2,
   "id": "6d0ee56f",
   "metadata": {},
   "outputs": [],
   "source": [
    "font_path = \"C:/Windows/Fonts/gulim.ttc\"\n",
    "font = font_manager.FontProperties(fname=font_path).get_name()\n",
    "rc('font', family=font) # 윈도우"
   ]
  },
  {
   "cell_type": "code",
   "execution_count": 3,
   "id": "c058858b",
   "metadata": {},
   "outputs": [],
   "source": [
    "conn = connect_mysql()\n",
    "query = 'select * from lol_datas'\n",
    "df = pd.DataFrame(sql_execute_dict(conn, query))\n",
    "conn.close()"
   ]
  },
  {
   "cell_type": "code",
   "execution_count": 5,
   "id": "9c6d22cd",
   "metadata": {},
   "outputs": [
    {
     "data": {
      "text/plain": [
       "Index(['gameId', 'gameDuration', 'gameVersion', 'summonerName',\n",
       "       'summonerLevel', 'participantId', 'championName', 'champExperience',\n",
       "       'teamPosition', 'teamId', 'win', 'kills', 'deaths', 'assists',\n",
       "       'totalDamageDealtToChampions', 'totalDamageTaken', 'g_5', 'g_6', 'g_7',\n",
       "       'g_8', 'g_9', 'g_10', 'g_11', 'g_12', 'g_13', 'g_14', 'g_15', 'g_16',\n",
       "       'g_17', 'g_18', 'g_19', 'g_20', 'g_21', 'g_22', 'g_23', 'g_24', 'g_25'],\n",
       "      dtype='object')"
      ]
     },
     "execution_count": 5,
     "metadata": {},
     "output_type": "execute_result"
    }
   ],
   "source": [
    "df.columns"
   ]
  },
  {
   "cell_type": "code",
   "execution_count": 6,
   "id": "561be5f6",
   "metadata": {},
   "outputs": [],
   "source": [
    "tmp = df[['teamPosition', 'totalDamageDealtToChampions', 'totalDamageTaken', 'g_15']]"
   ]
  },
  {
   "cell_type": "code",
   "execution_count": 8,
   "id": "61ae1484",
   "metadata": {},
   "outputs": [],
   "source": [
    "tmp = tmp[tmp.teamPosition != '']"
   ]
  },
  {
   "cell_type": "code",
   "execution_count": 9,
   "id": "daf7822e",
   "metadata": {
    "scrolled": true
   },
   "outputs": [
    {
     "data": {
      "text/html": [
       "<div>\n",
       "<style scoped>\n",
       "    .dataframe tbody tr th:only-of-type {\n",
       "        vertical-align: middle;\n",
       "    }\n",
       "\n",
       "    .dataframe tbody tr th {\n",
       "        vertical-align: top;\n",
       "    }\n",
       "\n",
       "    .dataframe thead th {\n",
       "        text-align: right;\n",
       "    }\n",
       "</style>\n",
       "<table border=\"1\" class=\"dataframe\">\n",
       "  <thead>\n",
       "    <tr style=\"text-align: right;\">\n",
       "      <th></th>\n",
       "      <th>teamPosition</th>\n",
       "      <th>totalDamageDealtToChampions</th>\n",
       "      <th>totalDamageTaken</th>\n",
       "      <th>g_15</th>\n",
       "    </tr>\n",
       "  </thead>\n",
       "  <tbody>\n",
       "    <tr>\n",
       "      <th>0</th>\n",
       "      <td>TOP</td>\n",
       "      <td>16199</td>\n",
       "      <td>12908</td>\n",
       "      <td>6212</td>\n",
       "    </tr>\n",
       "    <tr>\n",
       "      <th>1</th>\n",
       "      <td>JUNGLE</td>\n",
       "      <td>12057</td>\n",
       "      <td>16026</td>\n",
       "      <td>6931</td>\n",
       "    </tr>\n",
       "    <tr>\n",
       "      <th>2</th>\n",
       "      <td>MIDDLE</td>\n",
       "      <td>11248</td>\n",
       "      <td>11933</td>\n",
       "      <td>5674</td>\n",
       "    </tr>\n",
       "    <tr>\n",
       "      <th>3</th>\n",
       "      <td>BOTTOM</td>\n",
       "      <td>12248</td>\n",
       "      <td>6739</td>\n",
       "      <td>6182</td>\n",
       "    </tr>\n",
       "    <tr>\n",
       "      <th>4</th>\n",
       "      <td>UTILITY</td>\n",
       "      <td>4006</td>\n",
       "      <td>9176</td>\n",
       "      <td>4731</td>\n",
       "    </tr>\n",
       "    <tr>\n",
       "      <th>...</th>\n",
       "      <td>...</td>\n",
       "      <td>...</td>\n",
       "      <td>...</td>\n",
       "      <td>...</td>\n",
       "    </tr>\n",
       "    <tr>\n",
       "      <th>36899</th>\n",
       "      <td>TOP</td>\n",
       "      <td>11161</td>\n",
       "      <td>22494</td>\n",
       "      <td>5140</td>\n",
       "    </tr>\n",
       "    <tr>\n",
       "      <th>36900</th>\n",
       "      <td>JUNGLE</td>\n",
       "      <td>16255</td>\n",
       "      <td>21327</td>\n",
       "      <td>6123</td>\n",
       "    </tr>\n",
       "    <tr>\n",
       "      <th>36901</th>\n",
       "      <td>MIDDLE</td>\n",
       "      <td>9923</td>\n",
       "      <td>18363</td>\n",
       "      <td>5094</td>\n",
       "    </tr>\n",
       "    <tr>\n",
       "      <th>36902</th>\n",
       "      <td>BOTTOM</td>\n",
       "      <td>25928</td>\n",
       "      <td>16667</td>\n",
       "      <td>6591</td>\n",
       "    </tr>\n",
       "    <tr>\n",
       "      <th>36903</th>\n",
       "      <td>UTILITY</td>\n",
       "      <td>4692</td>\n",
       "      <td>15215</td>\n",
       "      <td>4456</td>\n",
       "    </tr>\n",
       "  </tbody>\n",
       "</table>\n",
       "<p>33720 rows × 4 columns</p>\n",
       "</div>"
      ],
      "text/plain": [
       "      teamPosition  totalDamageDealtToChampions  totalDamageTaken  g_15\n",
       "0              TOP                        16199             12908  6212\n",
       "1           JUNGLE                        12057             16026  6931\n",
       "2           MIDDLE                        11248             11933  5674\n",
       "3           BOTTOM                        12248              6739  6182\n",
       "4          UTILITY                         4006              9176  4731\n",
       "...            ...                          ...               ...   ...\n",
       "36899          TOP                        11161             22494  5140\n",
       "36900       JUNGLE                        16255             21327  6123\n",
       "36901       MIDDLE                         9923             18363  5094\n",
       "36902       BOTTOM                        25928             16667  6591\n",
       "36903      UTILITY                         4692             15215  4456\n",
       "\n",
       "[33720 rows x 4 columns]"
      ]
     },
     "execution_count": 9,
     "metadata": {},
     "output_type": "execute_result"
    }
   ],
   "source": [
    "tmp"
   ]
  },
  {
   "cell_type": "code",
   "execution_count": 15,
   "id": "7ca4baa6",
   "metadata": {},
   "outputs": [],
   "source": [
    "group_df = tmp.groupby('teamPosition').mean().round()"
   ]
  },
  {
   "cell_type": "code",
   "execution_count": 18,
   "id": "75ec9b59",
   "metadata": {
    "scrolled": true
   },
   "outputs": [
    {
     "data": {
      "text/plain": [
       "totalDamageDealtToChampions    20975.0\n",
       "totalDamageTaken               18361.0\n",
       "g_15                            6006.0\n",
       "Name: BOTTOM, dtype: float64"
      ]
     },
     "execution_count": 18,
     "metadata": {},
     "output_type": "execute_result"
    }
   ],
   "source": [
    "group_df.loc['BOTTOM']"
   ]
  },
  {
   "cell_type": "code",
   "execution_count": 35,
   "id": "eb6f27e1",
   "metadata": {},
   "outputs": [
    {
     "data": {
      "image/png": "[encoded data removed]",
      "text/plain": [
       "<Figure size 640x480 with 1 Axes>"
      ]
     },
     "metadata": {},
     "output_type": "display_data"
    }
   ],
   "source": [
    "plt.figure()\n",
    "plt.pie(group_df.loc['BOTTOM'], labels = ['딜량', '받은피해량', '15분 골드'], shadow=False, autopct='%1.1f%%',\n",
    "       explode = (0.01, 0.01, 0.01))\n",
    "plt.legend(loc = 4)\n",
    "plt.title('파이차트')\n",
    "plt.grid(True)"
   ]
  },
  {
   "cell_type": "code",
   "execution_count": 36,
   "id": "3256f4b0",
   "metadata": {},
   "outputs": [],
   "source": [
    "my_tmp = tmp[['teamPosition', 'totalDamageDealtToChampions']]"
   ]
  },
  {
   "cell_type": "code",
   "execution_count": 43,
   "id": "3624e5a6",
   "metadata": {},
   "outputs": [],
   "source": [
    "my_tmp.set_index('teamPosition', inplace = True)"
   ]
  },
  {
   "cell_type": "code",
   "execution_count": 44,
   "id": "574bf540",
   "metadata": {},
   "outputs": [
    {
     "data": {
      "text/html": [
       "<div>\n",
       "<style scoped>\n",
       "    .dataframe tbody tr th:only-of-type {\n",
       "        vertical-align: middle;\n",
       "    }\n",
       "\n",
       "    .dataframe tbody tr th {\n",
       "        vertical-align: top;\n",
       "    }\n",
       "\n",
       "    .dataframe thead th {\n",
       "        text-align: right;\n",
       "    }\n",
       "</style>\n",
       "<table border=\"1\" class=\"dataframe\">\n",
       "  <thead>\n",
       "    <tr style=\"text-align: right;\">\n",
       "      <th></th>\n",
       "      <th>totalDamageDealtToChampions</th>\n",
       "    </tr>\n",
       "    <tr>\n",
       "      <th>teamPosition</th>\n",
       "      <th></th>\n",
       "    </tr>\n",
       "  </thead>\n",
       "  <tbody>\n",
       "    <tr>\n",
       "      <th>TOP</th>\n",
       "      <td>16199</td>\n",
       "    </tr>\n",
       "    <tr>\n",
       "      <th>JUNGLE</th>\n",
       "      <td>12057</td>\n",
       "    </tr>\n",
       "    <tr>\n",
       "      <th>MIDDLE</th>\n",
       "      <td>11248</td>\n",
       "    </tr>\n",
       "    <tr>\n",
       "      <th>BOTTOM</th>\n",
       "      <td>12248</td>\n",
       "    </tr>\n",
       "    <tr>\n",
       "      <th>UTILITY</th>\n",
       "      <td>4006</td>\n",
       "    </tr>\n",
       "    <tr>\n",
       "      <th>...</th>\n",
       "      <td>...</td>\n",
       "    </tr>\n",
       "    <tr>\n",
       "      <th>TOP</th>\n",
       "      <td>11161</td>\n",
       "    </tr>\n",
       "    <tr>\n",
       "      <th>JUNGLE</th>\n",
       "      <td>16255</td>\n",
       "    </tr>\n",
       "    <tr>\n",
       "      <th>MIDDLE</th>\n",
       "      <td>9923</td>\n",
       "    </tr>\n",
       "    <tr>\n",
       "      <th>BOTTOM</th>\n",
       "      <td>25928</td>\n",
       "    </tr>\n",
       "    <tr>\n",
       "      <th>UTILITY</th>\n",
       "      <td>4692</td>\n",
       "    </tr>\n",
       "  </tbody>\n",
       "</table>\n",
       "<p>33720 rows × 1 columns</p>\n",
       "</div>"
      ],
      "text/plain": [
       "              totalDamageDealtToChampions\n",
       "teamPosition                             \n",
       "TOP                                 16199\n",
       "JUNGLE                              12057\n",
       "MIDDLE                              11248\n",
       "BOTTOM                              12248\n",
       "UTILITY                              4006\n",
       "...                                   ...\n",
       "TOP                                 11161\n",
       "JUNGLE                              16255\n",
       "MIDDLE                               9923\n",
       "BOTTOM                              25928\n",
       "UTILITY                              4692\n",
       "\n",
       "[33720 rows x 1 columns]"
      ]
     },
     "execution_count": 44,
     "metadata": {},
     "output_type": "execute_result"
    }
   ],
   "source": [
    "my_tmp"
   ]
  },
  {
   "cell_type": "code",
   "execution_count": 47,
   "id": "501a5f7e",
   "metadata": {},
   "outputs": [
    {
     "data": {
      "image/png": "[encoded data removed]",
      "text/plain": [
       "<Figure size 800x600 with 1 Axes>"
      ]
     },
     "metadata": {},
     "output_type": "display_data"
    }
   ],
   "source": [
    "plt.figure(figsize = (8, 6))\n",
    "plt.hist(my_tmp, bins = len(my_tmp), label = '전 라인', rwidth = 0.9)\n",
    "\n",
    "plt.xlabel ('딜량', size = 14)\n",
    "plt.ylabel ('빈도수', size = 14)\n",
    "plt.title('딜량 히스토그램')\n",
    "plt.legend(loc = 'upper right')\n",
    "plt.grid(axis = 'y', alpha = 0.3)"
   ]
  },
  {
   "cell_type": "code",
   "execution_count": 46,
   "id": "753b67f3",
   "metadata": {},
   "outputs": [],
   "source": [
    "import seaborn as sns"
   ]
  },
  {
   "cell_type": "code",
   "execution_count": 49,
   "id": "a833dec5",
   "metadata": {},
   "outputs": [],
   "source": [
    "url = 'http://openapi.seoul.go.kr:8088/(인증키)/xml/GetParkInfo/1/5/'"
   ]
  },
  {
   "cell_type": "code",
   "execution_count": 50,
   "id": "21ed1e56",
   "metadata": {},
   "outputs": [],
   "source": [
    "df = get_df(url)"
   ]
  },
  {
   "cell_type": "code",
   "execution_count": 52,
   "id": "ee9eccfd",
   "metadata": {},
   "outputs": [
    {
     "data": {
      "text/plain": [
       "Index(['PARKING_NAME', 'ADDR', 'PARKING_CODE', 'PARKING_TYPE',\n",
       "       'PARKING_TYPE_NM', 'OPERATION_RULE', 'OPERATION_RULE_NM', 'TEL',\n",
       "       'QUE_STATUS', 'QUE_STATUS_NM', 'CAPACITY', 'PAY_YN', 'PAY_NM',\n",
       "       'NIGHT_FREE_OPEN', 'NIGHT_FREE_OPEN_NM', 'WEEKDAY_BEGIN_TIME',\n",
       "       'WEEKDAY_END_TIME', 'WEEKEND_BEGIN_TIME', 'WEEKEND_END_TIME',\n",
       "       'HOLIDAY_BEGIN_TIME', 'HOLIDAY_END_TIME', 'SYNC_TIME',\n",
       "       'SATURDAY_PAY_YN', 'SATURDAY_PAY_NM', 'HOLIDAY_PAY_YN',\n",
       "       'HOLIDAY_PAY_NM', 'FULLTIME_MONTHLY', 'GRP_PARKNM', 'RATES',\n",
       "       'TIME_RATE', 'ADD_RATES', 'ADD_TIME_RATE', 'BUS_RATES', 'BUS_TIME_RATE',\n",
       "       'BUS_ADD_TIME_RATE', 'BUS_ADD_RATES', 'DAY_MAXIMUM', 'LAT', 'LNG'],\n",
       "      dtype='object')"
      ]
     },
     "execution_count": 52,
     "metadata": {},
     "output_type": "execute_result"
    }
   ],
   "source": [
    "df.columns"
   ]
  },
  {
   "cell_type": "code",
   "execution_count": 53,
   "id": "36808f84",
   "metadata": {},
   "outputs": [],
   "source": [
    "tmp = df[['PARKING_NAME', 'CAPACITY', 'PAY_NM', 'SATURDAY_PAY_NM', 'HOLIDAY_PAY_NM', 'FULLTIME_MONTHLY', 'RATES', 'ADD_RATES']]"
   ]
  },
  {
   "cell_type": "code",
   "execution_count": 55,
   "id": "89fb8ab7",
   "metadata": {},
   "outputs": [],
   "source": [
    "tmp.columns = ['주차장명','주차수','유무료','주말유무료','공휴일유무료',\n",
    "                 '월정기권금액','기본요금','추가요금']"
   ]
  },
  {
   "cell_type": "code",
   "execution_count": 57,
   "id": "77824a2b",
   "metadata": {},
   "outputs": [],
   "source": [
    "tmp = tmp.drop_duplicates()"
   ]
  },
  {
   "cell_type": "code",
   "execution_count": 58,
   "id": "6ad4fbbe",
   "metadata": {},
   "outputs": [
    {
     "data": {
      "text/html": [
       "<div>\n",
       "<style scoped>\n",
       "    .dataframe tbody tr th:only-of-type {\n",
       "        vertical-align: middle;\n",
       "    }\n",
       "\n",
       "    .dataframe tbody tr th {\n",
       "        vertical-align: top;\n",
       "    }\n",
       "\n",
       "    .dataframe thead th {\n",
       "        text-align: right;\n",
       "    }\n",
       "</style>\n",
       "<table border=\"1\" class=\"dataframe\">\n",
       "  <thead>\n",
       "    <tr style=\"text-align: right;\">\n",
       "      <th></th>\n",
       "      <th>주차장명</th>\n",
       "      <th>주차수</th>\n",
       "      <th>유무료</th>\n",
       "      <th>주말유무료</th>\n",
       "      <th>공휴일유무료</th>\n",
       "      <th>월정기권금액</th>\n",
       "      <th>기본요금</th>\n",
       "      <th>추가요금</th>\n",
       "    </tr>\n",
       "  </thead>\n",
       "  <tbody>\n",
       "    <tr>\n",
       "      <th>0</th>\n",
       "      <td>초안산근린공원주차장(구)</td>\n",
       "      <td>71.0</td>\n",
       "      <td>유료</td>\n",
       "      <td>무료</td>\n",
       "      <td>무료</td>\n",
       "      <td>0</td>\n",
       "      <td>0.0</td>\n",
       "      <td>300.0</td>\n",
       "    </tr>\n",
       "    <tr>\n",
       "      <th>1</th>\n",
       "      <td>마들스타디움(근린공원)(구)</td>\n",
       "      <td>177.0</td>\n",
       "      <td>유료</td>\n",
       "      <td>무료</td>\n",
       "      <td>무료</td>\n",
       "      <td>100000</td>\n",
       "      <td>150.0</td>\n",
       "      <td>150.0</td>\n",
       "    </tr>\n",
       "    <tr>\n",
       "      <th>2</th>\n",
       "      <td>마장동(건물) 공영주차장(구)</td>\n",
       "      <td>54.0</td>\n",
       "      <td>유료</td>\n",
       "      <td>무료</td>\n",
       "      <td>무료</td>\n",
       "      <td>50000</td>\n",
       "      <td>50.0</td>\n",
       "      <td>50.0</td>\n",
       "    </tr>\n",
       "    <tr>\n",
       "      <th>3</th>\n",
       "      <td>영등포여고 공영(구)</td>\n",
       "      <td>98.0</td>\n",
       "      <td>유료</td>\n",
       "      <td>무료</td>\n",
       "      <td>무료</td>\n",
       "      <td>65000</td>\n",
       "      <td>50.0</td>\n",
       "      <td>50.0</td>\n",
       "    </tr>\n",
       "    <tr>\n",
       "      <th>4</th>\n",
       "      <td>당산근린공원 공영(구)</td>\n",
       "      <td>190.0</td>\n",
       "      <td>유료</td>\n",
       "      <td>무료</td>\n",
       "      <td>무료</td>\n",
       "      <td>100000</td>\n",
       "      <td>150.0</td>\n",
       "      <td>150.0</td>\n",
       "    </tr>\n",
       "    <tr>\n",
       "      <th>...</th>\n",
       "      <td>...</td>\n",
       "      <td>...</td>\n",
       "      <td>...</td>\n",
       "      <td>...</td>\n",
       "      <td>...</td>\n",
       "      <td>...</td>\n",
       "      <td>...</td>\n",
       "      <td>...</td>\n",
       "    </tr>\n",
       "    <tr>\n",
       "      <th>965</th>\n",
       "      <td>태화관(구)</td>\n",
       "      <td>1.0</td>\n",
       "      <td>유료</td>\n",
       "      <td>무료</td>\n",
       "      <td>유료</td>\n",
       "      <td>250000</td>\n",
       "      <td>500.0</td>\n",
       "      <td>1000.0</td>\n",
       "    </tr>\n",
       "    <tr>\n",
       "      <th>966</th>\n",
       "      <td>동일상가아파트 이륜차 주차장(구)</td>\n",
       "      <td>1.0</td>\n",
       "      <td>무료</td>\n",
       "      <td>유료</td>\n",
       "      <td>유료</td>\n",
       "      <td>0</td>\n",
       "      <td>0.0</td>\n",
       "      <td>0.0</td>\n",
       "    </tr>\n",
       "    <tr>\n",
       "      <th>974</th>\n",
       "      <td>숭인상가아파트 이륜차 주차장(구)</td>\n",
       "      <td>1.0</td>\n",
       "      <td>무료</td>\n",
       "      <td>유료</td>\n",
       "      <td>유료</td>\n",
       "      <td>0</td>\n",
       "      <td>0.0</td>\n",
       "      <td>0.0</td>\n",
       "    </tr>\n",
       "    <tr>\n",
       "      <th>980</th>\n",
       "      <td>필운대로 도미노피자앞 이륜차 주차장(구)</td>\n",
       "      <td>1.0</td>\n",
       "      <td>무료</td>\n",
       "      <td>유료</td>\n",
       "      <td>유료</td>\n",
       "      <td>0</td>\n",
       "      <td>0.0</td>\n",
       "      <td>0.0</td>\n",
       "    </tr>\n",
       "    <tr>\n",
       "      <th>991</th>\n",
       "      <td>낙산성곽 버스전용 주차장(구)</td>\n",
       "      <td>1.0</td>\n",
       "      <td>무료</td>\n",
       "      <td>유료</td>\n",
       "      <td>유료</td>\n",
       "      <td>0</td>\n",
       "      <td>0.0</td>\n",
       "      <td>0.0</td>\n",
       "    </tr>\n",
       "  </tbody>\n",
       "</table>\n",
       "<p>202 rows × 8 columns</p>\n",
       "</div>"
      ],
      "text/plain": [
       "                       주차장명    주차수 유무료 주말유무료 공휴일유무료  월정기권금액   기본요금    추가요금\n",
       "0             초안산근린공원주차장(구)   71.0  유료    무료     무료       0    0.0   300.0\n",
       "1           마들스타디움(근린공원)(구)  177.0  유료    무료     무료  100000  150.0   150.0\n",
       "2          마장동(건물) 공영주차장(구)   54.0  유료    무료     무료   50000   50.0    50.0\n",
       "3               영등포여고 공영(구)   98.0  유료    무료     무료   65000   50.0    50.0\n",
       "4              당산근린공원 공영(구)  190.0  유료    무료     무료  100000  150.0   150.0\n",
       "..                      ...    ...  ..   ...    ...     ...    ...     ...\n",
       "965                  태화관(구)    1.0  유료    무료     유료  250000  500.0  1000.0\n",
       "966      동일상가아파트 이륜차 주차장(구)    1.0  무료    유료     유료       0    0.0     0.0\n",
       "974      숭인상가아파트 이륜차 주차장(구)    1.0  무료    유료     유료       0    0.0     0.0\n",
       "980  필운대로 도미노피자앞 이륜차 주차장(구)    1.0  무료    유료     유료       0    0.0     0.0\n",
       "991        낙산성곽 버스전용 주차장(구)    1.0  무료    유료     유료       0    0.0     0.0\n",
       "\n",
       "[202 rows x 8 columns]"
      ]
     },
     "execution_count": 58,
     "metadata": {},
     "output_type": "execute_result"
    }
   ],
   "source": [
    "tmp"
   ]
  },
  {
   "cell_type": "code",
   "execution_count": 60,
   "id": "98d7e659",
   "metadata": {},
   "outputs": [
    {
     "data": {
      "image/png": "[encoded data removed]",
      "text/plain": [
       "<Figure size 640x480 with 1 Axes>"
      ]
     },
     "metadata": {},
     "output_type": "display_data"
    }
   ],
   "source": [
    "plt.figure()\n",
    "plt.title('주차장 유무료')\n",
    "sns.countplot(x = '유무료', data = tmp, order = ['유료', '무료'])\n",
    "plt.grid()"
   ]
  },
  {
   "cell_type": "code",
   "execution_count": 61,
   "id": "e19b5272",
   "metadata": {},
   "outputs": [
    {
     "data": {
      "text/plain": [
       "<Axes: title={'center': '기본요금 히스토그램'}, xlabel='기본요금', ylabel='Count'>"
      ]
     },
     "execution_count": 61,
     "metadata": {},
     "output_type": "execute_result"
    },
    {
     "data": {
      "image/png": "[encoded data removed]",
      "text/plain": [
       "<Figure size 640x480 with 1 Axes>"
      ]
     },
     "metadata": {},
     "output_type": "display_data"
    }
   ],
   "source": [
    "plt.figure()\n",
    "plt.title('기본요금 히스토그램')\n",
    "sns.histplot(x = tmp['기본요금'])"
   ]
  },
  {
   "cell_type": "code",
   "execution_count": 64,
   "id": "6baed3d6",
   "metadata": {},
   "outputs": [
    {
     "data": {
      "text/plain": [
       "<Axes: xlabel='기본요금', ylabel='추가요금'>"
      ]
     },
     "execution_count": 64,
     "metadata": {},
     "output_type": "execute_result"
    },
    {
     "data": {
      "image/png": "[encoded data removed]",
      "text/plain": [
       "<Figure size 640x480 with 1 Axes>"
      ]
     },
     "metadata": {},
     "output_type": "display_data"
    }
   ],
   "source": [
    "sns.histplot(x = tmp['기본요금'], y = tmp['추가요금'])"
   ]
  },
  {
   "cell_type": "code",
   "execution_count": 66,
   "id": "f6b8c976",
   "metadata": {},
   "outputs": [
    {
     "data": {
      "image/png": "[encoded data removed]",
      "text/plain": [
       "<Figure size 640x480 with 1 Axes>"
      ]
     },
     "metadata": {},
     "output_type": "display_data"
    }
   ],
   "source": [
    "plt.figure()\n",
    "sns.kdeplot(x = tmp ['기본요금'])\n",
    "plt.grid()"
   ]
  },
  {
   "cell_type": "code",
   "execution_count": 67,
   "id": "adef8e3d",
   "metadata": {},
   "outputs": [],
   "source": [
    "conn = connect_mysql()\n",
    "query = 'select * from lol_datas'\n",
    "lol_df = pd.DataFrame(sql_execute_dict(conn, query))"
   ]
  },
  {
   "cell_type": "markdown",
   "id": "db8accea",
   "metadata": {},
   "source": [
    "# 포지션중 하나를 선택해서 15분 골드와 20분 골드를 kdeplot으로 만들어보기"
   ]
  },
  {
   "cell_type": "code",
   "execution_count": 69,
   "id": "deb6bb34",
   "metadata": {},
   "outputs": [
    {
     "data": {
      "text/plain": [
       "Index(['gameId', 'gameDuration', 'gameVersion', 'summonerName',\n",
       "       'summonerLevel', 'participantId', 'championName', 'champExperience',\n",
       "       'teamPosition', 'teamId', 'win', 'kills', 'deaths', 'assists',\n",
       "       'totalDamageDealtToChampions', 'totalDamageTaken', 'g_5', 'g_6', 'g_7',\n",
       "       'g_8', 'g_9', 'g_10', 'g_11', 'g_12', 'g_13', 'g_14', 'g_15', 'g_16',\n",
       "       'g_17', 'g_18', 'g_19', 'g_20', 'g_21', 'g_22', 'g_23', 'g_24', 'g_25'],\n",
       "      dtype='object')"
      ]
     },
     "execution_count": 69,
     "metadata": {},
     "output_type": "execute_result"
    }
   ],
   "source": [
    "lol_df.columns"
   ]
  },
  {
   "cell_type": "code",
   "execution_count": 107,
   "id": "16395d08",
   "metadata": {},
   "outputs": [],
   "source": [
    "lol_tmp = lol_df[['teamPosition', 'g_15', 'g_20']]"
   ]
  },
  {
   "cell_type": "code",
   "execution_count": 108,
   "id": "20f48086",
   "metadata": {},
   "outputs": [],
   "source": [
    "lol_tmp = lol_tmp[lol_tmp.teamPosition != '']"
   ]
  },
  {
   "cell_type": "code",
   "execution_count": 110,
   "id": "60003608",
   "metadata": {},
   "outputs": [],
   "source": [
    "ut_tmp = lol_tmp[lol_tmp.teamPosition == 'UTILITY']"
   ]
  },
  {
   "cell_type": "code",
   "execution_count": 133,
   "id": "d7f6f754",
   "metadata": {},
   "outputs": [
    {
     "data": {
      "image/png": "[encoded data removed]",
      "text/plain": [
       "<Figure size 640x480 with 1 Axes>"
      ]
     },
     "metadata": {},
     "output_type": "display_data"
    }
   ],
   "source": [
    "sns.kdeplot(x = ut_tmp ['g_15'], color = 'r', label = '15분 골드')\n",
    "sns.kdeplot(x = ut_tmp ['g_20'], color = 'b', label = '20분 골드')\n",
    "plt.xlabel('골드')\n",
    "plt.ylabel('')\n",
    "plt.title('서포터 분당 평균 골드')\n",
    "plt.legend(loc = 1)\n",
    "\n",
    "plt.grid()"
   ]
  },
  {
   "cell_type": "code",
   "execution_count": 156,
   "id": "7840060a",
   "metadata": {},
   "outputs": [],
   "source": [
    "import seaborn as sns"
   ]
  },
  {
   "cell_type": "code",
   "execution_count": 157,
   "id": "35db8f05",
   "metadata": {},
   "outputs": [],
   "source": [
    "url = 'http://openapi.seoul.go.kr:8088/(인증키)/xml/GetParkInfo/1/5/'"
   ]
  },
  {
   "cell_type": "code",
   "execution_count": 158,
   "id": "f26f9124",
   "metadata": {},
   "outputs": [],
   "source": [
    "df = get_df(url)"
   ]
  },
  {
   "cell_type": "code",
   "execution_count": 159,
   "id": "4d3687fd",
   "metadata": {},
   "outputs": [
    {
     "data": {
      "text/plain": [
       "Index(['PARKING_NAME', 'ADDR', 'PARKING_CODE', 'PARKING_TYPE',\n",
       "       'PARKING_TYPE_NM', 'OPERATION_RULE', 'OPERATION_RULE_NM', 'TEL',\n",
       "       'QUE_STATUS', 'QUE_STATUS_NM', 'CAPACITY', 'PAY_YN', 'PAY_NM',\n",
       "       'NIGHT_FREE_OPEN', 'NIGHT_FREE_OPEN_NM', 'WEEKDAY_BEGIN_TIME',\n",
       "       'WEEKDAY_END_TIME', 'WEEKEND_BEGIN_TIME', 'WEEKEND_END_TIME',\n",
       "       'HOLIDAY_BEGIN_TIME', 'HOLIDAY_END_TIME', 'SYNC_TIME',\n",
       "       'SATURDAY_PAY_YN', 'SATURDAY_PAY_NM', 'HOLIDAY_PAY_YN',\n",
       "       'HOLIDAY_PAY_NM', 'FULLTIME_MONTHLY', 'GRP_PARKNM', 'RATES',\n",
       "       'TIME_RATE', 'ADD_RATES', 'ADD_TIME_RATE', 'BUS_RATES', 'BUS_TIME_RATE',\n",
       "       'BUS_ADD_TIME_RATE', 'BUS_ADD_RATES', 'DAY_MAXIMUM', 'LAT', 'LNG'],\n",
       "      dtype='object')"
      ]
     },
     "execution_count": 159,
     "metadata": {},
     "output_type": "execute_result"
    }
   ],
   "source": [
    "df.columns"
   ]
  },
  {
   "cell_type": "code",
   "execution_count": 160,
   "id": "bef942bd",
   "metadata": {},
   "outputs": [],
   "source": [
    "tmp = df[['PARKING_NAME', 'CAPACITY', 'PAY_NM', 'SATURDAY_PAY_NM', 'HOLIDAY_PAY_NM', 'FULLTIME_MONTHLY', 'RATES', 'ADD_RATES']]"
   ]
  },
  {
   "cell_type": "code",
   "execution_count": 161,
   "id": "4d5f4ed7",
   "metadata": {},
   "outputs": [],
   "source": [
    "tmp = tmp.drop_duplicates()"
   ]
  },
  {
   "cell_type": "code",
   "execution_count": 162,
   "id": "2fa0ed47",
   "metadata": {},
   "outputs": [],
   "source": [
    "tmp.columns = ['주차장명','주차수','유무료','주말유무료','공휴일유무료',\n",
    "                 '월정기권금액','기본요금','추가요금']"
   ]
  },
  {
   "cell_type": "code",
   "execution_count": 163,
   "id": "ae65c625",
   "metadata": {},
   "outputs": [
    {
     "data": {
      "text/html": [
       "<div>\n",
       "<style scoped>\n",
       "    .dataframe tbody tr th:only-of-type {\n",
       "        vertical-align: middle;\n",
       "    }\n",
       "\n",
       "    .dataframe tbody tr th {\n",
       "        vertical-align: top;\n",
       "    }\n",
       "\n",
       "    .dataframe thead th {\n",
       "        text-align: right;\n",
       "    }\n",
       "</style>\n",
       "<table border=\"1\" class=\"dataframe\">\n",
       "  <thead>\n",
       "    <tr style=\"text-align: right;\">\n",
       "      <th></th>\n",
       "      <th>주차장명</th>\n",
       "      <th>주차수</th>\n",
       "      <th>유무료</th>\n",
       "      <th>주말유무료</th>\n",
       "      <th>공휴일유무료</th>\n",
       "      <th>월정기권금액</th>\n",
       "      <th>기본요금</th>\n",
       "      <th>추가요금</th>\n",
       "    </tr>\n",
       "  </thead>\n",
       "  <tbody>\n",
       "    <tr>\n",
       "      <th>0</th>\n",
       "      <td>초안산근린공원주차장(구)</td>\n",
       "      <td>71.0</td>\n",
       "      <td>유료</td>\n",
       "      <td>무료</td>\n",
       "      <td>무료</td>\n",
       "      <td>0</td>\n",
       "      <td>0.0</td>\n",
       "      <td>300.0</td>\n",
       "    </tr>\n",
       "    <tr>\n",
       "      <th>1</th>\n",
       "      <td>마들스타디움(근린공원)(구)</td>\n",
       "      <td>177.0</td>\n",
       "      <td>유료</td>\n",
       "      <td>무료</td>\n",
       "      <td>무료</td>\n",
       "      <td>100000</td>\n",
       "      <td>150.0</td>\n",
       "      <td>150.0</td>\n",
       "    </tr>\n",
       "    <tr>\n",
       "      <th>2</th>\n",
       "      <td>마장동(건물) 공영주차장(구)</td>\n",
       "      <td>54.0</td>\n",
       "      <td>유료</td>\n",
       "      <td>무료</td>\n",
       "      <td>무료</td>\n",
       "      <td>50000</td>\n",
       "      <td>50.0</td>\n",
       "      <td>50.0</td>\n",
       "    </tr>\n",
       "    <tr>\n",
       "      <th>3</th>\n",
       "      <td>영등포여고 공영(구)</td>\n",
       "      <td>98.0</td>\n",
       "      <td>유료</td>\n",
       "      <td>무료</td>\n",
       "      <td>무료</td>\n",
       "      <td>65000</td>\n",
       "      <td>50.0</td>\n",
       "      <td>50.0</td>\n",
       "    </tr>\n",
       "    <tr>\n",
       "      <th>4</th>\n",
       "      <td>당산근린공원 공영(구)</td>\n",
       "      <td>190.0</td>\n",
       "      <td>유료</td>\n",
       "      <td>무료</td>\n",
       "      <td>무료</td>\n",
       "      <td>100000</td>\n",
       "      <td>150.0</td>\n",
       "      <td>150.0</td>\n",
       "    </tr>\n",
       "    <tr>\n",
       "      <th>...</th>\n",
       "      <td>...</td>\n",
       "      <td>...</td>\n",
       "      <td>...</td>\n",
       "      <td>...</td>\n",
       "      <td>...</td>\n",
       "      <td>...</td>\n",
       "      <td>...</td>\n",
       "      <td>...</td>\n",
       "    </tr>\n",
       "    <tr>\n",
       "      <th>965</th>\n",
       "      <td>태화관(구)</td>\n",
       "      <td>1.0</td>\n",
       "      <td>유료</td>\n",
       "      <td>무료</td>\n",
       "      <td>유료</td>\n",
       "      <td>250000</td>\n",
       "      <td>500.0</td>\n",
       "      <td>1000.0</td>\n",
       "    </tr>\n",
       "    <tr>\n",
       "      <th>966</th>\n",
       "      <td>동일상가아파트 이륜차 주차장(구)</td>\n",
       "      <td>1.0</td>\n",
       "      <td>무료</td>\n",
       "      <td>유료</td>\n",
       "      <td>유료</td>\n",
       "      <td>0</td>\n",
       "      <td>0.0</td>\n",
       "      <td>0.0</td>\n",
       "    </tr>\n",
       "    <tr>\n",
       "      <th>974</th>\n",
       "      <td>숭인상가아파트 이륜차 주차장(구)</td>\n",
       "      <td>1.0</td>\n",
       "      <td>무료</td>\n",
       "      <td>유료</td>\n",
       "      <td>유료</td>\n",
       "      <td>0</td>\n",
       "      <td>0.0</td>\n",
       "      <td>0.0</td>\n",
       "    </tr>\n",
       "    <tr>\n",
       "      <th>980</th>\n",
       "      <td>필운대로 도미노피자앞 이륜차 주차장(구)</td>\n",
       "      <td>1.0</td>\n",
       "      <td>무료</td>\n",
       "      <td>유료</td>\n",
       "      <td>유료</td>\n",
       "      <td>0</td>\n",
       "      <td>0.0</td>\n",
       "      <td>0.0</td>\n",
       "    </tr>\n",
       "    <tr>\n",
       "      <th>991</th>\n",
       "      <td>낙산성곽 버스전용 주차장(구)</td>\n",
       "      <td>1.0</td>\n",
       "      <td>무료</td>\n",
       "      <td>유료</td>\n",
       "      <td>유료</td>\n",
       "      <td>0</td>\n",
       "      <td>0.0</td>\n",
       "      <td>0.0</td>\n",
       "    </tr>\n",
       "  </tbody>\n",
       "</table>\n",
       "<p>202 rows × 8 columns</p>\n",
       "</div>"
      ],
      "text/plain": [
       "                       주차장명    주차수 유무료 주말유무료 공휴일유무료  월정기권금액   기본요금    추가요금\n",
       "0             초안산근린공원주차장(구)   71.0  유료    무료     무료       0    0.0   300.0\n",
       "1           마들스타디움(근린공원)(구)  177.0  유료    무료     무료  100000  150.0   150.0\n",
       "2          마장동(건물) 공영주차장(구)   54.0  유료    무료     무료   50000   50.0    50.0\n",
       "3               영등포여고 공영(구)   98.0  유료    무료     무료   65000   50.0    50.0\n",
       "4              당산근린공원 공영(구)  190.0  유료    무료     무료  100000  150.0   150.0\n",
       "..                      ...    ...  ..   ...    ...     ...    ...     ...\n",
       "965                  태화관(구)    1.0  유료    무료     유료  250000  500.0  1000.0\n",
       "966      동일상가아파트 이륜차 주차장(구)    1.0  무료    유료     유료       0    0.0     0.0\n",
       "974      숭인상가아파트 이륜차 주차장(구)    1.0  무료    유료     유료       0    0.0     0.0\n",
       "980  필운대로 도미노피자앞 이륜차 주차장(구)    1.0  무료    유료     유료       0    0.0     0.0\n",
       "991        낙산성곽 버스전용 주차장(구)    1.0  무료    유료     유료       0    0.0     0.0\n",
       "\n",
       "[202 rows x 8 columns]"
      ]
     },
     "execution_count": 163,
     "metadata": {},
     "output_type": "execute_result"
    }
   ],
   "source": [
    "tmp"
   ]
  },
  {
   "cell_type": "code",
   "execution_count": 164,
   "id": "c70544f2",
   "metadata": {},
   "outputs": [
    {
     "name": "stderr",
     "output_type": "stream",
     "text": [
      "C:\\Users\\qkrdy\\anaconda3\\Lib\\site-packages\\seaborn\\axisgrid.py:118: UserWarning: The figure layout has changed to tight\n",
      "  self._figure.tight_layout(*args, **kwargs)\n"
     ]
    },
    {
     "data": {
      "image/png": "[encoded data removed]",
      "text/plain": [
       "<Figure size 500x500 with 1 Axes>"
      ]
     },
     "metadata": {},
     "output_type": "display_data"
    }
   ],
   "source": [
    "sns.displot(x = tmp['추가요금'])\n",
    "# ,kind = 'ecdf'\n",
    "plt.grid()"
   ]
  },
  {
   "cell_type": "code",
   "execution_count": 165,
   "id": "2b6f3d28",
   "metadata": {},
   "outputs": [
    {
     "data": {
      "text/plain": [
       "<Axes: xlabel='추가요금', ylabel='Density'>"
      ]
     },
     "execution_count": 165,
     "metadata": {},
     "output_type": "execute_result"
    },
    {
     "data": {
      "image/png": "[encoded data removed]",
      "text/plain": [
       "<Figure size 640x480 with 1 Axes>"
      ]
     },
     "metadata": {},
     "output_type": "display_data"
    }
   ],
   "source": [
    "sns.kdeplot(x = tmp['추가요금'])\n",
    "sns.rugplot(x = tmp['추가요금'])"
   ]
  },
  {
   "cell_type": "code",
   "execution_count": 167,
   "id": "e14e2a8a",
   "metadata": {},
   "outputs": [
    {
     "data": {
      "image/png": "[encoded data removed]",
      "text/plain": [
       "<Figure size 640x480 with 1 Axes>"
      ]
     },
     "metadata": {},
     "output_type": "display_data"
    }
   ],
   "source": [
    "sns.barplot(x = tmp['주말유무료'], y = tmp['기본요금'])\n",
    "plt.grid()"
   ]
  },
  {
   "cell_type": "code",
   "execution_count": 168,
   "id": "52249975",
   "metadata": {},
   "outputs": [
    {
     "data": {
      "text/plain": [
       "<Axes: xlabel='주말유무료', ylabel='count'>"
      ]
     },
     "execution_count": 168,
     "metadata": {},
     "output_type": "execute_result"
    },
    {
     "data": {
      "image/png": "[encoded data removed]",
      "text/plain": [
       "<Figure size 640x480 with 1 Axes>"
      ]
     },
     "metadata": {},
     "output_type": "display_data"
    }
   ],
   "source": [
    "sns.countplot(x = tmp['주말유무료'])"
   ]
  },
  {
   "cell_type": "code",
   "execution_count": 170,
   "id": "3138db43",
   "metadata": {},
   "outputs": [
    {
     "data": {
      "text/plain": [
       "<Axes: xlabel='주말유무료', ylabel='기본요금'>"
      ]
     },
     "execution_count": 170,
     "metadata": {},
     "output_type": "execute_result"
    },
    {
     "data": {
      "image/png": "[encoded data removed]",
      "text/plain": [
       "<Figure size 640x480 with 1 Axes>"
      ]
     },
     "metadata": {},
     "output_type": "display_data"
    }
   ],
   "source": [
    "sns.violinplot(x = tmp['주말유무료'], y = tmp['기본요금'])"
   ]
  },
  {
   "cell_type": "code",
   "execution_count": 174,
   "id": "20959e20",
   "metadata": {
    "scrolled": false
   },
   "outputs": [
    {
     "data": {
      "text/plain": [
       "<Axes: xlabel='주말유무료', ylabel='기본요금'>"
      ]
     },
     "execution_count": 174,
     "metadata": {},
     "output_type": "execute_result"
    },
    {
     "data": {
      "image/png": "[encoded data removed]",
      "text/plain": [
       "<Figure size 640x480 with 1 Axes>"
      ]
     },
     "metadata": {},
     "output_type": "display_data"
    }
   ],
   "source": [
    "sns.stripplot(x = tmp['주말유무료'], y = tmp['기본요금'],color='coral')"
   ]
  },
  {
   "cell_type": "code",
   "execution_count": 176,
   "id": "833eb7c4",
   "metadata": {},
   "outputs": [
    {
     "data": {
      "text/plain": [
       "Index(['주차장명', '주차수', '유무료', '주말유무료', '공휴일유무료', '월정기권금액', '기본요금', '추가요금'], dtype='object')"
      ]
     },
     "execution_count": 176,
     "metadata": {},
     "output_type": "execute_result"
    }
   ],
   "source": [
    "tmp.columns"
   ]
  },
  {
   "cell_type": "code",
   "execution_count": 179,
   "id": "c4c5622e",
   "metadata": {},
   "outputs": [],
   "source": [
    "tmp.set_index('주차장명', inplace = True)"
   ]
  },
  {
   "cell_type": "code",
   "execution_count": 182,
   "id": "c5ff2930",
   "metadata": {},
   "outputs": [],
   "source": [
    "test = tmp[['주차수', '기본요금', '추가요금']]"
   ]
  },
  {
   "cell_type": "code",
   "execution_count": 183,
   "id": "d250fef7",
   "metadata": {},
   "outputs": [
    {
     "data": {
      "text/html": [
       "<div>\n",
       "<style scoped>\n",
       "    .dataframe tbody tr th:only-of-type {\n",
       "        vertical-align: middle;\n",
       "    }\n",
       "\n",
       "    .dataframe tbody tr th {\n",
       "        vertical-align: top;\n",
       "    }\n",
       "\n",
       "    .dataframe thead th {\n",
       "        text-align: right;\n",
       "    }\n",
       "</style>\n",
       "<table border=\"1\" class=\"dataframe\">\n",
       "  <thead>\n",
       "    <tr style=\"text-align: right;\">\n",
       "      <th></th>\n",
       "      <th>주차수</th>\n",
       "      <th>기본요금</th>\n",
       "      <th>추가요금</th>\n",
       "    </tr>\n",
       "  </thead>\n",
       "  <tbody>\n",
       "    <tr>\n",
       "      <th>주차수</th>\n",
       "      <td>1.000000</td>\n",
       "      <td>0.059378</td>\n",
       "      <td>-0.113195</td>\n",
       "    </tr>\n",
       "    <tr>\n",
       "      <th>기본요금</th>\n",
       "      <td>0.059378</td>\n",
       "      <td>1.000000</td>\n",
       "      <td>0.346360</td>\n",
       "    </tr>\n",
       "    <tr>\n",
       "      <th>추가요금</th>\n",
       "      <td>-0.113195</td>\n",
       "      <td>0.346360</td>\n",
       "      <td>1.000000</td>\n",
       "    </tr>\n",
       "  </tbody>\n",
       "</table>\n",
       "</div>"
      ],
      "text/plain": [
       "           주차수      기본요금      추가요금\n",
       "주차수   1.000000  0.059378 -0.113195\n",
       "기본요금  0.059378  1.000000  0.346360\n",
       "추가요금 -0.113195  0.346360  1.000000"
      ]
     },
     "execution_count": 183,
     "metadata": {},
     "output_type": "execute_result"
    }
   ],
   "source": [
    "test.corr()"
   ]
  },
  {
   "cell_type": "code",
   "execution_count": 186,
   "id": "1c390548",
   "metadata": {},
   "outputs": [
    {
     "data": {
      "text/plain": [
       "<Axes: >"
      ]
     },
     "execution_count": 186,
     "metadata": {},
     "output_type": "execute_result"
    },
    {
     "data": {
      "image/png": "[encoded data removed]",
      "text/plain": [
       "<Figure size 640x480 with 2 Axes>"
      ]
     },
     "metadata": {},
     "output_type": "display_data"
    }
   ],
   "source": [
    "sns.heatmap(test.corr(), annot=True, cmap = 'viridis')"
   ]
  },
  {
   "cell_type": "code",
   "execution_count": 189,
   "id": "539b46cf",
   "metadata": {},
   "outputs": [
    {
     "data": {
      "text/plain": [
       "<seaborn.matrix.ClusterGrid at 0x11a5484a490>"
      ]
     },
     "execution_count": 189,
     "metadata": {},
     "output_type": "execute_result"
    },
    {
     "data": {
      "image/png": "[encoded data removed]",
      "text/plain": [
       "<Figure size 1000x1000 with 4 Axes>"
      ]
     },
     "metadata": {},
     "output_type": "display_data"
    }
   ],
   "source": [
    "sns.clustermap(test.corr(),annot = True, cmap = 'viridis')"
   ]
  },
  {
   "cell_type": "code",
   "execution_count": 193,
   "id": "ffe7d264",
   "metadata": {
    "scrolled": false
   },
   "outputs": [
    {
     "name": "stderr",
     "output_type": "stream",
     "text": [
      "C:\\Users\\qkrdy\\anaconda3\\Lib\\site-packages\\seaborn\\axisgrid.py:118: UserWarning: The figure layout has changed to tight\n",
      "  self._figure.tight_layout(*args, **kwargs)\n"
     ]
    },
    {
     "data": {
      "text/plain": [
       "<seaborn.axisgrid.FacetGrid at 0x11a68eef490>"
      ]
     },
     "execution_count": 193,
     "metadata": {},
     "output_type": "execute_result"
    },
    {
     "data": {
      "image/png": "[encoded data removed]",
      "text/plain": [
       "<Figure size 600x600 with 4 Axes>"
      ]
     },
     "metadata": {},
     "output_type": "display_data"
    }
   ],
   "source": [
    "sns.FacetGrid(tmp, col = '주말유무료', row = '공휴일유무료').map(plt.hist, '기본요금')"
   ]
  },
  {
   "cell_type": "code",
   "execution_count": 200,
   "id": "a3f4c38e",
   "metadata": {},
   "outputs": [
    {
     "data": {
      "text/plain": [
       "<seaborn.axisgrid.JointGrid at 0x11a54061dd0>"
      ]
     },
     "execution_count": 200,
     "metadata": {},
     "output_type": "execute_result"
    },
    {
     "data": {
      "image/png": "[encoded data removed]",
      "text/plain": [
       "<Figure size 600x600 with 3 Axes>"
      ]
     },
     "metadata": {},
     "output_type": "display_data"
    }
   ],
   "source": [
    "sns.jointplot(x = tmp['기본요금'], y = tmp['추가요금'], kind = 'hex')"
   ]
  },
  {
   "cell_type": "code",
   "execution_count": 201,
   "id": "65f199a6",
   "metadata": {},
   "outputs": [
    {
     "data": {
      "text/plain": [
       "<Axes: xlabel='기본요금', ylabel='추가요금'>"
      ]
     },
     "execution_count": 201,
     "metadata": {},
     "output_type": "execute_result"
    },
    {
     "data": {
      "image/png": "[encoded data removed]",
      "text/plain": [
       "<Figure size 640x480 with 1 Axes>"
      ]
     },
     "metadata": {},
     "output_type": "display_data"
    }
   ],
   "source": [
    "sns.regplot(x = '기본요금', y = '추가요금', data = tmp)"
   ]
  },
  {
   "cell_type": "code",
   "execution_count": 203,
   "id": "8bf3e1cd",
   "metadata": {},
   "outputs": [
    {
     "name": "stderr",
     "output_type": "stream",
     "text": [
      "C:\\Users\\qkrdy\\anaconda3\\Lib\\site-packages\\seaborn\\axisgrid.py:118: UserWarning: The figure layout has changed to tight\n",
      "  self._figure.tight_layout(*args, **kwargs)\n"
     ]
    },
    {
     "data": {
      "text/plain": [
       "<seaborn.axisgrid.FacetGrid at 0x11a65e38f90>"
      ]
     },
     "execution_count": 203,
     "metadata": {},
     "output_type": "execute_result"
    },
    {
     "data": {
      "image/png": "[encoded data removed]",
      "text/plain": [
       "<Figure size 580.486x500 with 1 Axes>"
      ]
     },
     "metadata": {},
     "output_type": "display_data"
    }
   ],
   "source": [
    "sns.lmplot(x = '기본요금', y = '추가요금', data = tmp, hue = '주말유무료')"
   ]
  },
  {
   "cell_type": "code",
   "execution_count": 205,
   "id": "8c46de42",
   "metadata": {},
   "outputs": [
    {
     "name": "stderr",
     "output_type": "stream",
     "text": [
      "C:\\Users\\qkrdy\\anaconda3\\Lib\\site-packages\\seaborn\\axisgrid.py:118: UserWarning: The figure layout has changed to tight\n",
      "  self._figure.tight_layout(*args, **kwargs)\n"
     ]
    },
    {
     "data": {
      "text/plain": [
       "<seaborn.axisgrid.FacetGrid at 0x11a65c27790>"
      ]
     },
     "execution_count": 205,
     "metadata": {},
     "output_type": "execute_result"
    },
    {
     "data": {
      "image/png": "[encoded data removed]",
      "text/plain": [
       "<Figure size 1082x1000 with 4 Axes>"
      ]
     },
     "metadata": {},
     "output_type": "display_data"
    }
   ],
   "source": [
    "sns.relplot(x = '주차수', y = '추가요금', hue = '기본요금', row = '주말유무료', col = '공휴일유무료', data = tmp, )"
   ]
  },
  {
   "cell_type": "code",
   "execution_count": 206,
   "id": "2404c4ac",
   "metadata": {},
   "outputs": [
    {
     "data": {
      "text/html": [
       "        <script type=\"text/javascript\">\n",
       "        window.PlotlyConfig = {MathJaxConfig: 'local'};\n",
       "        if (window.MathJax && window.MathJax.Hub && window.MathJax.Hub.Config) {window.MathJax.Hub.Config({SVG: {font: \"STIX-Web\"}});}\n",
       "        if (typeof require !== 'undefined') {\n",
       "        require.undef(\"plotly\");\n",
       "        requirejs.config({\n",
       "            paths: {\n",
       "                'plotly': ['https://cdn.plot.ly/plotly-2.12.1.min']\n",
       "            }\n",
       "        });\n",
       "        require(['plotly'], function(Plotly) {\n",
       "            window._Plotly = Plotly;\n",
       "        });\n",
       "        }\n",
       "        </script>\n",
       "        "
      ]
     },
     "metadata": {},
     "output_type": "display_data"
    }
   ],
   "source": [
    "import plotly\n",
    "import plotly.graph_objs as go\n",
    "plotly.offline.init_notebook_mode(connected = True)"
   ]
  },
  {
   "cell_type": "code",
   "execution_count": 207,
   "id": "1c138dca",
   "metadata": {},
   "outputs": [],
   "source": [
    "url = \"https://api.upbit.com/v1/candles/days\"\n",
    "coin_lst = ['KRW-BTC','KRW-ETH','KRW-XRP']\n",
    "headers = {\"Accept\": \"application/json\"}\n",
    "df = pd.DataFrame()\n",
    "for c in coin_lst:\n",
    "    querystring = {\"market\":c, \"count\":\"200\"}\n",
    "    response = requests.request(\"GET\", url, headers=headers, params=querystring)\n",
    "    df = pd.concat([df,pd.DataFrame(response.json())])"
   ]
  },
  {
   "cell_type": "code",
   "execution_count": 208,
   "id": "0c802060",
   "metadata": {},
   "outputs": [
    {
     "data": {
      "text/html": [
       "<div>\n",
       "<style scoped>\n",
       "    .dataframe tbody tr th:only-of-type {\n",
       "        vertical-align: middle;\n",
       "    }\n",
       "\n",
       "    .dataframe tbody tr th {\n",
       "        vertical-align: top;\n",
       "    }\n",
       "\n",
       "    .dataframe thead th {\n",
       "        text-align: right;\n",
       "    }\n",
       "</style>\n",
       "<table border=\"1\" class=\"dataframe\">\n",
       "  <thead>\n",
       "    <tr style=\"text-align: right;\">\n",
       "      <th></th>\n",
       "      <th>market</th>\n",
       "      <th>candle_date_time_utc</th>\n",
       "      <th>candle_date_time_kst</th>\n",
       "      <th>opening_price</th>\n",
       "      <th>high_price</th>\n",
       "      <th>low_price</th>\n",
       "      <th>trade_price</th>\n",
       "      <th>timestamp</th>\n",
       "      <th>candle_acc_trade_price</th>\n",
       "      <th>candle_acc_trade_volume</th>\n",
       "      <th>prev_closing_price</th>\n",
       "      <th>change_price</th>\n",
       "      <th>change_rate</th>\n",
       "    </tr>\n",
       "  </thead>\n",
       "  <tbody>\n",
       "    <tr>\n",
       "      <th>0</th>\n",
       "      <td>KRW-BTC</td>\n",
       "      <td>2023-12-28T00:00:00</td>\n",
       "      <td>2023-12-28T09:00:00</td>\n",
       "      <td>57920000.0</td>\n",
       "      <td>58468000.0</td>\n",
       "      <td>57474000.0</td>\n",
       "      <td>57741000.0</td>\n",
       "      <td>1703736641087</td>\n",
       "      <td>5.494895e+10</td>\n",
       "      <td>9.496127e+02</td>\n",
       "      <td>57920000.0</td>\n",
       "      <td>-179000.0</td>\n",
       "      <td>-0.003090</td>\n",
       "    </tr>\n",
       "    <tr>\n",
       "      <th>1</th>\n",
       "      <td>KRW-BTC</td>\n",
       "      <td>2023-12-27T00:00:00</td>\n",
       "      <td>2023-12-27T09:00:00</td>\n",
       "      <td>57032000.0</td>\n",
       "      <td>58212000.0</td>\n",
       "      <td>56349000.0</td>\n",
       "      <td>57920000.0</td>\n",
       "      <td>1703721598803</td>\n",
       "      <td>2.270096e+11</td>\n",
       "      <td>3.965843e+03</td>\n",
       "      <td>57032000.0</td>\n",
       "      <td>888000.0</td>\n",
       "      <td>0.015570</td>\n",
       "    </tr>\n",
       "    <tr>\n",
       "      <th>2</th>\n",
       "      <td>KRW-BTC</td>\n",
       "      <td>2023-12-26T00:00:00</td>\n",
       "      <td>2023-12-26T09:00:00</td>\n",
       "      <td>58042000.0</td>\n",
       "      <td>58140000.0</td>\n",
       "      <td>56349000.0</td>\n",
       "      <td>57032000.0</td>\n",
       "      <td>1703635199803</td>\n",
       "      <td>2.708228e+11</td>\n",
       "      <td>4.735230e+03</td>\n",
       "      <td>58042000.0</td>\n",
       "      <td>-1010000.0</td>\n",
       "      <td>-0.017401</td>\n",
       "    </tr>\n",
       "    <tr>\n",
       "      <th>3</th>\n",
       "      <td>KRW-BTC</td>\n",
       "      <td>2023-12-25T00:00:00</td>\n",
       "      <td>2023-12-25T09:00:00</td>\n",
       "      <td>58002000.0</td>\n",
       "      <td>58659000.0</td>\n",
       "      <td>57464000.0</td>\n",
       "      <td>58042000.0</td>\n",
       "      <td>1703548799890</td>\n",
       "      <td>2.721330e+11</td>\n",
       "      <td>4.687209e+03</td>\n",
       "      <td>58002000.0</td>\n",
       "      <td>40000.0</td>\n",
       "      <td>0.000690</td>\n",
       "    </tr>\n",
       "    <tr>\n",
       "      <th>4</th>\n",
       "      <td>KRW-BTC</td>\n",
       "      <td>2023-12-24T00:00:00</td>\n",
       "      <td>2023-12-24T09:00:00</td>\n",
       "      <td>59249000.0</td>\n",
       "      <td>59600000.0</td>\n",
       "      <td>58000000.0</td>\n",
       "      <td>58002000.0</td>\n",
       "      <td>1703462399990</td>\n",
       "      <td>2.200170e+11</td>\n",
       "      <td>3.729334e+03</td>\n",
       "      <td>59250000.0</td>\n",
       "      <td>-1248000.0</td>\n",
       "      <td>-0.021063</td>\n",
       "    </tr>\n",
       "    <tr>\n",
       "      <th>...</th>\n",
       "      <td>...</td>\n",
       "      <td>...</td>\n",
       "      <td>...</td>\n",
       "      <td>...</td>\n",
       "      <td>...</td>\n",
       "      <td>...</td>\n",
       "      <td>...</td>\n",
       "      <td>...</td>\n",
       "      <td>...</td>\n",
       "      <td>...</td>\n",
       "      <td>...</td>\n",
       "      <td>...</td>\n",
       "      <td>...</td>\n",
       "    </tr>\n",
       "    <tr>\n",
       "      <th>195</th>\n",
       "      <td>KRW-XRP</td>\n",
       "      <td>2023-06-16T00:00:00</td>\n",
       "      <td>2023-06-16T09:00:00</td>\n",
       "      <td>627.0</td>\n",
       "      <td>630.0</td>\n",
       "      <td>602.0</td>\n",
       "      <td>624.0</td>\n",
       "      <td>1686959997094</td>\n",
       "      <td>1.610391e+11</td>\n",
       "      <td>2.616515e+08</td>\n",
       "      <td>627.0</td>\n",
       "      <td>-3.0</td>\n",
       "      <td>-0.004785</td>\n",
       "    </tr>\n",
       "    <tr>\n",
       "      <th>196</th>\n",
       "      <td>KRW-XRP</td>\n",
       "      <td>2023-06-15T00:00:00</td>\n",
       "      <td>2023-06-15T09:00:00</td>\n",
       "      <td>630.0</td>\n",
       "      <td>638.0</td>\n",
       "      <td>612.0</td>\n",
       "      <td>627.0</td>\n",
       "      <td>1686873599460</td>\n",
       "      <td>1.663204e+11</td>\n",
       "      <td>2.660830e+08</td>\n",
       "      <td>631.0</td>\n",
       "      <td>-4.0</td>\n",
       "      <td>-0.006339</td>\n",
       "    </tr>\n",
       "    <tr>\n",
       "      <th>197</th>\n",
       "      <td>KRW-XRP</td>\n",
       "      <td>2023-06-14T00:00:00</td>\n",
       "      <td>2023-06-14T09:00:00</td>\n",
       "      <td>678.0</td>\n",
       "      <td>681.0</td>\n",
       "      <td>609.0</td>\n",
       "      <td>631.0</td>\n",
       "      <td>1686787200001</td>\n",
       "      <td>2.592919e+11</td>\n",
       "      <td>3.998507e+08</td>\n",
       "      <td>679.0</td>\n",
       "      <td>-48.0</td>\n",
       "      <td>-0.070692</td>\n",
       "    </tr>\n",
       "    <tr>\n",
       "      <th>198</th>\n",
       "      <td>KRW-XRP</td>\n",
       "      <td>2023-06-13T00:00:00</td>\n",
       "      <td>2023-06-13T09:00:00</td>\n",
       "      <td>689.0</td>\n",
       "      <td>735.0</td>\n",
       "      <td>664.0</td>\n",
       "      <td>679.0</td>\n",
       "      <td>1686700799794</td>\n",
       "      <td>4.851964e+11</td>\n",
       "      <td>6.910409e+08</td>\n",
       "      <td>689.0</td>\n",
       "      <td>-10.0</td>\n",
       "      <td>-0.014514</td>\n",
       "    </tr>\n",
       "    <tr>\n",
       "      <th>199</th>\n",
       "      <td>KRW-XRP</td>\n",
       "      <td>2023-06-12T00:00:00</td>\n",
       "      <td>2023-06-12T09:00:00</td>\n",
       "      <td>690.0</td>\n",
       "      <td>694.0</td>\n",
       "      <td>675.0</td>\n",
       "      <td>689.0</td>\n",
       "      <td>1686614396669</td>\n",
       "      <td>1.224128e+11</td>\n",
       "      <td>1.790804e+08</td>\n",
       "      <td>690.0</td>\n",
       "      <td>-1.0</td>\n",
       "      <td>-0.001449</td>\n",
       "    </tr>\n",
       "  </tbody>\n",
       "</table>\n",
       "<p>600 rows × 13 columns</p>\n",
       "</div>"
      ],
      "text/plain": [
       "      market candle_date_time_utc candle_date_time_kst  opening_price  \\\n",
       "0    KRW-BTC  2023-12-28T00:00:00  2023-12-28T09:00:00     57920000.0   \n",
       "1    KRW-BTC  2023-12-27T00:00:00  2023-12-27T09:00:00     57032000.0   \n",
       "2    KRW-BTC  2023-12-26T00:00:00  2023-12-26T09:00:00     58042000.0   \n",
       "3    KRW-BTC  2023-12-25T00:00:00  2023-12-25T09:00:00     58002000.0   \n",
       "4    KRW-BTC  2023-12-24T00:00:00  2023-12-24T09:00:00     59249000.0   \n",
       "..       ...                  ...                  ...            ...   \n",
       "195  KRW-XRP  2023-06-16T00:00:00  2023-06-16T09:00:00          627.0   \n",
       "196  KRW-XRP  2023-06-15T00:00:00  2023-06-15T09:00:00          630.0   \n",
       "197  KRW-XRP  2023-06-14T00:00:00  2023-06-14T09:00:00          678.0   \n",
       "198  KRW-XRP  2023-06-13T00:00:00  2023-06-13T09:00:00          689.0   \n",
       "199  KRW-XRP  2023-06-12T00:00:00  2023-06-12T09:00:00          690.0   \n",
       "\n",
       "     high_price   low_price  trade_price      timestamp  \\\n",
       "0    58468000.0  57474000.0   57741000.0  1703736641087   \n",
       "1    58212000.0  56349000.0   57920000.0  1703721598803   \n",
       "2    58140000.0  56349000.0   57032000.0  1703635199803   \n",
       "3    58659000.0  57464000.0   58042000.0  1703548799890   \n",
       "4    59600000.0  58000000.0   58002000.0  1703462399990   \n",
       "..          ...         ...          ...            ...   \n",
       "195       630.0       602.0        624.0  1686959997094   \n",
       "196       638.0       612.0        627.0  1686873599460   \n",
       "197       681.0       609.0        631.0  1686787200001   \n",
       "198       735.0       664.0        679.0  1686700799794   \n",
       "199       694.0       675.0        689.0  1686614396669   \n",
       "\n",
       "     candle_acc_trade_price  candle_acc_trade_volume  prev_closing_price  \\\n",
       "0              5.494895e+10             9.496127e+02          57920000.0   \n",
       "1              2.270096e+11             3.965843e+03          57032000.0   \n",
       "2              2.708228e+11             4.735230e+03          58042000.0   \n",
       "3              2.721330e+11             4.687209e+03          58002000.0   \n",
       "4              2.200170e+11             3.729334e+03          59250000.0   \n",
       "..                      ...                      ...                 ...   \n",
       "195            1.610391e+11             2.616515e+08               627.0   \n",
       "196            1.663204e+11             2.660830e+08               631.0   \n",
       "197            2.592919e+11             3.998507e+08               679.0   \n",
       "198            4.851964e+11             6.910409e+08               689.0   \n",
       "199            1.224128e+11             1.790804e+08               690.0   \n",
       "\n",
       "     change_price  change_rate  \n",
       "0       -179000.0    -0.003090  \n",
       "1        888000.0     0.015570  \n",
       "2      -1010000.0    -0.017401  \n",
       "3         40000.0     0.000690  \n",
       "4      -1248000.0    -0.021063  \n",
       "..            ...          ...  \n",
       "195          -3.0    -0.004785  \n",
       "196          -4.0    -0.006339  \n",
       "197         -48.0    -0.070692  \n",
       "198         -10.0    -0.014514  \n",
       "199          -1.0    -0.001449  \n",
       "\n",
       "[600 rows x 13 columns]"
      ]
     },
     "execution_count": 208,
     "metadata": {},
     "output_type": "execute_result"
    }
   ],
   "source": [
    "df"
   ]
  },
  {
   "cell_type": "code",
   "execution_count": 239,
   "id": "0e789714",
   "metadata": {},
   "outputs": [
    {
     "data": {
      "text/html": [
       "<div>\n",
       "<style scoped>\n",
       "    .dataframe tbody tr th:only-of-type {\n",
       "        vertical-align: middle;\n",
       "    }\n",
       "\n",
       "    .dataframe tbody tr th {\n",
       "        vertical-align: top;\n",
       "    }\n",
       "\n",
       "    .dataframe thead th {\n",
       "        text-align: right;\n",
       "    }\n",
       "</style>\n",
       "<table border=\"1\" class=\"dataframe\">\n",
       "  <thead>\n",
       "    <tr style=\"text-align: right;\">\n",
       "      <th></th>\n",
       "      <th>market</th>\n",
       "      <th>candle_date_time_kst</th>\n",
       "      <th>opening_price</th>\n",
       "      <th>high_price</th>\n",
       "      <th>low_price</th>\n",
       "      <th>trade_price</th>\n",
       "      <th>candle_acc_trade_price</th>\n",
       "      <th>candle_acc_trade_volume</th>\n",
       "    </tr>\n",
       "  </thead>\n",
       "  <tbody>\n",
       "    <tr>\n",
       "      <th>0</th>\n",
       "      <td>KRW-BTC</td>\n",
       "      <td>2023-12-28T09:00:00</td>\n",
       "      <td>57920000.0</td>\n",
       "      <td>58468000.0</td>\n",
       "      <td>57474000.0</td>\n",
       "      <td>57741000.0</td>\n",
       "      <td>5.494895e+10</td>\n",
       "      <td>9.496127e+02</td>\n",
       "    </tr>\n",
       "    <tr>\n",
       "      <th>1</th>\n",
       "      <td>KRW-BTC</td>\n",
       "      <td>2023-12-27T09:00:00</td>\n",
       "      <td>57032000.0</td>\n",
       "      <td>58212000.0</td>\n",
       "      <td>56349000.0</td>\n",
       "      <td>57920000.0</td>\n",
       "      <td>2.270096e+11</td>\n",
       "      <td>3.965843e+03</td>\n",
       "    </tr>\n",
       "    <tr>\n",
       "      <th>2</th>\n",
       "      <td>KRW-BTC</td>\n",
       "      <td>2023-12-26T09:00:00</td>\n",
       "      <td>58042000.0</td>\n",
       "      <td>58140000.0</td>\n",
       "      <td>56349000.0</td>\n",
       "      <td>57032000.0</td>\n",
       "      <td>2.708228e+11</td>\n",
       "      <td>4.735230e+03</td>\n",
       "    </tr>\n",
       "    <tr>\n",
       "      <th>3</th>\n",
       "      <td>KRW-BTC</td>\n",
       "      <td>2023-12-25T09:00:00</td>\n",
       "      <td>58002000.0</td>\n",
       "      <td>58659000.0</td>\n",
       "      <td>57464000.0</td>\n",
       "      <td>58042000.0</td>\n",
       "      <td>2.721330e+11</td>\n",
       "      <td>4.687209e+03</td>\n",
       "    </tr>\n",
       "    <tr>\n",
       "      <th>4</th>\n",
       "      <td>KRW-BTC</td>\n",
       "      <td>2023-12-24T09:00:00</td>\n",
       "      <td>59249000.0</td>\n",
       "      <td>59600000.0</td>\n",
       "      <td>58000000.0</td>\n",
       "      <td>58002000.0</td>\n",
       "      <td>2.200170e+11</td>\n",
       "      <td>3.729334e+03</td>\n",
       "    </tr>\n",
       "    <tr>\n",
       "      <th>...</th>\n",
       "      <td>...</td>\n",
       "      <td>...</td>\n",
       "      <td>...</td>\n",
       "      <td>...</td>\n",
       "      <td>...</td>\n",
       "      <td>...</td>\n",
       "      <td>...</td>\n",
       "      <td>...</td>\n",
       "    </tr>\n",
       "    <tr>\n",
       "      <th>195</th>\n",
       "      <td>KRW-XRP</td>\n",
       "      <td>2023-06-16T09:00:00</td>\n",
       "      <td>627.0</td>\n",
       "      <td>630.0</td>\n",
       "      <td>602.0</td>\n",
       "      <td>624.0</td>\n",
       "      <td>1.610391e+11</td>\n",
       "      <td>2.616515e+08</td>\n",
       "    </tr>\n",
       "    <tr>\n",
       "      <th>196</th>\n",
       "      <td>KRW-XRP</td>\n",
       "      <td>2023-06-15T09:00:00</td>\n",
       "      <td>630.0</td>\n",
       "      <td>638.0</td>\n",
       "      <td>612.0</td>\n",
       "      <td>627.0</td>\n",
       "      <td>1.663204e+11</td>\n",
       "      <td>2.660830e+08</td>\n",
       "    </tr>\n",
       "    <tr>\n",
       "      <th>197</th>\n",
       "      <td>KRW-XRP</td>\n",
       "      <td>2023-06-14T09:00:00</td>\n",
       "      <td>678.0</td>\n",
       "      <td>681.0</td>\n",
       "      <td>609.0</td>\n",
       "      <td>631.0</td>\n",
       "      <td>2.592919e+11</td>\n",
       "      <td>3.998507e+08</td>\n",
       "    </tr>\n",
       "    <tr>\n",
       "      <th>198</th>\n",
       "      <td>KRW-XRP</td>\n",
       "      <td>2023-06-13T09:00:00</td>\n",
       "      <td>689.0</td>\n",
       "      <td>735.0</td>\n",
       "      <td>664.0</td>\n",
       "      <td>679.0</td>\n",
       "      <td>4.851964e+11</td>\n",
       "      <td>6.910409e+08</td>\n",
       "    </tr>\n",
       "    <tr>\n",
       "      <th>199</th>\n",
       "      <td>KRW-XRP</td>\n",
       "      <td>2023-06-12T09:00:00</td>\n",
       "      <td>690.0</td>\n",
       "      <td>694.0</td>\n",
       "      <td>675.0</td>\n",
       "      <td>689.0</td>\n",
       "      <td>1.224128e+11</td>\n",
       "      <td>1.790804e+08</td>\n",
       "    </tr>\n",
       "  </tbody>\n",
       "</table>\n",
       "<p>600 rows × 8 columns</p>\n",
       "</div>"
      ],
      "text/plain": [
       "      market candle_date_time_kst  opening_price  high_price   low_price  \\\n",
       "0    KRW-BTC  2023-12-28T09:00:00     57920000.0  58468000.0  57474000.0   \n",
       "1    KRW-BTC  2023-12-27T09:00:00     57032000.0  58212000.0  56349000.0   \n",
       "2    KRW-BTC  2023-12-26T09:00:00     58042000.0  58140000.0  56349000.0   \n",
       "3    KRW-BTC  2023-12-25T09:00:00     58002000.0  58659000.0  57464000.0   \n",
       "4    KRW-BTC  2023-12-24T09:00:00     59249000.0  59600000.0  58000000.0   \n",
       "..       ...                  ...            ...         ...         ...   \n",
       "195  KRW-XRP  2023-06-16T09:00:00          627.0       630.0       602.0   \n",
       "196  KRW-XRP  2023-06-15T09:00:00          630.0       638.0       612.0   \n",
       "197  KRW-XRP  2023-06-14T09:00:00          678.0       681.0       609.0   \n",
       "198  KRW-XRP  2023-06-13T09:00:00          689.0       735.0       664.0   \n",
       "199  KRW-XRP  2023-06-12T09:00:00          690.0       694.0       675.0   \n",
       "\n",
       "     trade_price  candle_acc_trade_price  candle_acc_trade_volume  \n",
       "0     57741000.0            5.494895e+10             9.496127e+02  \n",
       "1     57920000.0            2.270096e+11             3.965843e+03  \n",
       "2     57032000.0            2.708228e+11             4.735230e+03  \n",
       "3     58042000.0            2.721330e+11             4.687209e+03  \n",
       "4     58002000.0            2.200170e+11             3.729334e+03  \n",
       "..           ...                     ...                      ...  \n",
       "195        624.0            1.610391e+11             2.616515e+08  \n",
       "196        627.0            1.663204e+11             2.660830e+08  \n",
       "197        631.0            2.592919e+11             3.998507e+08  \n",
       "198        679.0            4.851964e+11             6.910409e+08  \n",
       "199        689.0            1.224128e+11             1.790804e+08  \n",
       "\n",
       "[600 rows x 8 columns]"
      ]
     },
     "execution_count": 239,
     "metadata": {},
     "output_type": "execute_result"
    }
   ],
   "source": [
    "my_df = df[['market','candle_date_time_kst','opening_price','high_price',\n",
    "            'low_price','trade_price','candle_acc_trade_price','candle_acc_trade_volume']].copy()\n",
    "my_df"
   ]
  },
  {
   "cell_type": "markdown",
   "id": "05f37fd1",
   "metadata": {},
   "source": [
    "# 첫번째 전처리 - market에서 코인의 이름만 남기기\n",
    "\n",
    "# 두번째 전처리 - candle_date_time_kst 날짜만 남기기"
   ]
  },
  {
   "cell_type": "code",
   "execution_count": 244,
   "id": "f48dc742",
   "metadata": {},
   "outputs": [],
   "source": [
    "my_df['market'] = my_df['market'].str.replace('KRW-', '')\n",
    "my_df['candle_date_time_kst'] = my_df['candle_date_time_kst'].str.replace('T09:00:00', '')"
   ]
  },
  {
   "cell_type": "code",
   "execution_count": 245,
   "id": "28188fcf",
   "metadata": {},
   "outputs": [
    {
     "data": {
      "text/html": [
       "<div>\n",
       "<style scoped>\n",
       "    .dataframe tbody tr th:only-of-type {\n",
       "        vertical-align: middle;\n",
       "    }\n",
       "\n",
       "    .dataframe tbody tr th {\n",
       "        vertical-align: top;\n",
       "    }\n",
       "\n",
       "    .dataframe thead th {\n",
       "        text-align: right;\n",
       "    }\n",
       "</style>\n",
       "<table border=\"1\" class=\"dataframe\">\n",
       "  <thead>\n",
       "    <tr style=\"text-align: right;\">\n",
       "      <th></th>\n",
       "      <th>market</th>\n",
       "      <th>candle_date_time_kst</th>\n",
       "      <th>opening_price</th>\n",
       "      <th>high_price</th>\n",
       "      <th>low_price</th>\n",
       "      <th>trade_price</th>\n",
       "      <th>candle_acc_trade_price</th>\n",
       "      <th>candle_acc_trade_volume</th>\n",
       "    </tr>\n",
       "  </thead>\n",
       "  <tbody>\n",
       "    <tr>\n",
       "      <th>0</th>\n",
       "      <td>BTC</td>\n",
       "      <td>2023-12-28</td>\n",
       "      <td>57920000.0</td>\n",
       "      <td>58468000.0</td>\n",
       "      <td>57474000.0</td>\n",
       "      <td>57741000.0</td>\n",
       "      <td>5.494895e+10</td>\n",
       "      <td>9.496127e+02</td>\n",
       "    </tr>\n",
       "    <tr>\n",
       "      <th>1</th>\n",
       "      <td>BTC</td>\n",
       "      <td>2023-12-27</td>\n",
       "      <td>57032000.0</td>\n",
       "      <td>58212000.0</td>\n",
       "      <td>56349000.0</td>\n",
       "      <td>57920000.0</td>\n",
       "      <td>2.270096e+11</td>\n",
       "      <td>3.965843e+03</td>\n",
       "    </tr>\n",
       "    <tr>\n",
       "      <th>2</th>\n",
       "      <td>BTC</td>\n",
       "      <td>2023-12-26</td>\n",
       "      <td>58042000.0</td>\n",
       "      <td>58140000.0</td>\n",
       "      <td>56349000.0</td>\n",
       "      <td>57032000.0</td>\n",
       "      <td>2.708228e+11</td>\n",
       "      <td>4.735230e+03</td>\n",
       "    </tr>\n",
       "    <tr>\n",
       "      <th>3</th>\n",
       "      <td>BTC</td>\n",
       "      <td>2023-12-25</td>\n",
       "      <td>58002000.0</td>\n",
       "      <td>58659000.0</td>\n",
       "      <td>57464000.0</td>\n",
       "      <td>58042000.0</td>\n",
       "      <td>2.721330e+11</td>\n",
       "      <td>4.687209e+03</td>\n",
       "    </tr>\n",
       "    <tr>\n",
       "      <th>4</th>\n",
       "      <td>BTC</td>\n",
       "      <td>2023-12-24</td>\n",
       "      <td>59249000.0</td>\n",
       "      <td>59600000.0</td>\n",
       "      <td>58000000.0</td>\n",
       "      <td>58002000.0</td>\n",
       "      <td>2.200170e+11</td>\n",
       "      <td>3.729334e+03</td>\n",
       "    </tr>\n",
       "    <tr>\n",
       "      <th>...</th>\n",
       "      <td>...</td>\n",
       "      <td>...</td>\n",
       "      <td>...</td>\n",
       "      <td>...</td>\n",
       "      <td>...</td>\n",
       "      <td>...</td>\n",
       "      <td>...</td>\n",
       "      <td>...</td>\n",
       "    </tr>\n",
       "    <tr>\n",
       "      <th>195</th>\n",
       "      <td>XRP</td>\n",
       "      <td>2023-06-16</td>\n",
       "      <td>627.0</td>\n",
       "      <td>630.0</td>\n",
       "      <td>602.0</td>\n",
       "      <td>624.0</td>\n",
       "      <td>1.610391e+11</td>\n",
       "      <td>2.616515e+08</td>\n",
       "    </tr>\n",
       "    <tr>\n",
       "      <th>196</th>\n",
       "      <td>XRP</td>\n",
       "      <td>2023-06-15</td>\n",
       "      <td>630.0</td>\n",
       "      <td>638.0</td>\n",
       "      <td>612.0</td>\n",
       "      <td>627.0</td>\n",
       "      <td>1.663204e+11</td>\n",
       "      <td>2.660830e+08</td>\n",
       "    </tr>\n",
       "    <tr>\n",
       "      <th>197</th>\n",
       "      <td>XRP</td>\n",
       "      <td>2023-06-14</td>\n",
       "      <td>678.0</td>\n",
       "      <td>681.0</td>\n",
       "      <td>609.0</td>\n",
       "      <td>631.0</td>\n",
       "      <td>2.592919e+11</td>\n",
       "      <td>3.998507e+08</td>\n",
       "    </tr>\n",
       "    <tr>\n",
       "      <th>198</th>\n",
       "      <td>XRP</td>\n",
       "      <td>2023-06-13</td>\n",
       "      <td>689.0</td>\n",
       "      <td>735.0</td>\n",
       "      <td>664.0</td>\n",
       "      <td>679.0</td>\n",
       "      <td>4.851964e+11</td>\n",
       "      <td>6.910409e+08</td>\n",
       "    </tr>\n",
       "    <tr>\n",
       "      <th>199</th>\n",
       "      <td>XRP</td>\n",
       "      <td>2023-06-12</td>\n",
       "      <td>690.0</td>\n",
       "      <td>694.0</td>\n",
       "      <td>675.0</td>\n",
       "      <td>689.0</td>\n",
       "      <td>1.224128e+11</td>\n",
       "      <td>1.790804e+08</td>\n",
       "    </tr>\n",
       "  </tbody>\n",
       "</table>\n",
       "<p>600 rows × 8 columns</p>\n",
       "</div>"
      ],
      "text/plain": [
       "    market candle_date_time_kst  opening_price  high_price   low_price  \\\n",
       "0      BTC           2023-12-28     57920000.0  58468000.0  57474000.0   \n",
       "1      BTC           2023-12-27     57032000.0  58212000.0  56349000.0   \n",
       "2      BTC           2023-12-26     58042000.0  58140000.0  56349000.0   \n",
       "3      BTC           2023-12-25     58002000.0  58659000.0  57464000.0   \n",
       "4      BTC           2023-12-24     59249000.0  59600000.0  58000000.0   \n",
       "..     ...                  ...            ...         ...         ...   \n",
       "195    XRP           2023-06-16          627.0       630.0       602.0   \n",
       "196    XRP           2023-06-15          630.0       638.0       612.0   \n",
       "197    XRP           2023-06-14          678.0       681.0       609.0   \n",
       "198    XRP           2023-06-13          689.0       735.0       664.0   \n",
       "199    XRP           2023-06-12          690.0       694.0       675.0   \n",
       "\n",
       "     trade_price  candle_acc_trade_price  candle_acc_trade_volume  \n",
       "0     57741000.0            5.494895e+10             9.496127e+02  \n",
       "1     57920000.0            2.270096e+11             3.965843e+03  \n",
       "2     57032000.0            2.708228e+11             4.735230e+03  \n",
       "3     58042000.0            2.721330e+11             4.687209e+03  \n",
       "4     58002000.0            2.200170e+11             3.729334e+03  \n",
       "..           ...                     ...                      ...  \n",
       "195        624.0            1.610391e+11             2.616515e+08  \n",
       "196        627.0            1.663204e+11             2.660830e+08  \n",
       "197        631.0            2.592919e+11             3.998507e+08  \n",
       "198        679.0            4.851964e+11             6.910409e+08  \n",
       "199        689.0            1.224128e+11             1.790804e+08  \n",
       "\n",
       "[600 rows x 8 columns]"
      ]
     },
     "execution_count": 245,
     "metadata": {},
     "output_type": "execute_result"
    }
   ],
   "source": [
    "my_df"
   ]
  },
  {
   "cell_type": "code",
   "execution_count": 246,
   "id": "0d758dbf",
   "metadata": {
    "scrolled": true
   },
   "outputs": [
    {
     "name": "stdout",
     "output_type": "stream",
     "text": [
      "Help on function iplot in module plotly.offline.offline:\n",
      "\n",
      "iplot(figure_or_data, show_link=False, link_text='Export to plot.ly', validate=True, image=None, filename='plot_image', image_width=800, image_height=600, config=None, auto_play=True, animation_opts=None)\n",
      "    Draw plotly graphs inside an IPython or Jupyter notebook\n",
      "    \n",
      "    figure_or_data -- a plotly.graph_objs.Figure or plotly.graph_objs.Data or\n",
      "                      dict or list that describes a Plotly graph.\n",
      "                      See https://plot.ly/python/ for examples of\n",
      "                      graph descriptions.\n",
      "    \n",
      "    Keyword arguments:\n",
      "    show_link (default=False) -- display a link in the bottom-right corner of\n",
      "                                of the chart that will export the chart to\n",
      "                                Plotly Cloud or Plotly Enterprise\n",
      "    link_text (default='Export to plot.ly') -- the text of export link\n",
      "    validate (default=True) -- validate that all of the keys in the figure\n",
      "                               are valid? omit if your version of plotly.js\n",
      "                               has become outdated with your version of\n",
      "                               graph_reference.json or if you need to include\n",
      "                               extra, unnecessary keys in your figure.\n",
      "    image (default=None |'png' |'jpeg' |'svg' |'webp') -- This parameter sets\n",
      "        the format of the image to be downloaded, if we choose to download an\n",
      "        image. This parameter has a default value of None indicating that no\n",
      "        image should be downloaded. Please note: for higher resolution images\n",
      "        and more export options, consider using plotly.io.write_image. See\n",
      "        https://plot.ly/python/static-image-export/ for more details.\n",
      "    filename (default='plot') -- Sets the name of the file your image\n",
      "        will be saved to. The extension should not be included.\n",
      "    image_height (default=600) -- Specifies the height of the image in `px`.\n",
      "    image_width (default=800) -- Specifies the width of the image in `px`.\n",
      "    config (default=None) -- Plot view options dictionary. Keyword arguments\n",
      "        `show_link` and `link_text` set the associated options in this\n",
      "        dictionary if it doesn't contain them already.\n",
      "    auto_play (default=True) -- Whether to automatically start the animation\n",
      "        sequence on page load, if the figure contains frames. Has no effect if\n",
      "        the figure does not contain frames.\n",
      "    animation_opts (default=None) -- Dict of custom animation parameters that\n",
      "        are used for the automatically started animation on page load. This\n",
      "        dict is passed to the function Plotly.animate in Plotly.js. See\n",
      "        https://github.com/plotly/plotly.js/blob/master/src/plots/animation_attributes.js\n",
      "        for available options. Has no effect if the figure\n",
      "        does not contain frames, or auto_play is False.\n",
      "    \n",
      "    Example:\n",
      "    ```\n",
      "    from plotly.offline import init_notebook_mode, iplot\n",
      "    init_notebook_mode()\n",
      "    iplot([{'x': [1, 2, 3], 'y': [5, 2, 7]}])\n",
      "    # We can also download an image of the plot by setting the image to the\n",
      "    format you want. e.g. `image='png'`\n",
      "    iplot([{'x': [1, 2, 3], 'y': [5, 2, 7]}], image='png')\n",
      "    ```\n",
      "    \n",
      "    animation_opts Example:\n",
      "    ```\n",
      "    from plotly.offline import iplot\n",
      "    figure = {'data': [{'x': [0, 1], 'y': [0, 1]}],\n",
      "              'layout': {'xaxis': {'range': [0, 5], 'autorange': False},\n",
      "                         'yaxis': {'range': [0, 5], 'autorange': False},\n",
      "                         'title': 'Start Title'},\n",
      "              'frames': [{'data': [{'x': [1, 2], 'y': [1, 2]}]},\n",
      "                         {'data': [{'x': [1, 4], 'y': [1, 4]}]},\n",
      "                         {'data': [{'x': [3, 4], 'y': [3, 4]}],\n",
      "                          'layout': {'title': 'End Title'}}]}\n",
      "    iplot(figure, animation_opts={'frame': {'duration': 1}})\n",
      "    ```\n",
      "\n"
     ]
    }
   ],
   "source": [
    "help(plotly.offline.iplot)"
   ]
  },
  {
   "cell_type": "code",
   "execution_count": 247,
   "id": "0ffca637",
   "metadata": {},
   "outputs": [],
   "source": [
    "import plotly.express as px"
   ]
  },
  {
   "cell_type": "code",
   "execution_count": 249,
   "id": "687663bd",
   "metadata": {},
   "outputs": [
    {
     "data": {
      "application/vnd.plotly.v1+json": {
       "config": {
        "linkText": "Export to plot.ly",
        "plotlyServerURL": "https://plot.ly",
        "showLink": false
       },
       "data": [
        {
         "type": "scatter",
         "x": [
          1,
          2,
          3,
          4
         ],
         "y": [
          4,
          3,
          2,
          1
         ]
        }
       ],
       "layout": {
        "template": {
         "data": {
          "bar": [
           {
            "error_x": {
             "color": "#2a3f5f"
            },
            "error_y": {
             "color": "#2a3f5f"
            },
            "marker": {
             "line": {
              "color": "#E5ECF6",
              "width": 0.5
             },
             "pattern": {
              "fillmode": "overlay",
              "size": 10,
              "solidity": 0.2
             }
            },
            "type": "bar"
           }
          ],
          "barpolar": [
           {
            "marker": {
             "line": {
              "color": "#E5ECF6",
              "width": 0.5
             },
             "pattern": {
              "fillmode": "overlay",
              "size": 10,
              "solidity": 0.2
             }
            },
            "type": "barpolar"
           }
          ],
          "carpet": [
           {
            "aaxis": {
             "endlinecolor": "#2a3f5f",
             "gridcolor": "white",
             "linecolor": "white",
             "minorgridcolor": "white",
             "startlinecolor": "#2a3f5f"
            },
            "baxis": {
             "endlinecolor": "#2a3f5f",
             "gridcolor": "white",
             "linecolor": "white",
             "minorgridcolor": "white",
             "startlinecolor": "#2a3f5f"
            },
            "type": "carpet"
           }
          ],
          "choropleth": [
           {
            "colorbar": {
             "outlinewidth": 0,
             "ticks": ""
            },
            "type": "choropleth"
           }
          ],
          "contour": [
           {
            "colorbar": {
             "outlinewidth": 0,
             "ticks": ""
            },
            "colorscale": [
             [
              0,
              "#0d0887"
             ],
             [
              0.1111111111111111,
              "#46039f"
             ],
             [
              0.2222222222222222,
              "#7201a8"
             ],
             [
              0.3333333333333333,
              "#9c179e"
             ],
             [
              0.4444444444444444,
              "#bd3786"
             ],
             [
              0.5555555555555556,
              "#d8576b"
             ],
             [
              0.6666666666666666,
              "#ed7953"
             ],
             [
              0.7777777777777778,
              "#fb9f3a"
             ],
             [
              0.8888888888888888,
              "#fdca26"
             ],
             [
              1,
              "#f0f921"
             ]
            ],
            "type": "contour"
           }
          ],
          "contourcarpet": [
           {
            "colorbar": {
             "outlinewidth": 0,
             "ticks": ""
            },
            "type": "contourcarpet"
           }
          ],
          "heatmap": [
           {
            "colorbar": {
             "outlinewidth": 0,
             "ticks": ""
            },
            "colorscale": [
             [
              0,
              "#0d0887"
             ],
             [
              0.1111111111111111,
              "#46039f"
             ],
             [
              0.2222222222222222,
              "#7201a8"
             ],
             [
              0.3333333333333333,
              "#9c179e"
             ],
             [
              0.4444444444444444,
              "#bd3786"
             ],
             [
              0.5555555555555556,
              "#d8576b"
             ],
             [
              0.6666666666666666,
              "#ed7953"
             ],
             [
              0.7777777777777778,
              "#fb9f3a"
             ],
             [
              0.8888888888888888,
              "#fdca26"
             ],
             [
              1,
              "#f0f921"
             ]
            ],
            "type": "heatmap"
           }
          ],
          "heatmapgl": [
           {
            "colorbar": {
             "outlinewidth": 0,
             "ticks": ""
            },
            "colorscale": [
             [
              0,
              "#0d0887"
             ],
             [
              0.1111111111111111,
              "#46039f"
             ],
             [
              0.2222222222222222,
              "#7201a8"
             ],
             [
              0.3333333333333333,
              "#9c179e"
             ],
             [
              0.4444444444444444,
              "#bd3786"
             ],
             [
              0.5555555555555556,
              "#d8576b"
             ],
             [
              0.6666666666666666,
              "#ed7953"
             ],
             [
              0.7777777777777778,
              "#fb9f3a"
             ],
             [
              0.8888888888888888,
              "#fdca26"
             ],
             [
              1,
              "#f0f921"
             ]
            ],
            "type": "heatmapgl"
           }
          ],
          "histogram": [
           {
            "marker": {
             "pattern": {
              "fillmode": "overlay",
              "size": 10,
              "solidity": 0.2
             }
            },
            "type": "histogram"
           }
          ],
          "histogram2d": [
           {
            "colorbar": {
             "outlinewidth": 0,
             "ticks": ""
            },
            "colorscale": [
             [
              0,
              "#0d0887"
             ],
             [
              0.1111111111111111,
              "#46039f"
             ],
             [
              0.2222222222222222,
              "#7201a8"
             ],
             [
              0.3333333333333333,
              "#9c179e"
             ],
             [
              0.4444444444444444,
              "#bd3786"
             ],
             [
              0.5555555555555556,
              "#d8576b"
             ],
             [
              0.6666666666666666,
              "#ed7953"
             ],
             [
              0.7777777777777778,
              "#fb9f3a"
             ],
             [
              0.8888888888888888,
              "#fdca26"
             ],
             [
              1,
              "#f0f921"
             ]
            ],
            "type": "histogram2d"
           }
          ],
          "histogram2dcontour": [
           {
            "colorbar": {
             "outlinewidth": 0,
             "ticks": ""
            },
            "colorscale": [
             [
              0,
              "#0d0887"
             ],
             [
              0.1111111111111111,
              "#46039f"
             ],
             [
              0.2222222222222222,
              "#7201a8"
             ],
             [
              0.3333333333333333,
              "#9c179e"
             ],
             [
              0.4444444444444444,
              "#bd3786"
             ],
             [
              0.5555555555555556,
              "#d8576b"
             ],
             [
              0.6666666666666666,
              "#ed7953"
             ],
             [
              0.7777777777777778,
              "#fb9f3a"
             ],
             [
              0.8888888888888888,
              "#fdca26"
             ],
             [
              1,
              "#f0f921"
             ]
            ],
            "type": "histogram2dcontour"
           }
          ],
          "mesh3d": [
           {
            "colorbar": {
             "outlinewidth": 0,
             "ticks": ""
            },
            "type": "mesh3d"
           }
          ],
          "parcoords": [
           {
            "line": {
             "colorbar": {
              "outlinewidth": 0,
              "ticks": ""
             }
            },
            "type": "parcoords"
           }
          ],
          "pie": [
           {
            "automargin": true,
            "type": "pie"
           }
          ],
          "scatter": [
           {
            "fillpattern": {
             "fillmode": "overlay",
             "size": 10,
             "solidity": 0.2
            },
            "type": "scatter"
           }
          ],
          "scatter3d": [
           {
            "line": {
             "colorbar": {
              "outlinewidth": 0,
              "ticks": ""
             }
            },
            "marker": {
             "colorbar": {
              "outlinewidth": 0,
              "ticks": ""
             }
            },
            "type": "scatter3d"
           }
          ],
          "scattercarpet": [
           {
            "marker": {
             "colorbar": {
              "outlinewidth": 0,
              "ticks": ""
             }
            },
            "type": "scattercarpet"
           }
          ],
          "scattergeo": [
           {
            "marker": {
             "colorbar": {
              "outlinewidth": 0,
              "ticks": ""
             }
            },
            "type": "scattergeo"
           }
          ],
          "scattergl": [
           {
            "marker": {
             "colorbar": {
              "outlinewidth": 0,
              "ticks": ""
             }
            },
            "type": "scattergl"
           }
          ],
          "scattermapbox": [
           {
            "marker": {
             "colorbar": {
              "outlinewidth": 0,
              "ticks": ""
             }
            },
            "type": "scattermapbox"
           }
          ],
          "scatterpolar": [
           {
            "marker": {
             "colorbar": {
              "outlinewidth": 0,
              "ticks": ""
             }
            },
            "type": "scatterpolar"
           }
          ],
          "scatterpolargl": [
           {
            "marker": {
             "colorbar": {
              "outlinewidth": 0,
              "ticks": ""
             }
            },
            "type": "scatterpolargl"
           }
          ],
          "scatterternary": [
           {
            "marker": {
             "colorbar": {
              "outlinewidth": 0,
              "ticks": ""
             }
            },
            "type": "scatterternary"
           }
          ],
          "surface": [
           {
            "colorbar": {
             "outlinewidth": 0,
             "ticks": ""
            },
            "colorscale": [
             [
              0,
              "#0d0887"
             ],
             [
              0.1111111111111111,
              "#46039f"
             ],
             [
              0.2222222222222222,
              "#7201a8"
             ],
             [
              0.3333333333333333,
              "#9c179e"
             ],
             [
              0.4444444444444444,
              "#bd3786"
             ],
             [
              0.5555555555555556,
              "#d8576b"
             ],
             [
              0.6666666666666666,
              "#ed7953"
             ],
             [
              0.7777777777777778,
              "#fb9f3a"
             ],
             [
              0.8888888888888888,
              "#fdca26"
             ],
             [
              1,
              "#f0f921"
             ]
            ],
            "type": "surface"
           }
          ],
          "table": [
           {
            "cells": {
             "fill": {
              "color": "#EBF0F8"
             },
             "line": {
              "color": "white"
             }
            },
            "header": {
             "fill": {
              "color": "#C8D4E3"
             },
             "line": {
              "color": "white"
             }
            },
            "type": "table"
           }
          ]
         },
         "layout": {
          "annotationdefaults": {
           "arrowcolor": "#2a3f5f",
           "arrowhead": 0,
           "arrowwidth": 1
          },
          "autotypenumbers": "strict",
          "coloraxis": {
           "colorbar": {
            "outlinewidth": 0,
            "ticks": ""
           }
          },
          "colorscale": {
           "diverging": [
            [
             0,
             "#8e0152"
            ],
            [
             0.1,
             "#c51b7d"
            ],
            [
             0.2,
             "#de77ae"
            ],
            [
             0.3,
             "#f1b6da"
            ],
            [
             0.4,
             "#fde0ef"
            ],
            [
             0.5,
             "#f7f7f7"
            ],
            [
             0.6,
             "#e6f5d0"
            ],
            [
             0.7,
             "#b8e186"
            ],
            [
             0.8,
             "#7fbc41"
            ],
            [
             0.9,
             "#4d9221"
            ],
            [
             1,
             "#276419"
            ]
           ],
           "sequential": [
            [
             0,
             "#0d0887"
            ],
            [
             0.1111111111111111,
             "#46039f"
            ],
            [
             0.2222222222222222,
             "#7201a8"
            ],
            [
             0.3333333333333333,
             "#9c179e"
            ],
            [
             0.4444444444444444,
             "#bd3786"
            ],
            [
             0.5555555555555556,
             "#d8576b"
            ],
            [
             0.6666666666666666,
             "#ed7953"
            ],
            [
             0.7777777777777778,
             "#fb9f3a"
            ],
            [
             0.8888888888888888,
             "#fdca26"
            ],
            [
             1,
             "#f0f921"
            ]
           ],
           "sequentialminus": [
            [
             0,
             "#0d0887"
            ],
            [
             0.1111111111111111,
             "#46039f"
            ],
            [
             0.2222222222222222,
             "#7201a8"
            ],
            [
             0.3333333333333333,
             "#9c179e"
            ],
            [
             0.4444444444444444,
             "#bd3786"
            ],
            [
             0.5555555555555556,
             "#d8576b"
            ],
            [
             0.6666666666666666,
             "#ed7953"
            ],
            [
             0.7777777777777778,
             "#fb9f3a"
            ],
            [
             0.8888888888888888,
             "#fdca26"
            ],
            [
             1,
             "#f0f921"
            ]
           ]
          },
          "colorway": [
           "#636efa",
           "#EF553B",
           "#00cc96",
           "#ab63fa",
           "#FFA15A",
           "#19d3f3",
           "#FF6692",
           "#B6E880",
           "#FF97FF",
           "#FECB52"
          ],
          "font": {
           "color": "#2a3f5f"
          },
          "geo": {
           "bgcolor": "white",
           "lakecolor": "white",
           "landcolor": "#E5ECF6",
           "showlakes": true,
           "showland": true,
           "subunitcolor": "white"
          },
          "hoverlabel": {
           "align": "left"
          },
          "hovermode": "closest",
          "mapbox": {
           "style": "light"
          },
          "paper_bgcolor": "white",
          "plot_bgcolor": "#E5ECF6",
          "polar": {
           "angularaxis": {
            "gridcolor": "white",
            "linecolor": "white",
            "ticks": ""
           },
           "bgcolor": "#E5ECF6",
           "radialaxis": {
            "gridcolor": "white",
            "linecolor": "white",
            "ticks": ""
           }
          },
          "scene": {
           "xaxis": {
            "backgroundcolor": "#E5ECF6",
            "gridcolor": "white",
            "gridwidth": 2,
            "linecolor": "white",
            "showbackground": true,
            "ticks": "",
            "zerolinecolor": "white"
           },
           "yaxis": {
            "backgroundcolor": "#E5ECF6",
            "gridcolor": "white",
            "gridwidth": 2,
            "linecolor": "white",
            "showbackground": true,
            "ticks": "",
            "zerolinecolor": "white"
           },
           "zaxis": {
            "backgroundcolor": "#E5ECF6",
            "gridcolor": "white",
            "gridwidth": 2,
            "linecolor": "white",
            "showbackground": true,
            "ticks": "",
            "zerolinecolor": "white"
           }
          },
          "shapedefaults": {
           "line": {
            "color": "#2a3f5f"
           }
          },
          "ternary": {
           "aaxis": {
            "gridcolor": "white",
            "linecolor": "white",
            "ticks": ""
           },
           "baxis": {
            "gridcolor": "white",
            "linecolor": "white",
            "ticks": ""
           },
           "bgcolor": "#E5ECF6",
           "caxis": {
            "gridcolor": "white",
            "linecolor": "white",
            "ticks": ""
           }
          },
          "title": {
           "x": 0.05
          },
          "xaxis": {
           "automargin": true,
           "gridcolor": "white",
           "linecolor": "white",
           "ticks": "",
           "title": {
            "standoff": 15
           },
           "zerolinecolor": "white",
           "zerolinewidth": 2
          },
          "yaxis": {
           "automargin": true,
           "gridcolor": "white",
           "linecolor": "white",
           "ticks": "",
           "title": {
            "standoff": 15
           },
           "zerolinecolor": "white",
           "zerolinewidth": 2
          }
         }
        },
        "title": {
         "text": "hello world"
        }
       }
      },
      "text/html": [
       "<div>                            <div id=\"04408d8b-9ee9-4121-bd73-1b2c66cb882a\" class=\"plotly-graph-div\" style=\"height:525px; width:100%;\"></div>            <script type=\"text/javascript\">                require([\"plotly\"], function(Plotly) {                    window.PLOTLYENV=window.PLOTLYENV || {};                                    if (document.getElementById(\"04408d8b-9ee9-4121-bd73-1b2c66cb882a\")) {                    Plotly.newPlot(                        \"04408d8b-9ee9-4121-bd73-1b2c66cb882a\",                        [{\"x\":[1,2,3,4],\"y\":[4,3,2,1],\"type\":\"scatter\"}],                        {\"template\":{\"data\":{\"barpolar\":[{\"marker\":{\"line\":{\"color\":\"#E5ECF6\",\"width\":0.5},\"pattern\":{\"fillmode\":\"overlay\",\"size\":10,\"solidity\":0.2}},\"type\":\"barpolar\"}],\"bar\":[{\"error_x\":{\"color\":\"#2a3f5f\"},\"error_y\":{\"color\":\"#2a3f5f\"},\"marker\":{\"line\":{\"color\":\"#E5ECF6\",\"width\":0.5},\"pattern\":{\"fillmode\":\"overlay\",\"size\":10,\"solidity\":0.2}},\"type\":\"bar\"}],\"carpet\":[{\"aaxis\":{\"endlinecolor\":\"#2a3f5f\",\"gridcolor\":\"white\",\"linecolor\":\"white\",\"minorgridcolor\":\"white\",\"startlinecolor\":\"#2a3f5f\"},\"baxis\":{\"endlinecolor\":\"#2a3f5f\",\"gridcolor\":\"white\",\"linecolor\":\"white\",\"minorgridcolor\":\"white\",\"startlinecolor\":\"#2a3f5f\"},\"type\":\"carpet\"}],\"choropleth\":[{\"colorbar\":{\"outlinewidth\":0,\"ticks\":\"\"},\"type\":\"choropleth\"}],\"contourcarpet\":[{\"colorbar\":{\"outlinewidth\":0,\"ticks\":\"\"},\"type\":\"contourcarpet\"}],\"contour\":[{\"colorbar\":{\"outlinewidth\":0,\"ticks\":\"\"},\"colorscale\":[[0.0,\"#0d0887\"],[0.1111111111111111,\"#46039f\"],[0.2222222222222222,\"#7201a8\"],[0.3333333333333333,\"#9c179e\"],[0.4444444444444444,\"#bd3786\"],[0.5555555555555556,\"#d8576b\"],[0.6666666666666666,\"#ed7953\"],[0.7777777777777778,\"#fb9f3a\"],[0.8888888888888888,\"#fdca26\"],[1.0,\"#f0f921\"]],\"type\":\"contour\"}],\"heatmapgl\":[{\"colorbar\":{\"outlinewidth\":0,\"ticks\":\"\"},\"colorscale\":[[0.0,\"#0d0887\"],[0.1111111111111111,\"#46039f\"],[0.2222222222222222,\"#7201a8\"],[0.3333333333333333,\"#9c179e\"],[0.4444444444444444,\"#bd3786\"],[0.5555555555555556,\"#d8576b\"],[0.6666666666666666,\"#ed7953\"],[0.7777777777777778,\"#fb9f3a\"],[0.8888888888888888,\"#fdca26\"],[1.0,\"#f0f921\"]],\"type\":\"heatmapgl\"}],\"heatmap\":[{\"colorbar\":{\"outlinewidth\":0,\"ticks\":\"\"},\"colorscale\":[[0.0,\"#0d0887\"],[0.1111111111111111,\"#46039f\"],[0.2222222222222222,\"#7201a8\"],[0.3333333333333333,\"#9c179e\"],[0.4444444444444444,\"#bd3786\"],[0.5555555555555556,\"#d8576b\"],[0.6666666666666666,\"#ed7953\"],[0.7777777777777778,\"#fb9f3a\"],[0.8888888888888888,\"#fdca26\"],[1.0,\"#f0f921\"]],\"type\":\"heatmap\"}],\"histogram2dcontour\":[{\"colorbar\":{\"outlinewidth\":0,\"ticks\":\"\"},\"colorscale\":[[0.0,\"#0d0887\"],[0.1111111111111111,\"#46039f\"],[0.2222222222222222,\"#7201a8\"],[0.3333333333333333,\"#9c179e\"],[0.4444444444444444,\"#bd3786\"],[0.5555555555555556,\"#d8576b\"],[0.6666666666666666,\"#ed7953\"],[0.7777777777777778,\"#fb9f3a\"],[0.8888888888888888,\"#fdca26\"],[1.0,\"#f0f921\"]],\"type\":\"histogram2dcontour\"}],\"histogram2d\":[{\"colorbar\":{\"outlinewidth\":0,\"ticks\":\"\"},\"colorscale\":[[0.0,\"#0d0887\"],[0.1111111111111111,\"#46039f\"],[0.2222222222222222,\"#7201a8\"],[0.3333333333333333,\"#9c179e\"],[0.4444444444444444,\"#bd3786\"],[0.5555555555555556,\"#d8576b\"],[0.6666666666666666,\"#ed7953\"],[0.7777777777777778,\"#fb9f3a\"],[0.8888888888888888,\"#fdca26\"],[1.0,\"#f0f921\"]],\"type\":\"histogram2d\"}],\"histogram\":[{\"marker\":{\"pattern\":{\"fillmode\":\"overlay\",\"size\":10,\"solidity\":0.2}},\"type\":\"histogram\"}],\"mesh3d\":[{\"colorbar\":{\"outlinewidth\":0,\"ticks\":\"\"},\"type\":\"mesh3d\"}],\"parcoords\":[{\"line\":{\"colorbar\":{\"outlinewidth\":0,\"ticks\":\"\"}},\"type\":\"parcoords\"}],\"pie\":[{\"automargin\":true,\"type\":\"pie\"}],\"scatter3d\":[{\"line\":{\"colorbar\":{\"outlinewidth\":0,\"ticks\":\"\"}},\"marker\":{\"colorbar\":{\"outlinewidth\":0,\"ticks\":\"\"}},\"type\":\"scatter3d\"}],\"scattercarpet\":[{\"marker\":{\"colorbar\":{\"outlinewidth\":0,\"ticks\":\"\"}},\"type\":\"scattercarpet\"}],\"scattergeo\":[{\"marker\":{\"colorbar\":{\"outlinewidth\":0,\"ticks\":\"\"}},\"type\":\"scattergeo\"}],\"scattergl\":[{\"marker\":{\"colorbar\":{\"outlinewidth\":0,\"ticks\":\"\"}},\"type\":\"scattergl\"}],\"scattermapbox\":[{\"marker\":{\"colorbar\":{\"outlinewidth\":0,\"ticks\":\"\"}},\"type\":\"scattermapbox\"}],\"scatterpolargl\":[{\"marker\":{\"colorbar\":{\"outlinewidth\":0,\"ticks\":\"\"}},\"type\":\"scatterpolargl\"}],\"scatterpolar\":[{\"marker\":{\"colorbar\":{\"outlinewidth\":0,\"ticks\":\"\"}},\"type\":\"scatterpolar\"}],\"scatter\":[{\"fillpattern\":{\"fillmode\":\"overlay\",\"size\":10,\"solidity\":0.2},\"type\":\"scatter\"}],\"scatterternary\":[{\"marker\":{\"colorbar\":{\"outlinewidth\":0,\"ticks\":\"\"}},\"type\":\"scatterternary\"}],\"surface\":[{\"colorbar\":{\"outlinewidth\":0,\"ticks\":\"\"},\"colorscale\":[[0.0,\"#0d0887\"],[0.1111111111111111,\"#46039f\"],[0.2222222222222222,\"#7201a8\"],[0.3333333333333333,\"#9c179e\"],[0.4444444444444444,\"#bd3786\"],[0.5555555555555556,\"#d8576b\"],[0.6666666666666666,\"#ed7953\"],[0.7777777777777778,\"#fb9f3a\"],[0.8888888888888888,\"#fdca26\"],[1.0,\"#f0f921\"]],\"type\":\"surface\"}],\"table\":[{\"cells\":{\"fill\":{\"color\":\"#EBF0F8\"},\"line\":{\"color\":\"white\"}},\"header\":{\"fill\":{\"color\":\"#C8D4E3\"},\"line\":{\"color\":\"white\"}},\"type\":\"table\"}]},\"layout\":{\"annotationdefaults\":{\"arrowcolor\":\"#2a3f5f\",\"arrowhead\":0,\"arrowwidth\":1},\"autotypenumbers\":\"strict\",\"coloraxis\":{\"colorbar\":{\"outlinewidth\":0,\"ticks\":\"\"}},\"colorscale\":{\"diverging\":[[0,\"#8e0152\"],[0.1,\"#c51b7d\"],[0.2,\"#de77ae\"],[0.3,\"#f1b6da\"],[0.4,\"#fde0ef\"],[0.5,\"#f7f7f7\"],[0.6,\"#e6f5d0\"],[0.7,\"#b8e186\"],[0.8,\"#7fbc41\"],[0.9,\"#4d9221\"],[1,\"#276419\"]],\"sequential\":[[0.0,\"#0d0887\"],[0.1111111111111111,\"#46039f\"],[0.2222222222222222,\"#7201a8\"],[0.3333333333333333,\"#9c179e\"],[0.4444444444444444,\"#bd3786\"],[0.5555555555555556,\"#d8576b\"],[0.6666666666666666,\"#ed7953\"],[0.7777777777777778,\"#fb9f3a\"],[0.8888888888888888,\"#fdca26\"],[1.0,\"#f0f921\"]],\"sequentialminus\":[[0.0,\"#0d0887\"],[0.1111111111111111,\"#46039f\"],[0.2222222222222222,\"#7201a8\"],[0.3333333333333333,\"#9c179e\"],[0.4444444444444444,\"#bd3786\"],[0.5555555555555556,\"#d8576b\"],[0.6666666666666666,\"#ed7953\"],[0.7777777777777778,\"#fb9f3a\"],[0.8888888888888888,\"#fdca26\"],[1.0,\"#f0f921\"]]},\"colorway\":[\"#636efa\",\"#EF553B\",\"#00cc96\",\"#ab63fa\",\"#FFA15A\",\"#19d3f3\",\"#FF6692\",\"#B6E880\",\"#FF97FF\",\"#FECB52\"],\"font\":{\"color\":\"#2a3f5f\"},\"geo\":{\"bgcolor\":\"white\",\"lakecolor\":\"white\",\"landcolor\":\"#E5ECF6\",\"showlakes\":true,\"showland\":true,\"subunitcolor\":\"white\"},\"hoverlabel\":{\"align\":\"left\"},\"hovermode\":\"closest\",\"mapbox\":{\"style\":\"light\"},\"paper_bgcolor\":\"white\",\"plot_bgcolor\":\"#E5ECF6\",\"polar\":{\"angularaxis\":{\"gridcolor\":\"white\",\"linecolor\":\"white\",\"ticks\":\"\"},\"bgcolor\":\"#E5ECF6\",\"radialaxis\":{\"gridcolor\":\"white\",\"linecolor\":\"white\",\"ticks\":\"\"}},\"scene\":{\"xaxis\":{\"backgroundcolor\":\"#E5ECF6\",\"gridcolor\":\"white\",\"gridwidth\":2,\"linecolor\":\"white\",\"showbackground\":true,\"ticks\":\"\",\"zerolinecolor\":\"white\"},\"yaxis\":{\"backgroundcolor\":\"#E5ECF6\",\"gridcolor\":\"white\",\"gridwidth\":2,\"linecolor\":\"white\",\"showbackground\":true,\"ticks\":\"\",\"zerolinecolor\":\"white\"},\"zaxis\":{\"backgroundcolor\":\"#E5ECF6\",\"gridcolor\":\"white\",\"gridwidth\":2,\"linecolor\":\"white\",\"showbackground\":true,\"ticks\":\"\",\"zerolinecolor\":\"white\"}},\"shapedefaults\":{\"line\":{\"color\":\"#2a3f5f\"}},\"ternary\":{\"aaxis\":{\"gridcolor\":\"white\",\"linecolor\":\"white\",\"ticks\":\"\"},\"baxis\":{\"gridcolor\":\"white\",\"linecolor\":\"white\",\"ticks\":\"\"},\"bgcolor\":\"#E5ECF6\",\"caxis\":{\"gridcolor\":\"white\",\"linecolor\":\"white\",\"ticks\":\"\"}},\"title\":{\"x\":0.05},\"xaxis\":{\"automargin\":true,\"gridcolor\":\"white\",\"linecolor\":\"white\",\"ticks\":\"\",\"title\":{\"standoff\":15},\"zerolinecolor\":\"white\",\"zerolinewidth\":2},\"yaxis\":{\"automargin\":true,\"gridcolor\":\"white\",\"linecolor\":\"white\",\"ticks\":\"\",\"title\":{\"standoff\":15},\"zerolinecolor\":\"white\",\"zerolinewidth\":2}}},\"title\":{\"text\":\"hello world\"}},                        {\"responsive\": true}                    ).then(function(){\n",
       "                            \n",
       "var gd = document.getElementById('04408d8b-9ee9-4121-bd73-1b2c66cb882a');\n",
       "var x = new MutationObserver(function (mutations, observer) {{\n",
       "        var display = window.getComputedStyle(gd).display;\n",
       "        if (!display || display === 'none') {{\n",
       "            console.log([gd, 'removed!']);\n",
       "            Plotly.purge(gd);\n",
       "            observer.disconnect();\n",
       "        }}\n",
       "}});\n",
       "\n",
       "// Listen for the removal of the full notebook cells\n",
       "var notebookContainer = gd.closest('#notebook-container');\n",
       "if (notebookContainer) {{\n",
       "    x.observe(notebookContainer, {childList: true});\n",
       "}}\n",
       "\n",
       "// Listen for the clearing of the current output cell\n",
       "var outputEl = gd.closest('.output');\n",
       "if (outputEl) {{\n",
       "    x.observe(outputEl, {childList: true});\n",
       "}}\n",
       "\n",
       "                        })                };                });            </script>        </div>"
      ]
     },
     "metadata": {},
     "output_type": "display_data"
    }
   ],
   "source": [
    "plotly.offline.iplot({\n",
    "    \"data\" : [go.Scatter(x = [1, 2, 3, 4], y = [4, 3, 2, 1])],\n",
    "    \"layout\" : go.Layout(title = \"hello world\")\n",
    "})"
   ]
  },
  {
   "cell_type": "code",
   "execution_count": 250,
   "id": "f105d00c",
   "metadata": {
    "scrolled": true
   },
   "outputs": [
    {
     "data": {
      "application/vnd.plotly.v1+json": {
       "config": {
        "plotlyServerURL": "https://plot.ly"
       },
       "data": [
        {
         "hovertemplate": "candle_date_time_kst=%{x}<br>trade_price=%{y}<extra></extra>",
         "legendgroup": "",
         "marker": {
          "color": "#636efa",
          "symbol": "circle"
         },
         "mode": "markers",
         "name": "",
         "orientation": "v",
         "showlegend": false,
         "type": "scatter",
         "x": [
          "2023-12-28",
          "2023-12-27",
          "2023-12-26",
          "2023-12-25",
          "2023-12-24",
          "2023-12-23",
          "2023-12-22",
          "2023-12-21",
          "2023-12-20",
          "2023-12-19",
          "2023-12-18",
          "2023-12-17",
          "2023-12-16",
          "2023-12-15",
          "2023-12-14",
          "2023-12-13",
          "2023-12-12",
          "2023-12-11",
          "2023-12-10",
          "2023-12-09",
          "2023-12-08",
          "2023-12-07",
          "2023-12-06",
          "2023-12-05",
          "2023-12-04",
          "2023-12-03",
          "2023-12-02",
          "2023-12-01",
          "2023-11-30",
          "2023-11-29",
          "2023-11-28",
          "2023-11-27",
          "2023-11-26",
          "2023-11-25",
          "2023-11-24",
          "2023-11-23",
          "2023-11-22",
          "2023-11-21",
          "2023-11-20",
          "2023-11-19",
          "2023-11-18",
          "2023-11-17",
          "2023-11-16",
          "2023-11-15",
          "2023-11-14",
          "2023-11-13",
          "2023-11-12",
          "2023-11-11",
          "2023-11-10",
          "2023-11-09",
          "2023-11-08",
          "2023-11-07",
          "2023-11-06",
          "2023-11-05",
          "2023-11-04",
          "2023-11-03",
          "2023-11-02",
          "2023-11-01",
          "2023-10-31",
          "2023-10-30",
          "2023-10-29",
          "2023-10-28",
          "2023-10-27",
          "2023-10-26",
          "2023-10-25",
          "2023-10-24",
          "2023-10-23",
          "2023-10-22",
          "2023-10-21",
          "2023-10-20",
          "2023-10-19",
          "2023-10-18",
          "2023-10-17",
          "2023-10-16",
          "2023-10-15",
          "2023-10-14",
          "2023-10-13",
          "2023-10-12",
          "2023-10-11",
          "2023-10-10",
          "2023-10-09",
          "2023-10-08",
          "2023-10-07",
          "2023-10-06",
          "2023-10-05",
          "2023-10-04",
          "2023-10-03",
          "2023-10-02",
          "2023-10-01",
          "2023-09-30",
          "2023-09-29",
          "2023-09-28",
          "2023-09-27",
          "2023-09-26",
          "2023-09-25",
          "2023-09-24",
          "2023-09-23",
          "2023-09-22",
          "2023-09-21",
          "2023-09-20",
          "2023-09-19",
          "2023-09-18",
          "2023-09-17",
          "2023-09-16",
          "2023-09-15",
          "2023-09-14",
          "2023-09-13",
          "2023-09-12",
          "2023-09-11",
          "2023-09-10",
          "2023-09-09",
          "2023-09-08",
          "2023-09-07",
          "2023-09-06",
          "2023-09-05",
          "2023-09-04",
          "2023-09-03",
          "2023-09-02",
          "2023-09-01",
          "2023-08-31",
          "2023-08-30",
          "2023-08-29",
          "2023-08-28",
          "2023-08-27",
          "2023-08-26",
          "2023-08-25",
          "2023-08-24",
          "2023-08-23",
          "2023-08-22",
          "2023-08-21",
          "2023-08-20",
          "2023-08-19",
          "2023-08-18",
          "2023-08-17",
          "2023-08-16",
          "2023-08-15",
          "2023-08-14",
          "2023-08-13",
          "2023-08-12",
          "2023-08-11",
          "2023-08-10",
          "2023-08-09",
          "2023-08-08",
          "2023-08-07",
          "2023-08-06",
          "2023-08-05",
          "2023-08-04",
          "2023-08-03",
          "2023-08-02",
          "2023-08-01",
          "2023-07-31",
          "2023-07-30",
          "2023-07-29",
          "2023-07-28",
          "2023-07-27",
          "2023-07-26",
          "2023-07-25",
          "2023-07-24",
          "2023-07-23",
          "2023-07-22",
          "2023-07-21",
          "2023-07-20",
          "2023-07-19",
          "2023-07-18",
          "2023-07-17",
          "2023-07-16",
          "2023-07-15",
          "2023-07-14",
          "2023-07-13",
          "2023-07-12",
          "2023-07-11",
          "2023-07-10",
          "2023-07-09",
          "2023-07-08",
          "2023-07-07",
          "2023-07-06",
          "2023-07-05",
          "2023-07-04",
          "2023-07-03",
          "2023-07-02",
          "2023-07-01",
          "2023-06-30",
          "2023-06-29",
          "2023-06-28",
          "2023-06-27",
          "2023-06-26",
          "2023-06-25",
          "2023-06-24",
          "2023-06-23",
          "2023-06-22",
          "2023-06-21",
          "2023-06-20",
          "2023-06-19",
          "2023-06-18",
          "2023-06-17",
          "2023-06-16",
          "2023-06-15",
          "2023-06-14",
          "2023-06-13",
          "2023-06-12"
         ],
         "xaxis": "x",
         "y": [
          57741000,
          57920000,
          57032000,
          58042000,
          58002000,
          59250000,
          59532000,
          59479000,
          59351000,
          57845000,
          58130000,
          56710000,
          57935000,
          58028000,
          58735000,
          59056000,
          57605000,
          56950000,
          59835000,
          60082000,
          60142000,
          59250000,
          60314000,
          60227000,
          56920000,
          53700000,
          52603000,
          51709000,
          50586000,
          50720000,
          50576000,
          50275000,
          50210000,
          50533000,
          50601000,
          49929000,
          50042000,
          48510000,
          50170000,
          49800000,
          49165000,
          49390000,
          48868000,
          50457000,
          47969000,
          49154000,
          49418000,
          49629000,
          50030000,
          49400000,
          47458000,
          47301000,
          46781000,
          47056000,
          47050000,
          46676000,
          47516000,
          48079000,
          47030000,
          46732000,
          46825000,
          46314000,
          45980000,
          46141000,
          46484000,
          45599000,
          44179000,
          40354000,
          40400000,
          40250000,
          39000000,
          38710000,
          38652000,
          38697000,
          37086000,
          36790000,
          36968000,
          36750000,
          36671000,
          37336000,
          37595000,
          37929000,
          37902000,
          37798000,
          37258000,
          37595000,
          37197000,
          37424000,
          37789000,
          36600000,
          36444000,
          36596000,
          35982000,
          35566000,
          35491000,
          35534000,
          35960000,
          35952000,
          36012000,
          36501000,
          36500000,
          36000000,
          35758000,
          35938000,
          35928000,
          35889000,
          35497000,
          35077000,
          34327000,
          35196000,
          35280000,
          35295000,
          35615000,
          35029000,
          35056000,
          35011000,
          35308000,
          35204000,
          35350000,
          35502000,
          37109000,
          37445000,
          35335000,
          35402000,
          35398000,
          35479000,
          35635000,
          35941000,
          35684000,
          35769000,
          35949000,
          36056000,
          35890000,
          36588000,
          39001000,
          39404000,
          39288000,
          39118000,
          39283000,
          39233000,
          39119000,
          39209000,
          39437000,
          38622000,
          38605000,
          38474000,
          38492000,
          38436000,
          38358000,
          38642000,
          37929000,
          37850000,
          37901000,
          37932000,
          37874000,
          37918000,
          37910000,
          37892000,
          38945000,
          38776000,
          38829000,
          38567000,
          38323000,
          38401000,
          38742000,
          38933000,
          38889000,
          39092000,
          40112000,
          39804000,
          40117000,
          40050000,
          39832000,
          40153000,
          40240000,
          39860000,
          40385000,
          40610000,
          41200000,
          40652000,
          40691000,
          40547000,
          40583000,
          40020000,
          40585000,
          40077000,
          40352000,
          40659000,
          40651000,
          39125000,
          39135000,
          36946000,
          35092000,
          34466000,
          34780000,
          34501000,
          33449000,
          33007000,
          33913000,
          34059000
         ],
         "yaxis": "y"
        }
       ],
       "layout": {
        "legend": {
         "tracegroupgap": 0
        },
        "margin": {
         "t": 60
        },
        "template": {
         "data": {
          "bar": [
           {
            "error_x": {
             "color": "#2a3f5f"
            },
            "error_y": {
             "color": "#2a3f5f"
            },
            "marker": {
             "line": {
              "color": "#E5ECF6",
              "width": 0.5
             },
             "pattern": {
              "fillmode": "overlay",
              "size": 10,
              "solidity": 0.2
             }
            },
            "type": "bar"
           }
          ],
          "barpolar": [
           {
            "marker": {
             "line": {
              "color": "#E5ECF6",
              "width": 0.5
             },
             "pattern": {
              "fillmode": "overlay",
              "size": 10,
              "solidity": 0.2
             }
            },
            "type": "barpolar"
           }
          ],
          "carpet": [
           {
            "aaxis": {
             "endlinecolor": "#2a3f5f",
             "gridcolor": "white",
             "linecolor": "white",
             "minorgridcolor": "white",
             "startlinecolor": "#2a3f5f"
            },
            "baxis": {
             "endlinecolor": "#2a3f5f",
             "gridcolor": "white",
             "linecolor": "white",
             "minorgridcolor": "white",
             "startlinecolor": "#2a3f5f"
            },
            "type": "carpet"
           }
          ],
          "choropleth": [
           {
            "colorbar": {
             "outlinewidth": 0,
             "ticks": ""
            },
            "type": "choropleth"
           }
          ],
          "contour": [
           {
            "colorbar": {
             "outlinewidth": 0,
             "ticks": ""
            },
            "colorscale": [
             [
              0,
              "#0d0887"
             ],
             [
              0.1111111111111111,
              "#46039f"
             ],
             [
              0.2222222222222222,
              "#7201a8"
             ],
             [
              0.3333333333333333,
              "#9c179e"
             ],
             [
              0.4444444444444444,
              "#bd3786"
             ],
             [
              0.5555555555555556,
              "#d8576b"
             ],
             [
              0.6666666666666666,
              "#ed7953"
             ],
             [
              0.7777777777777778,
              "#fb9f3a"
             ],
             [
              0.8888888888888888,
              "#fdca26"
             ],
             [
              1,
              "#f0f921"
             ]
            ],
            "type": "contour"
           }
          ],
          "contourcarpet": [
           {
            "colorbar": {
             "outlinewidth": 0,
             "ticks": ""
            },
            "type": "contourcarpet"
           }
          ],
          "heatmap": [
           {
            "colorbar": {
             "outlinewidth": 0,
             "ticks": ""
            },
            "colorscale": [
             [
              0,
              "#0d0887"
             ],
             [
              0.1111111111111111,
              "#46039f"
             ],
             [
              0.2222222222222222,
              "#7201a8"
             ],
             [
              0.3333333333333333,
              "#9c179e"
             ],
             [
              0.4444444444444444,
              "#bd3786"
             ],
             [
              0.5555555555555556,
              "#d8576b"
             ],
             [
              0.6666666666666666,
              "#ed7953"
             ],
             [
              0.7777777777777778,
              "#fb9f3a"
             ],
             [
              0.8888888888888888,
              "#fdca26"
             ],
             [
              1,
              "#f0f921"
             ]
            ],
            "type": "heatmap"
           }
          ],
          "heatmapgl": [
           {
            "colorbar": {
             "outlinewidth": 0,
             "ticks": ""
            },
            "colorscale": [
             [
              0,
              "#0d0887"
             ],
             [
              0.1111111111111111,
              "#46039f"
             ],
             [
              0.2222222222222222,
              "#7201a8"
             ],
             [
              0.3333333333333333,
              "#9c179e"
             ],
             [
              0.4444444444444444,
              "#bd3786"
             ],
             [
              0.5555555555555556,
              "#d8576b"
             ],
             [
              0.6666666666666666,
              "#ed7953"
             ],
             [
              0.7777777777777778,
              "#fb9f3a"
             ],
             [
              0.8888888888888888,
              "#fdca26"
             ],
             [
              1,
              "#f0f921"
             ]
            ],
            "type": "heatmapgl"
           }
          ],
          "histogram": [
           {
            "marker": {
             "pattern": {
              "fillmode": "overlay",
              "size": 10,
              "solidity": 0.2
             }
            },
            "type": "histogram"
           }
          ],
          "histogram2d": [
           {
            "colorbar": {
             "outlinewidth": 0,
             "ticks": ""
            },
            "colorscale": [
             [
              0,
              "#0d0887"
             ],
             [
              0.1111111111111111,
              "#46039f"
             ],
             [
              0.2222222222222222,
              "#7201a8"
             ],
             [
              0.3333333333333333,
              "#9c179e"
             ],
             [
              0.4444444444444444,
              "#bd3786"
             ],
             [
              0.5555555555555556,
              "#d8576b"
             ],
             [
              0.6666666666666666,
              "#ed7953"
             ],
             [
              0.7777777777777778,
              "#fb9f3a"
             ],
             [
              0.8888888888888888,
              "#fdca26"
             ],
             [
              1,
              "#f0f921"
             ]
            ],
            "type": "histogram2d"
           }
          ],
          "histogram2dcontour": [
           {
            "colorbar": {
             "outlinewidth": 0,
             "ticks": ""
            },
            "colorscale": [
             [
              0,
              "#0d0887"
             ],
             [
              0.1111111111111111,
              "#46039f"
             ],
             [
              0.2222222222222222,
              "#7201a8"
             ],
             [
              0.3333333333333333,
              "#9c179e"
             ],
             [
              0.4444444444444444,
              "#bd3786"
             ],
             [
              0.5555555555555556,
              "#d8576b"
             ],
             [
              0.6666666666666666,
              "#ed7953"
             ],
             [
              0.7777777777777778,
              "#fb9f3a"
             ],
             [
              0.8888888888888888,
              "#fdca26"
             ],
             [
              1,
              "#f0f921"
             ]
            ],
            "type": "histogram2dcontour"
           }
          ],
          "mesh3d": [
           {
            "colorbar": {
             "outlinewidth": 0,
             "ticks": ""
            },
            "type": "mesh3d"
           }
          ],
          "parcoords": [
           {
            "line": {
             "colorbar": {
              "outlinewidth": 0,
              "ticks": ""
             }
            },
            "type": "parcoords"
           }
          ],
          "pie": [
           {
            "automargin": true,
            "type": "pie"
           }
          ],
          "scatter": [
           {
            "fillpattern": {
             "fillmode": "overlay",
             "size": 10,
             "solidity": 0.2
            },
            "type": "scatter"
           }
          ],
          "scatter3d": [
           {
            "line": {
             "colorbar": {
              "outlinewidth": 0,
              "ticks": ""
             }
            },
            "marker": {
             "colorbar": {
              "outlinewidth": 0,
              "ticks": ""
             }
            },
            "type": "scatter3d"
           }
          ],
          "scattercarpet": [
           {
            "marker": {
             "colorbar": {
              "outlinewidth": 0,
              "ticks": ""
             }
            },
            "type": "scattercarpet"
           }
          ],
          "scattergeo": [
           {
            "marker": {
             "colorbar": {
              "outlinewidth": 0,
              "ticks": ""
             }
            },
            "type": "scattergeo"
           }
          ],
          "scattergl": [
           {
            "marker": {
             "colorbar": {
              "outlinewidth": 0,
              "ticks": ""
             }
            },
            "type": "scattergl"
           }
          ],
          "scattermapbox": [
           {
            "marker": {
             "colorbar": {
              "outlinewidth": 0,
              "ticks": ""
             }
            },
            "type": "scattermapbox"
           }
          ],
          "scatterpolar": [
           {
            "marker": {
             "colorbar": {
              "outlinewidth": 0,
              "ticks": ""
             }
            },
            "type": "scatterpolar"
           }
          ],
          "scatterpolargl": [
           {
            "marker": {
             "colorbar": {
              "outlinewidth": 0,
              "ticks": ""
             }
            },
            "type": "scatterpolargl"
           }
          ],
          "scatterternary": [
           {
            "marker": {
             "colorbar": {
              "outlinewidth": 0,
              "ticks": ""
             }
            },
            "type": "scatterternary"
           }
          ],
          "surface": [
           {
            "colorbar": {
             "outlinewidth": 0,
             "ticks": ""
            },
            "colorscale": [
             [
              0,
              "#0d0887"
             ],
             [
              0.1111111111111111,
              "#46039f"
             ],
             [
              0.2222222222222222,
              "#7201a8"
             ],
             [
              0.3333333333333333,
              "#9c179e"
             ],
             [
              0.4444444444444444,
              "#bd3786"
             ],
             [
              0.5555555555555556,
              "#d8576b"
             ],
             [
              0.6666666666666666,
              "#ed7953"
             ],
             [
              0.7777777777777778,
              "#fb9f3a"
             ],
             [
              0.8888888888888888,
              "#fdca26"
             ],
             [
              1,
              "#f0f921"
             ]
            ],
            "type": "surface"
           }
          ],
          "table": [
           {
            "cells": {
             "fill": {
              "color": "#EBF0F8"
             },
             "line": {
              "color": "white"
             }
            },
            "header": {
             "fill": {
              "color": "#C8D4E3"
             },
             "line": {
              "color": "white"
             }
            },
            "type": "table"
           }
          ]
         },
         "layout": {
          "annotationdefaults": {
           "arrowcolor": "#2a3f5f",
           "arrowhead": 0,
           "arrowwidth": 1
          },
          "autotypenumbers": "strict",
          "coloraxis": {
           "colorbar": {
            "outlinewidth": 0,
            "ticks": ""
           }
          },
          "colorscale": {
           "diverging": [
            [
             0,
             "#8e0152"
            ],
            [
             0.1,
             "#c51b7d"
            ],
            [
             0.2,
             "#de77ae"
            ],
            [
             0.3,
             "#f1b6da"
            ],
            [
             0.4,
             "#fde0ef"
            ],
            [
             0.5,
             "#f7f7f7"
            ],
            [
             0.6,
             "#e6f5d0"
            ],
            [
             0.7,
             "#b8e186"
            ],
            [
             0.8,
             "#7fbc41"
            ],
            [
             0.9,
             "#4d9221"
            ],
            [
             1,
             "#276419"
            ]
           ],
           "sequential": [
            [
             0,
             "#0d0887"
            ],
            [
             0.1111111111111111,
             "#46039f"
            ],
            [
             0.2222222222222222,
             "#7201a8"
            ],
            [
             0.3333333333333333,
             "#9c179e"
            ],
            [
             0.4444444444444444,
             "#bd3786"
            ],
            [
             0.5555555555555556,
             "#d8576b"
            ],
            [
             0.6666666666666666,
             "#ed7953"
            ],
            [
             0.7777777777777778,
             "#fb9f3a"
            ],
            [
             0.8888888888888888,
             "#fdca26"
            ],
            [
             1,
             "#f0f921"
            ]
           ],
           "sequentialminus": [
            [
             0,
             "#0d0887"
            ],
            [
             0.1111111111111111,
             "#46039f"
            ],
            [
             0.2222222222222222,
             "#7201a8"
            ],
            [
             0.3333333333333333,
             "#9c179e"
            ],
            [
             0.4444444444444444,
             "#bd3786"
            ],
            [
             0.5555555555555556,
             "#d8576b"
            ],
            [
             0.6666666666666666,
             "#ed7953"
            ],
            [
             0.7777777777777778,
             "#fb9f3a"
            ],
            [
             0.8888888888888888,
             "#fdca26"
            ],
            [
             1,
             "#f0f921"
            ]
           ]
          },
          "colorway": [
           "#636efa",
           "#EF553B",
           "#00cc96",
           "#ab63fa",
           "#FFA15A",
           "#19d3f3",
           "#FF6692",
           "#B6E880",
           "#FF97FF",
           "#FECB52"
          ],
          "font": {
           "color": "#2a3f5f"
          },
          "geo": {
           "bgcolor": "white",
           "lakecolor": "white",
           "landcolor": "#E5ECF6",
           "showlakes": true,
           "showland": true,
           "subunitcolor": "white"
          },
          "hoverlabel": {
           "align": "left"
          },
          "hovermode": "closest",
          "mapbox": {
           "style": "light"
          },
          "paper_bgcolor": "white",
          "plot_bgcolor": "#E5ECF6",
          "polar": {
           "angularaxis": {
            "gridcolor": "white",
            "linecolor": "white",
            "ticks": ""
           },
           "bgcolor": "#E5ECF6",
           "radialaxis": {
            "gridcolor": "white",
            "linecolor": "white",
            "ticks": ""
           }
          },
          "scene": {
           "xaxis": {
            "backgroundcolor": "#E5ECF6",
            "gridcolor": "white",
            "gridwidth": 2,
            "linecolor": "white",
            "showbackground": true,
            "ticks": "",
            "zerolinecolor": "white"
           },
           "yaxis": {
            "backgroundcolor": "#E5ECF6",
            "gridcolor": "white",
            "gridwidth": 2,
            "linecolor": "white",
            "showbackground": true,
            "ticks": "",
            "zerolinecolor": "white"
           },
           "zaxis": {
            "backgroundcolor": "#E5ECF6",
            "gridcolor": "white",
            "gridwidth": 2,
            "linecolor": "white",
            "showbackground": true,
            "ticks": "",
            "zerolinecolor": "white"
           }
          },
          "shapedefaults": {
           "line": {
            "color": "#2a3f5f"
           }
          },
          "ternary": {
           "aaxis": {
            "gridcolor": "white",
            "linecolor": "white",
            "ticks": ""
           },
           "baxis": {
            "gridcolor": "white",
            "linecolor": "white",
            "ticks": ""
           },
           "bgcolor": "#E5ECF6",
           "caxis": {
            "gridcolor": "white",
            "linecolor": "white",
            "ticks": ""
           }
          },
          "title": {
           "x": 0.05
          },
          "xaxis": {
           "automargin": true,
           "gridcolor": "white",
           "linecolor": "white",
           "ticks": "",
           "title": {
            "standoff": 15
           },
           "zerolinecolor": "white",
           "zerolinewidth": 2
          },
          "yaxis": {
           "automargin": true,
           "gridcolor": "white",
           "linecolor": "white",
           "ticks": "",
           "title": {
            "standoff": 15
           },
           "zerolinecolor": "white",
           "zerolinewidth": 2
          }
         }
        },
        "xaxis": {
         "anchor": "y",
         "domain": [
          0,
          1
         ],
         "title": {
          "text": "candle_date_time_kst"
         }
        },
        "yaxis": {
         "anchor": "x",
         "domain": [
          0,
          1
         ],
         "title": {
          "text": "trade_price"
         }
        }
       }
      },
      "text/html": [
       "<div>                            <div id=\"aa0853c3-6724-4ea6-bb9d-74583f9e6cc2\" class=\"plotly-graph-div\" style=\"height:525px; width:100%;\"></div>            <script type=\"text/javascript\">                require([\"plotly\"], function(Plotly) {                    window.PLOTLYENV=window.PLOTLYENV || {};                                    if (document.getElementById(\"aa0853c3-6724-4ea6-bb9d-74583f9e6cc2\")) {                    Plotly.newPlot(                        \"aa0853c3-6724-4ea6-bb9d-74583f9e6cc2\",                        [{\"hovertemplate\":\"candle_date_time_kst=%{x}<br>trade_price=%{y}<extra></extra>\",\"legendgroup\":\"\",\"marker\":{\"color\":\"#636efa\",\"symbol\":\"circle\"},\"mode\":\"markers\",\"name\":\"\",\"orientation\":\"v\",\"showlegend\":false,\"x\":[\"2023-12-28\",\"2023-12-27\",\"2023-12-26\",\"2023-12-25\",\"2023-12-24\",\"2023-12-23\",\"2023-12-22\",\"2023-12-21\",\"2023-12-20\",\"2023-12-19\",\"2023-12-18\",\"2023-12-17\",\"2023-12-16\",\"2023-12-15\",\"2023-12-14\",\"2023-12-13\",\"2023-12-12\",\"2023-12-11\",\"2023-12-10\",\"2023-12-09\",\"2023-12-08\",\"2023-12-07\",\"2023-12-06\",\"2023-12-05\",\"2023-12-04\",\"2023-12-03\",\"2023-12-02\",\"2023-12-01\",\"2023-11-30\",\"2023-11-29\",\"2023-11-28\",\"2023-11-27\",\"2023-11-26\",\"2023-11-25\",\"2023-11-24\",\"2023-11-23\",\"2023-11-22\",\"2023-11-21\",\"2023-11-20\",\"2023-11-19\",\"2023-11-18\",\"2023-11-17\",\"2023-11-16\",\"2023-11-15\",\"2023-11-14\",\"2023-11-13\",\"2023-11-12\",\"2023-11-11\",\"2023-11-10\",\"2023-11-09\",\"2023-11-08\",\"2023-11-07\",\"2023-11-06\",\"2023-11-05\",\"2023-11-04\",\"2023-11-03\",\"2023-11-02\",\"2023-11-01\",\"2023-10-31\",\"2023-10-30\",\"2023-10-29\",\"2023-10-28\",\"2023-10-27\",\"2023-10-26\",\"2023-10-25\",\"2023-10-24\",\"2023-10-23\",\"2023-10-22\",\"2023-10-21\",\"2023-10-20\",\"2023-10-19\",\"2023-10-18\",\"2023-10-17\",\"2023-10-16\",\"2023-10-15\",\"2023-10-14\",\"2023-10-13\",\"2023-10-12\",\"2023-10-11\",\"2023-10-10\",\"2023-10-09\",\"2023-10-08\",\"2023-10-07\",\"2023-10-06\",\"2023-10-05\",\"2023-10-04\",\"2023-10-03\",\"2023-10-02\",\"2023-10-01\",\"2023-09-30\",\"2023-09-29\",\"2023-09-28\",\"2023-09-27\",\"2023-09-26\",\"2023-09-25\",\"2023-09-24\",\"2023-09-23\",\"2023-09-22\",\"2023-09-21\",\"2023-09-20\",\"2023-09-19\",\"2023-09-18\",\"2023-09-17\",\"2023-09-16\",\"2023-09-15\",\"2023-09-14\",\"2023-09-13\",\"2023-09-12\",\"2023-09-11\",\"2023-09-10\",\"2023-09-09\",\"2023-09-08\",\"2023-09-07\",\"2023-09-06\",\"2023-09-05\",\"2023-09-04\",\"2023-09-03\",\"2023-09-02\",\"2023-09-01\",\"2023-08-31\",\"2023-08-30\",\"2023-08-29\",\"2023-08-28\",\"2023-08-27\",\"2023-08-26\",\"2023-08-25\",\"2023-08-24\",\"2023-08-23\",\"2023-08-22\",\"2023-08-21\",\"2023-08-20\",\"2023-08-19\",\"2023-08-18\",\"2023-08-17\",\"2023-08-16\",\"2023-08-15\",\"2023-08-14\",\"2023-08-13\",\"2023-08-12\",\"2023-08-11\",\"2023-08-10\",\"2023-08-09\",\"2023-08-08\",\"2023-08-07\",\"2023-08-06\",\"2023-08-05\",\"2023-08-04\",\"2023-08-03\",\"2023-08-02\",\"2023-08-01\",\"2023-07-31\",\"2023-07-30\",\"2023-07-29\",\"2023-07-28\",\"2023-07-27\",\"2023-07-26\",\"2023-07-25\",\"2023-07-24\",\"2023-07-23\",\"2023-07-22\",\"2023-07-21\",\"2023-07-20\",\"2023-07-19\",\"2023-07-18\",\"2023-07-17\",\"2023-07-16\",\"2023-07-15\",\"2023-07-14\",\"2023-07-13\",\"2023-07-12\",\"2023-07-11\",\"2023-07-10\",\"2023-07-09\",\"2023-07-08\",\"2023-07-07\",\"2023-07-06\",\"2023-07-05\",\"2023-07-04\",\"2023-07-03\",\"2023-07-02\",\"2023-07-01\",\"2023-06-30\",\"2023-06-29\",\"2023-06-28\",\"2023-06-27\",\"2023-06-26\",\"2023-06-25\",\"2023-06-24\",\"2023-06-23\",\"2023-06-22\",\"2023-06-21\",\"2023-06-20\",\"2023-06-19\",\"2023-06-18\",\"2023-06-17\",\"2023-06-16\",\"2023-06-15\",\"2023-06-14\",\"2023-06-13\",\"2023-06-12\"],\"xaxis\":\"x\",\"y\":[57741000.0,57920000.0,57032000.0,58042000.0,58002000.0,59250000.0,59532000.0,59479000.0,59351000.0,57845000.0,58130000.0,56710000.0,57935000.0,58028000.0,58735000.0,59056000.0,57605000.0,56950000.0,59835000.0,60082000.0,60142000.0,59250000.0,60314000.0,60227000.0,56920000.0,53700000.0,52603000.0,51709000.0,50586000.0,50720000.0,50576000.0,50275000.0,50210000.0,50533000.0,50601000.0,49929000.0,50042000.0,48510000.0,50170000.0,49800000.0,49165000.0,49390000.0,48868000.0,50457000.0,47969000.0,49154000.0,49418000.0,49629000.0,50030000.0,49400000.0,47458000.0,47301000.0,46781000.0,47056000.0,47050000.0,46676000.0,47516000.0,48079000.0,47030000.0,46732000.0,46825000.0,46314000.0,45980000.0,46141000.0,46484000.0,45599000.0,44179000.0,40354000.0,40400000.0,40250000.0,39000000.0,38710000.0,38652000.0,38697000.0,37086000.0,36790000.0,36968000.0,36750000.0,36671000.0,37336000.0,37595000.0,37929000.0,37902000.0,37798000.0,37258000.0,37595000.0,37197000.0,37424000.0,37789000.0,36600000.0,36444000.0,36596000.0,35982000.0,35566000.0,35491000.0,35534000.0,35960000.0,35952000.0,36012000.0,36501000.0,36500000.0,36000000.0,35758000.0,35938000.0,35928000.0,35889000.0,35497000.0,35077000.0,34327000.0,35196000.0,35280000.0,35295000.0,35615000.0,35029000.0,35056000.0,35011000.0,35308000.0,35204000.0,35350000.0,35502000.0,37109000.0,37445000.0,35335000.0,35402000.0,35398000.0,35479000.0,35635000.0,35941000.0,35684000.0,35769000.0,35949000.0,36056000.0,35890000.0,36588000.0,39001000.0,39404000.0,39288000.0,39118000.0,39283000.0,39233000.0,39119000.0,39209000.0,39437000.0,38622000.0,38605000.0,38474000.0,38492000.0,38436000.0,38358000.0,38642000.0,37929000.0,37850000.0,37901000.0,37932000.0,37874000.0,37918000.0,37910000.0,37892000.0,38945000.0,38776000.0,38829000.0,38567000.0,38323000.0,38401000.0,38742000.0,38933000.0,38889000.0,39092000.0,40112000.0,39804000.0,40117000.0,40050000.0,39832000.0,40153000.0,40240000.0,39860000.0,40385000.0,40610000.0,41200000.0,40652000.0,40691000.0,40547000.0,40583000.0,40020000.0,40585000.0,40077000.0,40352000.0,40659000.0,40651000.0,39125000.0,39135000.0,36946000.0,35092000.0,34466000.0,34780000.0,34501000.0,33449000.0,33007000.0,33913000.0,34059000.0],\"yaxis\":\"y\",\"type\":\"scatter\"}],                        {\"template\":{\"data\":{\"histogram2dcontour\":[{\"type\":\"histogram2dcontour\",\"colorbar\":{\"outlinewidth\":0,\"ticks\":\"\"},\"colorscale\":[[0.0,\"#0d0887\"],[0.1111111111111111,\"#46039f\"],[0.2222222222222222,\"#7201a8\"],[0.3333333333333333,\"#9c179e\"],[0.4444444444444444,\"#bd3786\"],[0.5555555555555556,\"#d8576b\"],[0.6666666666666666,\"#ed7953\"],[0.7777777777777778,\"#fb9f3a\"],[0.8888888888888888,\"#fdca26\"],[1.0,\"#f0f921\"]]}],\"choropleth\":[{\"type\":\"choropleth\",\"colorbar\":{\"outlinewidth\":0,\"ticks\":\"\"}}],\"histogram2d\":[{\"type\":\"histogram2d\",\"colorbar\":{\"outlinewidth\":0,\"ticks\":\"\"},\"colorscale\":[[0.0,\"#0d0887\"],[0.1111111111111111,\"#46039f\"],[0.2222222222222222,\"#7201a8\"],[0.3333333333333333,\"#9c179e\"],[0.4444444444444444,\"#bd3786\"],[0.5555555555555556,\"#d8576b\"],[0.6666666666666666,\"#ed7953\"],[0.7777777777777778,\"#fb9f3a\"],[0.8888888888888888,\"#fdca26\"],[1.0,\"#f0f921\"]]}],\"heatmap\":[{\"type\":\"heatmap\",\"colorbar\":{\"outlinewidth\":0,\"ticks\":\"\"},\"colorscale\":[[0.0,\"#0d0887\"],[0.1111111111111111,\"#46039f\"],[0.2222222222222222,\"#7201a8\"],[0.3333333333333333,\"#9c179e\"],[0.4444444444444444,\"#bd3786\"],[0.5555555555555556,\"#d8576b\"],[0.6666666666666666,\"#ed7953\"],[0.7777777777777778,\"#fb9f3a\"],[0.8888888888888888,\"#fdca26\"],[1.0,\"#f0f921\"]]}],\"heatmapgl\":[{\"type\":\"heatmapgl\",\"colorbar\":{\"outlinewidth\":0,\"ticks\":\"\"},\"colorscale\":[[0.0,\"#0d0887\"],[0.1111111111111111,\"#46039f\"],[0.2222222222222222,\"#7201a8\"],[0.3333333333333333,\"#9c179e\"],[0.4444444444444444,\"#bd3786\"],[0.5555555555555556,\"#d8576b\"],[0.6666666666666666,\"#ed7953\"],[0.7777777777777778,\"#fb9f3a\"],[0.8888888888888888,\"#fdca26\"],[1.0,\"#f0f921\"]]}],\"contourcarpet\":[{\"type\":\"contourcarpet\",\"colorbar\":{\"outlinewidth\":0,\"ticks\":\"\"}}],\"contour\":[{\"type\":\"contour\",\"colorbar\":{\"outlinewidth\":0,\"ticks\":\"\"},\"colorscale\":[[0.0,\"#0d0887\"],[0.1111111111111111,\"#46039f\"],[0.2222222222222222,\"#7201a8\"],[0.3333333333333333,\"#9c179e\"],[0.4444444444444444,\"#bd3786\"],[0.5555555555555556,\"#d8576b\"],[0.6666666666666666,\"#ed7953\"],[0.7777777777777778,\"#fb9f3a\"],[0.8888888888888888,\"#fdca26\"],[1.0,\"#f0f921\"]]}],\"surface\":[{\"type\":\"surface\",\"colorbar\":{\"outlinewidth\":0,\"ticks\":\"\"},\"colorscale\":[[0.0,\"#0d0887\"],[0.1111111111111111,\"#46039f\"],[0.2222222222222222,\"#7201a8\"],[0.3333333333333333,\"#9c179e\"],[0.4444444444444444,\"#bd3786\"],[0.5555555555555556,\"#d8576b\"],[0.6666666666666666,\"#ed7953\"],[0.7777777777777778,\"#fb9f3a\"],[0.8888888888888888,\"#fdca26\"],[1.0,\"#f0f921\"]]}],\"mesh3d\":[{\"type\":\"mesh3d\",\"colorbar\":{\"outlinewidth\":0,\"ticks\":\"\"}}],\"scatter\":[{\"fillpattern\":{\"fillmode\":\"overlay\",\"size\":10,\"solidity\":0.2},\"type\":\"scatter\"}],\"parcoords\":[{\"type\":\"parcoords\",\"line\":{\"colorbar\":{\"outlinewidth\":0,\"ticks\":\"\"}}}],\"scatterpolargl\":[{\"type\":\"scatterpolargl\",\"marker\":{\"colorbar\":{\"outlinewidth\":0,\"ticks\":\"\"}}}],\"bar\":[{\"error_x\":{\"color\":\"#2a3f5f\"},\"error_y\":{\"color\":\"#2a3f5f\"},\"marker\":{\"line\":{\"color\":\"#E5ECF6\",\"width\":0.5},\"pattern\":{\"fillmode\":\"overlay\",\"size\":10,\"solidity\":0.2}},\"type\":\"bar\"}],\"scattergeo\":[{\"type\":\"scattergeo\",\"marker\":{\"colorbar\":{\"outlinewidth\":0,\"ticks\":\"\"}}}],\"scatterpolar\":[{\"type\":\"scatterpolar\",\"marker\":{\"colorbar\":{\"outlinewidth\":0,\"ticks\":\"\"}}}],\"histogram\":[{\"marker\":{\"pattern\":{\"fillmode\":\"overlay\",\"size\":10,\"solidity\":0.2}},\"type\":\"histogram\"}],\"scattergl\":[{\"type\":\"scattergl\",\"marker\":{\"colorbar\":{\"outlinewidth\":0,\"ticks\":\"\"}}}],\"scatter3d\":[{\"type\":\"scatter3d\",\"line\":{\"colorbar\":{\"outlinewidth\":0,\"ticks\":\"\"}},\"marker\":{\"colorbar\":{\"outlinewidth\":0,\"ticks\":\"\"}}}],\"scattermapbox\":[{\"type\":\"scattermapbox\",\"marker\":{\"colorbar\":{\"outlinewidth\":0,\"ticks\":\"\"}}}],\"scatterternary\":[{\"type\":\"scatterternary\",\"marker\":{\"colorbar\":{\"outlinewidth\":0,\"ticks\":\"\"}}}],\"scattercarpet\":[{\"type\":\"scattercarpet\",\"marker\":{\"colorbar\":{\"outlinewidth\":0,\"ticks\":\"\"}}}],\"carpet\":[{\"aaxis\":{\"endlinecolor\":\"#2a3f5f\",\"gridcolor\":\"white\",\"linecolor\":\"white\",\"minorgridcolor\":\"white\",\"startlinecolor\":\"#2a3f5f\"},\"baxis\":{\"endlinecolor\":\"#2a3f5f\",\"gridcolor\":\"white\",\"linecolor\":\"white\",\"minorgridcolor\":\"white\",\"startlinecolor\":\"#2a3f5f\"},\"type\":\"carpet\"}],\"table\":[{\"cells\":{\"fill\":{\"color\":\"#EBF0F8\"},\"line\":{\"color\":\"white\"}},\"header\":{\"fill\":{\"color\":\"#C8D4E3\"},\"line\":{\"color\":\"white\"}},\"type\":\"table\"}],\"barpolar\":[{\"marker\":{\"line\":{\"color\":\"#E5ECF6\",\"width\":0.5},\"pattern\":{\"fillmode\":\"overlay\",\"size\":10,\"solidity\":0.2}},\"type\":\"barpolar\"}],\"pie\":[{\"automargin\":true,\"type\":\"pie\"}]},\"layout\":{\"autotypenumbers\":\"strict\",\"colorway\":[\"#636efa\",\"#EF553B\",\"#00cc96\",\"#ab63fa\",\"#FFA15A\",\"#19d3f3\",\"#FF6692\",\"#B6E880\",\"#FF97FF\",\"#FECB52\"],\"font\":{\"color\":\"#2a3f5f\"},\"hovermode\":\"closest\",\"hoverlabel\":{\"align\":\"left\"},\"paper_bgcolor\":\"white\",\"plot_bgcolor\":\"#E5ECF6\",\"polar\":{\"bgcolor\":\"#E5ECF6\",\"angularaxis\":{\"gridcolor\":\"white\",\"linecolor\":\"white\",\"ticks\":\"\"},\"radialaxis\":{\"gridcolor\":\"white\",\"linecolor\":\"white\",\"ticks\":\"\"}},\"ternary\":{\"bgcolor\":\"#E5ECF6\",\"aaxis\":{\"gridcolor\":\"white\",\"linecolor\":\"white\",\"ticks\":\"\"},\"baxis\":{\"gridcolor\":\"white\",\"linecolor\":\"white\",\"ticks\":\"\"},\"caxis\":{\"gridcolor\":\"white\",\"linecolor\":\"white\",\"ticks\":\"\"}},\"coloraxis\":{\"colorbar\":{\"outlinewidth\":0,\"ticks\":\"\"}},\"colorscale\":{\"sequential\":[[0.0,\"#0d0887\"],[0.1111111111111111,\"#46039f\"],[0.2222222222222222,\"#7201a8\"],[0.3333333333333333,\"#9c179e\"],[0.4444444444444444,\"#bd3786\"],[0.5555555555555556,\"#d8576b\"],[0.6666666666666666,\"#ed7953\"],[0.7777777777777778,\"#fb9f3a\"],[0.8888888888888888,\"#fdca26\"],[1.0,\"#f0f921\"]],\"sequentialminus\":[[0.0,\"#0d0887\"],[0.1111111111111111,\"#46039f\"],[0.2222222222222222,\"#7201a8\"],[0.3333333333333333,\"#9c179e\"],[0.4444444444444444,\"#bd3786\"],[0.5555555555555556,\"#d8576b\"],[0.6666666666666666,\"#ed7953\"],[0.7777777777777778,\"#fb9f3a\"],[0.8888888888888888,\"#fdca26\"],[1.0,\"#f0f921\"]],\"diverging\":[[0,\"#8e0152\"],[0.1,\"#c51b7d\"],[0.2,\"#de77ae\"],[0.3,\"#f1b6da\"],[0.4,\"#fde0ef\"],[0.5,\"#f7f7f7\"],[0.6,\"#e6f5d0\"],[0.7,\"#b8e186\"],[0.8,\"#7fbc41\"],[0.9,\"#4d9221\"],[1,\"#276419\"]]},\"xaxis\":{\"gridcolor\":\"white\",\"linecolor\":\"white\",\"ticks\":\"\",\"title\":{\"standoff\":15},\"zerolinecolor\":\"white\",\"automargin\":true,\"zerolinewidth\":2},\"yaxis\":{\"gridcolor\":\"white\",\"linecolor\":\"white\",\"ticks\":\"\",\"title\":{\"standoff\":15},\"zerolinecolor\":\"white\",\"automargin\":true,\"zerolinewidth\":2},\"scene\":{\"xaxis\":{\"backgroundcolor\":\"#E5ECF6\",\"gridcolor\":\"white\",\"linecolor\":\"white\",\"showbackground\":true,\"ticks\":\"\",\"zerolinecolor\":\"white\",\"gridwidth\":2},\"yaxis\":{\"backgroundcolor\":\"#E5ECF6\",\"gridcolor\":\"white\",\"linecolor\":\"white\",\"showbackground\":true,\"ticks\":\"\",\"zerolinecolor\":\"white\",\"gridwidth\":2},\"zaxis\":{\"backgroundcolor\":\"#E5ECF6\",\"gridcolor\":\"white\",\"linecolor\":\"white\",\"showbackground\":true,\"ticks\":\"\",\"zerolinecolor\":\"white\",\"gridwidth\":2}},\"shapedefaults\":{\"line\":{\"color\":\"#2a3f5f\"}},\"annotationdefaults\":{\"arrowcolor\":\"#2a3f5f\",\"arrowhead\":0,\"arrowwidth\":1},\"geo\":{\"bgcolor\":\"white\",\"landcolor\":\"#E5ECF6\",\"subunitcolor\":\"white\",\"showland\":true,\"showlakes\":true,\"lakecolor\":\"white\"},\"title\":{\"x\":0.05},\"mapbox\":{\"style\":\"light\"}}},\"xaxis\":{\"anchor\":\"y\",\"domain\":[0.0,1.0],\"title\":{\"text\":\"candle_date_time_kst\"}},\"yaxis\":{\"anchor\":\"x\",\"domain\":[0.0,1.0],\"title\":{\"text\":\"trade_price\"}},\"legend\":{\"tracegroupgap\":0},\"margin\":{\"t\":60}},                        {\"responsive\": true}                    ).then(function(){\n",
       "                            \n",
       "var gd = document.getElementById('aa0853c3-6724-4ea6-bb9d-74583f9e6cc2');\n",
       "var x = new MutationObserver(function (mutations, observer) {{\n",
       "        var display = window.getComputedStyle(gd).display;\n",
       "        if (!display || display === 'none') {{\n",
       "            console.log([gd, 'removed!']);\n",
       "            Plotly.purge(gd);\n",
       "            observer.disconnect();\n",
       "        }}\n",
       "}});\n",
       "\n",
       "// Listen for the removal of the full notebook cells\n",
       "var notebookContainer = gd.closest('#notebook-container');\n",
       "if (notebookContainer) {{\n",
       "    x.observe(notebookContainer, {childList: true});\n",
       "}}\n",
       "\n",
       "// Listen for the clearing of the current output cell\n",
       "var outputEl = gd.closest('.output');\n",
       "if (outputEl) {{\n",
       "    x.observe(outputEl, {childList: true});\n",
       "}}\n",
       "\n",
       "                        })                };                });            </script>        </div>"
      ]
     },
     "metadata": {},
     "output_type": "display_data"
    }
   ],
   "source": [
    "fig = px.scatter(my_df[my_df.market == 'BTC'],\n",
    "                 x = 'candle_date_time_kst',\n",
    "                 y = 'trade_price')\n",
    "fig.show()"
   ]
  },
  {
   "cell_type": "code",
   "execution_count": 252,
   "id": "8776260b",
   "metadata": {},
   "outputs": [
    {
     "data": {
      "application/vnd.plotly.v1+json": {
       "config": {
        "plotlyServerURL": "https://plot.ly"
       },
       "data": [
        {
         "alignmentgroup": "True",
         "hovertemplate": "candle_date_time_kst=%{x}<br>trade_price=%{y}<extra></extra>",
         "legendgroup": "",
         "marker": {
          "color": "#636efa",
          "pattern": {
           "shape": ""
          }
         },
         "name": "",
         "offsetgroup": "",
         "orientation": "v",
         "showlegend": false,
         "textposition": "auto",
         "type": "bar",
         "x": [
          "2023-06-21",
          "2023-06-20",
          "2023-06-19",
          "2023-06-18",
          "2023-06-17",
          "2023-06-16",
          "2023-06-15",
          "2023-06-14",
          "2023-06-13",
          "2023-06-12"
         ],
         "xaxis": "x",
         "y": [
          39135000,
          36946000,
          35092000,
          34466000,
          34780000,
          34501000,
          33449000,
          33007000,
          33913000,
          34059000
         ],
         "yaxis": "y"
        }
       ],
       "layout": {
        "barmode": "relative",
        "legend": {
         "tracegroupgap": 0
        },
        "margin": {
         "t": 60
        },
        "template": {
         "data": {
          "bar": [
           {
            "error_x": {
             "color": "#2a3f5f"
            },
            "error_y": {
             "color": "#2a3f5f"
            },
            "marker": {
             "line": {
              "color": "#E5ECF6",
              "width": 0.5
             },
             "pattern": {
              "fillmode": "overlay",
              "size": 10,
              "solidity": 0.2
             }
            },
            "type": "bar"
           }
          ],
          "barpolar": [
           {
            "marker": {
             "line": {
              "color": "#E5ECF6",
              "width": 0.5
             },
             "pattern": {
              "fillmode": "overlay",
              "size": 10,
              "solidity": 0.2
             }
            },
            "type": "barpolar"
           }
          ],
          "carpet": [
           {
            "aaxis": {
             "endlinecolor": "#2a3f5f",
             "gridcolor": "white",
             "linecolor": "white",
             "minorgridcolor": "white",
             "startlinecolor": "#2a3f5f"
            },
            "baxis": {
             "endlinecolor": "#2a3f5f",
             "gridcolor": "white",
             "linecolor": "white",
             "minorgridcolor": "white",
             "startlinecolor": "#2a3f5f"
            },
            "type": "carpet"
           }
          ],
          "choropleth": [
           {
            "colorbar": {
             "outlinewidth": 0,
             "ticks": ""
            },
            "type": "choropleth"
           }
          ],
          "contour": [
           {
            "colorbar": {
             "outlinewidth": 0,
             "ticks": ""
            },
            "colorscale": [
             [
              0,
              "#0d0887"
             ],
             [
              0.1111111111111111,
              "#46039f"
             ],
             [
              0.2222222222222222,
              "#7201a8"
             ],
             [
              0.3333333333333333,
              "#9c179e"
             ],
             [
              0.4444444444444444,
              "#bd3786"
             ],
             [
              0.5555555555555556,
              "#d8576b"
             ],
             [
              0.6666666666666666,
              "#ed7953"
             ],
             [
              0.7777777777777778,
              "#fb9f3a"
             ],
             [
              0.8888888888888888,
              "#fdca26"
             ],
             [
              1,
              "#f0f921"
             ]
            ],
            "type": "contour"
           }
          ],
          "contourcarpet": [
           {
            "colorbar": {
             "outlinewidth": 0,
             "ticks": ""
            },
            "type": "contourcarpet"
           }
          ],
          "heatmap": [
           {
            "colorbar": {
             "outlinewidth": 0,
             "ticks": ""
            },
            "colorscale": [
             [
              0,
              "#0d0887"
             ],
             [
              0.1111111111111111,
              "#46039f"
             ],
             [
              0.2222222222222222,
              "#7201a8"
             ],
             [
              0.3333333333333333,
              "#9c179e"
             ],
             [
              0.4444444444444444,
              "#bd3786"
             ],
             [
              0.5555555555555556,
              "#d8576b"
             ],
             [
              0.6666666666666666,
              "#ed7953"
             ],
             [
              0.7777777777777778,
              "#fb9f3a"
             ],
             [
              0.8888888888888888,
              "#fdca26"
             ],
             [
              1,
              "#f0f921"
             ]
            ],
            "type": "heatmap"
           }
          ],
          "heatmapgl": [
           {
            "colorbar": {
             "outlinewidth": 0,
             "ticks": ""
            },
            "colorscale": [
             [
              0,
              "#0d0887"
             ],
             [
              0.1111111111111111,
              "#46039f"
             ],
             [
              0.2222222222222222,
              "#7201a8"
             ],
             [
              0.3333333333333333,
              "#9c179e"
             ],
             [
              0.4444444444444444,
              "#bd3786"
             ],
             [
              0.5555555555555556,
              "#d8576b"
             ],
             [
              0.6666666666666666,
              "#ed7953"
             ],
             [
              0.7777777777777778,
              "#fb9f3a"
             ],
             [
              0.8888888888888888,
              "#fdca26"
             ],
             [
              1,
              "#f0f921"
             ]
            ],
            "type": "heatmapgl"
           }
          ],
          "histogram": [
           {
            "marker": {
             "pattern": {
              "fillmode": "overlay",
              "size": 10,
              "solidity": 0.2
             }
            },
            "type": "histogram"
           }
          ],
          "histogram2d": [
           {
            "colorbar": {
             "outlinewidth": 0,
             "ticks": ""
            },
            "colorscale": [
             [
              0,
              "#0d0887"
             ],
             [
              0.1111111111111111,
              "#46039f"
             ],
             [
              0.2222222222222222,
              "#7201a8"
             ],
             [
              0.3333333333333333,
              "#9c179e"
             ],
             [
              0.4444444444444444,
              "#bd3786"
             ],
             [
              0.5555555555555556,
              "#d8576b"
             ],
             [
              0.6666666666666666,
              "#ed7953"
             ],
             [
              0.7777777777777778,
              "#fb9f3a"
             ],
             [
              0.8888888888888888,
              "#fdca26"
             ],
             [
              1,
              "#f0f921"
             ]
            ],
            "type": "histogram2d"
           }
          ],
          "histogram2dcontour": [
           {
            "colorbar": {
             "outlinewidth": 0,
             "ticks": ""
            },
            "colorscale": [
             [
              0,
              "#0d0887"
             ],
             [
              0.1111111111111111,
              "#46039f"
             ],
             [
              0.2222222222222222,
              "#7201a8"
             ],
             [
              0.3333333333333333,
              "#9c179e"
             ],
             [
              0.4444444444444444,
              "#bd3786"
             ],
             [
              0.5555555555555556,
              "#d8576b"
             ],
             [
              0.6666666666666666,
              "#ed7953"
             ],
             [
              0.7777777777777778,
              "#fb9f3a"
             ],
             [
              0.8888888888888888,
              "#fdca26"
             ],
             [
              1,
              "#f0f921"
             ]
            ],
            "type": "histogram2dcontour"
           }
          ],
          "mesh3d": [
           {
            "colorbar": {
             "outlinewidth": 0,
             "ticks": ""
            },
            "type": "mesh3d"
           }
          ],
          "parcoords": [
           {
            "line": {
             "colorbar": {
              "outlinewidth": 0,
              "ticks": ""
             }
            },
            "type": "parcoords"
           }
          ],
          "pie": [
           {
            "automargin": true,
            "type": "pie"
           }
          ],
          "scatter": [
           {
            "fillpattern": {
             "fillmode": "overlay",
             "size": 10,
             "solidity": 0.2
            },
            "type": "scatter"
           }
          ],
          "scatter3d": [
           {
            "line": {
             "colorbar": {
              "outlinewidth": 0,
              "ticks": ""
             }
            },
            "marker": {
             "colorbar": {
              "outlinewidth": 0,
              "ticks": ""
             }
            },
            "type": "scatter3d"
           }
          ],
          "scattercarpet": [
           {
            "marker": {
             "colorbar": {
              "outlinewidth": 0,
              "ticks": ""
             }
            },
            "type": "scattercarpet"
           }
          ],
          "scattergeo": [
           {
            "marker": {
             "colorbar": {
              "outlinewidth": 0,
              "ticks": ""
             }
            },
            "type": "scattergeo"
           }
          ],
          "scattergl": [
           {
            "marker": {
             "colorbar": {
              "outlinewidth": 0,
              "ticks": ""
             }
            },
            "type": "scattergl"
           }
          ],
          "scattermapbox": [
           {
            "marker": {
             "colorbar": {
              "outlinewidth": 0,
              "ticks": ""
             }
            },
            "type": "scattermapbox"
           }
          ],
          "scatterpolar": [
           {
            "marker": {
             "colorbar": {
              "outlinewidth": 0,
              "ticks": ""
             }
            },
            "type": "scatterpolar"
           }
          ],
          "scatterpolargl": [
           {
            "marker": {
             "colorbar": {
              "outlinewidth": 0,
              "ticks": ""
             }
            },
            "type": "scatterpolargl"
           }
          ],
          "scatterternary": [
           {
            "marker": {
             "colorbar": {
              "outlinewidth": 0,
              "ticks": ""
             }
            },
            "type": "scatterternary"
           }
          ],
          "surface": [
           {
            "colorbar": {
             "outlinewidth": 0,
             "ticks": ""
            },
            "colorscale": [
             [
              0,
              "#0d0887"
             ],
             [
              0.1111111111111111,
              "#46039f"
             ],
             [
              0.2222222222222222,
              "#7201a8"
             ],
             [
              0.3333333333333333,
              "#9c179e"
             ],
             [
              0.4444444444444444,
              "#bd3786"
             ],
             [
              0.5555555555555556,
              "#d8576b"
             ],
             [
              0.6666666666666666,
              "#ed7953"
             ],
             [
              0.7777777777777778,
              "#fb9f3a"
             ],
             [
              0.8888888888888888,
              "#fdca26"
             ],
             [
              1,
              "#f0f921"
             ]
            ],
            "type": "surface"
           }
          ],
          "table": [
           {
            "cells": {
             "fill": {
              "color": "#EBF0F8"
             },
             "line": {
              "color": "white"
             }
            },
            "header": {
             "fill": {
              "color": "#C8D4E3"
             },
             "line": {
              "color": "white"
             }
            },
            "type": "table"
           }
          ]
         },
         "layout": {
          "annotationdefaults": {
           "arrowcolor": "#2a3f5f",
           "arrowhead": 0,
           "arrowwidth": 1
          },
          "autotypenumbers": "strict",
          "coloraxis": {
           "colorbar": {
            "outlinewidth": 0,
            "ticks": ""
           }
          },
          "colorscale": {
           "diverging": [
            [
             0,
             "#8e0152"
            ],
            [
             0.1,
             "#c51b7d"
            ],
            [
             0.2,
             "#de77ae"
            ],
            [
             0.3,
             "#f1b6da"
            ],
            [
             0.4,
             "#fde0ef"
            ],
            [
             0.5,
             "#f7f7f7"
            ],
            [
             0.6,
             "#e6f5d0"
            ],
            [
             0.7,
             "#b8e186"
            ],
            [
             0.8,
             "#7fbc41"
            ],
            [
             0.9,
             "#4d9221"
            ],
            [
             1,
             "#276419"
            ]
           ],
           "sequential": [
            [
             0,
             "#0d0887"
            ],
            [
             0.1111111111111111,
             "#46039f"
            ],
            [
             0.2222222222222222,
             "#7201a8"
            ],
            [
             0.3333333333333333,
             "#9c179e"
            ],
            [
             0.4444444444444444,
             "#bd3786"
            ],
            [
             0.5555555555555556,
             "#d8576b"
            ],
            [
             0.6666666666666666,
             "#ed7953"
            ],
            [
             0.7777777777777778,
             "#fb9f3a"
            ],
            [
             0.8888888888888888,
             "#fdca26"
            ],
            [
             1,
             "#f0f921"
            ]
           ],
           "sequentialminus": [
            [
             0,
             "#0d0887"
            ],
            [
             0.1111111111111111,
             "#46039f"
            ],
            [
             0.2222222222222222,
             "#7201a8"
            ],
            [
             0.3333333333333333,
             "#9c179e"
            ],
            [
             0.4444444444444444,
             "#bd3786"
            ],
            [
             0.5555555555555556,
             "#d8576b"
            ],
            [
             0.6666666666666666,
             "#ed7953"
            ],
            [
             0.7777777777777778,
             "#fb9f3a"
            ],
            [
             0.8888888888888888,
             "#fdca26"
            ],
            [
             1,
             "#f0f921"
            ]
           ]
          },
          "colorway": [
           "#636efa",
           "#EF553B",
           "#00cc96",
           "#ab63fa",
           "#FFA15A",
           "#19d3f3",
           "#FF6692",
           "#B6E880",
           "#FF97FF",
           "#FECB52"
          ],
          "font": {
           "color": "#2a3f5f"
          },
          "geo": {
           "bgcolor": "white",
           "lakecolor": "white",
           "landcolor": "#E5ECF6",
           "showlakes": true,
           "showland": true,
           "subunitcolor": "white"
          },
          "hoverlabel": {
           "align": "left"
          },
          "hovermode": "closest",
          "mapbox": {
           "style": "light"
          },
          "paper_bgcolor": "white",
          "plot_bgcolor": "#E5ECF6",
          "polar": {
           "angularaxis": {
            "gridcolor": "white",
            "linecolor": "white",
            "ticks": ""
           },
           "bgcolor": "#E5ECF6",
           "radialaxis": {
            "gridcolor": "white",
            "linecolor": "white",
            "ticks": ""
           }
          },
          "scene": {
           "xaxis": {
            "backgroundcolor": "#E5ECF6",
            "gridcolor": "white",
            "gridwidth": 2,
            "linecolor": "white",
            "showbackground": true,
            "ticks": "",
            "zerolinecolor": "white"
           },
           "yaxis": {
            "backgroundcolor": "#E5ECF6",
            "gridcolor": "white",
            "gridwidth": 2,
            "linecolor": "white",
            "showbackground": true,
            "ticks": "",
            "zerolinecolor": "white"
           },
           "zaxis": {
            "backgroundcolor": "#E5ECF6",
            "gridcolor": "white",
            "gridwidth": 2,
            "linecolor": "white",
            "showbackground": true,
            "ticks": "",
            "zerolinecolor": "white"
           }
          },
          "shapedefaults": {
           "line": {
            "color": "#2a3f5f"
           }
          },
          "ternary": {
           "aaxis": {
            "gridcolor": "white",
            "linecolor": "white",
            "ticks": ""
           },
           "baxis": {
            "gridcolor": "white",
            "linecolor": "white",
            "ticks": ""
           },
           "bgcolor": "#E5ECF6",
           "caxis": {
            "gridcolor": "white",
            "linecolor": "white",
            "ticks": ""
           }
          },
          "title": {
           "x": 0.05
          },
          "xaxis": {
           "automargin": true,
           "gridcolor": "white",
           "linecolor": "white",
           "ticks": "",
           "title": {
            "standoff": 15
           },
           "zerolinecolor": "white",
           "zerolinewidth": 2
          },
          "yaxis": {
           "automargin": true,
           "gridcolor": "white",
           "linecolor": "white",
           "ticks": "",
           "title": {
            "standoff": 15
           },
           "zerolinecolor": "white",
           "zerolinewidth": 2
          }
         }
        },
        "xaxis": {
         "anchor": "y",
         "domain": [
          0,
          1
         ],
         "title": {
          "text": "candle_date_time_kst"
         }
        },
        "yaxis": {
         "anchor": "x",
         "domain": [
          0,
          1
         ],
         "title": {
          "text": "trade_price"
         }
        }
       }
      },
      "text/html": [
       "<div>                            <div id=\"f3416087-4c98-4a4b-b5af-e8f76de55f53\" class=\"plotly-graph-div\" style=\"height:525px; width:100%;\"></div>            <script type=\"text/javascript\">                require([\"plotly\"], function(Plotly) {                    window.PLOTLYENV=window.PLOTLYENV || {};                                    if (document.getElementById(\"f3416087-4c98-4a4b-b5af-e8f76de55f53\")) {                    Plotly.newPlot(                        \"f3416087-4c98-4a4b-b5af-e8f76de55f53\",                        [{\"alignmentgroup\":\"True\",\"hovertemplate\":\"candle_date_time_kst=%{x}<br>trade_price=%{y}<extra></extra>\",\"legendgroup\":\"\",\"marker\":{\"color\":\"#636efa\",\"pattern\":{\"shape\":\"\"}},\"name\":\"\",\"offsetgroup\":\"\",\"orientation\":\"v\",\"showlegend\":false,\"textposition\":\"auto\",\"x\":[\"2023-06-21\",\"2023-06-20\",\"2023-06-19\",\"2023-06-18\",\"2023-06-17\",\"2023-06-16\",\"2023-06-15\",\"2023-06-14\",\"2023-06-13\",\"2023-06-12\"],\"xaxis\":\"x\",\"y\":[39135000.0,36946000.0,35092000.0,34466000.0,34780000.0,34501000.0,33449000.0,33007000.0,33913000.0,34059000.0],\"yaxis\":\"y\",\"type\":\"bar\"}],                        {\"template\":{\"data\":{\"histogram2dcontour\":[{\"type\":\"histogram2dcontour\",\"colorbar\":{\"outlinewidth\":0,\"ticks\":\"\"},\"colorscale\":[[0.0,\"#0d0887\"],[0.1111111111111111,\"#46039f\"],[0.2222222222222222,\"#7201a8\"],[0.3333333333333333,\"#9c179e\"],[0.4444444444444444,\"#bd3786\"],[0.5555555555555556,\"#d8576b\"],[0.6666666666666666,\"#ed7953\"],[0.7777777777777778,\"#fb9f3a\"],[0.8888888888888888,\"#fdca26\"],[1.0,\"#f0f921\"]]}],\"choropleth\":[{\"type\":\"choropleth\",\"colorbar\":{\"outlinewidth\":0,\"ticks\":\"\"}}],\"histogram2d\":[{\"type\":\"histogram2d\",\"colorbar\":{\"outlinewidth\":0,\"ticks\":\"\"},\"colorscale\":[[0.0,\"#0d0887\"],[0.1111111111111111,\"#46039f\"],[0.2222222222222222,\"#7201a8\"],[0.3333333333333333,\"#9c179e\"],[0.4444444444444444,\"#bd3786\"],[0.5555555555555556,\"#d8576b\"],[0.6666666666666666,\"#ed7953\"],[0.7777777777777778,\"#fb9f3a\"],[0.8888888888888888,\"#fdca26\"],[1.0,\"#f0f921\"]]}],\"heatmap\":[{\"type\":\"heatmap\",\"colorbar\":{\"outlinewidth\":0,\"ticks\":\"\"},\"colorscale\":[[0.0,\"#0d0887\"],[0.1111111111111111,\"#46039f\"],[0.2222222222222222,\"#7201a8\"],[0.3333333333333333,\"#9c179e\"],[0.4444444444444444,\"#bd3786\"],[0.5555555555555556,\"#d8576b\"],[0.6666666666666666,\"#ed7953\"],[0.7777777777777778,\"#fb9f3a\"],[0.8888888888888888,\"#fdca26\"],[1.0,\"#f0f921\"]]}],\"heatmapgl\":[{\"type\":\"heatmapgl\",\"colorbar\":{\"outlinewidth\":0,\"ticks\":\"\"},\"colorscale\":[[0.0,\"#0d0887\"],[0.1111111111111111,\"#46039f\"],[0.2222222222222222,\"#7201a8\"],[0.3333333333333333,\"#9c179e\"],[0.4444444444444444,\"#bd3786\"],[0.5555555555555556,\"#d8576b\"],[0.6666666666666666,\"#ed7953\"],[0.7777777777777778,\"#fb9f3a\"],[0.8888888888888888,\"#fdca26\"],[1.0,\"#f0f921\"]]}],\"contourcarpet\":[{\"type\":\"contourcarpet\",\"colorbar\":{\"outlinewidth\":0,\"ticks\":\"\"}}],\"contour\":[{\"type\":\"contour\",\"colorbar\":{\"outlinewidth\":0,\"ticks\":\"\"},\"colorscale\":[[0.0,\"#0d0887\"],[0.1111111111111111,\"#46039f\"],[0.2222222222222222,\"#7201a8\"],[0.3333333333333333,\"#9c179e\"],[0.4444444444444444,\"#bd3786\"],[0.5555555555555556,\"#d8576b\"],[0.6666666666666666,\"#ed7953\"],[0.7777777777777778,\"#fb9f3a\"],[0.8888888888888888,\"#fdca26\"],[1.0,\"#f0f921\"]]}],\"surface\":[{\"type\":\"surface\",\"colorbar\":{\"outlinewidth\":0,\"ticks\":\"\"},\"colorscale\":[[0.0,\"#0d0887\"],[0.1111111111111111,\"#46039f\"],[0.2222222222222222,\"#7201a8\"],[0.3333333333333333,\"#9c179e\"],[0.4444444444444444,\"#bd3786\"],[0.5555555555555556,\"#d8576b\"],[0.6666666666666666,\"#ed7953\"],[0.7777777777777778,\"#fb9f3a\"],[0.8888888888888888,\"#fdca26\"],[1.0,\"#f0f921\"]]}],\"mesh3d\":[{\"type\":\"mesh3d\",\"colorbar\":{\"outlinewidth\":0,\"ticks\":\"\"}}],\"scatter\":[{\"fillpattern\":{\"fillmode\":\"overlay\",\"size\":10,\"solidity\":0.2},\"type\":\"scatter\"}],\"parcoords\":[{\"type\":\"parcoords\",\"line\":{\"colorbar\":{\"outlinewidth\":0,\"ticks\":\"\"}}}],\"scatterpolargl\":[{\"type\":\"scatterpolargl\",\"marker\":{\"colorbar\":{\"outlinewidth\":0,\"ticks\":\"\"}}}],\"bar\":[{\"error_x\":{\"color\":\"#2a3f5f\"},\"error_y\":{\"color\":\"#2a3f5f\"},\"marker\":{\"line\":{\"color\":\"#E5ECF6\",\"width\":0.5},\"pattern\":{\"fillmode\":\"overlay\",\"size\":10,\"solidity\":0.2}},\"type\":\"bar\"}],\"scattergeo\":[{\"type\":\"scattergeo\",\"marker\":{\"colorbar\":{\"outlinewidth\":0,\"ticks\":\"\"}}}],\"scatterpolar\":[{\"type\":\"scatterpolar\",\"marker\":{\"colorbar\":{\"outlinewidth\":0,\"ticks\":\"\"}}}],\"histogram\":[{\"marker\":{\"pattern\":{\"fillmode\":\"overlay\",\"size\":10,\"solidity\":0.2}},\"type\":\"histogram\"}],\"scattergl\":[{\"type\":\"scattergl\",\"marker\":{\"colorbar\":{\"outlinewidth\":0,\"ticks\":\"\"}}}],\"scatter3d\":[{\"type\":\"scatter3d\",\"line\":{\"colorbar\":{\"outlinewidth\":0,\"ticks\":\"\"}},\"marker\":{\"colorbar\":{\"outlinewidth\":0,\"ticks\":\"\"}}}],\"scattermapbox\":[{\"type\":\"scattermapbox\",\"marker\":{\"colorbar\":{\"outlinewidth\":0,\"ticks\":\"\"}}}],\"scatterternary\":[{\"type\":\"scatterternary\",\"marker\":{\"colorbar\":{\"outlinewidth\":0,\"ticks\":\"\"}}}],\"scattercarpet\":[{\"type\":\"scattercarpet\",\"marker\":{\"colorbar\":{\"outlinewidth\":0,\"ticks\":\"\"}}}],\"carpet\":[{\"aaxis\":{\"endlinecolor\":\"#2a3f5f\",\"gridcolor\":\"white\",\"linecolor\":\"white\",\"minorgridcolor\":\"white\",\"startlinecolor\":\"#2a3f5f\"},\"baxis\":{\"endlinecolor\":\"#2a3f5f\",\"gridcolor\":\"white\",\"linecolor\":\"white\",\"minorgridcolor\":\"white\",\"startlinecolor\":\"#2a3f5f\"},\"type\":\"carpet\"}],\"table\":[{\"cells\":{\"fill\":{\"color\":\"#EBF0F8\"},\"line\":{\"color\":\"white\"}},\"header\":{\"fill\":{\"color\":\"#C8D4E3\"},\"line\":{\"color\":\"white\"}},\"type\":\"table\"}],\"barpolar\":[{\"marker\":{\"line\":{\"color\":\"#E5ECF6\",\"width\":0.5},\"pattern\":{\"fillmode\":\"overlay\",\"size\":10,\"solidity\":0.2}},\"type\":\"barpolar\"}],\"pie\":[{\"automargin\":true,\"type\":\"pie\"}]},\"layout\":{\"autotypenumbers\":\"strict\",\"colorway\":[\"#636efa\",\"#EF553B\",\"#00cc96\",\"#ab63fa\",\"#FFA15A\",\"#19d3f3\",\"#FF6692\",\"#B6E880\",\"#FF97FF\",\"#FECB52\"],\"font\":{\"color\":\"#2a3f5f\"},\"hovermode\":\"closest\",\"hoverlabel\":{\"align\":\"left\"},\"paper_bgcolor\":\"white\",\"plot_bgcolor\":\"#E5ECF6\",\"polar\":{\"bgcolor\":\"#E5ECF6\",\"angularaxis\":{\"gridcolor\":\"white\",\"linecolor\":\"white\",\"ticks\":\"\"},\"radialaxis\":{\"gridcolor\":\"white\",\"linecolor\":\"white\",\"ticks\":\"\"}},\"ternary\":{\"bgcolor\":\"#E5ECF6\",\"aaxis\":{\"gridcolor\":\"white\",\"linecolor\":\"white\",\"ticks\":\"\"},\"baxis\":{\"gridcolor\":\"white\",\"linecolor\":\"white\",\"ticks\":\"\"},\"caxis\":{\"gridcolor\":\"white\",\"linecolor\":\"white\",\"ticks\":\"\"}},\"coloraxis\":{\"colorbar\":{\"outlinewidth\":0,\"ticks\":\"\"}},\"colorscale\":{\"sequential\":[[0.0,\"#0d0887\"],[0.1111111111111111,\"#46039f\"],[0.2222222222222222,\"#7201a8\"],[0.3333333333333333,\"#9c179e\"],[0.4444444444444444,\"#bd3786\"],[0.5555555555555556,\"#d8576b\"],[0.6666666666666666,\"#ed7953\"],[0.7777777777777778,\"#fb9f3a\"],[0.8888888888888888,\"#fdca26\"],[1.0,\"#f0f921\"]],\"sequentialminus\":[[0.0,\"#0d0887\"],[0.1111111111111111,\"#46039f\"],[0.2222222222222222,\"#7201a8\"],[0.3333333333333333,\"#9c179e\"],[0.4444444444444444,\"#bd3786\"],[0.5555555555555556,\"#d8576b\"],[0.6666666666666666,\"#ed7953\"],[0.7777777777777778,\"#fb9f3a\"],[0.8888888888888888,\"#fdca26\"],[1.0,\"#f0f921\"]],\"diverging\":[[0,\"#8e0152\"],[0.1,\"#c51b7d\"],[0.2,\"#de77ae\"],[0.3,\"#f1b6da\"],[0.4,\"#fde0ef\"],[0.5,\"#f7f7f7\"],[0.6,\"#e6f5d0\"],[0.7,\"#b8e186\"],[0.8,\"#7fbc41\"],[0.9,\"#4d9221\"],[1,\"#276419\"]]},\"xaxis\":{\"gridcolor\":\"white\",\"linecolor\":\"white\",\"ticks\":\"\",\"title\":{\"standoff\":15},\"zerolinecolor\":\"white\",\"automargin\":true,\"zerolinewidth\":2},\"yaxis\":{\"gridcolor\":\"white\",\"linecolor\":\"white\",\"ticks\":\"\",\"title\":{\"standoff\":15},\"zerolinecolor\":\"white\",\"automargin\":true,\"zerolinewidth\":2},\"scene\":{\"xaxis\":{\"backgroundcolor\":\"#E5ECF6\",\"gridcolor\":\"white\",\"linecolor\":\"white\",\"showbackground\":true,\"ticks\":\"\",\"zerolinecolor\":\"white\",\"gridwidth\":2},\"yaxis\":{\"backgroundcolor\":\"#E5ECF6\",\"gridcolor\":\"white\",\"linecolor\":\"white\",\"showbackground\":true,\"ticks\":\"\",\"zerolinecolor\":\"white\",\"gridwidth\":2},\"zaxis\":{\"backgroundcolor\":\"#E5ECF6\",\"gridcolor\":\"white\",\"linecolor\":\"white\",\"showbackground\":true,\"ticks\":\"\",\"zerolinecolor\":\"white\",\"gridwidth\":2}},\"shapedefaults\":{\"line\":{\"color\":\"#2a3f5f\"}},\"annotationdefaults\":{\"arrowcolor\":\"#2a3f5f\",\"arrowhead\":0,\"arrowwidth\":1},\"geo\":{\"bgcolor\":\"white\",\"landcolor\":\"#E5ECF6\",\"subunitcolor\":\"white\",\"showland\":true,\"showlakes\":true,\"lakecolor\":\"white\"},\"title\":{\"x\":0.05},\"mapbox\":{\"style\":\"light\"}}},\"xaxis\":{\"anchor\":\"y\",\"domain\":[0.0,1.0],\"title\":{\"text\":\"candle_date_time_kst\"}},\"yaxis\":{\"anchor\":\"x\",\"domain\":[0.0,1.0],\"title\":{\"text\":\"trade_price\"}},\"legend\":{\"tracegroupgap\":0},\"margin\":{\"t\":60},\"barmode\":\"relative\"},                        {\"responsive\": true}                    ).then(function(){\n",
       "                            \n",
       "var gd = document.getElementById('f3416087-4c98-4a4b-b5af-e8f76de55f53');\n",
       "var x = new MutationObserver(function (mutations, observer) {{\n",
       "        var display = window.getComputedStyle(gd).display;\n",
       "        if (!display || display === 'none') {{\n",
       "            console.log([gd, 'removed!']);\n",
       "            Plotly.purge(gd);\n",
       "            observer.disconnect();\n",
       "        }}\n",
       "}});\n",
       "\n",
       "// Listen for the removal of the full notebook cells\n",
       "var notebookContainer = gd.closest('#notebook-container');\n",
       "if (notebookContainer) {{\n",
       "    x.observe(notebookContainer, {childList: true});\n",
       "}}\n",
       "\n",
       "// Listen for the clearing of the current output cell\n",
       "var outputEl = gd.closest('.output');\n",
       "if (outputEl) {{\n",
       "    x.observe(outputEl, {childList: true});\n",
       "}}\n",
       "\n",
       "                        })                };                });            </script>        </div>"
      ]
     },
     "metadata": {},
     "output_type": "display_data"
    }
   ],
   "source": [
    "fig = px.bar(my_df[my_df.market == 'BTC'][-10:],\n",
    "                 x = 'candle_date_time_kst',\n",
    "                 y = 'trade_price')\n",
    "fig.show()"
   ]
  },
  {
   "cell_type": "code",
   "execution_count": 254,
   "id": "9f582479",
   "metadata": {},
   "outputs": [
    {
     "data": {
      "application/vnd.plotly.v1+json": {
       "config": {
        "plotlyServerURL": "https://plot.ly"
       },
       "data": [
        {
         "hovertemplate": "candle_date_time_kst=%{x}<br>trade_price=%{y}<extra></extra>",
         "legendgroup": "",
         "line": {
          "color": "#636efa",
          "dash": "solid"
         },
         "marker": {
          "symbol": "circle"
         },
         "mode": "lines",
         "name": "",
         "orientation": "v",
         "showlegend": false,
         "type": "scatter",
         "x": [
          "2023-12-28",
          "2023-12-27",
          "2023-12-26",
          "2023-12-25",
          "2023-12-24",
          "2023-12-23",
          "2023-12-22",
          "2023-12-21",
          "2023-12-20",
          "2023-12-19",
          "2023-12-18",
          "2023-12-17",
          "2023-12-16",
          "2023-12-15",
          "2023-12-14",
          "2023-12-13",
          "2023-12-12",
          "2023-12-11",
          "2023-12-10",
          "2023-12-09",
          "2023-12-08",
          "2023-12-07",
          "2023-12-06",
          "2023-12-05",
          "2023-12-04",
          "2023-12-03",
          "2023-12-02",
          "2023-12-01",
          "2023-11-30",
          "2023-11-29",
          "2023-11-28",
          "2023-11-27",
          "2023-11-26",
          "2023-11-25",
          "2023-11-24",
          "2023-11-23",
          "2023-11-22",
          "2023-11-21",
          "2023-11-20",
          "2023-11-19",
          "2023-11-18",
          "2023-11-17",
          "2023-11-16",
          "2023-11-15",
          "2023-11-14",
          "2023-11-13",
          "2023-11-12",
          "2023-11-11",
          "2023-11-10",
          "2023-11-09",
          "2023-11-08",
          "2023-11-07",
          "2023-11-06",
          "2023-11-05",
          "2023-11-04",
          "2023-11-03",
          "2023-11-02",
          "2023-11-01",
          "2023-10-31",
          "2023-10-30",
          "2023-10-29",
          "2023-10-28",
          "2023-10-27",
          "2023-10-26",
          "2023-10-25",
          "2023-10-24",
          "2023-10-23",
          "2023-10-22",
          "2023-10-21",
          "2023-10-20",
          "2023-10-19",
          "2023-10-18",
          "2023-10-17",
          "2023-10-16",
          "2023-10-15",
          "2023-10-14",
          "2023-10-13",
          "2023-10-12",
          "2023-10-11",
          "2023-10-10",
          "2023-10-09",
          "2023-10-08",
          "2023-10-07",
          "2023-10-06",
          "2023-10-05",
          "2023-10-04",
          "2023-10-03",
          "2023-10-02",
          "2023-10-01",
          "2023-09-30",
          "2023-09-29",
          "2023-09-28",
          "2023-09-27",
          "2023-09-26",
          "2023-09-25",
          "2023-09-24",
          "2023-09-23",
          "2023-09-22",
          "2023-09-21",
          "2023-09-20",
          "2023-09-19",
          "2023-09-18",
          "2023-09-17",
          "2023-09-16",
          "2023-09-15",
          "2023-09-14",
          "2023-09-13",
          "2023-09-12",
          "2023-09-11",
          "2023-09-10",
          "2023-09-09",
          "2023-09-08",
          "2023-09-07",
          "2023-09-06",
          "2023-09-05",
          "2023-09-04",
          "2023-09-03",
          "2023-09-02",
          "2023-09-01",
          "2023-08-31",
          "2023-08-30",
          "2023-08-29",
          "2023-08-28",
          "2023-08-27",
          "2023-08-26",
          "2023-08-25",
          "2023-08-24",
          "2023-08-23",
          "2023-08-22",
          "2023-08-21",
          "2023-08-20",
          "2023-08-19",
          "2023-08-18",
          "2023-08-17",
          "2023-08-16",
          "2023-08-15",
          "2023-08-14",
          "2023-08-13",
          "2023-08-12",
          "2023-08-11",
          "2023-08-10",
          "2023-08-09",
          "2023-08-08",
          "2023-08-07",
          "2023-08-06",
          "2023-08-05",
          "2023-08-04",
          "2023-08-03",
          "2023-08-02",
          "2023-08-01",
          "2023-07-31",
          "2023-07-30",
          "2023-07-29",
          "2023-07-28",
          "2023-07-27",
          "2023-07-26",
          "2023-07-25",
          "2023-07-24",
          "2023-07-23",
          "2023-07-22",
          "2023-07-21",
          "2023-07-20",
          "2023-07-19",
          "2023-07-18",
          "2023-07-17",
          "2023-07-16",
          "2023-07-15",
          "2023-07-14",
          "2023-07-13",
          "2023-07-12",
          "2023-07-11",
          "2023-07-10",
          "2023-07-09",
          "2023-07-08",
          "2023-07-07",
          "2023-07-06",
          "2023-07-05",
          "2023-07-04",
          "2023-07-03",
          "2023-07-02",
          "2023-07-01",
          "2023-06-30",
          "2023-06-29",
          "2023-06-28",
          "2023-06-27",
          "2023-06-26",
          "2023-06-25",
          "2023-06-24",
          "2023-06-23",
          "2023-06-22",
          "2023-06-21",
          "2023-06-20",
          "2023-06-19",
          "2023-06-18",
          "2023-06-17",
          "2023-06-16",
          "2023-06-15",
          "2023-06-14",
          "2023-06-13",
          "2023-06-12"
         ],
         "xaxis": "x",
         "y": [
          3211000,
          3171000,
          2994000,
          3028000,
          3050000,
          3126000,
          3150000,
          3037000,
          2991000,
          2979000,
          3024000,
          3013000,
          3056000,
          3073000,
          3159000,
          3114000,
          3061000,
          3073000,
          3213000,
          3218000,
          3215000,
          3227000,
          3081000,
          3137000,
          3037000,
          2942000,
          2886000,
          2794000,
          2750000,
          2718000,
          2740000,
          2738000,
          2768000,
          2785000,
          2790000,
          2761000,
          2761000,
          2620000,
          2708000,
          2680000,
          2638000,
          2650000,
          2654000,
          2746000,
          2673000,
          2767000,
          2724000,
          2748000,
          2792000,
          2855000,
          2518000,
          2524000,
          2536000,
          2541000,
          2489000,
          2465000,
          2447000,
          2504000,
          2464000,
          2450000,
          2436000,
          2418000,
          2415000,
          2435000,
          2409000,
          2399000,
          2361000,
          2236000,
          2199000,
          2176000,
          2129000,
          2138000,
          2129000,
          2172000,
          2127000,
          2131000,
          2134000,
          2115000,
          2140000,
          2138000,
          2155000,
          2216000,
          2218000,
          2228000,
          2191000,
          2232000,
          2247000,
          2258000,
          2340000,
          2267000,
          2256000,
          2241000,
          2181000,
          2161000,
          2141000,
          2137000,
          2158000,
          2158000,
          2146000,
          2185000,
          2205000,
          2200000,
          2187000,
          2215000,
          2215000,
          2197000,
          2177000,
          2161000,
          2117000,
          2205000,
          2227000,
          2227000,
          2238000,
          2220000,
          2220000,
          2211000,
          2225000,
          2227000,
          2232000,
          2255000,
          2319000,
          2336000,
          2234000,
          2247000,
          2242000,
          2252000,
          2262000,
          2285000,
          2241000,
          2286000,
          2312000,
          2305000,
          2289000,
          2311000,
          2453000,
          2468000,
          2464000,
          2456000,
          2469000,
          2468000,
          2460000,
          2460000,
          2455000,
          2421000,
          2427000,
          2431000,
          2420000,
          2418000,
          2420000,
          2437000,
          2409000,
          2409000,
          2426000,
          2424000,
          2414000,
          2416000,
          2411000,
          2404000,
          2444000,
          2430000,
          2456000,
          2447000,
          2423000,
          2441000,
          2455000,
          2476000,
          2479000,
          2499000,
          2553000,
          2450000,
          2461000,
          2475000,
          2460000,
          2474000,
          2481000,
          2465000,
          2531000,
          2557000,
          2582000,
          2572000,
          2563000,
          2574000,
          2469000,
          2431000,
          2498000,
          2466000,
          2514000,
          2499000,
          2509000,
          2451000,
          2469000,
          2339000,
          2269000,
          2253000,
          2267000,
          2253000,
          2179000,
          2168000,
          2273000,
          2293000
         ],
         "yaxis": "y"
        }
       ],
       "layout": {
        "legend": {
         "tracegroupgap": 0
        },
        "margin": {
         "t": 60
        },
        "template": {
         "data": {
          "bar": [
           {
            "error_x": {
             "color": "#2a3f5f"
            },
            "error_y": {
             "color": "#2a3f5f"
            },
            "marker": {
             "line": {
              "color": "#E5ECF6",
              "width": 0.5
             },
             "pattern": {
              "fillmode": "overlay",
              "size": 10,
              "solidity": 0.2
             }
            },
            "type": "bar"
           }
          ],
          "barpolar": [
           {
            "marker": {
             "line": {
              "color": "#E5ECF6",
              "width": 0.5
             },
             "pattern": {
              "fillmode": "overlay",
              "size": 10,
              "solidity": 0.2
             }
            },
            "type": "barpolar"
           }
          ],
          "carpet": [
           {
            "aaxis": {
             "endlinecolor": "#2a3f5f",
             "gridcolor": "white",
             "linecolor": "white",
             "minorgridcolor": "white",
             "startlinecolor": "#2a3f5f"
            },
            "baxis": {
             "endlinecolor": "#2a3f5f",
             "gridcolor": "white",
             "linecolor": "white",
             "minorgridcolor": "white",
             "startlinecolor": "#2a3f5f"
            },
            "type": "carpet"
           }
          ],
          "choropleth": [
           {
            "colorbar": {
             "outlinewidth": 0,
             "ticks": ""
            },
            "type": "choropleth"
           }
          ],
          "contour": [
           {
            "colorbar": {
             "outlinewidth": 0,
             "ticks": ""
            },
            "colorscale": [
             [
              0,
              "#0d0887"
             ],
             [
              0.1111111111111111,
              "#46039f"
             ],
             [
              0.2222222222222222,
              "#7201a8"
             ],
             [
              0.3333333333333333,
              "#9c179e"
             ],
             [
              0.4444444444444444,
              "#bd3786"
             ],
             [
              0.5555555555555556,
              "#d8576b"
             ],
             [
              0.6666666666666666,
              "#ed7953"
             ],
             [
              0.7777777777777778,
              "#fb9f3a"
             ],
             [
              0.8888888888888888,
              "#fdca26"
             ],
             [
              1,
              "#f0f921"
             ]
            ],
            "type": "contour"
           }
          ],
          "contourcarpet": [
           {
            "colorbar": {
             "outlinewidth": 0,
             "ticks": ""
            },
            "type": "contourcarpet"
           }
          ],
          "heatmap": [
           {
            "colorbar": {
             "outlinewidth": 0,
             "ticks": ""
            },
            "colorscale": [
             [
              0,
              "#0d0887"
             ],
             [
              0.1111111111111111,
              "#46039f"
             ],
             [
              0.2222222222222222,
              "#7201a8"
             ],
             [
              0.3333333333333333,
              "#9c179e"
             ],
             [
              0.4444444444444444,
              "#bd3786"
             ],
             [
              0.5555555555555556,
              "#d8576b"
             ],
             [
              0.6666666666666666,
              "#ed7953"
             ],
             [
              0.7777777777777778,
              "#fb9f3a"
             ],
             [
              0.8888888888888888,
              "#fdca26"
             ],
             [
              1,
              "#f0f921"
             ]
            ],
            "type": "heatmap"
           }
          ],
          "heatmapgl": [
           {
            "colorbar": {
             "outlinewidth": 0,
             "ticks": ""
            },
            "colorscale": [
             [
              0,
              "#0d0887"
             ],
             [
              0.1111111111111111,
              "#46039f"
             ],
             [
              0.2222222222222222,
              "#7201a8"
             ],
             [
              0.3333333333333333,
              "#9c179e"
             ],
             [
              0.4444444444444444,
              "#bd3786"
             ],
             [
              0.5555555555555556,
              "#d8576b"
             ],
             [
              0.6666666666666666,
              "#ed7953"
             ],
             [
              0.7777777777777778,
              "#fb9f3a"
             ],
             [
              0.8888888888888888,
              "#fdca26"
             ],
             [
              1,
              "#f0f921"
             ]
            ],
            "type": "heatmapgl"
           }
          ],
          "histogram": [
           {
            "marker": {
             "pattern": {
              "fillmode": "overlay",
              "size": 10,
              "solidity": 0.2
             }
            },
            "type": "histogram"
           }
          ],
          "histogram2d": [
           {
            "colorbar": {
             "outlinewidth": 0,
             "ticks": ""
            },
            "colorscale": [
             [
              0,
              "#0d0887"
             ],
             [
              0.1111111111111111,
              "#46039f"
             ],
             [
              0.2222222222222222,
              "#7201a8"
             ],
             [
              0.3333333333333333,
              "#9c179e"
             ],
             [
              0.4444444444444444,
              "#bd3786"
             ],
             [
              0.5555555555555556,
              "#d8576b"
             ],
             [
              0.6666666666666666,
              "#ed7953"
             ],
             [
              0.7777777777777778,
              "#fb9f3a"
             ],
             [
              0.8888888888888888,
              "#fdca26"
             ],
             [
              1,
              "#f0f921"
             ]
            ],
            "type": "histogram2d"
           }
          ],
          "histogram2dcontour": [
           {
            "colorbar": {
             "outlinewidth": 0,
             "ticks": ""
            },
            "colorscale": [
             [
              0,
              "#0d0887"
             ],
             [
              0.1111111111111111,
              "#46039f"
             ],
             [
              0.2222222222222222,
              "#7201a8"
             ],
             [
              0.3333333333333333,
              "#9c179e"
             ],
             [
              0.4444444444444444,
              "#bd3786"
             ],
             [
              0.5555555555555556,
              "#d8576b"
             ],
             [
              0.6666666666666666,
              "#ed7953"
             ],
             [
              0.7777777777777778,
              "#fb9f3a"
             ],
             [
              0.8888888888888888,
              "#fdca26"
             ],
             [
              1,
              "#f0f921"
             ]
            ],
            "type": "histogram2dcontour"
           }
          ],
          "mesh3d": [
           {
            "colorbar": {
             "outlinewidth": 0,
             "ticks": ""
            },
            "type": "mesh3d"
           }
          ],
          "parcoords": [
           {
            "line": {
             "colorbar": {
              "outlinewidth": 0,
              "ticks": ""
             }
            },
            "type": "parcoords"
           }
          ],
          "pie": [
           {
            "automargin": true,
            "type": "pie"
           }
          ],
          "scatter": [
           {
            "fillpattern": {
             "fillmode": "overlay",
             "size": 10,
             "solidity": 0.2
            },
            "type": "scatter"
           }
          ],
          "scatter3d": [
           {
            "line": {
             "colorbar": {
              "outlinewidth": 0,
              "ticks": ""
             }
            },
            "marker": {
             "colorbar": {
              "outlinewidth": 0,
              "ticks": ""
             }
            },
            "type": "scatter3d"
           }
          ],
          "scattercarpet": [
           {
            "marker": {
             "colorbar": {
              "outlinewidth": 0,
              "ticks": ""
             }
            },
            "type": "scattercarpet"
           }
          ],
          "scattergeo": [
           {
            "marker": {
             "colorbar": {
              "outlinewidth": 0,
              "ticks": ""
             }
            },
            "type": "scattergeo"
           }
          ],
          "scattergl": [
           {
            "marker": {
             "colorbar": {
              "outlinewidth": 0,
              "ticks": ""
             }
            },
            "type": "scattergl"
           }
          ],
          "scattermapbox": [
           {
            "marker": {
             "colorbar": {
              "outlinewidth": 0,
              "ticks": ""
             }
            },
            "type": "scattermapbox"
           }
          ],
          "scatterpolar": [
           {
            "marker": {
             "colorbar": {
              "outlinewidth": 0,
              "ticks": ""
             }
            },
            "type": "scatterpolar"
           }
          ],
          "scatterpolargl": [
           {
            "marker": {
             "colorbar": {
              "outlinewidth": 0,
              "ticks": ""
             }
            },
            "type": "scatterpolargl"
           }
          ],
          "scatterternary": [
           {
            "marker": {
             "colorbar": {
              "outlinewidth": 0,
              "ticks": ""
             }
            },
            "type": "scatterternary"
           }
          ],
          "surface": [
           {
            "colorbar": {
             "outlinewidth": 0,
             "ticks": ""
            },
            "colorscale": [
             [
              0,
              "#0d0887"
             ],
             [
              0.1111111111111111,
              "#46039f"
             ],
             [
              0.2222222222222222,
              "#7201a8"
             ],
             [
              0.3333333333333333,
              "#9c179e"
             ],
             [
              0.4444444444444444,
              "#bd3786"
             ],
             [
              0.5555555555555556,
              "#d8576b"
             ],
             [
              0.6666666666666666,
              "#ed7953"
             ],
             [
              0.7777777777777778,
              "#fb9f3a"
             ],
             [
              0.8888888888888888,
              "#fdca26"
             ],
             [
              1,
              "#f0f921"
             ]
            ],
            "type": "surface"
           }
          ],
          "table": [
           {
            "cells": {
             "fill": {
              "color": "#EBF0F8"
             },
             "line": {
              "color": "white"
             }
            },
            "header": {
             "fill": {
              "color": "#C8D4E3"
             },
             "line": {
              "color": "white"
             }
            },
            "type": "table"
           }
          ]
         },
         "layout": {
          "annotationdefaults": {
           "arrowcolor": "#2a3f5f",
           "arrowhead": 0,
           "arrowwidth": 1
          },
          "autotypenumbers": "strict",
          "coloraxis": {
           "colorbar": {
            "outlinewidth": 0,
            "ticks": ""
           }
          },
          "colorscale": {
           "diverging": [
            [
             0,
             "#8e0152"
            ],
            [
             0.1,
             "#c51b7d"
            ],
            [
             0.2,
             "#de77ae"
            ],
            [
             0.3,
             "#f1b6da"
            ],
            [
             0.4,
             "#fde0ef"
            ],
            [
             0.5,
             "#f7f7f7"
            ],
            [
             0.6,
             "#e6f5d0"
            ],
            [
             0.7,
             "#b8e186"
            ],
            [
             0.8,
             "#7fbc41"
            ],
            [
             0.9,
             "#4d9221"
            ],
            [
             1,
             "#276419"
            ]
           ],
           "sequential": [
            [
             0,
             "#0d0887"
            ],
            [
             0.1111111111111111,
             "#46039f"
            ],
            [
             0.2222222222222222,
             "#7201a8"
            ],
            [
             0.3333333333333333,
             "#9c179e"
            ],
            [
             0.4444444444444444,
             "#bd3786"
            ],
            [
             0.5555555555555556,
             "#d8576b"
            ],
            [
             0.6666666666666666,
             "#ed7953"
            ],
            [
             0.7777777777777778,
             "#fb9f3a"
            ],
            [
             0.8888888888888888,
             "#fdca26"
            ],
            [
             1,
             "#f0f921"
            ]
           ],
           "sequentialminus": [
            [
             0,
             "#0d0887"
            ],
            [
             0.1111111111111111,
             "#46039f"
            ],
            [
             0.2222222222222222,
             "#7201a8"
            ],
            [
             0.3333333333333333,
             "#9c179e"
            ],
            [
             0.4444444444444444,
             "#bd3786"
            ],
            [
             0.5555555555555556,
             "#d8576b"
            ],
            [
             0.6666666666666666,
             "#ed7953"
            ],
            [
             0.7777777777777778,
             "#fb9f3a"
            ],
            [
             0.8888888888888888,
             "#fdca26"
            ],
            [
             1,
             "#f0f921"
            ]
           ]
          },
          "colorway": [
           "#636efa",
           "#EF553B",
           "#00cc96",
           "#ab63fa",
           "#FFA15A",
           "#19d3f3",
           "#FF6692",
           "#B6E880",
           "#FF97FF",
           "#FECB52"
          ],
          "font": {
           "color": "#2a3f5f"
          },
          "geo": {
           "bgcolor": "white",
           "lakecolor": "white",
           "landcolor": "#E5ECF6",
           "showlakes": true,
           "showland": true,
           "subunitcolor": "white"
          },
          "hoverlabel": {
           "align": "left"
          },
          "hovermode": "closest",
          "mapbox": {
           "style": "light"
          },
          "paper_bgcolor": "white",
          "plot_bgcolor": "#E5ECF6",
          "polar": {
           "angularaxis": {
            "gridcolor": "white",
            "linecolor": "white",
            "ticks": ""
           },
           "bgcolor": "#E5ECF6",
           "radialaxis": {
            "gridcolor": "white",
            "linecolor": "white",
            "ticks": ""
           }
          },
          "scene": {
           "xaxis": {
            "backgroundcolor": "#E5ECF6",
            "gridcolor": "white",
            "gridwidth": 2,
            "linecolor": "white",
            "showbackground": true,
            "ticks": "",
            "zerolinecolor": "white"
           },
           "yaxis": {
            "backgroundcolor": "#E5ECF6",
            "gridcolor": "white",
            "gridwidth": 2,
            "linecolor": "white",
            "showbackground": true,
            "ticks": "",
            "zerolinecolor": "white"
           },
           "zaxis": {
            "backgroundcolor": "#E5ECF6",
            "gridcolor": "white",
            "gridwidth": 2,
            "linecolor": "white",
            "showbackground": true,
            "ticks": "",
            "zerolinecolor": "white"
           }
          },
          "shapedefaults": {
           "line": {
            "color": "#2a3f5f"
           }
          },
          "ternary": {
           "aaxis": {
            "gridcolor": "white",
            "linecolor": "white",
            "ticks": ""
           },
           "baxis": {
            "gridcolor": "white",
            "linecolor": "white",
            "ticks": ""
           },
           "bgcolor": "#E5ECF6",
           "caxis": {
            "gridcolor": "white",
            "linecolor": "white",
            "ticks": ""
           }
          },
          "title": {
           "x": 0.05
          },
          "xaxis": {
           "automargin": true,
           "gridcolor": "white",
           "linecolor": "white",
           "ticks": "",
           "title": {
            "standoff": 15
           },
           "zerolinecolor": "white",
           "zerolinewidth": 2
          },
          "yaxis": {
           "automargin": true,
           "gridcolor": "white",
           "linecolor": "white",
           "ticks": "",
           "title": {
            "standoff": 15
           },
           "zerolinecolor": "white",
           "zerolinewidth": 2
          }
         }
        },
        "xaxis": {
         "anchor": "y",
         "domain": [
          0,
          1
         ],
         "title": {
          "text": "candle_date_time_kst"
         }
        },
        "yaxis": {
         "anchor": "x",
         "domain": [
          0,
          1
         ],
         "title": {
          "text": "trade_price"
         }
        }
       }
      },
      "text/html": [
       "<div>                            <div id=\"fa491f22-be90-42fa-aa2e-ae9d659e849e\" class=\"plotly-graph-div\" style=\"height:525px; width:100%;\"></div>            <script type=\"text/javascript\">                require([\"plotly\"], function(Plotly) {                    window.PLOTLYENV=window.PLOTLYENV || {};                                    if (document.getElementById(\"fa491f22-be90-42fa-aa2e-ae9d659e849e\")) {                    Plotly.newPlot(                        \"fa491f22-be90-42fa-aa2e-ae9d659e849e\",                        [{\"hovertemplate\":\"candle_date_time_kst=%{x}<br>trade_price=%{y}<extra></extra>\",\"legendgroup\":\"\",\"line\":{\"color\":\"#636efa\",\"dash\":\"solid\"},\"marker\":{\"symbol\":\"circle\"},\"mode\":\"lines\",\"name\":\"\",\"orientation\":\"v\",\"showlegend\":false,\"x\":[\"2023-12-28\",\"2023-12-27\",\"2023-12-26\",\"2023-12-25\",\"2023-12-24\",\"2023-12-23\",\"2023-12-22\",\"2023-12-21\",\"2023-12-20\",\"2023-12-19\",\"2023-12-18\",\"2023-12-17\",\"2023-12-16\",\"2023-12-15\",\"2023-12-14\",\"2023-12-13\",\"2023-12-12\",\"2023-12-11\",\"2023-12-10\",\"2023-12-09\",\"2023-12-08\",\"2023-12-07\",\"2023-12-06\",\"2023-12-05\",\"2023-12-04\",\"2023-12-03\",\"2023-12-02\",\"2023-12-01\",\"2023-11-30\",\"2023-11-29\",\"2023-11-28\",\"2023-11-27\",\"2023-11-26\",\"2023-11-25\",\"2023-11-24\",\"2023-11-23\",\"2023-11-22\",\"2023-11-21\",\"2023-11-20\",\"2023-11-19\",\"2023-11-18\",\"2023-11-17\",\"2023-11-16\",\"2023-11-15\",\"2023-11-14\",\"2023-11-13\",\"2023-11-12\",\"2023-11-11\",\"2023-11-10\",\"2023-11-09\",\"2023-11-08\",\"2023-11-07\",\"2023-11-06\",\"2023-11-05\",\"2023-11-04\",\"2023-11-03\",\"2023-11-02\",\"2023-11-01\",\"2023-10-31\",\"2023-10-30\",\"2023-10-29\",\"2023-10-28\",\"2023-10-27\",\"2023-10-26\",\"2023-10-25\",\"2023-10-24\",\"2023-10-23\",\"2023-10-22\",\"2023-10-21\",\"2023-10-20\",\"2023-10-19\",\"2023-10-18\",\"2023-10-17\",\"2023-10-16\",\"2023-10-15\",\"2023-10-14\",\"2023-10-13\",\"2023-10-12\",\"2023-10-11\",\"2023-10-10\",\"2023-10-09\",\"2023-10-08\",\"2023-10-07\",\"2023-10-06\",\"2023-10-05\",\"2023-10-04\",\"2023-10-03\",\"2023-10-02\",\"2023-10-01\",\"2023-09-30\",\"2023-09-29\",\"2023-09-28\",\"2023-09-27\",\"2023-09-26\",\"2023-09-25\",\"2023-09-24\",\"2023-09-23\",\"2023-09-22\",\"2023-09-21\",\"2023-09-20\",\"2023-09-19\",\"2023-09-18\",\"2023-09-17\",\"2023-09-16\",\"2023-09-15\",\"2023-09-14\",\"2023-09-13\",\"2023-09-12\",\"2023-09-11\",\"2023-09-10\",\"2023-09-09\",\"2023-09-08\",\"2023-09-07\",\"2023-09-06\",\"2023-09-05\",\"2023-09-04\",\"2023-09-03\",\"2023-09-02\",\"2023-09-01\",\"2023-08-31\",\"2023-08-30\",\"2023-08-29\",\"2023-08-28\",\"2023-08-27\",\"2023-08-26\",\"2023-08-25\",\"2023-08-24\",\"2023-08-23\",\"2023-08-22\",\"2023-08-21\",\"2023-08-20\",\"2023-08-19\",\"2023-08-18\",\"2023-08-17\",\"2023-08-16\",\"2023-08-15\",\"2023-08-14\",\"2023-08-13\",\"2023-08-12\",\"2023-08-11\",\"2023-08-10\",\"2023-08-09\",\"2023-08-08\",\"2023-08-07\",\"2023-08-06\",\"2023-08-05\",\"2023-08-04\",\"2023-08-03\",\"2023-08-02\",\"2023-08-01\",\"2023-07-31\",\"2023-07-30\",\"2023-07-29\",\"2023-07-28\",\"2023-07-27\",\"2023-07-26\",\"2023-07-25\",\"2023-07-24\",\"2023-07-23\",\"2023-07-22\",\"2023-07-21\",\"2023-07-20\",\"2023-07-19\",\"2023-07-18\",\"2023-07-17\",\"2023-07-16\",\"2023-07-15\",\"2023-07-14\",\"2023-07-13\",\"2023-07-12\",\"2023-07-11\",\"2023-07-10\",\"2023-07-09\",\"2023-07-08\",\"2023-07-07\",\"2023-07-06\",\"2023-07-05\",\"2023-07-04\",\"2023-07-03\",\"2023-07-02\",\"2023-07-01\",\"2023-06-30\",\"2023-06-29\",\"2023-06-28\",\"2023-06-27\",\"2023-06-26\",\"2023-06-25\",\"2023-06-24\",\"2023-06-23\",\"2023-06-22\",\"2023-06-21\",\"2023-06-20\",\"2023-06-19\",\"2023-06-18\",\"2023-06-17\",\"2023-06-16\",\"2023-06-15\",\"2023-06-14\",\"2023-06-13\",\"2023-06-12\"],\"xaxis\":\"x\",\"y\":[3211000.0,3171000.0,2994000.0,3028000.0,3050000.0,3126000.0,3150000.0,3037000.0,2991000.0,2979000.0,3024000.0,3013000.0,3056000.0,3073000.0,3159000.0,3114000.0,3061000.0,3073000.0,3213000.0,3218000.0,3215000.0,3227000.0,3081000.0,3137000.0,3037000.0,2942000.0,2886000.0,2794000.0,2750000.0,2718000.0,2740000.0,2738000.0,2768000.0,2785000.0,2790000.0,2761000.0,2761000.0,2620000.0,2708000.0,2680000.0,2638000.0,2650000.0,2654000.0,2746000.0,2673000.0,2767000.0,2724000.0,2748000.0,2792000.0,2855000.0,2518000.0,2524000.0,2536000.0,2541000.0,2489000.0,2465000.0,2447000.0,2504000.0,2464000.0,2450000.0,2436000.0,2418000.0,2415000.0,2435000.0,2409000.0,2399000.0,2361000.0,2236000.0,2199000.0,2176000.0,2129000.0,2138000.0,2129000.0,2172000.0,2127000.0,2131000.0,2134000.0,2115000.0,2140000.0,2138000.0,2155000.0,2216000.0,2218000.0,2228000.0,2191000.0,2232000.0,2247000.0,2258000.0,2340000.0,2267000.0,2256000.0,2241000.0,2181000.0,2161000.0,2141000.0,2137000.0,2158000.0,2158000.0,2146000.0,2185000.0,2205000.0,2200000.0,2187000.0,2215000.0,2215000.0,2197000.0,2177000.0,2161000.0,2117000.0,2205000.0,2227000.0,2227000.0,2238000.0,2220000.0,2220000.0,2211000.0,2225000.0,2227000.0,2232000.0,2255000.0,2319000.0,2336000.0,2234000.0,2247000.0,2242000.0,2252000.0,2262000.0,2285000.0,2241000.0,2286000.0,2312000.0,2305000.0,2289000.0,2311000.0,2453000.0,2468000.0,2464000.0,2456000.0,2469000.0,2468000.0,2460000.0,2460000.0,2455000.0,2421000.0,2427000.0,2431000.0,2420000.0,2418000.0,2420000.0,2437000.0,2409000.0,2409000.0,2426000.0,2424000.0,2414000.0,2416000.0,2411000.0,2404000.0,2444000.0,2430000.0,2456000.0,2447000.0,2423000.0,2441000.0,2455000.0,2476000.0,2479000.0,2499000.0,2553000.0,2450000.0,2461000.0,2475000.0,2460000.0,2474000.0,2481000.0,2465000.0,2531000.0,2557000.0,2582000.0,2572000.0,2563000.0,2574000.0,2469000.0,2431000.0,2498000.0,2466000.0,2514000.0,2499000.0,2509000.0,2451000.0,2469000.0,2339000.0,2269000.0,2253000.0,2267000.0,2253000.0,2179000.0,2168000.0,2273000.0,2293000.0],\"yaxis\":\"y\",\"type\":\"scatter\"}],                        {\"template\":{\"data\":{\"histogram2dcontour\":[{\"type\":\"histogram2dcontour\",\"colorbar\":{\"outlinewidth\":0,\"ticks\":\"\"},\"colorscale\":[[0.0,\"#0d0887\"],[0.1111111111111111,\"#46039f\"],[0.2222222222222222,\"#7201a8\"],[0.3333333333333333,\"#9c179e\"],[0.4444444444444444,\"#bd3786\"],[0.5555555555555556,\"#d8576b\"],[0.6666666666666666,\"#ed7953\"],[0.7777777777777778,\"#fb9f3a\"],[0.8888888888888888,\"#fdca26\"],[1.0,\"#f0f921\"]]}],\"choropleth\":[{\"type\":\"choropleth\",\"colorbar\":{\"outlinewidth\":0,\"ticks\":\"\"}}],\"histogram2d\":[{\"type\":\"histogram2d\",\"colorbar\":{\"outlinewidth\":0,\"ticks\":\"\"},\"colorscale\":[[0.0,\"#0d0887\"],[0.1111111111111111,\"#46039f\"],[0.2222222222222222,\"#7201a8\"],[0.3333333333333333,\"#9c179e\"],[0.4444444444444444,\"#bd3786\"],[0.5555555555555556,\"#d8576b\"],[0.6666666666666666,\"#ed7953\"],[0.7777777777777778,\"#fb9f3a\"],[0.8888888888888888,\"#fdca26\"],[1.0,\"#f0f921\"]]}],\"heatmap\":[{\"type\":\"heatmap\",\"colorbar\":{\"outlinewidth\":0,\"ticks\":\"\"},\"colorscale\":[[0.0,\"#0d0887\"],[0.1111111111111111,\"#46039f\"],[0.2222222222222222,\"#7201a8\"],[0.3333333333333333,\"#9c179e\"],[0.4444444444444444,\"#bd3786\"],[0.5555555555555556,\"#d8576b\"],[0.6666666666666666,\"#ed7953\"],[0.7777777777777778,\"#fb9f3a\"],[0.8888888888888888,\"#fdca26\"],[1.0,\"#f0f921\"]]}],\"heatmapgl\":[{\"type\":\"heatmapgl\",\"colorbar\":{\"outlinewidth\":0,\"ticks\":\"\"},\"colorscale\":[[0.0,\"#0d0887\"],[0.1111111111111111,\"#46039f\"],[0.2222222222222222,\"#7201a8\"],[0.3333333333333333,\"#9c179e\"],[0.4444444444444444,\"#bd3786\"],[0.5555555555555556,\"#d8576b\"],[0.6666666666666666,\"#ed7953\"],[0.7777777777777778,\"#fb9f3a\"],[0.8888888888888888,\"#fdca26\"],[1.0,\"#f0f921\"]]}],\"contourcarpet\":[{\"type\":\"contourcarpet\",\"colorbar\":{\"outlinewidth\":0,\"ticks\":\"\"}}],\"contour\":[{\"type\":\"contour\",\"colorbar\":{\"outlinewidth\":0,\"ticks\":\"\"},\"colorscale\":[[0.0,\"#0d0887\"],[0.1111111111111111,\"#46039f\"],[0.2222222222222222,\"#7201a8\"],[0.3333333333333333,\"#9c179e\"],[0.4444444444444444,\"#bd3786\"],[0.5555555555555556,\"#d8576b\"],[0.6666666666666666,\"#ed7953\"],[0.7777777777777778,\"#fb9f3a\"],[0.8888888888888888,\"#fdca26\"],[1.0,\"#f0f921\"]]}],\"surface\":[{\"type\":\"surface\",\"colorbar\":{\"outlinewidth\":0,\"ticks\":\"\"},\"colorscale\":[[0.0,\"#0d0887\"],[0.1111111111111111,\"#46039f\"],[0.2222222222222222,\"#7201a8\"],[0.3333333333333333,\"#9c179e\"],[0.4444444444444444,\"#bd3786\"],[0.5555555555555556,\"#d8576b\"],[0.6666666666666666,\"#ed7953\"],[0.7777777777777778,\"#fb9f3a\"],[0.8888888888888888,\"#fdca26\"],[1.0,\"#f0f921\"]]}],\"mesh3d\":[{\"type\":\"mesh3d\",\"colorbar\":{\"outlinewidth\":0,\"ticks\":\"\"}}],\"scatter\":[{\"fillpattern\":{\"fillmode\":\"overlay\",\"size\":10,\"solidity\":0.2},\"type\":\"scatter\"}],\"parcoords\":[{\"type\":\"parcoords\",\"line\":{\"colorbar\":{\"outlinewidth\":0,\"ticks\":\"\"}}}],\"scatterpolargl\":[{\"type\":\"scatterpolargl\",\"marker\":{\"colorbar\":{\"outlinewidth\":0,\"ticks\":\"\"}}}],\"bar\":[{\"error_x\":{\"color\":\"#2a3f5f\"},\"error_y\":{\"color\":\"#2a3f5f\"},\"marker\":{\"line\":{\"color\":\"#E5ECF6\",\"width\":0.5},\"pattern\":{\"fillmode\":\"overlay\",\"size\":10,\"solidity\":0.2}},\"type\":\"bar\"}],\"scattergeo\":[{\"type\":\"scattergeo\",\"marker\":{\"colorbar\":{\"outlinewidth\":0,\"ticks\":\"\"}}}],\"scatterpolar\":[{\"type\":\"scatterpolar\",\"marker\":{\"colorbar\":{\"outlinewidth\":0,\"ticks\":\"\"}}}],\"histogram\":[{\"marker\":{\"pattern\":{\"fillmode\":\"overlay\",\"size\":10,\"solidity\":0.2}},\"type\":\"histogram\"}],\"scattergl\":[{\"type\":\"scattergl\",\"marker\":{\"colorbar\":{\"outlinewidth\":0,\"ticks\":\"\"}}}],\"scatter3d\":[{\"type\":\"scatter3d\",\"line\":{\"colorbar\":{\"outlinewidth\":0,\"ticks\":\"\"}},\"marker\":{\"colorbar\":{\"outlinewidth\":0,\"ticks\":\"\"}}}],\"scattermapbox\":[{\"type\":\"scattermapbox\",\"marker\":{\"colorbar\":{\"outlinewidth\":0,\"ticks\":\"\"}}}],\"scatterternary\":[{\"type\":\"scatterternary\",\"marker\":{\"colorbar\":{\"outlinewidth\":0,\"ticks\":\"\"}}}],\"scattercarpet\":[{\"type\":\"scattercarpet\",\"marker\":{\"colorbar\":{\"outlinewidth\":0,\"ticks\":\"\"}}}],\"carpet\":[{\"aaxis\":{\"endlinecolor\":\"#2a3f5f\",\"gridcolor\":\"white\",\"linecolor\":\"white\",\"minorgridcolor\":\"white\",\"startlinecolor\":\"#2a3f5f\"},\"baxis\":{\"endlinecolor\":\"#2a3f5f\",\"gridcolor\":\"white\",\"linecolor\":\"white\",\"minorgridcolor\":\"white\",\"startlinecolor\":\"#2a3f5f\"},\"type\":\"carpet\"}],\"table\":[{\"cells\":{\"fill\":{\"color\":\"#EBF0F8\"},\"line\":{\"color\":\"white\"}},\"header\":{\"fill\":{\"color\":\"#C8D4E3\"},\"line\":{\"color\":\"white\"}},\"type\":\"table\"}],\"barpolar\":[{\"marker\":{\"line\":{\"color\":\"#E5ECF6\",\"width\":0.5},\"pattern\":{\"fillmode\":\"overlay\",\"size\":10,\"solidity\":0.2}},\"type\":\"barpolar\"}],\"pie\":[{\"automargin\":true,\"type\":\"pie\"}]},\"layout\":{\"autotypenumbers\":\"strict\",\"colorway\":[\"#636efa\",\"#EF553B\",\"#00cc96\",\"#ab63fa\",\"#FFA15A\",\"#19d3f3\",\"#FF6692\",\"#B6E880\",\"#FF97FF\",\"#FECB52\"],\"font\":{\"color\":\"#2a3f5f\"},\"hovermode\":\"closest\",\"hoverlabel\":{\"align\":\"left\"},\"paper_bgcolor\":\"white\",\"plot_bgcolor\":\"#E5ECF6\",\"polar\":{\"bgcolor\":\"#E5ECF6\",\"angularaxis\":{\"gridcolor\":\"white\",\"linecolor\":\"white\",\"ticks\":\"\"},\"radialaxis\":{\"gridcolor\":\"white\",\"linecolor\":\"white\",\"ticks\":\"\"}},\"ternary\":{\"bgcolor\":\"#E5ECF6\",\"aaxis\":{\"gridcolor\":\"white\",\"linecolor\":\"white\",\"ticks\":\"\"},\"baxis\":{\"gridcolor\":\"white\",\"linecolor\":\"white\",\"ticks\":\"\"},\"caxis\":{\"gridcolor\":\"white\",\"linecolor\":\"white\",\"ticks\":\"\"}},\"coloraxis\":{\"colorbar\":{\"outlinewidth\":0,\"ticks\":\"\"}},\"colorscale\":{\"sequential\":[[0.0,\"#0d0887\"],[0.1111111111111111,\"#46039f\"],[0.2222222222222222,\"#7201a8\"],[0.3333333333333333,\"#9c179e\"],[0.4444444444444444,\"#bd3786\"],[0.5555555555555556,\"#d8576b\"],[0.6666666666666666,\"#ed7953\"],[0.7777777777777778,\"#fb9f3a\"],[0.8888888888888888,\"#fdca26\"],[1.0,\"#f0f921\"]],\"sequentialminus\":[[0.0,\"#0d0887\"],[0.1111111111111111,\"#46039f\"],[0.2222222222222222,\"#7201a8\"],[0.3333333333333333,\"#9c179e\"],[0.4444444444444444,\"#bd3786\"],[0.5555555555555556,\"#d8576b\"],[0.6666666666666666,\"#ed7953\"],[0.7777777777777778,\"#fb9f3a\"],[0.8888888888888888,\"#fdca26\"],[1.0,\"#f0f921\"]],\"diverging\":[[0,\"#8e0152\"],[0.1,\"#c51b7d\"],[0.2,\"#de77ae\"],[0.3,\"#f1b6da\"],[0.4,\"#fde0ef\"],[0.5,\"#f7f7f7\"],[0.6,\"#e6f5d0\"],[0.7,\"#b8e186\"],[0.8,\"#7fbc41\"],[0.9,\"#4d9221\"],[1,\"#276419\"]]},\"xaxis\":{\"gridcolor\":\"white\",\"linecolor\":\"white\",\"ticks\":\"\",\"title\":{\"standoff\":15},\"zerolinecolor\":\"white\",\"automargin\":true,\"zerolinewidth\":2},\"yaxis\":{\"gridcolor\":\"white\",\"linecolor\":\"white\",\"ticks\":\"\",\"title\":{\"standoff\":15},\"zerolinecolor\":\"white\",\"automargin\":true,\"zerolinewidth\":2},\"scene\":{\"xaxis\":{\"backgroundcolor\":\"#E5ECF6\",\"gridcolor\":\"white\",\"linecolor\":\"white\",\"showbackground\":true,\"ticks\":\"\",\"zerolinecolor\":\"white\",\"gridwidth\":2},\"yaxis\":{\"backgroundcolor\":\"#E5ECF6\",\"gridcolor\":\"white\",\"linecolor\":\"white\",\"showbackground\":true,\"ticks\":\"\",\"zerolinecolor\":\"white\",\"gridwidth\":2},\"zaxis\":{\"backgroundcolor\":\"#E5ECF6\",\"gridcolor\":\"white\",\"linecolor\":\"white\",\"showbackground\":true,\"ticks\":\"\",\"zerolinecolor\":\"white\",\"gridwidth\":2}},\"shapedefaults\":{\"line\":{\"color\":\"#2a3f5f\"}},\"annotationdefaults\":{\"arrowcolor\":\"#2a3f5f\",\"arrowhead\":0,\"arrowwidth\":1},\"geo\":{\"bgcolor\":\"white\",\"landcolor\":\"#E5ECF6\",\"subunitcolor\":\"white\",\"showland\":true,\"showlakes\":true,\"lakecolor\":\"white\"},\"title\":{\"x\":0.05},\"mapbox\":{\"style\":\"light\"}}},\"xaxis\":{\"anchor\":\"y\",\"domain\":[0.0,1.0],\"title\":{\"text\":\"candle_date_time_kst\"}},\"yaxis\":{\"anchor\":\"x\",\"domain\":[0.0,1.0],\"title\":{\"text\":\"trade_price\"}},\"legend\":{\"tracegroupgap\":0},\"margin\":{\"t\":60}},                        {\"responsive\": true}                    ).then(function(){\n",
       "                            \n",
       "var gd = document.getElementById('fa491f22-be90-42fa-aa2e-ae9d659e849e');\n",
       "var x = new MutationObserver(function (mutations, observer) {{\n",
       "        var display = window.getComputedStyle(gd).display;\n",
       "        if (!display || display === 'none') {{\n",
       "            console.log([gd, 'removed!']);\n",
       "            Plotly.purge(gd);\n",
       "            observer.disconnect();\n",
       "        }}\n",
       "}});\n",
       "\n",
       "// Listen for the removal of the full notebook cells\n",
       "var notebookContainer = gd.closest('#notebook-container');\n",
       "if (notebookContainer) {{\n",
       "    x.observe(notebookContainer, {childList: true});\n",
       "}}\n",
       "\n",
       "// Listen for the clearing of the current output cell\n",
       "var outputEl = gd.closest('.output');\n",
       "if (outputEl) {{\n",
       "    x.observe(outputEl, {childList: true});\n",
       "}}\n",
       "\n",
       "                        })                };                });            </script>        </div>"
      ]
     },
     "metadata": {},
     "output_type": "display_data"
    }
   ],
   "source": [
    "fig = px.line(my_df[my_df.market == 'ETH'],\n",
    "                 x = 'candle_date_time_kst',\n",
    "                 y = 'trade_price')\n",
    "fig.show()"
   ]
  },
  {
   "cell_type": "markdown",
   "id": "94847fe3",
   "metadata": {},
   "source": [
    "# 산점도 그래프 - scatter\n",
    "\n",
    "# ChampionName을 기준 평균내기\n",
    "\n",
    "# x값은 딜량, y값은 받은데미지\n",
    "\n",
    "# color = 'ChampionName'\n",
    "\n",
    "# plotly제작"
   ]
  },
  {
   "cell_type": "code",
   "execution_count": 256,
   "id": "8fea5e3c",
   "metadata": {},
   "outputs": [],
   "source": [
    "tmp_df = lol_df[['championName','totalDamageDealtToChampions','totalDamageTaken']]"
   ]
  },
  {
   "cell_type": "code",
   "execution_count": 284,
   "id": "9575dbff",
   "metadata": {},
   "outputs": [
    {
     "data": {
      "text/html": [
       "<div>\n",
       "<style scoped>\n",
       "    .dataframe tbody tr th:only-of-type {\n",
       "        vertical-align: middle;\n",
       "    }\n",
       "\n",
       "    .dataframe tbody tr th {\n",
       "        vertical-align: top;\n",
       "    }\n",
       "\n",
       "    .dataframe thead th {\n",
       "        text-align: right;\n",
       "    }\n",
       "</style>\n",
       "<table border=\"1\" class=\"dataframe\">\n",
       "  <thead>\n",
       "    <tr style=\"text-align: right;\">\n",
       "      <th></th>\n",
       "      <th>championName</th>\n",
       "      <th>totalDamageDealtToChampions</th>\n",
       "      <th>totalDamageTaken</th>\n",
       "    </tr>\n",
       "  </thead>\n",
       "  <tbody>\n",
       "    <tr>\n",
       "      <th>0</th>\n",
       "      <td>Poppy</td>\n",
       "      <td>16199</td>\n",
       "      <td>12908</td>\n",
       "    </tr>\n",
       "    <tr>\n",
       "      <th>1</th>\n",
       "      <td>Viego</td>\n",
       "      <td>12057</td>\n",
       "      <td>16026</td>\n",
       "    </tr>\n",
       "    <tr>\n",
       "      <th>2</th>\n",
       "      <td>Azir</td>\n",
       "      <td>11248</td>\n",
       "      <td>11933</td>\n",
       "    </tr>\n",
       "    <tr>\n",
       "      <th>3</th>\n",
       "      <td>Xayah</td>\n",
       "      <td>12248</td>\n",
       "      <td>6739</td>\n",
       "    </tr>\n",
       "    <tr>\n",
       "      <th>4</th>\n",
       "      <td>Rell</td>\n",
       "      <td>4006</td>\n",
       "      <td>9176</td>\n",
       "    </tr>\n",
       "    <tr>\n",
       "      <th>...</th>\n",
       "      <td>...</td>\n",
       "      <td>...</td>\n",
       "      <td>...</td>\n",
       "    </tr>\n",
       "    <tr>\n",
       "      <th>36907</th>\n",
       "      <td>Volibear</td>\n",
       "      <td>36682</td>\n",
       "      <td>37838</td>\n",
       "    </tr>\n",
       "    <tr>\n",
       "      <th>36908</th>\n",
       "      <td>Nasus</td>\n",
       "      <td>21433</td>\n",
       "      <td>37546</td>\n",
       "    </tr>\n",
       "    <tr>\n",
       "      <th>36909</th>\n",
       "      <td>Irelia</td>\n",
       "      <td>33104</td>\n",
       "      <td>33816</td>\n",
       "    </tr>\n",
       "    <tr>\n",
       "      <th>36910</th>\n",
       "      <td>Belveth</td>\n",
       "      <td>49250</td>\n",
       "      <td>27412</td>\n",
       "    </tr>\n",
       "    <tr>\n",
       "      <th>36911</th>\n",
       "      <td>Ivern</td>\n",
       "      <td>26376</td>\n",
       "      <td>19832</td>\n",
       "    </tr>\n",
       "  </tbody>\n",
       "</table>\n",
       "<p>36912 rows × 3 columns</p>\n",
       "</div>"
      ],
      "text/plain": [
       "      championName  totalDamageDealtToChampions  totalDamageTaken\n",
       "0            Poppy                        16199             12908\n",
       "1            Viego                        12057             16026\n",
       "2             Azir                        11248             11933\n",
       "3            Xayah                        12248              6739\n",
       "4             Rell                         4006              9176\n",
       "...            ...                          ...               ...\n",
       "36907     Volibear                        36682             37838\n",
       "36908        Nasus                        21433             37546\n",
       "36909       Irelia                        33104             33816\n",
       "36910      Belveth                        49250             27412\n",
       "36911        Ivern                        26376             19832\n",
       "\n",
       "[36912 rows x 3 columns]"
      ]
     },
     "execution_count": 284,
     "metadata": {},
     "output_type": "execute_result"
    }
   ],
   "source": [
    "tmp_df"
   ]
  },
  {
   "cell_type": "code",
   "execution_count": 262,
   "id": "87eb913f",
   "metadata": {},
   "outputs": [],
   "source": [
    "tmp_lol = tmp_df.groupby('championName').mean().round()"
   ]
  },
  {
   "cell_type": "code",
   "execution_count": 280,
   "id": "f54a8cde",
   "metadata": {},
   "outputs": [],
   "source": [
    "tmp_lol = tmp_lol.reset_index('championName')"
   ]
  },
  {
   "cell_type": "code",
   "execution_count": 281,
   "id": "42bb3c43",
   "metadata": {},
   "outputs": [
    {
     "data": {
      "text/html": [
       "<div>\n",
       "<style scoped>\n",
       "    .dataframe tbody tr th:only-of-type {\n",
       "        vertical-align: middle;\n",
       "    }\n",
       "\n",
       "    .dataframe tbody tr th {\n",
       "        vertical-align: top;\n",
       "    }\n",
       "\n",
       "    .dataframe thead th {\n",
       "        text-align: right;\n",
       "    }\n",
       "</style>\n",
       "<table border=\"1\" class=\"dataframe\">\n",
       "  <thead>\n",
       "    <tr style=\"text-align: right;\">\n",
       "      <th></th>\n",
       "      <th>championName</th>\n",
       "      <th>totalDamageDealtToChampions</th>\n",
       "      <th>totalDamageTaken</th>\n",
       "    </tr>\n",
       "  </thead>\n",
       "  <tbody>\n",
       "    <tr>\n",
       "      <th>0</th>\n",
       "      <td>Aatrox</td>\n",
       "      <td>20964.0</td>\n",
       "      <td>32671.0</td>\n",
       "    </tr>\n",
       "    <tr>\n",
       "      <th>1</th>\n",
       "      <td>Ahri</td>\n",
       "      <td>18828.0</td>\n",
       "      <td>19367.0</td>\n",
       "    </tr>\n",
       "    <tr>\n",
       "      <th>2</th>\n",
       "      <td>Akali</td>\n",
       "      <td>21848.0</td>\n",
       "      <td>25682.0</td>\n",
       "    </tr>\n",
       "    <tr>\n",
       "      <th>3</th>\n",
       "      <td>Akshan</td>\n",
       "      <td>23426.0</td>\n",
       "      <td>19801.0</td>\n",
       "    </tr>\n",
       "    <tr>\n",
       "      <th>4</th>\n",
       "      <td>Alistar</td>\n",
       "      <td>11304.0</td>\n",
       "      <td>30499.0</td>\n",
       "    </tr>\n",
       "    <tr>\n",
       "      <th>...</th>\n",
       "      <td>...</td>\n",
       "      <td>...</td>\n",
       "      <td>...</td>\n",
       "    </tr>\n",
       "    <tr>\n",
       "      <th>161</th>\n",
       "      <td>Zeri</td>\n",
       "      <td>22739.0</td>\n",
       "      <td>20042.0</td>\n",
       "    </tr>\n",
       "    <tr>\n",
       "      <th>162</th>\n",
       "      <td>Ziggs</td>\n",
       "      <td>25129.0</td>\n",
       "      <td>16031.0</td>\n",
       "    </tr>\n",
       "    <tr>\n",
       "      <th>163</th>\n",
       "      <td>Zilean</td>\n",
       "      <td>9183.0</td>\n",
       "      <td>15796.0</td>\n",
       "    </tr>\n",
       "    <tr>\n",
       "      <th>164</th>\n",
       "      <td>Zoe</td>\n",
       "      <td>22752.0</td>\n",
       "      <td>17401.0</td>\n",
       "    </tr>\n",
       "    <tr>\n",
       "      <th>165</th>\n",
       "      <td>Zyra</td>\n",
       "      <td>19344.0</td>\n",
       "      <td>16100.0</td>\n",
       "    </tr>\n",
       "  </tbody>\n",
       "</table>\n",
       "<p>166 rows × 3 columns</p>\n",
       "</div>"
      ],
      "text/plain": [
       "    championName  totalDamageDealtToChampions  totalDamageTaken\n",
       "0         Aatrox                      20964.0           32671.0\n",
       "1           Ahri                      18828.0           19367.0\n",
       "2          Akali                      21848.0           25682.0\n",
       "3         Akshan                      23426.0           19801.0\n",
       "4        Alistar                      11304.0           30499.0\n",
       "..           ...                          ...               ...\n",
       "161         Zeri                      22739.0           20042.0\n",
       "162        Ziggs                      25129.0           16031.0\n",
       "163       Zilean                       9183.0           15796.0\n",
       "164          Zoe                      22752.0           17401.0\n",
       "165         Zyra                      19344.0           16100.0\n",
       "\n",
       "[166 rows x 3 columns]"
      ]
     },
     "execution_count": 281,
     "metadata": {},
     "output_type": "execute_result"
    }
   ],
   "source": [
    "tmp_lol"
   ]
  },
  {
   "cell_type": "code",
   "execution_count": 289,
   "id": "19dc352f",
   "metadata": {},
   "outputs": [
    {
     "data": {
      "application/vnd.plotly.v1+json": {
       "config": {
        "plotlyServerURL": "https://plot.ly"
       },
       "data": [
        {
         "hovertemplate": "championName=Aatrox<br>totalDamageDealtToChampions=%{x}<br>totalDamageTaken=%{y}<extra></extra>",
         "legendgroup": "Aatrox",
         "marker": {
          "color": "#636efa",
          "symbol": "circle"
         },
         "mode": "markers",
         "name": "Aatrox",
         "orientation": "v",
         "showlegend": true,
         "type": "scatter",
         "x": [
          20964
         ],
         "xaxis": "x",
         "y": [
          32671
         ],
         "yaxis": "y"
        },
        {
         "hovertemplate": "championName=Ahri<br>totalDamageDealtToChampions=%{x}<br>totalDamageTaken=%{y}<extra></extra>",
         "legendgroup": "Ahri",
         "marker": {
          "color": "#EF553B",
          "symbol": "circle"
         },
         "mode": "markers",
         "name": "Ahri",
         "orientation": "v",
         "showlegend": true,
         "type": "scatter",
         "x": [
          18828
         ],
         "xaxis": "x",
         "y": [
          19367
         ],
         "yaxis": "y"
        },
        {
         "hovertemplate": "championName=Akali<br>totalDamageDealtToChampions=%{x}<br>totalDamageTaken=%{y}<extra></extra>",
         "legendgroup": "Akali",
         "marker": {
          "color": "#00cc96",
          "symbol": "circle"
         },
         "mode": "markers",
         "name": "Akali",
         "orientation": "v",
         "showlegend": true,
         "type": "scatter",
         "x": [
          21848
         ],
         "xaxis": "x",
         "y": [
          25682
         ],
         "yaxis": "y"
        },
        {
         "hovertemplate": "championName=Akshan<br>totalDamageDealtToChampions=%{x}<br>totalDamageTaken=%{y}<extra></extra>",
         "legendgroup": "Akshan",
         "marker": {
          "color": "#ab63fa",
          "symbol": "circle"
         },
         "mode": "markers",
         "name": "Akshan",
         "orientation": "v",
         "showlegend": true,
         "type": "scatter",
         "x": [
          23426
         ],
         "xaxis": "x",
         "y": [
          19801
         ],
         "yaxis": "y"
        },
        {
         "hovertemplate": "championName=Alistar<br>totalDamageDealtToChampions=%{x}<br>totalDamageTaken=%{y}<extra></extra>",
         "legendgroup": "Alistar",
         "marker": {
          "color": "#FFA15A",
          "symbol": "circle"
         },
         "mode": "markers",
         "name": "Alistar",
         "orientation": "v",
         "showlegend": true,
         "type": "scatter",
         "x": [
          11304
         ],
         "xaxis": "x",
         "y": [
          30499
         ],
         "yaxis": "y"
        },
        {
         "hovertemplate": "championName=Amumu<br>totalDamageDealtToChampions=%{x}<br>totalDamageTaken=%{y}<extra></extra>",
         "legendgroup": "Amumu",
         "marker": {
          "color": "#19d3f3",
          "symbol": "circle"
         },
         "mode": "markers",
         "name": "Amumu",
         "orientation": "v",
         "showlegend": true,
         "type": "scatter",
         "x": [
          15696
         ],
         "xaxis": "x",
         "y": [
          27053
         ],
         "yaxis": "y"
        },
        {
         "hovertemplate": "championName=Anivia<br>totalDamageDealtToChampions=%{x}<br>totalDamageTaken=%{y}<extra></extra>",
         "legendgroup": "Anivia",
         "marker": {
          "color": "#FF6692",
          "symbol": "circle"
         },
         "mode": "markers",
         "name": "Anivia",
         "orientation": "v",
         "showlegend": true,
         "type": "scatter",
         "x": [
          17715
         ],
         "xaxis": "x",
         "y": [
          23306
         ],
         "yaxis": "y"
        },
        {
         "hovertemplate": "championName=Annie<br>totalDamageDealtToChampions=%{x}<br>totalDamageTaken=%{y}<extra></extra>",
         "legendgroup": "Annie",
         "marker": {
          "color": "#B6E880",
          "symbol": "circle"
         },
         "mode": "markers",
         "name": "Annie",
         "orientation": "v",
         "showlegend": true,
         "type": "scatter",
         "x": [
          22029
         ],
         "xaxis": "x",
         "y": [
          15715
         ],
         "yaxis": "y"
        },
        {
         "hovertemplate": "championName=Aphelios<br>totalDamageDealtToChampions=%{x}<br>totalDamageTaken=%{y}<extra></extra>",
         "legendgroup": "Aphelios",
         "marker": {
          "color": "#FF97FF",
          "symbol": "circle"
         },
         "mode": "markers",
         "name": "Aphelios",
         "orientation": "v",
         "showlegend": true,
         "type": "scatter",
         "x": [
          20730
         ],
         "xaxis": "x",
         "y": [
          16358
         ],
         "yaxis": "y"
        },
        {
         "hovertemplate": "championName=Ashe<br>totalDamageDealtToChampions=%{x}<br>totalDamageTaken=%{y}<extra></extra>",
         "legendgroup": "Ashe",
         "marker": {
          "color": "#FECB52",
          "symbol": "circle"
         },
         "mode": "markers",
         "name": "Ashe",
         "orientation": "v",
         "showlegend": true,
         "type": "scatter",
         "x": [
          16550
         ],
         "xaxis": "x",
         "y": [
          16926
         ],
         "yaxis": "y"
        },
        {
         "hovertemplate": "championName=AurelionSol<br>totalDamageDealtToChampions=%{x}<br>totalDamageTaken=%{y}<extra></extra>",
         "legendgroup": "AurelionSol",
         "marker": {
          "color": "#636efa",
          "symbol": "circle"
         },
         "mode": "markers",
         "name": "AurelionSol",
         "orientation": "v",
         "showlegend": true,
         "type": "scatter",
         "x": [
          24615
         ],
         "xaxis": "x",
         "y": [
          19619
         ],
         "yaxis": "y"
        },
        {
         "hovertemplate": "championName=Azir<br>totalDamageDealtToChampions=%{x}<br>totalDamageTaken=%{y}<extra></extra>",
         "legendgroup": "Azir",
         "marker": {
          "color": "#EF553B",
          "symbol": "circle"
         },
         "mode": "markers",
         "name": "Azir",
         "orientation": "v",
         "showlegend": true,
         "type": "scatter",
         "x": [
          20746
         ],
         "xaxis": "x",
         "y": [
          17908
         ],
         "yaxis": "y"
        },
        {
         "hovertemplate": "championName=Bard<br>totalDamageDealtToChampions=%{x}<br>totalDamageTaken=%{y}<extra></extra>",
         "legendgroup": "Bard",
         "marker": {
          "color": "#00cc96",
          "symbol": "circle"
         },
         "mode": "markers",
         "name": "Bard",
         "orientation": "v",
         "showlegend": true,
         "type": "scatter",
         "x": [
          9969
         ],
         "xaxis": "x",
         "y": [
          18880
         ],
         "yaxis": "y"
        },
        {
         "hovertemplate": "championName=Belveth<br>totalDamageDealtToChampions=%{x}<br>totalDamageTaken=%{y}<extra></extra>",
         "legendgroup": "Belveth",
         "marker": {
          "color": "#ab63fa",
          "symbol": "circle"
         },
         "mode": "markers",
         "name": "Belveth",
         "orientation": "v",
         "showlegend": true,
         "type": "scatter",
         "x": [
          16240
         ],
         "xaxis": "x",
         "y": [
          27731
         ],
         "yaxis": "y"
        },
        {
         "hovertemplate": "championName=Blitzcrank<br>totalDamageDealtToChampions=%{x}<br>totalDamageTaken=%{y}<extra></extra>",
         "legendgroup": "Blitzcrank",
         "marker": {
          "color": "#FFA15A",
          "symbol": "circle"
         },
         "mode": "markers",
         "name": "Blitzcrank",
         "orientation": "v",
         "showlegend": true,
         "type": "scatter",
         "x": [
          8625
         ],
         "xaxis": "x",
         "y": [
          19930
         ],
         "yaxis": "y"
        },
        {
         "hovertemplate": "championName=Brand<br>totalDamageDealtToChampions=%{x}<br>totalDamageTaken=%{y}<extra></extra>",
         "legendgroup": "Brand",
         "marker": {
          "color": "#19d3f3",
          "symbol": "circle"
         },
         "mode": "markers",
         "name": "Brand",
         "orientation": "v",
         "showlegend": true,
         "type": "scatter",
         "x": [
          22283
         ],
         "xaxis": "x",
         "y": [
          23094
         ],
         "yaxis": "y"
        },
        {
         "hovertemplate": "championName=Braum<br>totalDamageDealtToChampions=%{x}<br>totalDamageTaken=%{y}<extra></extra>",
         "legendgroup": "Braum",
         "marker": {
          "color": "#FF6692",
          "symbol": "circle"
         },
         "mode": "markers",
         "name": "Braum",
         "orientation": "v",
         "showlegend": true,
         "type": "scatter",
         "x": [
          7438
         ],
         "xaxis": "x",
         "y": [
          20766
         ],
         "yaxis": "y"
        },
        {
         "hovertemplate": "championName=Briar<br>totalDamageDealtToChampions=%{x}<br>totalDamageTaken=%{y}<extra></extra>",
         "legendgroup": "Briar",
         "marker": {
          "color": "#B6E880",
          "symbol": "circle"
         },
         "mode": "markers",
         "name": "Briar",
         "orientation": "v",
         "showlegend": true,
         "type": "scatter",
         "x": [
          21148
         ],
         "xaxis": "x",
         "y": [
          29835
         ],
         "yaxis": "y"
        },
        {
         "hovertemplate": "championName=Caitlyn<br>totalDamageDealtToChampions=%{x}<br>totalDamageTaken=%{y}<extra></extra>",
         "legendgroup": "Caitlyn",
         "marker": {
          "color": "#FF97FF",
          "symbol": "circle"
         },
         "mode": "markers",
         "name": "Caitlyn",
         "orientation": "v",
         "showlegend": true,
         "type": "scatter",
         "x": [
          20515
         ],
         "xaxis": "x",
         "y": [
          18254
         ],
         "yaxis": "y"
        },
        {
         "hovertemplate": "championName=Camille<br>totalDamageDealtToChampions=%{x}<br>totalDamageTaken=%{y}<extra></extra>",
         "legendgroup": "Camille",
         "marker": {
          "color": "#FECB52",
          "symbol": "circle"
         },
         "mode": "markers",
         "name": "Camille",
         "orientation": "v",
         "showlegend": true,
         "type": "scatter",
         "x": [
          20716
         ],
         "xaxis": "x",
         "y": [
          28057
         ],
         "yaxis": "y"
        },
        {
         "hovertemplate": "championName=Cassiopeia<br>totalDamageDealtToChampions=%{x}<br>totalDamageTaken=%{y}<extra></extra>",
         "legendgroup": "Cassiopeia",
         "marker": {
          "color": "#636efa",
          "symbol": "circle"
         },
         "mode": "markers",
         "name": "Cassiopeia",
         "orientation": "v",
         "showlegend": true,
         "type": "scatter",
         "x": [
          22705
         ],
         "xaxis": "x",
         "y": [
          24529
         ],
         "yaxis": "y"
        },
        {
         "hovertemplate": "championName=Chogath<br>totalDamageDealtToChampions=%{x}<br>totalDamageTaken=%{y}<extra></extra>",
         "legendgroup": "Chogath",
         "marker": {
          "color": "#EF553B",
          "symbol": "circle"
         },
         "mode": "markers",
         "name": "Chogath",
         "orientation": "v",
         "showlegend": true,
         "type": "scatter",
         "x": [
          20666
         ],
         "xaxis": "x",
         "y": [
          37146
         ],
         "yaxis": "y"
        },
        {
         "hovertemplate": "championName=Corki<br>totalDamageDealtToChampions=%{x}<br>totalDamageTaken=%{y}<extra></extra>",
         "legendgroup": "Corki",
         "marker": {
          "color": "#00cc96",
          "symbol": "circle"
         },
         "mode": "markers",
         "name": "Corki",
         "orientation": "v",
         "showlegend": true,
         "type": "scatter",
         "x": [
          26316
         ],
         "xaxis": "x",
         "y": [
          21274
         ],
         "yaxis": "y"
        },
        {
         "hovertemplate": "championName=Darius<br>totalDamageDealtToChampions=%{x}<br>totalDamageTaken=%{y}<extra></extra>",
         "legendgroup": "Darius",
         "marker": {
          "color": "#ab63fa",
          "symbol": "circle"
         },
         "mode": "markers",
         "name": "Darius",
         "orientation": "v",
         "showlegend": true,
         "type": "scatter",
         "x": [
          18171
         ],
         "xaxis": "x",
         "y": [
          25733
         ],
         "yaxis": "y"
        },
        {
         "hovertemplate": "championName=Diana<br>totalDamageDealtToChampions=%{x}<br>totalDamageTaken=%{y}<extra></extra>",
         "legendgroup": "Diana",
         "marker": {
          "color": "#FFA15A",
          "symbol": "circle"
         },
         "mode": "markers",
         "name": "Diana",
         "orientation": "v",
         "showlegend": true,
         "type": "scatter",
         "x": [
          17839
         ],
         "xaxis": "x",
         "y": [
          21772
         ],
         "yaxis": "y"
        },
        {
         "hovertemplate": "championName=DrMundo<br>totalDamageDealtToChampions=%{x}<br>totalDamageTaken=%{y}<extra></extra>",
         "legendgroup": "DrMundo",
         "marker": {
          "color": "#19d3f3",
          "symbol": "circle"
         },
         "mode": "markers",
         "name": "DrMundo",
         "orientation": "v",
         "showlegend": true,
         "type": "scatter",
         "x": [
          26213
         ],
         "xaxis": "x",
         "y": [
          48141
         ],
         "yaxis": "y"
        },
        {
         "hovertemplate": "championName=Draven<br>totalDamageDealtToChampions=%{x}<br>totalDamageTaken=%{y}<extra></extra>",
         "legendgroup": "Draven",
         "marker": {
          "color": "#FF6692",
          "symbol": "circle"
         },
         "mode": "markers",
         "name": "Draven",
         "orientation": "v",
         "showlegend": true,
         "type": "scatter",
         "x": [
          22567
         ],
         "xaxis": "x",
         "y": [
          20485
         ],
         "yaxis": "y"
        },
        {
         "hovertemplate": "championName=Ekko<br>totalDamageDealtToChampions=%{x}<br>totalDamageTaken=%{y}<extra></extra>",
         "legendgroup": "Ekko",
         "marker": {
          "color": "#B6E880",
          "symbol": "circle"
         },
         "mode": "markers",
         "name": "Ekko",
         "orientation": "v",
         "showlegend": true,
         "type": "scatter",
         "x": [
          19480
         ],
         "xaxis": "x",
         "y": [
          29573
         ],
         "yaxis": "y"
        },
        {
         "hovertemplate": "championName=Elise<br>totalDamageDealtToChampions=%{x}<br>totalDamageTaken=%{y}<extra></extra>",
         "legendgroup": "Elise",
         "marker": {
          "color": "#FF97FF",
          "symbol": "circle"
         },
         "mode": "markers",
         "name": "Elise",
         "orientation": "v",
         "showlegend": true,
         "type": "scatter",
         "x": [
          17577
         ],
         "xaxis": "x",
         "y": [
          27223
         ],
         "yaxis": "y"
        },
        {
         "hovertemplate": "championName=Evelynn<br>totalDamageDealtToChampions=%{x}<br>totalDamageTaken=%{y}<extra></extra>",
         "legendgroup": "Evelynn",
         "marker": {
          "color": "#FECB52",
          "symbol": "circle"
         },
         "mode": "markers",
         "name": "Evelynn",
         "orientation": "v",
         "showlegend": true,
         "type": "scatter",
         "x": [
          21602
         ],
         "xaxis": "x",
         "y": [
          29130
         ],
         "yaxis": "y"
        },
        {
         "hovertemplate": "championName=Ezreal<br>totalDamageDealtToChampions=%{x}<br>totalDamageTaken=%{y}<extra></extra>",
         "legendgroup": "Ezreal",
         "marker": {
          "color": "#636efa",
          "symbol": "circle"
         },
         "mode": "markers",
         "name": "Ezreal",
         "orientation": "v",
         "showlegend": true,
         "type": "scatter",
         "x": [
          23178
         ],
         "xaxis": "x",
         "y": [
          19080
         ],
         "yaxis": "y"
        },
        {
         "hovertemplate": "championName=FiddleSticks<br>totalDamageDealtToChampions=%{x}<br>totalDamageTaken=%{y}<extra></extra>",
         "legendgroup": "FiddleSticks",
         "marker": {
          "color": "#EF553B",
          "symbol": "circle"
         },
         "mode": "markers",
         "name": "FiddleSticks",
         "orientation": "v",
         "showlegend": true,
         "type": "scatter",
         "x": [
          16404
         ],
         "xaxis": "x",
         "y": [
          26758
         ],
         "yaxis": "y"
        },
        {
         "hovertemplate": "championName=Fiora<br>totalDamageDealtToChampions=%{x}<br>totalDamageTaken=%{y}<extra></extra>",
         "legendgroup": "Fiora",
         "marker": {
          "color": "#00cc96",
          "symbol": "circle"
         },
         "mode": "markers",
         "name": "Fiora",
         "orientation": "v",
         "showlegend": true,
         "type": "scatter",
         "x": [
          21894
         ],
         "xaxis": "x",
         "y": [
          30821
         ],
         "yaxis": "y"
        },
        {
         "hovertemplate": "championName=Fizz<br>totalDamageDealtToChampions=%{x}<br>totalDamageTaken=%{y}<extra></extra>",
         "legendgroup": "Fizz",
         "marker": {
          "color": "#ab63fa",
          "symbol": "circle"
         },
         "mode": "markers",
         "name": "Fizz",
         "orientation": "v",
         "showlegend": true,
         "type": "scatter",
         "x": [
          20781
         ],
         "xaxis": "x",
         "y": [
          19991
         ],
         "yaxis": "y"
        },
        {
         "hovertemplate": "championName=Galio<br>totalDamageDealtToChampions=%{x}<br>totalDamageTaken=%{y}<extra></extra>",
         "legendgroup": "Galio",
         "marker": {
          "color": "#FFA15A",
          "symbol": "circle"
         },
         "mode": "markers",
         "name": "Galio",
         "orientation": "v",
         "showlegend": true,
         "type": "scatter",
         "x": [
          18617
         ],
         "xaxis": "x",
         "y": [
          23547
         ],
         "yaxis": "y"
        },
        {
         "hovertemplate": "championName=Gangplank<br>totalDamageDealtToChampions=%{x}<br>totalDamageTaken=%{y}<extra></extra>",
         "legendgroup": "Gangplank",
         "marker": {
          "color": "#19d3f3",
          "symbol": "circle"
         },
         "mode": "markers",
         "name": "Gangplank",
         "orientation": "v",
         "showlegend": true,
         "type": "scatter",
         "x": [
          25545
         ],
         "xaxis": "x",
         "y": [
          24483
         ],
         "yaxis": "y"
        },
        {
         "hovertemplate": "championName=Garen<br>totalDamageDealtToChampions=%{x}<br>totalDamageTaken=%{y}<extra></extra>",
         "legendgroup": "Garen",
         "marker": {
          "color": "#FF6692",
          "symbol": "circle"
         },
         "mode": "markers",
         "name": "Garen",
         "orientation": "v",
         "showlegend": true,
         "type": "scatter",
         "x": [
          22892
         ],
         "xaxis": "x",
         "y": [
          28599
         ],
         "yaxis": "y"
        },
        {
         "hovertemplate": "championName=Gnar<br>totalDamageDealtToChampions=%{x}<br>totalDamageTaken=%{y}<extra></extra>",
         "legendgroup": "Gnar",
         "marker": {
          "color": "#B6E880",
          "symbol": "circle"
         },
         "mode": "markers",
         "name": "Gnar",
         "orientation": "v",
         "showlegend": true,
         "type": "scatter",
         "x": [
          20111
         ],
         "xaxis": "x",
         "y": [
          25322
         ],
         "yaxis": "y"
        },
        {
         "hovertemplate": "championName=Gragas<br>totalDamageDealtToChampions=%{x}<br>totalDamageTaken=%{y}<extra></extra>",
         "legendgroup": "Gragas",
         "marker": {
          "color": "#FF97FF",
          "symbol": "circle"
         },
         "mode": "markers",
         "name": "Gragas",
         "orientation": "v",
         "showlegend": true,
         "type": "scatter",
         "x": [
          21236
         ],
         "xaxis": "x",
         "y": [
          29203
         ],
         "yaxis": "y"
        },
        {
         "hovertemplate": "championName=Graves<br>totalDamageDealtToChampions=%{x}<br>totalDamageTaken=%{y}<extra></extra>",
         "legendgroup": "Graves",
         "marker": {
          "color": "#FECB52",
          "symbol": "circle"
         },
         "mode": "markers",
         "name": "Graves",
         "orientation": "v",
         "showlegend": true,
         "type": "scatter",
         "x": [
          18448
         ],
         "xaxis": "x",
         "y": [
          24961
         ],
         "yaxis": "y"
        },
        {
         "hovertemplate": "championName=Gwen<br>totalDamageDealtToChampions=%{x}<br>totalDamageTaken=%{y}<extra></extra>",
         "legendgroup": "Gwen",
         "marker": {
          "color": "#636efa",
          "symbol": "circle"
         },
         "mode": "markers",
         "name": "Gwen",
         "orientation": "v",
         "showlegend": true,
         "type": "scatter",
         "x": [
          28416
         ],
         "xaxis": "x",
         "y": [
          30625
         ],
         "yaxis": "y"
        },
        {
         "hovertemplate": "championName=Hecarim<br>totalDamageDealtToChampions=%{x}<br>totalDamageTaken=%{y}<extra></extra>",
         "legendgroup": "Hecarim",
         "marker": {
          "color": "#EF553B",
          "symbol": "circle"
         },
         "mode": "markers",
         "name": "Hecarim",
         "orientation": "v",
         "showlegend": true,
         "type": "scatter",
         "x": [
          17061
         ],
         "xaxis": "x",
         "y": [
          37484
         ],
         "yaxis": "y"
        },
        {
         "hovertemplate": "championName=Heimerdinger<br>totalDamageDealtToChampions=%{x}<br>totalDamageTaken=%{y}<extra></extra>",
         "legendgroup": "Heimerdinger",
         "marker": {
          "color": "#00cc96",
          "symbol": "circle"
         },
         "mode": "markers",
         "name": "Heimerdinger",
         "orientation": "v",
         "showlegend": true,
         "type": "scatter",
         "x": [
          22827
         ],
         "xaxis": "x",
         "y": [
          18098
         ],
         "yaxis": "y"
        },
        {
         "hovertemplate": "championName=Hwei<br>totalDamageDealtToChampions=%{x}<br>totalDamageTaken=%{y}<extra></extra>",
         "legendgroup": "Hwei",
         "marker": {
          "color": "#ab63fa",
          "symbol": "circle"
         },
         "mode": "markers",
         "name": "Hwei",
         "orientation": "v",
         "showlegend": true,
         "type": "scatter",
         "x": [
          23596
         ],
         "xaxis": "x",
         "y": [
          17564
         ],
         "yaxis": "y"
        },
        {
         "hovertemplate": "championName=Illaoi<br>totalDamageDealtToChampions=%{x}<br>totalDamageTaken=%{y}<extra></extra>",
         "legendgroup": "Illaoi",
         "marker": {
          "color": "#FFA15A",
          "symbol": "circle"
         },
         "mode": "markers",
         "name": "Illaoi",
         "orientation": "v",
         "showlegend": true,
         "type": "scatter",
         "x": [
          27565
         ],
         "xaxis": "x",
         "y": [
          33456
         ],
         "yaxis": "y"
        },
        {
         "hovertemplate": "championName=Irelia<br>totalDamageDealtToChampions=%{x}<br>totalDamageTaken=%{y}<extra></extra>",
         "legendgroup": "Irelia",
         "marker": {
          "color": "#19d3f3",
          "symbol": "circle"
         },
         "mode": "markers",
         "name": "Irelia",
         "orientation": "v",
         "showlegend": true,
         "type": "scatter",
         "x": [
          21132
         ],
         "xaxis": "x",
         "y": [
          28660
         ],
         "yaxis": "y"
        },
        {
         "hovertemplate": "championName=Ivern<br>totalDamageDealtToChampions=%{x}<br>totalDamageTaken=%{y}<extra></extra>",
         "legendgroup": "Ivern",
         "marker": {
          "color": "#FF6692",
          "symbol": "circle"
         },
         "mode": "markers",
         "name": "Ivern",
         "orientation": "v",
         "showlegend": true,
         "type": "scatter",
         "x": [
          9236
         ],
         "xaxis": "x",
         "y": [
          15022
         ],
         "yaxis": "y"
        },
        {
         "hovertemplate": "championName=Janna<br>totalDamageDealtToChampions=%{x}<br>totalDamageTaken=%{y}<extra></extra>",
         "legendgroup": "Janna",
         "marker": {
          "color": "#B6E880",
          "symbol": "circle"
         },
         "mode": "markers",
         "name": "Janna",
         "orientation": "v",
         "showlegend": true,
         "type": "scatter",
         "x": [
          8534
         ],
         "xaxis": "x",
         "y": [
          14530
         ],
         "yaxis": "y"
        },
        {
         "hovertemplate": "championName=JarvanIV<br>totalDamageDealtToChampions=%{x}<br>totalDamageTaken=%{y}<extra></extra>",
         "legendgroup": "JarvanIV",
         "marker": {
          "color": "#FF97FF",
          "symbol": "circle"
         },
         "mode": "markers",
         "name": "JarvanIV",
         "orientation": "v",
         "showlegend": true,
         "type": "scatter",
         "x": [
          14053
         ],
         "xaxis": "x",
         "y": [
          29679
         ],
         "yaxis": "y"
        },
        {
         "hovertemplate": "championName=Jax<br>totalDamageDealtToChampions=%{x}<br>totalDamageTaken=%{y}<extra></extra>",
         "legendgroup": "Jax",
         "marker": {
          "color": "#FECB52",
          "symbol": "circle"
         },
         "mode": "markers",
         "name": "Jax",
         "orientation": "v",
         "showlegend": true,
         "type": "scatter",
         "x": [
          19948
         ],
         "xaxis": "x",
         "y": [
          27679
         ],
         "yaxis": "y"
        },
        {
         "hovertemplate": "championName=Jayce<br>totalDamageDealtToChampions=%{x}<br>totalDamageTaken=%{y}<extra></extra>",
         "legendgroup": "Jayce",
         "marker": {
          "color": "#636efa",
          "symbol": "circle"
         },
         "mode": "markers",
         "name": "Jayce",
         "orientation": "v",
         "showlegend": true,
         "type": "scatter",
         "x": [
          23542
         ],
         "xaxis": "x",
         "y": [
          19733
         ],
         "yaxis": "y"
        },
        {
         "hovertemplate": "championName=Jhin<br>totalDamageDealtToChampions=%{x}<br>totalDamageTaken=%{y}<extra></extra>",
         "legendgroup": "Jhin",
         "marker": {
          "color": "#EF553B",
          "symbol": "circle"
         },
         "mode": "markers",
         "name": "Jhin",
         "orientation": "v",
         "showlegend": true,
         "type": "scatter",
         "x": [
          19938
         ],
         "xaxis": "x",
         "y": [
          17363
         ],
         "yaxis": "y"
        },
        {
         "hovertemplate": "championName=Jinx<br>totalDamageDealtToChampions=%{x}<br>totalDamageTaken=%{y}<extra></extra>",
         "legendgroup": "Jinx",
         "marker": {
          "color": "#00cc96",
          "symbol": "circle"
         },
         "mode": "markers",
         "name": "Jinx",
         "orientation": "v",
         "showlegend": true,
         "type": "scatter",
         "x": [
          21026
         ],
         "xaxis": "x",
         "y": [
          17185
         ],
         "yaxis": "y"
        },
        {
         "hovertemplate": "championName=KSante<br>totalDamageDealtToChampions=%{x}<br>totalDamageTaken=%{y}<extra></extra>",
         "legendgroup": "KSante",
         "marker": {
          "color": "#ab63fa",
          "symbol": "circle"
         },
         "mode": "markers",
         "name": "KSante",
         "orientation": "v",
         "showlegend": true,
         "type": "scatter",
         "x": [
          19284
         ],
         "xaxis": "x",
         "y": [
          28136
         ],
         "yaxis": "y"
        },
        {
         "hovertemplate": "championName=Kaisa<br>totalDamageDealtToChampions=%{x}<br>totalDamageTaken=%{y}<extra></extra>",
         "legendgroup": "Kaisa",
         "marker": {
          "color": "#FFA15A",
          "symbol": "circle"
         },
         "mode": "markers",
         "name": "Kaisa",
         "orientation": "v",
         "showlegend": true,
         "type": "scatter",
         "x": [
          21397
         ],
         "xaxis": "x",
         "y": [
          17535
         ],
         "yaxis": "y"
        },
        {
         "hovertemplate": "championName=Kalista<br>totalDamageDealtToChampions=%{x}<br>totalDamageTaken=%{y}<extra></extra>",
         "legendgroup": "Kalista",
         "marker": {
          "color": "#19d3f3",
          "symbol": "circle"
         },
         "mode": "markers",
         "name": "Kalista",
         "orientation": "v",
         "showlegend": true,
         "type": "scatter",
         "x": [
          19749
         ],
         "xaxis": "x",
         "y": [
          21365
         ],
         "yaxis": "y"
        },
        {
         "hovertemplate": "championName=Karma<br>totalDamageDealtToChampions=%{x}<br>totalDamageTaken=%{y}<extra></extra>",
         "legendgroup": "Karma",
         "marker": {
          "color": "#FF6692",
          "symbol": "circle"
         },
         "mode": "markers",
         "name": "Karma",
         "orientation": "v",
         "showlegend": true,
         "type": "scatter",
         "x": [
          12520
         ],
         "xaxis": "x",
         "y": [
          18446
         ],
         "yaxis": "y"
        },
        {
         "hovertemplate": "championName=Karthus<br>totalDamageDealtToChampions=%{x}<br>totalDamageTaken=%{y}<extra></extra>",
         "legendgroup": "Karthus",
         "marker": {
          "color": "#B6E880",
          "symbol": "circle"
         },
         "mode": "markers",
         "name": "Karthus",
         "orientation": "v",
         "showlegend": true,
         "type": "scatter",
         "x": [
          30226
         ],
         "xaxis": "x",
         "y": [
          28087
         ],
         "yaxis": "y"
        },
        {
         "hovertemplate": "championName=Kassadin<br>totalDamageDealtToChampions=%{x}<br>totalDamageTaken=%{y}<extra></extra>",
         "legendgroup": "Kassadin",
         "marker": {
          "color": "#FF97FF",
          "symbol": "circle"
         },
         "mode": "markers",
         "name": "Kassadin",
         "orientation": "v",
         "showlegend": true,
         "type": "scatter",
         "x": [
          20407
         ],
         "xaxis": "x",
         "y": [
          30707
         ],
         "yaxis": "y"
        },
        {
         "hovertemplate": "championName=Katarina<br>totalDamageDealtToChampions=%{x}<br>totalDamageTaken=%{y}<extra></extra>",
         "legendgroup": "Katarina",
         "marker": {
          "color": "#FECB52",
          "symbol": "circle"
         },
         "mode": "markers",
         "name": "Katarina",
         "orientation": "v",
         "showlegend": true,
         "type": "scatter",
         "x": [
          24114
         ],
         "xaxis": "x",
         "y": [
          23052
         ],
         "yaxis": "y"
        },
        {
         "hovertemplate": "championName=Kayle<br>totalDamageDealtToChampions=%{x}<br>totalDamageTaken=%{y}<extra></extra>",
         "legendgroup": "Kayle",
         "marker": {
          "color": "#636efa",
          "symbol": "circle"
         },
         "mode": "markers",
         "name": "Kayle",
         "orientation": "v",
         "showlegend": true,
         "type": "scatter",
         "x": [
          23438
         ],
         "xaxis": "x",
         "y": [
          22258
         ],
         "yaxis": "y"
        },
        {
         "hovertemplate": "championName=Kayn<br>totalDamageDealtToChampions=%{x}<br>totalDamageTaken=%{y}<extra></extra>",
         "legendgroup": "Kayn",
         "marker": {
          "color": "#EF553B",
          "symbol": "circle"
         },
         "mode": "markers",
         "name": "Kayn",
         "orientation": "v",
         "showlegend": true,
         "type": "scatter",
         "x": [
          22113
         ],
         "xaxis": "x",
         "y": [
          33458
         ],
         "yaxis": "y"
        },
        {
         "hovertemplate": "championName=Kennen<br>totalDamageDealtToChampions=%{x}<br>totalDamageTaken=%{y}<extra></extra>",
         "legendgroup": "Kennen",
         "marker": {
          "color": "#00cc96",
          "symbol": "circle"
         },
         "mode": "markers",
         "name": "Kennen",
         "orientation": "v",
         "showlegend": true,
         "type": "scatter",
         "x": [
          19715
         ],
         "xaxis": "x",
         "y": [
          18541
         ],
         "yaxis": "y"
        },
        {
         "hovertemplate": "championName=Khazix<br>totalDamageDealtToChampions=%{x}<br>totalDamageTaken=%{y}<extra></extra>",
         "legendgroup": "Khazix",
         "marker": {
          "color": "#ab63fa",
          "symbol": "circle"
         },
         "mode": "markers",
         "name": "Khazix",
         "orientation": "v",
         "showlegend": true,
         "type": "scatter",
         "x": [
          19965
         ],
         "xaxis": "x",
         "y": [
          29607
         ],
         "yaxis": "y"
        },
        {
         "hovertemplate": "championName=Kindred<br>totalDamageDealtToChampions=%{x}<br>totalDamageTaken=%{y}<extra></extra>",
         "legendgroup": "Kindred",
         "marker": {
          "color": "#FFA15A",
          "symbol": "circle"
         },
         "mode": "markers",
         "name": "Kindred",
         "orientation": "v",
         "showlegend": true,
         "type": "scatter",
         "x": [
          19944
         ],
         "xaxis": "x",
         "y": [
          28412
         ],
         "yaxis": "y"
        },
        {
         "hovertemplate": "championName=Kled<br>totalDamageDealtToChampions=%{x}<br>totalDamageTaken=%{y}<extra></extra>",
         "legendgroup": "Kled",
         "marker": {
          "color": "#19d3f3",
          "symbol": "circle"
         },
         "mode": "markers",
         "name": "Kled",
         "orientation": "v",
         "showlegend": true,
         "type": "scatter",
         "x": [
          20442
         ],
         "xaxis": "x",
         "y": [
          34108
         ],
         "yaxis": "y"
        },
        {
         "hovertemplate": "championName=KogMaw<br>totalDamageDealtToChampions=%{x}<br>totalDamageTaken=%{y}<extra></extra>",
         "legendgroup": "KogMaw",
         "marker": {
          "color": "#FF6692",
          "symbol": "circle"
         },
         "mode": "markers",
         "name": "KogMaw",
         "orientation": "v",
         "showlegend": true,
         "type": "scatter",
         "x": [
          27119
         ],
         "xaxis": "x",
         "y": [
          21482
         ],
         "yaxis": "y"
        },
        {
         "hovertemplate": "championName=Leblanc<br>totalDamageDealtToChampions=%{x}<br>totalDamageTaken=%{y}<extra></extra>",
         "legendgroup": "Leblanc",
         "marker": {
          "color": "#B6E880",
          "symbol": "circle"
         },
         "mode": "markers",
         "name": "Leblanc",
         "orientation": "v",
         "showlegend": true,
         "type": "scatter",
         "x": [
          19824
         ],
         "xaxis": "x",
         "y": [
          20170
         ],
         "yaxis": "y"
        },
        {
         "hovertemplate": "championName=LeeSin<br>totalDamageDealtToChampions=%{x}<br>totalDamageTaken=%{y}<extra></extra>",
         "legendgroup": "LeeSin",
         "marker": {
          "color": "#FF97FF",
          "symbol": "circle"
         },
         "mode": "markers",
         "name": "LeeSin",
         "orientation": "v",
         "showlegend": true,
         "type": "scatter",
         "x": [
          15713
         ],
         "xaxis": "x",
         "y": [
          32350
         ],
         "yaxis": "y"
        },
        {
         "hovertemplate": "championName=Leona<br>totalDamageDealtToChampions=%{x}<br>totalDamageTaken=%{y}<extra></extra>",
         "legendgroup": "Leona",
         "marker": {
          "color": "#FECB52",
          "symbol": "circle"
         },
         "mode": "markers",
         "name": "Leona",
         "orientation": "v",
         "showlegend": true,
         "type": "scatter",
         "x": [
          11564
         ],
         "xaxis": "x",
         "y": [
          24251
         ],
         "yaxis": "y"
        },
        {
         "hovertemplate": "championName=Lillia<br>totalDamageDealtToChampions=%{x}<br>totalDamageTaken=%{y}<extra></extra>",
         "legendgroup": "Lillia",
         "marker": {
          "color": "#636efa",
          "symbol": "circle"
         },
         "mode": "markers",
         "name": "Lillia",
         "orientation": "v",
         "showlegend": true,
         "type": "scatter",
         "x": [
          26933
         ],
         "xaxis": "x",
         "y": [
          32025
         ],
         "yaxis": "y"
        },
        {
         "hovertemplate": "championName=Lissandra<br>totalDamageDealtToChampions=%{x}<br>totalDamageTaken=%{y}<extra></extra>",
         "legendgroup": "Lissandra",
         "marker": {
          "color": "#EF553B",
          "symbol": "circle"
         },
         "mode": "markers",
         "name": "Lissandra",
         "orientation": "v",
         "showlegend": true,
         "type": "scatter",
         "x": [
          18354
         ],
         "xaxis": "x",
         "y": [
          21296
         ],
         "yaxis": "y"
        },
        {
         "hovertemplate": "championName=Lucian<br>totalDamageDealtToChampions=%{x}<br>totalDamageTaken=%{y}<extra></extra>",
         "legendgroup": "Lucian",
         "marker": {
          "color": "#00cc96",
          "symbol": "circle"
         },
         "mode": "markers",
         "name": "Lucian",
         "orientation": "v",
         "showlegend": true,
         "type": "scatter",
         "x": [
          22892
         ],
         "xaxis": "x",
         "y": [
          19120
         ],
         "yaxis": "y"
        },
        {
         "hovertemplate": "championName=Lulu<br>totalDamageDealtToChampions=%{x}<br>totalDamageTaken=%{y}<extra></extra>",
         "legendgroup": "Lulu",
         "marker": {
          "color": "#ab63fa",
          "symbol": "circle"
         },
         "mode": "markers",
         "name": "Lulu",
         "orientation": "v",
         "showlegend": true,
         "type": "scatter",
         "x": [
          7305
         ],
         "xaxis": "x",
         "y": [
          14585
         ],
         "yaxis": "y"
        },
        {
         "hovertemplate": "championName=Lux<br>totalDamageDealtToChampions=%{x}<br>totalDamageTaken=%{y}<extra></extra>",
         "legendgroup": "Lux",
         "marker": {
          "color": "#FFA15A",
          "symbol": "circle"
         },
         "mode": "markers",
         "name": "Lux",
         "orientation": "v",
         "showlegend": true,
         "type": "scatter",
         "x": [
          17349
         ],
         "xaxis": "x",
         "y": [
          14137
         ],
         "yaxis": "y"
        },
        {
         "hovertemplate": "championName=Malphite<br>totalDamageDealtToChampions=%{x}<br>totalDamageTaken=%{y}<extra></extra>",
         "legendgroup": "Malphite",
         "marker": {
          "color": "#19d3f3",
          "symbol": "circle"
         },
         "mode": "markers",
         "name": "Malphite",
         "orientation": "v",
         "showlegend": true,
         "type": "scatter",
         "x": [
          17579
         ],
         "xaxis": "x",
         "y": [
          21975
         ],
         "yaxis": "y"
        },
        {
         "hovertemplate": "championName=Malzahar<br>totalDamageDealtToChampions=%{x}<br>totalDamageTaken=%{y}<extra></extra>",
         "legendgroup": "Malzahar",
         "marker": {
          "color": "#FF6692",
          "symbol": "circle"
         },
         "mode": "markers",
         "name": "Malzahar",
         "orientation": "v",
         "showlegend": true,
         "type": "scatter",
         "x": [
          22925
         ],
         "xaxis": "x",
         "y": [
          17987
         ],
         "yaxis": "y"
        },
        {
         "hovertemplate": "championName=Maokai<br>totalDamageDealtToChampions=%{x}<br>totalDamageTaken=%{y}<extra></extra>",
         "legendgroup": "Maokai",
         "marker": {
          "color": "#B6E880",
          "symbol": "circle"
         },
         "mode": "markers",
         "name": "Maokai",
         "orientation": "v",
         "showlegend": true,
         "type": "scatter",
         "x": [
          16271
         ],
         "xaxis": "x",
         "y": [
          32105
         ],
         "yaxis": "y"
        },
        {
         "hovertemplate": "championName=MasterYi<br>totalDamageDealtToChampions=%{x}<br>totalDamageTaken=%{y}<extra></extra>",
         "legendgroup": "MasterYi",
         "marker": {
          "color": "#FF97FF",
          "symbol": "circle"
         },
         "mode": "markers",
         "name": "MasterYi",
         "orientation": "v",
         "showlegend": true,
         "type": "scatter",
         "x": [
          22353
         ],
         "xaxis": "x",
         "y": [
          27336
         ],
         "yaxis": "y"
        },
        {
         "hovertemplate": "championName=Milio<br>totalDamageDealtToChampions=%{x}<br>totalDamageTaken=%{y}<extra></extra>",
         "legendgroup": "Milio",
         "marker": {
          "color": "#FECB52",
          "symbol": "circle"
         },
         "mode": "markers",
         "name": "Milio",
         "orientation": "v",
         "showlegend": true,
         "type": "scatter",
         "x": [
          4937
         ],
         "xaxis": "x",
         "y": [
          13556
         ],
         "yaxis": "y"
        },
        {
         "hovertemplate": "championName=MissFortune<br>totalDamageDealtToChampions=%{x}<br>totalDamageTaken=%{y}<extra></extra>",
         "legendgroup": "MissFortune",
         "marker": {
          "color": "#636efa",
          "symbol": "circle"
         },
         "mode": "markers",
         "name": "MissFortune",
         "orientation": "v",
         "showlegend": true,
         "type": "scatter",
         "x": [
          21465
         ],
         "xaxis": "x",
         "y": [
          18305
         ],
         "yaxis": "y"
        },
        {
         "hovertemplate": "championName=MonkeyKing<br>totalDamageDealtToChampions=%{x}<br>totalDamageTaken=%{y}<extra></extra>",
         "legendgroup": "MonkeyKing",
         "marker": {
          "color": "#EF553B",
          "symbol": "circle"
         },
         "mode": "markers",
         "name": "MonkeyKing",
         "orientation": "v",
         "showlegend": true,
         "type": "scatter",
         "x": [
          16257
         ],
         "xaxis": "x",
         "y": [
          28449
         ],
         "yaxis": "y"
        },
        {
         "hovertemplate": "championName=Mordekaiser<br>totalDamageDealtToChampions=%{x}<br>totalDamageTaken=%{y}<extra></extra>",
         "legendgroup": "Mordekaiser",
         "marker": {
          "color": "#00cc96",
          "symbol": "circle"
         },
         "mode": "markers",
         "name": "Mordekaiser",
         "orientation": "v",
         "showlegend": true,
         "type": "scatter",
         "x": [
          23945
         ],
         "xaxis": "x",
         "y": [
          30755
         ],
         "yaxis": "y"
        },
        {
         "hovertemplate": "championName=Morgana<br>totalDamageDealtToChampions=%{x}<br>totalDamageTaken=%{y}<extra></extra>",
         "legendgroup": "Morgana",
         "marker": {
          "color": "#ab63fa",
          "symbol": "circle"
         },
         "mode": "markers",
         "name": "Morgana",
         "orientation": "v",
         "showlegend": true,
         "type": "scatter",
         "x": [
          17045
         ],
         "xaxis": "x",
         "y": [
          20447
         ],
         "yaxis": "y"
        },
        {
         "hovertemplate": "championName=Naafiri<br>totalDamageDealtToChampions=%{x}<br>totalDamageTaken=%{y}<extra></extra>",
         "legendgroup": "Naafiri",
         "marker": {
          "color": "#FFA15A",
          "symbol": "circle"
         },
         "mode": "markers",
         "name": "Naafiri",
         "orientation": "v",
         "showlegend": true,
         "type": "scatter",
         "x": [
          28107
         ],
         "xaxis": "x",
         "y": [
          26196
         ],
         "yaxis": "y"
        },
        {
         "hovertemplate": "championName=Nami<br>totalDamageDealtToChampions=%{x}<br>totalDamageTaken=%{y}<extra></extra>",
         "legendgroup": "Nami",
         "marker": {
          "color": "#19d3f3",
          "symbol": "circle"
         },
         "mode": "markers",
         "name": "Nami",
         "orientation": "v",
         "showlegend": true,
         "type": "scatter",
         "x": [
          9612
         ],
         "xaxis": "x",
         "y": [
          15990
         ],
         "yaxis": "y"
        },
        {
         "hovertemplate": "championName=Nasus<br>totalDamageDealtToChampions=%{x}<br>totalDamageTaken=%{y}<extra></extra>",
         "legendgroup": "Nasus",
         "marker": {
          "color": "#FF6692",
          "symbol": "circle"
         },
         "mode": "markers",
         "name": "Nasus",
         "orientation": "v",
         "showlegend": true,
         "type": "scatter",
         "x": [
          19129
         ],
         "xaxis": "x",
         "y": [
          32681
         ],
         "yaxis": "y"
        },
        {
         "hovertemplate": "championName=Nautilus<br>totalDamageDealtToChampions=%{x}<br>totalDamageTaken=%{y}<extra></extra>",
         "legendgroup": "Nautilus",
         "marker": {
          "color": "#B6E880",
          "symbol": "circle"
         },
         "mode": "markers",
         "name": "Nautilus",
         "orientation": "v",
         "showlegend": true,
         "type": "scatter",
         "x": [
          7797
         ],
         "xaxis": "x",
         "y": [
          20342
         ],
         "yaxis": "y"
        },
        {
         "hovertemplate": "championName=Neeko<br>totalDamageDealtToChampions=%{x}<br>totalDamageTaken=%{y}<extra></extra>",
         "legendgroup": "Neeko",
         "marker": {
          "color": "#FF97FF",
          "symbol": "circle"
         },
         "mode": "markers",
         "name": "Neeko",
         "orientation": "v",
         "showlegend": true,
         "type": "scatter",
         "x": [
          18887
         ],
         "xaxis": "x",
         "y": [
          18465
         ],
         "yaxis": "y"
        },
        {
         "hovertemplate": "championName=Nidalee<br>totalDamageDealtToChampions=%{x}<br>totalDamageTaken=%{y}<extra></extra>",
         "legendgroup": "Nidalee",
         "marker": {
          "color": "#FECB52",
          "symbol": "circle"
         },
         "mode": "markers",
         "name": "Nidalee",
         "orientation": "v",
         "showlegend": true,
         "type": "scatter",
         "x": [
          18906
         ],
         "xaxis": "x",
         "y": [
          30743
         ],
         "yaxis": "y"
        },
        {
         "hovertemplate": "championName=Nilah<br>totalDamageDealtToChampions=%{x}<br>totalDamageTaken=%{y}<extra></extra>",
         "legendgroup": "Nilah",
         "marker": {
          "color": "#636efa",
          "symbol": "circle"
         },
         "mode": "markers",
         "name": "Nilah",
         "orientation": "v",
         "showlegend": true,
         "type": "scatter",
         "x": [
          19572
         ],
         "xaxis": "x",
         "y": [
          22692
         ],
         "yaxis": "y"
        },
        {
         "hovertemplate": "championName=Nocturne<br>totalDamageDealtToChampions=%{x}<br>totalDamageTaken=%{y}<extra></extra>",
         "legendgroup": "Nocturne",
         "marker": {
          "color": "#EF553B",
          "symbol": "circle"
         },
         "mode": "markers",
         "name": "Nocturne",
         "orientation": "v",
         "showlegend": true,
         "type": "scatter",
         "x": [
          16223
         ],
         "xaxis": "x",
         "y": [
          32462
         ],
         "yaxis": "y"
        },
        {
         "hovertemplate": "championName=Nunu<br>totalDamageDealtToChampions=%{x}<br>totalDamageTaken=%{y}<extra></extra>",
         "legendgroup": "Nunu",
         "marker": {
          "color": "#00cc96",
          "symbol": "circle"
         },
         "mode": "markers",
         "name": "Nunu",
         "orientation": "v",
         "showlegend": true,
         "type": "scatter",
         "x": [
          14414
         ],
         "xaxis": "x",
         "y": [
          32123
         ],
         "yaxis": "y"
        },
        {
         "hovertemplate": "championName=Olaf<br>totalDamageDealtToChampions=%{x}<br>totalDamageTaken=%{y}<extra></extra>",
         "legendgroup": "Olaf",
         "marker": {
          "color": "#ab63fa",
          "symbol": "circle"
         },
         "mode": "markers",
         "name": "Olaf",
         "orientation": "v",
         "showlegend": true,
         "type": "scatter",
         "x": [
          22747
         ],
         "xaxis": "x",
         "y": [
          25378
         ],
         "yaxis": "y"
        },
        {
         "hovertemplate": "championName=Orianna<br>totalDamageDealtToChampions=%{x}<br>totalDamageTaken=%{y}<extra></extra>",
         "legendgroup": "Orianna",
         "marker": {
          "color": "#FFA15A",
          "symbol": "circle"
         },
         "mode": "markers",
         "name": "Orianna",
         "orientation": "v",
         "showlegend": true,
         "type": "scatter",
         "x": [
          20008
         ],
         "xaxis": "x",
         "y": [
          17039
         ],
         "yaxis": "y"
        },
        {
         "hovertemplate": "championName=Ornn<br>totalDamageDealtToChampions=%{x}<br>totalDamageTaken=%{y}<extra></extra>",
         "legendgroup": "Ornn",
         "marker": {
          "color": "#19d3f3",
          "symbol": "circle"
         },
         "mode": "markers",
         "name": "Ornn",
         "orientation": "v",
         "showlegend": true,
         "type": "scatter",
         "x": [
          16210
         ],
         "xaxis": "x",
         "y": [
          28599
         ],
         "yaxis": "y"
        },
        {
         "hovertemplate": "championName=Pantheon<br>totalDamageDealtToChampions=%{x}<br>totalDamageTaken=%{y}<extra></extra>",
         "legendgroup": "Pantheon",
         "marker": {
          "color": "#FF6692",
          "symbol": "circle"
         },
         "mode": "markers",
         "name": "Pantheon",
         "orientation": "v",
         "showlegend": true,
         "type": "scatter",
         "x": [
          20851
         ],
         "xaxis": "x",
         "y": [
          23264
         ],
         "yaxis": "y"
        },
        {
         "hovertemplate": "championName=Poppy<br>totalDamageDealtToChampions=%{x}<br>totalDamageTaken=%{y}<extra></extra>",
         "legendgroup": "Poppy",
         "marker": {
          "color": "#B6E880",
          "symbol": "circle"
         },
         "mode": "markers",
         "name": "Poppy",
         "orientation": "v",
         "showlegend": true,
         "type": "scatter",
         "x": [
          17496
         ],
         "xaxis": "x",
         "y": [
          26810
         ],
         "yaxis": "y"
        },
        {
         "hovertemplate": "championName=Pyke<br>totalDamageDealtToChampions=%{x}<br>totalDamageTaken=%{y}<extra></extra>",
         "legendgroup": "Pyke",
         "marker": {
          "color": "#FF97FF",
          "symbol": "circle"
         },
         "mode": "markers",
         "name": "Pyke",
         "orientation": "v",
         "showlegend": true,
         "type": "scatter",
         "x": [
          10262
         ],
         "xaxis": "x",
         "y": [
          20222
         ],
         "yaxis": "y"
        },
        {
         "hovertemplate": "championName=Qiyana<br>totalDamageDealtToChampions=%{x}<br>totalDamageTaken=%{y}<extra></extra>",
         "legendgroup": "Qiyana",
         "marker": {
          "color": "#FECB52",
          "symbol": "circle"
         },
         "mode": "markers",
         "name": "Qiyana",
         "orientation": "v",
         "showlegend": true,
         "type": "scatter",
         "x": [
          21992
         ],
         "xaxis": "x",
         "y": [
          21829
         ],
         "yaxis": "y"
        },
        {
         "hovertemplate": "championName=Quinn<br>totalDamageDealtToChampions=%{x}<br>totalDamageTaken=%{y}<extra></extra>",
         "legendgroup": "Quinn",
         "marker": {
          "color": "#636efa",
          "symbol": "circle"
         },
         "mode": "markers",
         "name": "Quinn",
         "orientation": "v",
         "showlegend": true,
         "type": "scatter",
         "x": [
          23807
         ],
         "xaxis": "x",
         "y": [
          22154
         ],
         "yaxis": "y"
        },
        {
         "hovertemplate": "championName=Rakan<br>totalDamageDealtToChampions=%{x}<br>totalDamageTaken=%{y}<extra></extra>",
         "legendgroup": "Rakan",
         "marker": {
          "color": "#EF553B",
          "symbol": "circle"
         },
         "mode": "markers",
         "name": "Rakan",
         "orientation": "v",
         "showlegend": true,
         "type": "scatter",
         "x": [
          6314
         ],
         "xaxis": "x",
         "y": [
          18462
         ],
         "yaxis": "y"
        },
        {
         "hovertemplate": "championName=Rammus<br>totalDamageDealtToChampions=%{x}<br>totalDamageTaken=%{y}<extra></extra>",
         "legendgroup": "Rammus",
         "marker": {
          "color": "#00cc96",
          "symbol": "circle"
         },
         "mode": "markers",
         "name": "Rammus",
         "orientation": "v",
         "showlegend": true,
         "type": "scatter",
         "x": [
          15658
         ],
         "xaxis": "x",
         "y": [
          29759
         ],
         "yaxis": "y"
        },
        {
         "hovertemplate": "championName=RekSai<br>totalDamageDealtToChampions=%{x}<br>totalDamageTaken=%{y}<extra></extra>",
         "legendgroup": "RekSai",
         "marker": {
          "color": "#ab63fa",
          "symbol": "circle"
         },
         "mode": "markers",
         "name": "RekSai",
         "orientation": "v",
         "showlegend": true,
         "type": "scatter",
         "x": [
          13203
         ],
         "xaxis": "x",
         "y": [
          27895
         ],
         "yaxis": "y"
        },
        {
         "hovertemplate": "championName=Rell<br>totalDamageDealtToChampions=%{x}<br>totalDamageTaken=%{y}<extra></extra>",
         "legendgroup": "Rell",
         "marker": {
          "color": "#FFA15A",
          "symbol": "circle"
         },
         "mode": "markers",
         "name": "Rell",
         "orientation": "v",
         "showlegend": true,
         "type": "scatter",
         "x": [
          6315
         ],
         "xaxis": "x",
         "y": [
          20050
         ],
         "yaxis": "y"
        },
        {
         "hovertemplate": "championName=Renata<br>totalDamageDealtToChampions=%{x}<br>totalDamageTaken=%{y}<extra></extra>",
         "legendgroup": "Renata",
         "marker": {
          "color": "#19d3f3",
          "symbol": "circle"
         },
         "mode": "markers",
         "name": "Renata",
         "orientation": "v",
         "showlegend": true,
         "type": "scatter",
         "x": [
          8614
         ],
         "xaxis": "x",
         "y": [
          17313
         ],
         "yaxis": "y"
        },
        {
         "hovertemplate": "championName=Renekton<br>totalDamageDealtToChampions=%{x}<br>totalDamageTaken=%{y}<extra></extra>",
         "legendgroup": "Renekton",
         "marker": {
          "color": "#FF6692",
          "symbol": "circle"
         },
         "mode": "markers",
         "name": "Renekton",
         "orientation": "v",
         "showlegend": true,
         "type": "scatter",
         "x": [
          18803
         ],
         "xaxis": "x",
         "y": [
          33443
         ],
         "yaxis": "y"
        },
        {
         "hovertemplate": "championName=Rengar<br>totalDamageDealtToChampions=%{x}<br>totalDamageTaken=%{y}<extra></extra>",
         "legendgroup": "Rengar",
         "marker": {
          "color": "#B6E880",
          "symbol": "circle"
         },
         "mode": "markers",
         "name": "Rengar",
         "orientation": "v",
         "showlegend": true,
         "type": "scatter",
         "x": [
          20143
         ],
         "xaxis": "x",
         "y": [
          30930
         ],
         "yaxis": "y"
        },
        {
         "hovertemplate": "championName=Riven<br>totalDamageDealtToChampions=%{x}<br>totalDamageTaken=%{y}<extra></extra>",
         "legendgroup": "Riven",
         "marker": {
          "color": "#FF97FF",
          "symbol": "circle"
         },
         "mode": "markers",
         "name": "Riven",
         "orientation": "v",
         "showlegend": true,
         "type": "scatter",
         "x": [
          19651
         ],
         "xaxis": "x",
         "y": [
          24486
         ],
         "yaxis": "y"
        },
        {
         "hovertemplate": "championName=Rumble<br>totalDamageDealtToChampions=%{x}<br>totalDamageTaken=%{y}<extra></extra>",
         "legendgroup": "Rumble",
         "marker": {
          "color": "#FECB52",
          "symbol": "circle"
         },
         "mode": "markers",
         "name": "Rumble",
         "orientation": "v",
         "showlegend": true,
         "type": "scatter",
         "x": [
          21552
         ],
         "xaxis": "x",
         "y": [
          20780
         ],
         "yaxis": "y"
        },
        {
         "hovertemplate": "championName=Ryze<br>totalDamageDealtToChampions=%{x}<br>totalDamageTaken=%{y}<extra></extra>",
         "legendgroup": "Ryze",
         "marker": {
          "color": "#636efa",
          "symbol": "circle"
         },
         "mode": "markers",
         "name": "Ryze",
         "orientation": "v",
         "showlegend": true,
         "type": "scatter",
         "x": [
          22434
         ],
         "xaxis": "x",
         "y": [
          26017
         ],
         "yaxis": "y"
        },
        {
         "hovertemplate": "championName=Samira<br>totalDamageDealtToChampions=%{x}<br>totalDamageTaken=%{y}<extra></extra>",
         "legendgroup": "Samira",
         "marker": {
          "color": "#EF553B",
          "symbol": "circle"
         },
         "mode": "markers",
         "name": "Samira",
         "orientation": "v",
         "showlegend": true,
         "type": "scatter",
         "x": [
          22385
         ],
         "xaxis": "x",
         "y": [
          21613
         ],
         "yaxis": "y"
        },
        {
         "hovertemplate": "championName=Sejuani<br>totalDamageDealtToChampions=%{x}<br>totalDamageTaken=%{y}<extra></extra>",
         "legendgroup": "Sejuani",
         "marker": {
          "color": "#00cc96",
          "symbol": "circle"
         },
         "mode": "markers",
         "name": "Sejuani",
         "orientation": "v",
         "showlegend": true,
         "type": "scatter",
         "x": [
          12367
         ],
         "xaxis": "x",
         "y": [
          31092
         ],
         "yaxis": "y"
        },
        {
         "hovertemplate": "championName=Senna<br>totalDamageDealtToChampions=%{x}<br>totalDamageTaken=%{y}<extra></extra>",
         "legendgroup": "Senna",
         "marker": {
          "color": "#ab63fa",
          "symbol": "circle"
         },
         "mode": "markers",
         "name": "Senna",
         "orientation": "v",
         "showlegend": true,
         "type": "scatter",
         "x": [
          16920
         ],
         "xaxis": "x",
         "y": [
          16977
         ],
         "yaxis": "y"
        },
        {
         "hovertemplate": "championName=Seraphine<br>totalDamageDealtToChampions=%{x}<br>totalDamageTaken=%{y}<extra></extra>",
         "legendgroup": "Seraphine",
         "marker": {
          "color": "#FFA15A",
          "symbol": "circle"
         },
         "mode": "markers",
         "name": "Seraphine",
         "orientation": "v",
         "showlegend": true,
         "type": "scatter",
         "x": [
          12131
         ],
         "xaxis": "x",
         "y": [
          15075
         ],
         "yaxis": "y"
        },
        {
         "hovertemplate": "championName=Sett<br>totalDamageDealtToChampions=%{x}<br>totalDamageTaken=%{y}<extra></extra>",
         "legendgroup": "Sett",
         "marker": {
          "color": "#19d3f3",
          "symbol": "circle"
         },
         "mode": "markers",
         "name": "Sett",
         "orientation": "v",
         "showlegend": true,
         "type": "scatter",
         "x": [
          24594
         ],
         "xaxis": "x",
         "y": [
          34260
         ],
         "yaxis": "y"
        },
        {
         "hovertemplate": "championName=Shaco<br>totalDamageDealtToChampions=%{x}<br>totalDamageTaken=%{y}<extra></extra>",
         "legendgroup": "Shaco",
         "marker": {
          "color": "#FF6692",
          "symbol": "circle"
         },
         "mode": "markers",
         "name": "Shaco",
         "orientation": "v",
         "showlegend": true,
         "type": "scatter",
         "x": [
          19258
         ],
         "xaxis": "x",
         "y": [
          21630
         ],
         "yaxis": "y"
        },
        {
         "hovertemplate": "championName=Shen<br>totalDamageDealtToChampions=%{x}<br>totalDamageTaken=%{y}<extra></extra>",
         "legendgroup": "Shen",
         "marker": {
          "color": "#B6E880",
          "symbol": "circle"
         },
         "mode": "markers",
         "name": "Shen",
         "orientation": "v",
         "showlegend": true,
         "type": "scatter",
         "x": [
          14300
         ],
         "xaxis": "x",
         "y": [
          26187
         ],
         "yaxis": "y"
        },
        {
         "hovertemplate": "championName=Shyvana<br>totalDamageDealtToChampions=%{x}<br>totalDamageTaken=%{y}<extra></extra>",
         "legendgroup": "Shyvana",
         "marker": {
          "color": "#FF97FF",
          "symbol": "circle"
         },
         "mode": "markers",
         "name": "Shyvana",
         "orientation": "v",
         "showlegend": true,
         "type": "scatter",
         "x": [
          21380
         ],
         "xaxis": "x",
         "y": [
          30939
         ],
         "yaxis": "y"
        },
        {
         "hovertemplate": "championName=Singed<br>totalDamageDealtToChampions=%{x}<br>totalDamageTaken=%{y}<extra></extra>",
         "legendgroup": "Singed",
         "marker": {
          "color": "#FECB52",
          "symbol": "circle"
         },
         "mode": "markers",
         "name": "Singed",
         "orientation": "v",
         "showlegend": true,
         "type": "scatter",
         "x": [
          20643
         ],
         "xaxis": "x",
         "y": [
          29585
         ],
         "yaxis": "y"
        },
        {
         "hovertemplate": "championName=Sion<br>totalDamageDealtToChampions=%{x}<br>totalDamageTaken=%{y}<extra></extra>",
         "legendgroup": "Sion",
         "marker": {
          "color": "#636efa",
          "symbol": "circle"
         },
         "mode": "markers",
         "name": "Sion",
         "orientation": "v",
         "showlegend": true,
         "type": "scatter",
         "x": [
          25714
         ],
         "xaxis": "x",
         "y": [
          46761
         ],
         "yaxis": "y"
        },
        {
         "hovertemplate": "championName=Sivir<br>totalDamageDealtToChampions=%{x}<br>totalDamageTaken=%{y}<extra></extra>",
         "legendgroup": "Sivir",
         "marker": {
          "color": "#EF553B",
          "symbol": "circle"
         },
         "mode": "markers",
         "name": "Sivir",
         "orientation": "v",
         "showlegend": true,
         "type": "scatter",
         "x": [
          23431
         ],
         "xaxis": "x",
         "y": [
          19141
         ],
         "yaxis": "y"
        },
        {
         "hovertemplate": "championName=Skarner<br>totalDamageDealtToChampions=%{x}<br>totalDamageTaken=%{y}<extra></extra>",
         "legendgroup": "Skarner",
         "marker": {
          "color": "#00cc96",
          "symbol": "circle"
         },
         "mode": "markers",
         "name": "Skarner",
         "orientation": "v",
         "showlegend": true,
         "type": "scatter",
         "x": [
          20334
         ],
         "xaxis": "x",
         "y": [
          29492
         ],
         "yaxis": "y"
        },
        {
         "hovertemplate": "championName=Sona<br>totalDamageDealtToChampions=%{x}<br>totalDamageTaken=%{y}<extra></extra>",
         "legendgroup": "Sona",
         "marker": {
          "color": "#ab63fa",
          "symbol": "circle"
         },
         "mode": "markers",
         "name": "Sona",
         "orientation": "v",
         "showlegend": true,
         "type": "scatter",
         "x": [
          10127
         ],
         "xaxis": "x",
         "y": [
          17374
         ],
         "yaxis": "y"
        },
        {
         "hovertemplate": "championName=Soraka<br>totalDamageDealtToChampions=%{x}<br>totalDamageTaken=%{y}<extra></extra>",
         "legendgroup": "Soraka",
         "marker": {
          "color": "#FFA15A",
          "symbol": "circle"
         },
         "mode": "markers",
         "name": "Soraka",
         "orientation": "v",
         "showlegend": true,
         "type": "scatter",
         "x": [
          5981
         ],
         "xaxis": "x",
         "y": [
          15553
         ],
         "yaxis": "y"
        },
        {
         "hovertemplate": "championName=Swain<br>totalDamageDealtToChampions=%{x}<br>totalDamageTaken=%{y}<extra></extra>",
         "legendgroup": "Swain",
         "marker": {
          "color": "#19d3f3",
          "symbol": "circle"
         },
         "mode": "markers",
         "name": "Swain",
         "orientation": "v",
         "showlegend": true,
         "type": "scatter",
         "x": [
          24793
         ],
         "xaxis": "x",
         "y": [
          33434
         ],
         "yaxis": "y"
        },
        {
         "hovertemplate": "championName=Sylas<br>totalDamageDealtToChampions=%{x}<br>totalDamageTaken=%{y}<extra></extra>",
         "legendgroup": "Sylas",
         "marker": {
          "color": "#FF6692",
          "symbol": "circle"
         },
         "mode": "markers",
         "name": "Sylas",
         "orientation": "v",
         "showlegend": true,
         "type": "scatter",
         "x": [
          22256
         ],
         "xaxis": "x",
         "y": [
          29775
         ],
         "yaxis": "y"
        },
        {
         "hovertemplate": "championName=Syndra<br>totalDamageDealtToChampions=%{x}<br>totalDamageTaken=%{y}<extra></extra>",
         "legendgroup": "Syndra",
         "marker": {
          "color": "#B6E880",
          "symbol": "circle"
         },
         "mode": "markers",
         "name": "Syndra",
         "orientation": "v",
         "showlegend": true,
         "type": "scatter",
         "x": [
          23016
         ],
         "xaxis": "x",
         "y": [
          17094
         ],
         "yaxis": "y"
        },
        {
         "hovertemplate": "championName=TahmKench<br>totalDamageDealtToChampions=%{x}<br>totalDamageTaken=%{y}<extra></extra>",
         "legendgroup": "TahmKench",
         "marker": {
          "color": "#FF97FF",
          "symbol": "circle"
         },
         "mode": "markers",
         "name": "TahmKench",
         "orientation": "v",
         "showlegend": true,
         "type": "scatter",
         "x": [
          18661
         ],
         "xaxis": "x",
         "y": [
          36659
         ],
         "yaxis": "y"
        },
        {
         "hovertemplate": "championName=Taliyah<br>totalDamageDealtToChampions=%{x}<br>totalDamageTaken=%{y}<extra></extra>",
         "legendgroup": "Taliyah",
         "marker": {
          "color": "#FECB52",
          "symbol": "circle"
         },
         "mode": "markers",
         "name": "Taliyah",
         "orientation": "v",
         "showlegend": true,
         "type": "scatter",
         "x": [
          20514
         ],
         "xaxis": "x",
         "y": [
          19247
         ],
         "yaxis": "y"
        },
        {
         "hovertemplate": "championName=Talon<br>totalDamageDealtToChampions=%{x}<br>totalDamageTaken=%{y}<extra></extra>",
         "legendgroup": "Talon",
         "marker": {
          "color": "#636efa",
          "symbol": "circle"
         },
         "mode": "markers",
         "name": "Talon",
         "orientation": "v",
         "showlegend": true,
         "type": "scatter",
         "x": [
          21401
         ],
         "xaxis": "x",
         "y": [
          26551
         ],
         "yaxis": "y"
        },
        {
         "hovertemplate": "championName=Taric<br>totalDamageDealtToChampions=%{x}<br>totalDamageTaken=%{y}<extra></extra>",
         "legendgroup": "Taric",
         "marker": {
          "color": "#EF553B",
          "symbol": "circle"
         },
         "mode": "markers",
         "name": "Taric",
         "orientation": "v",
         "showlegend": true,
         "type": "scatter",
         "x": [
          9672
         ],
         "xaxis": "x",
         "y": [
          26553
         ],
         "yaxis": "y"
        },
        {
         "hovertemplate": "championName=Teemo<br>totalDamageDealtToChampions=%{x}<br>totalDamageTaken=%{y}<extra></extra>",
         "legendgroup": "Teemo",
         "marker": {
          "color": "#00cc96",
          "symbol": "circle"
         },
         "mode": "markers",
         "name": "Teemo",
         "orientation": "v",
         "showlegend": true,
         "type": "scatter",
         "x": [
          25894
         ],
         "xaxis": "x",
         "y": [
          21989
         ],
         "yaxis": "y"
        },
        {
         "hovertemplate": "championName=Thresh<br>totalDamageDealtToChampions=%{x}<br>totalDamageTaken=%{y}<extra></extra>",
         "legendgroup": "Thresh",
         "marker": {
          "color": "#ab63fa",
          "symbol": "circle"
         },
         "mode": "markers",
         "name": "Thresh",
         "orientation": "v",
         "showlegend": true,
         "type": "scatter",
         "x": [
          7532
         ],
         "xaxis": "x",
         "y": [
          19725
         ],
         "yaxis": "y"
        },
        {
         "hovertemplate": "championName=Tristana<br>totalDamageDealtToChampions=%{x}<br>totalDamageTaken=%{y}<extra></extra>",
         "legendgroup": "Tristana",
         "marker": {
          "color": "#FFA15A",
          "symbol": "circle"
         },
         "mode": "markers",
         "name": "Tristana",
         "orientation": "v",
         "showlegend": true,
         "type": "scatter",
         "x": [
          20559
         ],
         "xaxis": "x",
         "y": [
          18423
         ],
         "yaxis": "y"
        },
        {
         "hovertemplate": "championName=Trundle<br>totalDamageDealtToChampions=%{x}<br>totalDamageTaken=%{y}<extra></extra>",
         "legendgroup": "Trundle",
         "marker": {
          "color": "#19d3f3",
          "symbol": "circle"
         },
         "mode": "markers",
         "name": "Trundle",
         "orientation": "v",
         "showlegend": true,
         "type": "scatter",
         "x": [
          19856
         ],
         "xaxis": "x",
         "y": [
          32994
         ],
         "yaxis": "y"
        },
        {
         "hovertemplate": "championName=Tryndamere<br>totalDamageDealtToChampions=%{x}<br>totalDamageTaken=%{y}<extra></extra>",
         "legendgroup": "Tryndamere",
         "marker": {
          "color": "#FF6692",
          "symbol": "circle"
         },
         "mode": "markers",
         "name": "Tryndamere",
         "orientation": "v",
         "showlegend": true,
         "type": "scatter",
         "x": [
          18994
         ],
         "xaxis": "x",
         "y": [
          33115
         ],
         "yaxis": "y"
        },
        {
         "hovertemplate": "championName=TwistedFate<br>totalDamageDealtToChampions=%{x}<br>totalDamageTaken=%{y}<extra></extra>",
         "legendgroup": "TwistedFate",
         "marker": {
          "color": "#B6E880",
          "symbol": "circle"
         },
         "mode": "markers",
         "name": "TwistedFate",
         "orientation": "v",
         "showlegend": true,
         "type": "scatter",
         "x": [
          16037
         ],
         "xaxis": "x",
         "y": [
          18781
         ],
         "yaxis": "y"
        },
        {
         "hovertemplate": "championName=Twitch<br>totalDamageDealtToChampions=%{x}<br>totalDamageTaken=%{y}<extra></extra>",
         "legendgroup": "Twitch",
         "marker": {
          "color": "#FF97FF",
          "symbol": "circle"
         },
         "mode": "markers",
         "name": "Twitch",
         "orientation": "v",
         "showlegend": true,
         "type": "scatter",
         "x": [
          23915
         ],
         "xaxis": "x",
         "y": [
          21001
         ],
         "yaxis": "y"
        },
        {
         "hovertemplate": "championName=Udyr<br>totalDamageDealtToChampions=%{x}<br>totalDamageTaken=%{y}<extra></extra>",
         "legendgroup": "Udyr",
         "marker": {
          "color": "#FECB52",
          "symbol": "circle"
         },
         "mode": "markers",
         "name": "Udyr",
         "orientation": "v",
         "showlegend": true,
         "type": "scatter",
         "x": [
          18824
         ],
         "xaxis": "x",
         "y": [
          28333
         ],
         "yaxis": "y"
        },
        {
         "hovertemplate": "championName=Urgot<br>totalDamageDealtToChampions=%{x}<br>totalDamageTaken=%{y}<extra></extra>",
         "legendgroup": "Urgot",
         "marker": {
          "color": "#636efa",
          "symbol": "circle"
         },
         "mode": "markers",
         "name": "Urgot",
         "orientation": "v",
         "showlegend": true,
         "type": "scatter",
         "x": [
          25737
         ],
         "xaxis": "x",
         "y": [
          32283
         ],
         "yaxis": "y"
        },
        {
         "hovertemplate": "championName=Varus<br>totalDamageDealtToChampions=%{x}<br>totalDamageTaken=%{y}<extra></extra>",
         "legendgroup": "Varus",
         "marker": {
          "color": "#EF553B",
          "symbol": "circle"
         },
         "mode": "markers",
         "name": "Varus",
         "orientation": "v",
         "showlegend": true,
         "type": "scatter",
         "x": [
          21038
         ],
         "xaxis": "x",
         "y": [
          18371
         ],
         "yaxis": "y"
        },
        {
         "hovertemplate": "championName=Vayne<br>totalDamageDealtToChampions=%{x}<br>totalDamageTaken=%{y}<extra></extra>",
         "legendgroup": "Vayne",
         "marker": {
          "color": "#00cc96",
          "symbol": "circle"
         },
         "mode": "markers",
         "name": "Vayne",
         "orientation": "v",
         "showlegend": true,
         "type": "scatter",
         "x": [
          25106
         ],
         "xaxis": "x",
         "y": [
          21763
         ],
         "yaxis": "y"
        },
        {
         "hovertemplate": "championName=Veigar<br>totalDamageDealtToChampions=%{x}<br>totalDamageTaken=%{y}<extra></extra>",
         "legendgroup": "Veigar",
         "marker": {
          "color": "#ab63fa",
          "symbol": "circle"
         },
         "mode": "markers",
         "name": "Veigar",
         "orientation": "v",
         "showlegend": true,
         "type": "scatter",
         "x": [
          22840
         ],
         "xaxis": "x",
         "y": [
          19957
         ],
         "yaxis": "y"
        },
        {
         "hovertemplate": "championName=Velkoz<br>totalDamageDealtToChampions=%{x}<br>totalDamageTaken=%{y}<extra></extra>",
         "legendgroup": "Velkoz",
         "marker": {
          "color": "#FFA15A",
          "symbol": "circle"
         },
         "mode": "markers",
         "name": "Velkoz",
         "orientation": "v",
         "showlegend": true,
         "type": "scatter",
         "x": [
          20338
         ],
         "xaxis": "x",
         "y": [
          15023
         ],
         "yaxis": "y"
        },
        {
         "hovertemplate": "championName=Vex<br>totalDamageDealtToChampions=%{x}<br>totalDamageTaken=%{y}<extra></extra>",
         "legendgroup": "Vex",
         "marker": {
          "color": "#19d3f3",
          "symbol": "circle"
         },
         "mode": "markers",
         "name": "Vex",
         "orientation": "v",
         "showlegend": true,
         "type": "scatter",
         "x": [
          22399
         ],
         "xaxis": "x",
         "y": [
          18068
         ],
         "yaxis": "y"
        },
        {
         "hovertemplate": "championName=Vi<br>totalDamageDealtToChampions=%{x}<br>totalDamageTaken=%{y}<extra></extra>",
         "legendgroup": "Vi",
         "marker": {
          "color": "#FF6692",
          "symbol": "circle"
         },
         "mode": "markers",
         "name": "Vi",
         "orientation": "v",
         "showlegend": true,
         "type": "scatter",
         "x": [
          15554
         ],
         "xaxis": "x",
         "y": [
          25645
         ],
         "yaxis": "y"
        },
        {
         "hovertemplate": "championName=Viego<br>totalDamageDealtToChampions=%{x}<br>totalDamageTaken=%{y}<extra></extra>",
         "legendgroup": "Viego",
         "marker": {
          "color": "#B6E880",
          "symbol": "circle"
         },
         "mode": "markers",
         "name": "Viego",
         "orientation": "v",
         "showlegend": true,
         "type": "scatter",
         "x": [
          16139
         ],
         "xaxis": "x",
         "y": [
          29583
         ],
         "yaxis": "y"
        },
        {
         "hovertemplate": "championName=Viktor<br>totalDamageDealtToChampions=%{x}<br>totalDamageTaken=%{y}<extra></extra>",
         "legendgroup": "Viktor",
         "marker": {
          "color": "#FF97FF",
          "symbol": "circle"
         },
         "mode": "markers",
         "name": "Viktor",
         "orientation": "v",
         "showlegend": true,
         "type": "scatter",
         "x": [
          25087
         ],
         "xaxis": "x",
         "y": [
          17676
         ],
         "yaxis": "y"
        },
        {
         "hovertemplate": "championName=Vladimir<br>totalDamageDealtToChampions=%{x}<br>totalDamageTaken=%{y}<extra></extra>",
         "legendgroup": "Vladimir",
         "marker": {
          "color": "#FECB52",
          "symbol": "circle"
         },
         "mode": "markers",
         "name": "Vladimir",
         "orientation": "v",
         "showlegend": true,
         "type": "scatter",
         "x": [
          28265
         ],
         "xaxis": "x",
         "y": [
          33257
         ],
         "yaxis": "y"
        },
        {
         "hovertemplate": "championName=Volibear<br>totalDamageDealtToChampions=%{x}<br>totalDamageTaken=%{y}<extra></extra>",
         "legendgroup": "Volibear",
         "marker": {
          "color": "#636efa",
          "symbol": "circle"
         },
         "mode": "markers",
         "name": "Volibear",
         "orientation": "v",
         "showlegend": true,
         "type": "scatter",
         "x": [
          20770
         ],
         "xaxis": "x",
         "y": [
          32766
         ],
         "yaxis": "y"
        },
        {
         "hovertemplate": "championName=Warwick<br>totalDamageDealtToChampions=%{x}<br>totalDamageTaken=%{y}<extra></extra>",
         "legendgroup": "Warwick",
         "marker": {
          "color": "#EF553B",
          "symbol": "circle"
         },
         "mode": "markers",
         "name": "Warwick",
         "orientation": "v",
         "showlegend": true,
         "type": "scatter",
         "x": [
          17389
         ],
         "xaxis": "x",
         "y": [
          32451
         ],
         "yaxis": "y"
        },
        {
         "hovertemplate": "championName=Xayah<br>totalDamageDealtToChampions=%{x}<br>totalDamageTaken=%{y}<extra></extra>",
         "legendgroup": "Xayah",
         "marker": {
          "color": "#00cc96",
          "symbol": "circle"
         },
         "mode": "markers",
         "name": "Xayah",
         "orientation": "v",
         "showlegend": true,
         "type": "scatter",
         "x": [
          19126
         ],
         "xaxis": "x",
         "y": [
          17015
         ],
         "yaxis": "y"
        },
        {
         "hovertemplate": "championName=Xerath<br>totalDamageDealtToChampions=%{x}<br>totalDamageTaken=%{y}<extra></extra>",
         "legendgroup": "Xerath",
         "marker": {
          "color": "#ab63fa",
          "symbol": "circle"
         },
         "mode": "markers",
         "name": "Xerath",
         "orientation": "v",
         "showlegend": true,
         "type": "scatter",
         "x": [
          21760
         ],
         "xaxis": "x",
         "y": [
          14874
         ],
         "yaxis": "y"
        },
        {
         "hovertemplate": "championName=XinZhao<br>totalDamageDealtToChampions=%{x}<br>totalDamageTaken=%{y}<extra></extra>",
         "legendgroup": "XinZhao",
         "marker": {
          "color": "#FFA15A",
          "symbol": "circle"
         },
         "mode": "markers",
         "name": "XinZhao",
         "orientation": "v",
         "showlegend": true,
         "type": "scatter",
         "x": [
          17624
         ],
         "xaxis": "x",
         "y": [
          32035
         ],
         "yaxis": "y"
        },
        {
         "hovertemplate": "championName=Yasuo<br>totalDamageDealtToChampions=%{x}<br>totalDamageTaken=%{y}<extra></extra>",
         "legendgroup": "Yasuo",
         "marker": {
          "color": "#19d3f3",
          "symbol": "circle"
         },
         "mode": "markers",
         "name": "Yasuo",
         "orientation": "v",
         "showlegend": true,
         "type": "scatter",
         "x": [
          19054
         ],
         "xaxis": "x",
         "y": [
          22177
         ],
         "yaxis": "y"
        },
        {
         "hovertemplate": "championName=Yone<br>totalDamageDealtToChampions=%{x}<br>totalDamageTaken=%{y}<extra></extra>",
         "legendgroup": "Yone",
         "marker": {
          "color": "#FF6692",
          "symbol": "circle"
         },
         "mode": "markers",
         "name": "Yone",
         "orientation": "v",
         "showlegend": true,
         "type": "scatter",
         "x": [
          20668
         ],
         "xaxis": "x",
         "y": [
          23745
         ],
         "yaxis": "y"
        },
        {
         "hovertemplate": "championName=Yorick<br>totalDamageDealtToChampions=%{x}<br>totalDamageTaken=%{y}<extra></extra>",
         "legendgroup": "Yorick",
         "marker": {
          "color": "#B6E880",
          "symbol": "circle"
         },
         "mode": "markers",
         "name": "Yorick",
         "orientation": "v",
         "showlegend": true,
         "type": "scatter",
         "x": [
          23184
         ],
         "xaxis": "x",
         "y": [
          22640
         ],
         "yaxis": "y"
        },
        {
         "hovertemplate": "championName=Yuumi<br>totalDamageDealtToChampions=%{x}<br>totalDamageTaken=%{y}<extra></extra>",
         "legendgroup": "Yuumi",
         "marker": {
          "color": "#FF97FF",
          "symbol": "circle"
         },
         "mode": "markers",
         "name": "Yuumi",
         "orientation": "v",
         "showlegend": true,
         "type": "scatter",
         "x": [
          9258
         ],
         "xaxis": "x",
         "y": [
          8942
         ],
         "yaxis": "y"
        },
        {
         "hovertemplate": "championName=Zac<br>totalDamageDealtToChampions=%{x}<br>totalDamageTaken=%{y}<extra></extra>",
         "legendgroup": "Zac",
         "marker": {
          "color": "#FECB52",
          "symbol": "circle"
         },
         "mode": "markers",
         "name": "Zac",
         "orientation": "v",
         "showlegend": true,
         "type": "scatter",
         "x": [
          16705
         ],
         "xaxis": "x",
         "y": [
          37528
         ],
         "yaxis": "y"
        },
        {
         "hovertemplate": "championName=Zed<br>totalDamageDealtToChampions=%{x}<br>totalDamageTaken=%{y}<extra></extra>",
         "legendgroup": "Zed",
         "marker": {
          "color": "#636efa",
          "symbol": "circle"
         },
         "mode": "markers",
         "name": "Zed",
         "orientation": "v",
         "showlegend": true,
         "type": "scatter",
         "x": [
          27678
         ],
         "xaxis": "x",
         "y": [
          21813
         ],
         "yaxis": "y"
        },
        {
         "hovertemplate": "championName=Zeri<br>totalDamageDealtToChampions=%{x}<br>totalDamageTaken=%{y}<extra></extra>",
         "legendgroup": "Zeri",
         "marker": {
          "color": "#EF553B",
          "symbol": "circle"
         },
         "mode": "markers",
         "name": "Zeri",
         "orientation": "v",
         "showlegend": true,
         "type": "scatter",
         "x": [
          22739
         ],
         "xaxis": "x",
         "y": [
          20042
         ],
         "yaxis": "y"
        },
        {
         "hovertemplate": "championName=Ziggs<br>totalDamageDealtToChampions=%{x}<br>totalDamageTaken=%{y}<extra></extra>",
         "legendgroup": "Ziggs",
         "marker": {
          "color": "#00cc96",
          "symbol": "circle"
         },
         "mode": "markers",
         "name": "Ziggs",
         "orientation": "v",
         "showlegend": true,
         "type": "scatter",
         "x": [
          25129
         ],
         "xaxis": "x",
         "y": [
          16031
         ],
         "yaxis": "y"
        },
        {
         "hovertemplate": "championName=Zilean<br>totalDamageDealtToChampions=%{x}<br>totalDamageTaken=%{y}<extra></extra>",
         "legendgroup": "Zilean",
         "marker": {
          "color": "#ab63fa",
          "symbol": "circle"
         },
         "mode": "markers",
         "name": "Zilean",
         "orientation": "v",
         "showlegend": true,
         "type": "scatter",
         "x": [
          9183
         ],
         "xaxis": "x",
         "y": [
          15796
         ],
         "yaxis": "y"
        },
        {
         "hovertemplate": "championName=Zoe<br>totalDamageDealtToChampions=%{x}<br>totalDamageTaken=%{y}<extra></extra>",
         "legendgroup": "Zoe",
         "marker": {
          "color": "#FFA15A",
          "symbol": "circle"
         },
         "mode": "markers",
         "name": "Zoe",
         "orientation": "v",
         "showlegend": true,
         "type": "scatter",
         "x": [
          22752
         ],
         "xaxis": "x",
         "y": [
          17401
         ],
         "yaxis": "y"
        },
        {
         "hovertemplate": "championName=Zyra<br>totalDamageDealtToChampions=%{x}<br>totalDamageTaken=%{y}<extra></extra>",
         "legendgroup": "Zyra",
         "marker": {
          "color": "#19d3f3",
          "symbol": "circle"
         },
         "mode": "markers",
         "name": "Zyra",
         "orientation": "v",
         "showlegend": true,
         "type": "scatter",
         "x": [
          19344
         ],
         "xaxis": "x",
         "y": [
          16100
         ],
         "yaxis": "y"
        }
       ],
       "layout": {
        "legend": {
         "title": {
          "text": "championName"
         },
         "tracegroupgap": 0
        },
        "margin": {
         "t": 60
        },
        "template": {
         "data": {
          "bar": [
           {
            "error_x": {
             "color": "#2a3f5f"
            },
            "error_y": {
             "color": "#2a3f5f"
            },
            "marker": {
             "line": {
              "color": "#E5ECF6",
              "width": 0.5
             },
             "pattern": {
              "fillmode": "overlay",
              "size": 10,
              "solidity": 0.2
             }
            },
            "type": "bar"
           }
          ],
          "barpolar": [
           {
            "marker": {
             "line": {
              "color": "#E5ECF6",
              "width": 0.5
             },
             "pattern": {
              "fillmode": "overlay",
              "size": 10,
              "solidity": 0.2
             }
            },
            "type": "barpolar"
           }
          ],
          "carpet": [
           {
            "aaxis": {
             "endlinecolor": "#2a3f5f",
             "gridcolor": "white",
             "linecolor": "white",
             "minorgridcolor": "white",
             "startlinecolor": "#2a3f5f"
            },
            "baxis": {
             "endlinecolor": "#2a3f5f",
             "gridcolor": "white",
             "linecolor": "white",
             "minorgridcolor": "white",
             "startlinecolor": "#2a3f5f"
            },
            "type": "carpet"
           }
          ],
          "choropleth": [
           {
            "colorbar": {
             "outlinewidth": 0,
             "ticks": ""
            },
            "type": "choropleth"
           }
          ],
          "contour": [
           {
            "colorbar": {
             "outlinewidth": 0,
             "ticks": ""
            },
            "colorscale": [
             [
              0,
              "#0d0887"
             ],
             [
              0.1111111111111111,
              "#46039f"
             ],
             [
              0.2222222222222222,
              "#7201a8"
             ],
             [
              0.3333333333333333,
              "#9c179e"
             ],
             [
              0.4444444444444444,
              "#bd3786"
             ],
             [
              0.5555555555555556,
              "#d8576b"
             ],
             [
              0.6666666666666666,
              "#ed7953"
             ],
             [
              0.7777777777777778,
              "#fb9f3a"
             ],
             [
              0.8888888888888888,
              "#fdca26"
             ],
             [
              1,
              "#f0f921"
             ]
            ],
            "type": "contour"
           }
          ],
          "contourcarpet": [
           {
            "colorbar": {
             "outlinewidth": 0,
             "ticks": ""
            },
            "type": "contourcarpet"
           }
          ],
          "heatmap": [
           {
            "colorbar": {
             "outlinewidth": 0,
             "ticks": ""
            },
            "colorscale": [
             [
              0,
              "#0d0887"
             ],
             [
              0.1111111111111111,
              "#46039f"
             ],
             [
              0.2222222222222222,
              "#7201a8"
             ],
             [
              0.3333333333333333,
              "#9c179e"
             ],
             [
              0.4444444444444444,
              "#bd3786"
             ],
             [
              0.5555555555555556,
              "#d8576b"
             ],
             [
              0.6666666666666666,
              "#ed7953"
             ],
             [
              0.7777777777777778,
              "#fb9f3a"
             ],
             [
              0.8888888888888888,
              "#fdca26"
             ],
             [
              1,
              "#f0f921"
             ]
            ],
            "type": "heatmap"
           }
          ],
          "heatmapgl": [
           {
            "colorbar": {
             "outlinewidth": 0,
             "ticks": ""
            },
            "colorscale": [
             [
              0,
              "#0d0887"
             ],
             [
              0.1111111111111111,
              "#46039f"
             ],
             [
              0.2222222222222222,
              "#7201a8"
             ],
             [
              0.3333333333333333,
              "#9c179e"
             ],
             [
              0.4444444444444444,
              "#bd3786"
             ],
             [
              0.5555555555555556,
              "#d8576b"
             ],
             [
              0.6666666666666666,
              "#ed7953"
             ],
             [
              0.7777777777777778,
              "#fb9f3a"
             ],
             [
              0.8888888888888888,
              "#fdca26"
             ],
             [
              1,
              "#f0f921"
             ]
            ],
            "type": "heatmapgl"
           }
          ],
          "histogram": [
           {
            "marker": {
             "pattern": {
              "fillmode": "overlay",
              "size": 10,
              "solidity": 0.2
             }
            },
            "type": "histogram"
           }
          ],
          "histogram2d": [
           {
            "colorbar": {
             "outlinewidth": 0,
             "ticks": ""
            },
            "colorscale": [
             [
              0,
              "#0d0887"
             ],
             [
              0.1111111111111111,
              "#46039f"
             ],
             [
              0.2222222222222222,
              "#7201a8"
             ],
             [
              0.3333333333333333,
              "#9c179e"
             ],
             [
              0.4444444444444444,
              "#bd3786"
             ],
             [
              0.5555555555555556,
              "#d8576b"
             ],
             [
              0.6666666666666666,
              "#ed7953"
             ],
             [
              0.7777777777777778,
              "#fb9f3a"
             ],
             [
              0.8888888888888888,
              "#fdca26"
             ],
             [
              1,
              "#f0f921"
             ]
            ],
            "type": "histogram2d"
           }
          ],
          "histogram2dcontour": [
           {
            "colorbar": {
             "outlinewidth": 0,
             "ticks": ""
            },
            "colorscale": [
             [
              0,
              "#0d0887"
             ],
             [
              0.1111111111111111,
              "#46039f"
             ],
             [
              0.2222222222222222,
              "#7201a8"
             ],
             [
              0.3333333333333333,
              "#9c179e"
             ],
             [
              0.4444444444444444,
              "#bd3786"
             ],
             [
              0.5555555555555556,
              "#d8576b"
             ],
             [
              0.6666666666666666,
              "#ed7953"
             ],
             [
              0.7777777777777778,
              "#fb9f3a"
             ],
             [
              0.8888888888888888,
              "#fdca26"
             ],
             [
              1,
              "#f0f921"
             ]
            ],
            "type": "histogram2dcontour"
           }
          ],
          "mesh3d": [
           {
            "colorbar": {
             "outlinewidth": 0,
             "ticks": ""
            },
            "type": "mesh3d"
           }
          ],
          "parcoords": [
           {
            "line": {
             "colorbar": {
              "outlinewidth": 0,
              "ticks": ""
             }
            },
            "type": "parcoords"
           }
          ],
          "pie": [
           {
            "automargin": true,
            "type": "pie"
           }
          ],
          "scatter": [
           {
            "fillpattern": {
             "fillmode": "overlay",
             "size": 10,
             "solidity": 0.2
            },
            "type": "scatter"
           }
          ],
          "scatter3d": [
           {
            "line": {
             "colorbar": {
              "outlinewidth": 0,
              "ticks": ""
             }
            },
            "marker": {
             "colorbar": {
              "outlinewidth": 0,
              "ticks": ""
             }
            },
            "type": "scatter3d"
           }
          ],
          "scattercarpet": [
           {
            "marker": {
             "colorbar": {
              "outlinewidth": 0,
              "ticks": ""
             }
            },
            "type": "scattercarpet"
           }
          ],
          "scattergeo": [
           {
            "marker": {
             "colorbar": {
              "outlinewidth": 0,
              "ticks": ""
             }
            },
            "type": "scattergeo"
           }
          ],
          "scattergl": [
           {
            "marker": {
             "colorbar": {
              "outlinewidth": 0,
              "ticks": ""
             }
            },
            "type": "scattergl"
           }
          ],
          "scattermapbox": [
           {
            "marker": {
             "colorbar": {
              "outlinewidth": 0,
              "ticks": ""
             }
            },
            "type": "scattermapbox"
           }
          ],
          "scatterpolar": [
           {
            "marker": {
             "colorbar": {
              "outlinewidth": 0,
              "ticks": ""
             }
            },
            "type": "scatterpolar"
           }
          ],
          "scatterpolargl": [
           {
            "marker": {
             "colorbar": {
              "outlinewidth": 0,
              "ticks": ""
             }
            },
            "type": "scatterpolargl"
           }
          ],
          "scatterternary": [
           {
            "marker": {
             "colorbar": {
              "outlinewidth": 0,
              "ticks": ""
             }
            },
            "type": "scatterternary"
           }
          ],
          "surface": [
           {
            "colorbar": {
             "outlinewidth": 0,
             "ticks": ""
            },
            "colorscale": [
             [
              0,
              "#0d0887"
             ],
             [
              0.1111111111111111,
              "#46039f"
             ],
             [
              0.2222222222222222,
              "#7201a8"
             ],
             [
              0.3333333333333333,
              "#9c179e"
             ],
             [
              0.4444444444444444,
              "#bd3786"
             ],
             [
              0.5555555555555556,
              "#d8576b"
             ],
             [
              0.6666666666666666,
              "#ed7953"
             ],
             [
              0.7777777777777778,
              "#fb9f3a"
             ],
             [
              0.8888888888888888,
              "#fdca26"
             ],
             [
              1,
              "#f0f921"
             ]
            ],
            "type": "surface"
           }
          ],
          "table": [
           {
            "cells": {
             "fill": {
              "color": "#EBF0F8"
             },
             "line": {
              "color": "white"
             }
            },
            "header": {
             "fill": {
              "color": "#C8D4E3"
             },
             "line": {
              "color": "white"
             }
            },
            "type": "table"
           }
          ]
         },
         "layout": {
          "annotationdefaults": {
           "arrowcolor": "#2a3f5f",
           "arrowhead": 0,
           "arrowwidth": 1
          },
          "autotypenumbers": "strict",
          "coloraxis": {
           "colorbar": {
            "outlinewidth": 0,
            "ticks": ""
           }
          },
          "colorscale": {
           "diverging": [
            [
             0,
             "#8e0152"
            ],
            [
             0.1,
             "#c51b7d"
            ],
            [
             0.2,
             "#de77ae"
            ],
            [
             0.3,
             "#f1b6da"
            ],
            [
             0.4,
             "#fde0ef"
            ],
            [
             0.5,
             "#f7f7f7"
            ],
            [
             0.6,
             "#e6f5d0"
            ],
            [
             0.7,
             "#b8e186"
            ],
            [
             0.8,
             "#7fbc41"
            ],
            [
             0.9,
             "#4d9221"
            ],
            [
             1,
             "#276419"
            ]
           ],
           "sequential": [
            [
             0,
             "#0d0887"
            ],
            [
             0.1111111111111111,
             "#46039f"
            ],
            [
             0.2222222222222222,
             "#7201a8"
            ],
            [
             0.3333333333333333,
             "#9c179e"
            ],
            [
             0.4444444444444444,
             "#bd3786"
            ],
            [
             0.5555555555555556,
             "#d8576b"
            ],
            [
             0.6666666666666666,
             "#ed7953"
            ],
            [
             0.7777777777777778,
             "#fb9f3a"
            ],
            [
             0.8888888888888888,
             "#fdca26"
            ],
            [
             1,
             "#f0f921"
            ]
           ],
           "sequentialminus": [
            [
             0,
             "#0d0887"
            ],
            [
             0.1111111111111111,
             "#46039f"
            ],
            [
             0.2222222222222222,
             "#7201a8"
            ],
            [
             0.3333333333333333,
             "#9c179e"
            ],
            [
             0.4444444444444444,
             "#bd3786"
            ],
            [
             0.5555555555555556,
             "#d8576b"
            ],
            [
             0.6666666666666666,
             "#ed7953"
            ],
            [
             0.7777777777777778,
             "#fb9f3a"
            ],
            [
             0.8888888888888888,
             "#fdca26"
            ],
            [
             1,
             "#f0f921"
            ]
           ]
          },
          "colorway": [
           "#636efa",
           "#EF553B",
           "#00cc96",
           "#ab63fa",
           "#FFA15A",
           "#19d3f3",
           "#FF6692",
           "#B6E880",
           "#FF97FF",
           "#FECB52"
          ],
          "font": {
           "color": "#2a3f5f"
          },
          "geo": {
           "bgcolor": "white",
           "lakecolor": "white",
           "landcolor": "#E5ECF6",
           "showlakes": true,
           "showland": true,
           "subunitcolor": "white"
          },
          "hoverlabel": {
           "align": "left"
          },
          "hovermode": "closest",
          "mapbox": {
           "style": "light"
          },
          "paper_bgcolor": "white",
          "plot_bgcolor": "#E5ECF6",
          "polar": {
           "angularaxis": {
            "gridcolor": "white",
            "linecolor": "white",
            "ticks": ""
           },
           "bgcolor": "#E5ECF6",
           "radialaxis": {
            "gridcolor": "white",
            "linecolor": "white",
            "ticks": ""
           }
          },
          "scene": {
           "xaxis": {
            "backgroundcolor": "#E5ECF6",
            "gridcolor": "white",
            "gridwidth": 2,
            "linecolor": "white",
            "showbackground": true,
            "ticks": "",
            "zerolinecolor": "white"
           },
           "yaxis": {
            "backgroundcolor": "#E5ECF6",
            "gridcolor": "white",
            "gridwidth": 2,
            "linecolor": "white",
            "showbackground": true,
            "ticks": "",
            "zerolinecolor": "white"
           },
           "zaxis": {
            "backgroundcolor": "#E5ECF6",
            "gridcolor": "white",
            "gridwidth": 2,
            "linecolor": "white",
            "showbackground": true,
            "ticks": "",
            "zerolinecolor": "white"
           }
          },
          "shapedefaults": {
           "line": {
            "color": "#2a3f5f"
           }
          },
          "ternary": {
           "aaxis": {
            "gridcolor": "white",
            "linecolor": "white",
            "ticks": ""
           },
           "baxis": {
            "gridcolor": "white",
            "linecolor": "white",
            "ticks": ""
           },
           "bgcolor": "#E5ECF6",
           "caxis": {
            "gridcolor": "white",
            "linecolor": "white",
            "ticks": ""
           }
          },
          "title": {
           "x": 0.05
          },
          "xaxis": {
           "automargin": true,
           "gridcolor": "white",
           "linecolor": "white",
           "ticks": "",
           "title": {
            "standoff": 15
           },
           "zerolinecolor": "white",
           "zerolinewidth": 2
          },
          "yaxis": {
           "automargin": true,
           "gridcolor": "white",
           "linecolor": "white",
           "ticks": "",
           "title": {
            "standoff": 15
           },
           "zerolinecolor": "white",
           "zerolinewidth": 2
          }
         }
        },
        "xaxis": {
         "anchor": "y",
         "domain": [
          0,
          1
         ],
         "title": {
          "text": "totalDamageDealtToChampions"
         }
        },
        "yaxis": {
         "anchor": "x",
         "domain": [
          0,
          1
         ],
         "title": {
          "text": "totalDamageTaken"
         }
        }
       }
      },
      "text/html": [
       "<div>                            <div id=\"4f707704-6e5d-40e1-8b52-4ddc0cfc3d81\" class=\"plotly-graph-div\" style=\"height:525px; width:100%;\"></div>            <script type=\"text/javascript\">                require([\"plotly\"], function(Plotly) {                    window.PLOTLYENV=window.PLOTLYENV || {};                                    if (document.getElementById(\"4f707704-6e5d-40e1-8b52-4ddc0cfc3d81\")) {                    Plotly.newPlot(                        \"4f707704-6e5d-40e1-8b52-4ddc0cfc3d81\",                        [{\"hovertemplate\":\"championName=Aatrox<br>totalDamageDealtToChampions=%{x}<br>totalDamageTaken=%{y}<extra></extra>\",\"legendgroup\":\"Aatrox\",\"marker\":{\"color\":\"#636efa\",\"symbol\":\"circle\"},\"mode\":\"markers\",\"name\":\"Aatrox\",\"orientation\":\"v\",\"showlegend\":true,\"x\":[20964.0],\"xaxis\":\"x\",\"y\":[32671.0],\"yaxis\":\"y\",\"type\":\"scatter\"},{\"hovertemplate\":\"championName=Ahri<br>totalDamageDealtToChampions=%{x}<br>totalDamageTaken=%{y}<extra></extra>\",\"legendgroup\":\"Ahri\",\"marker\":{\"color\":\"#EF553B\",\"symbol\":\"circle\"},\"mode\":\"markers\",\"name\":\"Ahri\",\"orientation\":\"v\",\"showlegend\":true,\"x\":[18828.0],\"xaxis\":\"x\",\"y\":[19367.0],\"yaxis\":\"y\",\"type\":\"scatter\"},{\"hovertemplate\":\"championName=Akali<br>totalDamageDealtToChampions=%{x}<br>totalDamageTaken=%{y}<extra></extra>\",\"legendgroup\":\"Akali\",\"marker\":{\"color\":\"#00cc96\",\"symbol\":\"circle\"},\"mode\":\"markers\",\"name\":\"Akali\",\"orientation\":\"v\",\"showlegend\":true,\"x\":[21848.0],\"xaxis\":\"x\",\"y\":[25682.0],\"yaxis\":\"y\",\"type\":\"scatter\"},{\"hovertemplate\":\"championName=Akshan<br>totalDamageDealtToChampions=%{x}<br>totalDamageTaken=%{y}<extra></extra>\",\"legendgroup\":\"Akshan\",\"marker\":{\"color\":\"#ab63fa\",\"symbol\":\"circle\"},\"mode\":\"markers\",\"name\":\"Akshan\",\"orientation\":\"v\",\"showlegend\":true,\"x\":[23426.0],\"xaxis\":\"x\",\"y\":[19801.0],\"yaxis\":\"y\",\"type\":\"scatter\"},{\"hovertemplate\":\"championName=Alistar<br>totalDamageDealtToChampions=%{x}<br>totalDamageTaken=%{y}<extra></extra>\",\"legendgroup\":\"Alistar\",\"marker\":{\"color\":\"#FFA15A\",\"symbol\":\"circle\"},\"mode\":\"markers\",\"name\":\"Alistar\",\"orientation\":\"v\",\"showlegend\":true,\"x\":[11304.0],\"xaxis\":\"x\",\"y\":[30499.0],\"yaxis\":\"y\",\"type\":\"scatter\"},{\"hovertemplate\":\"championName=Amumu<br>totalDamageDealtToChampions=%{x}<br>totalDamageTaken=%{y}<extra></extra>\",\"legendgroup\":\"Amumu\",\"marker\":{\"color\":\"#19d3f3\",\"symbol\":\"circle\"},\"mode\":\"markers\",\"name\":\"Amumu\",\"orientation\":\"v\",\"showlegend\":true,\"x\":[15696.0],\"xaxis\":\"x\",\"y\":[27053.0],\"yaxis\":\"y\",\"type\":\"scatter\"},{\"hovertemplate\":\"championName=Anivia<br>totalDamageDealtToChampions=%{x}<br>totalDamageTaken=%{y}<extra></extra>\",\"legendgroup\":\"Anivia\",\"marker\":{\"color\":\"#FF6692\",\"symbol\":\"circle\"},\"mode\":\"markers\",\"name\":\"Anivia\",\"orientation\":\"v\",\"showlegend\":true,\"x\":[17715.0],\"xaxis\":\"x\",\"y\":[23306.0],\"yaxis\":\"y\",\"type\":\"scatter\"},{\"hovertemplate\":\"championName=Annie<br>totalDamageDealtToChampions=%{x}<br>totalDamageTaken=%{y}<extra></extra>\",\"legendgroup\":\"Annie\",\"marker\":{\"color\":\"#B6E880\",\"symbol\":\"circle\"},\"mode\":\"markers\",\"name\":\"Annie\",\"orientation\":\"v\",\"showlegend\":true,\"x\":[22029.0],\"xaxis\":\"x\",\"y\":[15715.0],\"yaxis\":\"y\",\"type\":\"scatter\"},{\"hovertemplate\":\"championName=Aphelios<br>totalDamageDealtToChampions=%{x}<br>totalDamageTaken=%{y}<extra></extra>\",\"legendgroup\":\"Aphelios\",\"marker\":{\"color\":\"#FF97FF\",\"symbol\":\"circle\"},\"mode\":\"markers\",\"name\":\"Aphelios\",\"orientation\":\"v\",\"showlegend\":true,\"x\":[20730.0],\"xaxis\":\"x\",\"y\":[16358.0],\"yaxis\":\"y\",\"type\":\"scatter\"},{\"hovertemplate\":\"championName=Ashe<br>totalDamageDealtToChampions=%{x}<br>totalDamageTaken=%{y}<extra></extra>\",\"legendgroup\":\"Ashe\",\"marker\":{\"color\":\"#FECB52\",\"symbol\":\"circle\"},\"mode\":\"markers\",\"name\":\"Ashe\",\"orientation\":\"v\",\"showlegend\":true,\"x\":[16550.0],\"xaxis\":\"x\",\"y\":[16926.0],\"yaxis\":\"y\",\"type\":\"scatter\"},{\"hovertemplate\":\"championName=AurelionSol<br>totalDamageDealtToChampions=%{x}<br>totalDamageTaken=%{y}<extra></extra>\",\"legendgroup\":\"AurelionSol\",\"marker\":{\"color\":\"#636efa\",\"symbol\":\"circle\"},\"mode\":\"markers\",\"name\":\"AurelionSol\",\"orientation\":\"v\",\"showlegend\":true,\"x\":[24615.0],\"xaxis\":\"x\",\"y\":[19619.0],\"yaxis\":\"y\",\"type\":\"scatter\"},{\"hovertemplate\":\"championName=Azir<br>totalDamageDealtToChampions=%{x}<br>totalDamageTaken=%{y}<extra></extra>\",\"legendgroup\":\"Azir\",\"marker\":{\"color\":\"#EF553B\",\"symbol\":\"circle\"},\"mode\":\"markers\",\"name\":\"Azir\",\"orientation\":\"v\",\"showlegend\":true,\"x\":[20746.0],\"xaxis\":\"x\",\"y\":[17908.0],\"yaxis\":\"y\",\"type\":\"scatter\"},{\"hovertemplate\":\"championName=Bard<br>totalDamageDealtToChampions=%{x}<br>totalDamageTaken=%{y}<extra></extra>\",\"legendgroup\":\"Bard\",\"marker\":{\"color\":\"#00cc96\",\"symbol\":\"circle\"},\"mode\":\"markers\",\"name\":\"Bard\",\"orientation\":\"v\",\"showlegend\":true,\"x\":[9969.0],\"xaxis\":\"x\",\"y\":[18880.0],\"yaxis\":\"y\",\"type\":\"scatter\"},{\"hovertemplate\":\"championName=Belveth<br>totalDamageDealtToChampions=%{x}<br>totalDamageTaken=%{y}<extra></extra>\",\"legendgroup\":\"Belveth\",\"marker\":{\"color\":\"#ab63fa\",\"symbol\":\"circle\"},\"mode\":\"markers\",\"name\":\"Belveth\",\"orientation\":\"v\",\"showlegend\":true,\"x\":[16240.0],\"xaxis\":\"x\",\"y\":[27731.0],\"yaxis\":\"y\",\"type\":\"scatter\"},{\"hovertemplate\":\"championName=Blitzcrank<br>totalDamageDealtToChampions=%{x}<br>totalDamageTaken=%{y}<extra></extra>\",\"legendgroup\":\"Blitzcrank\",\"marker\":{\"color\":\"#FFA15A\",\"symbol\":\"circle\"},\"mode\":\"markers\",\"name\":\"Blitzcrank\",\"orientation\":\"v\",\"showlegend\":true,\"x\":[8625.0],\"xaxis\":\"x\",\"y\":[19930.0],\"yaxis\":\"y\",\"type\":\"scatter\"},{\"hovertemplate\":\"championName=Brand<br>totalDamageDealtToChampions=%{x}<br>totalDamageTaken=%{y}<extra></extra>\",\"legendgroup\":\"Brand\",\"marker\":{\"color\":\"#19d3f3\",\"symbol\":\"circle\"},\"mode\":\"markers\",\"name\":\"Brand\",\"orientation\":\"v\",\"showlegend\":true,\"x\":[22283.0],\"xaxis\":\"x\",\"y\":[23094.0],\"yaxis\":\"y\",\"type\":\"scatter\"},{\"hovertemplate\":\"championName=Braum<br>totalDamageDealtToChampions=%{x}<br>totalDamageTaken=%{y}<extra></extra>\",\"legendgroup\":\"Braum\",\"marker\":{\"color\":\"#FF6692\",\"symbol\":\"circle\"},\"mode\":\"markers\",\"name\":\"Braum\",\"orientation\":\"v\",\"showlegend\":true,\"x\":[7438.0],\"xaxis\":\"x\",\"y\":[20766.0],\"yaxis\":\"y\",\"type\":\"scatter\"},{\"hovertemplate\":\"championName=Briar<br>totalDamageDealtToChampions=%{x}<br>totalDamageTaken=%{y}<extra></extra>\",\"legendgroup\":\"Briar\",\"marker\":{\"color\":\"#B6E880\",\"symbol\":\"circle\"},\"mode\":\"markers\",\"name\":\"Briar\",\"orientation\":\"v\",\"showlegend\":true,\"x\":[21148.0],\"xaxis\":\"x\",\"y\":[29835.0],\"yaxis\":\"y\",\"type\":\"scatter\"},{\"hovertemplate\":\"championName=Caitlyn<br>totalDamageDealtToChampions=%{x}<br>totalDamageTaken=%{y}<extra></extra>\",\"legendgroup\":\"Caitlyn\",\"marker\":{\"color\":\"#FF97FF\",\"symbol\":\"circle\"},\"mode\":\"markers\",\"name\":\"Caitlyn\",\"orientation\":\"v\",\"showlegend\":true,\"x\":[20515.0],\"xaxis\":\"x\",\"y\":[18254.0],\"yaxis\":\"y\",\"type\":\"scatter\"},{\"hovertemplate\":\"championName=Camille<br>totalDamageDealtToChampions=%{x}<br>totalDamageTaken=%{y}<extra></extra>\",\"legendgroup\":\"Camille\",\"marker\":{\"color\":\"#FECB52\",\"symbol\":\"circle\"},\"mode\":\"markers\",\"name\":\"Camille\",\"orientation\":\"v\",\"showlegend\":true,\"x\":[20716.0],\"xaxis\":\"x\",\"y\":[28057.0],\"yaxis\":\"y\",\"type\":\"scatter\"},{\"hovertemplate\":\"championName=Cassiopeia<br>totalDamageDealtToChampions=%{x}<br>totalDamageTaken=%{y}<extra></extra>\",\"legendgroup\":\"Cassiopeia\",\"marker\":{\"color\":\"#636efa\",\"symbol\":\"circle\"},\"mode\":\"markers\",\"name\":\"Cassiopeia\",\"orientation\":\"v\",\"showlegend\":true,\"x\":[22705.0],\"xaxis\":\"x\",\"y\":[24529.0],\"yaxis\":\"y\",\"type\":\"scatter\"},{\"hovertemplate\":\"championName=Chogath<br>totalDamageDealtToChampions=%{x}<br>totalDamageTaken=%{y}<extra></extra>\",\"legendgroup\":\"Chogath\",\"marker\":{\"color\":\"#EF553B\",\"symbol\":\"circle\"},\"mode\":\"markers\",\"name\":\"Chogath\",\"orientation\":\"v\",\"showlegend\":true,\"x\":[20666.0],\"xaxis\":\"x\",\"y\":[37146.0],\"yaxis\":\"y\",\"type\":\"scatter\"},{\"hovertemplate\":\"championName=Corki<br>totalDamageDealtToChampions=%{x}<br>totalDamageTaken=%{y}<extra></extra>\",\"legendgroup\":\"Corki\",\"marker\":{\"color\":\"#00cc96\",\"symbol\":\"circle\"},\"mode\":\"markers\",\"name\":\"Corki\",\"orientation\":\"v\",\"showlegend\":true,\"x\":[26316.0],\"xaxis\":\"x\",\"y\":[21274.0],\"yaxis\":\"y\",\"type\":\"scatter\"},{\"hovertemplate\":\"championName=Darius<br>totalDamageDealtToChampions=%{x}<br>totalDamageTaken=%{y}<extra></extra>\",\"legendgroup\":\"Darius\",\"marker\":{\"color\":\"#ab63fa\",\"symbol\":\"circle\"},\"mode\":\"markers\",\"name\":\"Darius\",\"orientation\":\"v\",\"showlegend\":true,\"x\":[18171.0],\"xaxis\":\"x\",\"y\":[25733.0],\"yaxis\":\"y\",\"type\":\"scatter\"},{\"hovertemplate\":\"championName=Diana<br>totalDamageDealtToChampions=%{x}<br>totalDamageTaken=%{y}<extra></extra>\",\"legendgroup\":\"Diana\",\"marker\":{\"color\":\"#FFA15A\",\"symbol\":\"circle\"},\"mode\":\"markers\",\"name\":\"Diana\",\"orientation\":\"v\",\"showlegend\":true,\"x\":[17839.0],\"xaxis\":\"x\",\"y\":[21772.0],\"yaxis\":\"y\",\"type\":\"scatter\"},{\"hovertemplate\":\"championName=DrMundo<br>totalDamageDealtToChampions=%{x}<br>totalDamageTaken=%{y}<extra></extra>\",\"legendgroup\":\"DrMundo\",\"marker\":{\"color\":\"#19d3f3\",\"symbol\":\"circle\"},\"mode\":\"markers\",\"name\":\"DrMundo\",\"orientation\":\"v\",\"showlegend\":true,\"x\":[26213.0],\"xaxis\":\"x\",\"y\":[48141.0],\"yaxis\":\"y\",\"type\":\"scatter\"},{\"hovertemplate\":\"championName=Draven<br>totalDamageDealtToChampions=%{x}<br>totalDamageTaken=%{y}<extra></extra>\",\"legendgroup\":\"Draven\",\"marker\":{\"color\":\"#FF6692\",\"symbol\":\"circle\"},\"mode\":\"markers\",\"name\":\"Draven\",\"orientation\":\"v\",\"showlegend\":true,\"x\":[22567.0],\"xaxis\":\"x\",\"y\":[20485.0],\"yaxis\":\"y\",\"type\":\"scatter\"},{\"hovertemplate\":\"championName=Ekko<br>totalDamageDealtToChampions=%{x}<br>totalDamageTaken=%{y}<extra></extra>\",\"legendgroup\":\"Ekko\",\"marker\":{\"color\":\"#B6E880\",\"symbol\":\"circle\"},\"mode\":\"markers\",\"name\":\"Ekko\",\"orientation\":\"v\",\"showlegend\":true,\"x\":[19480.0],\"xaxis\":\"x\",\"y\":[29573.0],\"yaxis\":\"y\",\"type\":\"scatter\"},{\"hovertemplate\":\"championName=Elise<br>totalDamageDealtToChampions=%{x}<br>totalDamageTaken=%{y}<extra></extra>\",\"legendgroup\":\"Elise\",\"marker\":{\"color\":\"#FF97FF\",\"symbol\":\"circle\"},\"mode\":\"markers\",\"name\":\"Elise\",\"orientation\":\"v\",\"showlegend\":true,\"x\":[17577.0],\"xaxis\":\"x\",\"y\":[27223.0],\"yaxis\":\"y\",\"type\":\"scatter\"},{\"hovertemplate\":\"championName=Evelynn<br>totalDamageDealtToChampions=%{x}<br>totalDamageTaken=%{y}<extra></extra>\",\"legendgroup\":\"Evelynn\",\"marker\":{\"color\":\"#FECB52\",\"symbol\":\"circle\"},\"mode\":\"markers\",\"name\":\"Evelynn\",\"orientation\":\"v\",\"showlegend\":true,\"x\":[21602.0],\"xaxis\":\"x\",\"y\":[29130.0],\"yaxis\":\"y\",\"type\":\"scatter\"},{\"hovertemplate\":\"championName=Ezreal<br>totalDamageDealtToChampions=%{x}<br>totalDamageTaken=%{y}<extra></extra>\",\"legendgroup\":\"Ezreal\",\"marker\":{\"color\":\"#636efa\",\"symbol\":\"circle\"},\"mode\":\"markers\",\"name\":\"Ezreal\",\"orientation\":\"v\",\"showlegend\":true,\"x\":[23178.0],\"xaxis\":\"x\",\"y\":[19080.0],\"yaxis\":\"y\",\"type\":\"scatter\"},{\"hovertemplate\":\"championName=FiddleSticks<br>totalDamageDealtToChampions=%{x}<br>totalDamageTaken=%{y}<extra></extra>\",\"legendgroup\":\"FiddleSticks\",\"marker\":{\"color\":\"#EF553B\",\"symbol\":\"circle\"},\"mode\":\"markers\",\"name\":\"FiddleSticks\",\"orientation\":\"v\",\"showlegend\":true,\"x\":[16404.0],\"xaxis\":\"x\",\"y\":[26758.0],\"yaxis\":\"y\",\"type\":\"scatter\"},{\"hovertemplate\":\"championName=Fiora<br>totalDamageDealtToChampions=%{x}<br>totalDamageTaken=%{y}<extra></extra>\",\"legendgroup\":\"Fiora\",\"marker\":{\"color\":\"#00cc96\",\"symbol\":\"circle\"},\"mode\":\"markers\",\"name\":\"Fiora\",\"orientation\":\"v\",\"showlegend\":true,\"x\":[21894.0],\"xaxis\":\"x\",\"y\":[30821.0],\"yaxis\":\"y\",\"type\":\"scatter\"},{\"hovertemplate\":\"championName=Fizz<br>totalDamageDealtToChampions=%{x}<br>totalDamageTaken=%{y}<extra></extra>\",\"legendgroup\":\"Fizz\",\"marker\":{\"color\":\"#ab63fa\",\"symbol\":\"circle\"},\"mode\":\"markers\",\"name\":\"Fizz\",\"orientation\":\"v\",\"showlegend\":true,\"x\":[20781.0],\"xaxis\":\"x\",\"y\":[19991.0],\"yaxis\":\"y\",\"type\":\"scatter\"},{\"hovertemplate\":\"championName=Galio<br>totalDamageDealtToChampions=%{x}<br>totalDamageTaken=%{y}<extra></extra>\",\"legendgroup\":\"Galio\",\"marker\":{\"color\":\"#FFA15A\",\"symbol\":\"circle\"},\"mode\":\"markers\",\"name\":\"Galio\",\"orientation\":\"v\",\"showlegend\":true,\"x\":[18617.0],\"xaxis\":\"x\",\"y\":[23547.0],\"yaxis\":\"y\",\"type\":\"scatter\"},{\"hovertemplate\":\"championName=Gangplank<br>totalDamageDealtToChampions=%{x}<br>totalDamageTaken=%{y}<extra></extra>\",\"legendgroup\":\"Gangplank\",\"marker\":{\"color\":\"#19d3f3\",\"symbol\":\"circle\"},\"mode\":\"markers\",\"name\":\"Gangplank\",\"orientation\":\"v\",\"showlegend\":true,\"x\":[25545.0],\"xaxis\":\"x\",\"y\":[24483.0],\"yaxis\":\"y\",\"type\":\"scatter\"},{\"hovertemplate\":\"championName=Garen<br>totalDamageDealtToChampions=%{x}<br>totalDamageTaken=%{y}<extra></extra>\",\"legendgroup\":\"Garen\",\"marker\":{\"color\":\"#FF6692\",\"symbol\":\"circle\"},\"mode\":\"markers\",\"name\":\"Garen\",\"orientation\":\"v\",\"showlegend\":true,\"x\":[22892.0],\"xaxis\":\"x\",\"y\":[28599.0],\"yaxis\":\"y\",\"type\":\"scatter\"},{\"hovertemplate\":\"championName=Gnar<br>totalDamageDealtToChampions=%{x}<br>totalDamageTaken=%{y}<extra></extra>\",\"legendgroup\":\"Gnar\",\"marker\":{\"color\":\"#B6E880\",\"symbol\":\"circle\"},\"mode\":\"markers\",\"name\":\"Gnar\",\"orientation\":\"v\",\"showlegend\":true,\"x\":[20111.0],\"xaxis\":\"x\",\"y\":[25322.0],\"yaxis\":\"y\",\"type\":\"scatter\"},{\"hovertemplate\":\"championName=Gragas<br>totalDamageDealtToChampions=%{x}<br>totalDamageTaken=%{y}<extra></extra>\",\"legendgroup\":\"Gragas\",\"marker\":{\"color\":\"#FF97FF\",\"symbol\":\"circle\"},\"mode\":\"markers\",\"name\":\"Gragas\",\"orientation\":\"v\",\"showlegend\":true,\"x\":[21236.0],\"xaxis\":\"x\",\"y\":[29203.0],\"yaxis\":\"y\",\"type\":\"scatter\"},{\"hovertemplate\":\"championName=Graves<br>totalDamageDealtToChampions=%{x}<br>totalDamageTaken=%{y}<extra></extra>\",\"legendgroup\":\"Graves\",\"marker\":{\"color\":\"#FECB52\",\"symbol\":\"circle\"},\"mode\":\"markers\",\"name\":\"Graves\",\"orientation\":\"v\",\"showlegend\":true,\"x\":[18448.0],\"xaxis\":\"x\",\"y\":[24961.0],\"yaxis\":\"y\",\"type\":\"scatter\"},{\"hovertemplate\":\"championName=Gwen<br>totalDamageDealtToChampions=%{x}<br>totalDamageTaken=%{y}<extra></extra>\",\"legendgroup\":\"Gwen\",\"marker\":{\"color\":\"#636efa\",\"symbol\":\"circle\"},\"mode\":\"markers\",\"name\":\"Gwen\",\"orientation\":\"v\",\"showlegend\":true,\"x\":[28416.0],\"xaxis\":\"x\",\"y\":[30625.0],\"yaxis\":\"y\",\"type\":\"scatter\"},{\"hovertemplate\":\"championName=Hecarim<br>totalDamageDealtToChampions=%{x}<br>totalDamageTaken=%{y}<extra></extra>\",\"legendgroup\":\"Hecarim\",\"marker\":{\"color\":\"#EF553B\",\"symbol\":\"circle\"},\"mode\":\"markers\",\"name\":\"Hecarim\",\"orientation\":\"v\",\"showlegend\":true,\"x\":[17061.0],\"xaxis\":\"x\",\"y\":[37484.0],\"yaxis\":\"y\",\"type\":\"scatter\"},{\"hovertemplate\":\"championName=Heimerdinger<br>totalDamageDealtToChampions=%{x}<br>totalDamageTaken=%{y}<extra></extra>\",\"legendgroup\":\"Heimerdinger\",\"marker\":{\"color\":\"#00cc96\",\"symbol\":\"circle\"},\"mode\":\"markers\",\"name\":\"Heimerdinger\",\"orientation\":\"v\",\"showlegend\":true,\"x\":[22827.0],\"xaxis\":\"x\",\"y\":[18098.0],\"yaxis\":\"y\",\"type\":\"scatter\"},{\"hovertemplate\":\"championName=Hwei<br>totalDamageDealtToChampions=%{x}<br>totalDamageTaken=%{y}<extra></extra>\",\"legendgroup\":\"Hwei\",\"marker\":{\"color\":\"#ab63fa\",\"symbol\":\"circle\"},\"mode\":\"markers\",\"name\":\"Hwei\",\"orientation\":\"v\",\"showlegend\":true,\"x\":[23596.0],\"xaxis\":\"x\",\"y\":[17564.0],\"yaxis\":\"y\",\"type\":\"scatter\"},{\"hovertemplate\":\"championName=Illaoi<br>totalDamageDealtToChampions=%{x}<br>totalDamageTaken=%{y}<extra></extra>\",\"legendgroup\":\"Illaoi\",\"marker\":{\"color\":\"#FFA15A\",\"symbol\":\"circle\"},\"mode\":\"markers\",\"name\":\"Illaoi\",\"orientation\":\"v\",\"showlegend\":true,\"x\":[27565.0],\"xaxis\":\"x\",\"y\":[33456.0],\"yaxis\":\"y\",\"type\":\"scatter\"},{\"hovertemplate\":\"championName=Irelia<br>totalDamageDealtToChampions=%{x}<br>totalDamageTaken=%{y}<extra></extra>\",\"legendgroup\":\"Irelia\",\"marker\":{\"color\":\"#19d3f3\",\"symbol\":\"circle\"},\"mode\":\"markers\",\"name\":\"Irelia\",\"orientation\":\"v\",\"showlegend\":true,\"x\":[21132.0],\"xaxis\":\"x\",\"y\":[28660.0],\"yaxis\":\"y\",\"type\":\"scatter\"},{\"hovertemplate\":\"championName=Ivern<br>totalDamageDealtToChampions=%{x}<br>totalDamageTaken=%{y}<extra></extra>\",\"legendgroup\":\"Ivern\",\"marker\":{\"color\":\"#FF6692\",\"symbol\":\"circle\"},\"mode\":\"markers\",\"name\":\"Ivern\",\"orientation\":\"v\",\"showlegend\":true,\"x\":[9236.0],\"xaxis\":\"x\",\"y\":[15022.0],\"yaxis\":\"y\",\"type\":\"scatter\"},{\"hovertemplate\":\"championName=Janna<br>totalDamageDealtToChampions=%{x}<br>totalDamageTaken=%{y}<extra></extra>\",\"legendgroup\":\"Janna\",\"marker\":{\"color\":\"#B6E880\",\"symbol\":\"circle\"},\"mode\":\"markers\",\"name\":\"Janna\",\"orientation\":\"v\",\"showlegend\":true,\"x\":[8534.0],\"xaxis\":\"x\",\"y\":[14530.0],\"yaxis\":\"y\",\"type\":\"scatter\"},{\"hovertemplate\":\"championName=JarvanIV<br>totalDamageDealtToChampions=%{x}<br>totalDamageTaken=%{y}<extra></extra>\",\"legendgroup\":\"JarvanIV\",\"marker\":{\"color\":\"#FF97FF\",\"symbol\":\"circle\"},\"mode\":\"markers\",\"name\":\"JarvanIV\",\"orientation\":\"v\",\"showlegend\":true,\"x\":[14053.0],\"xaxis\":\"x\",\"y\":[29679.0],\"yaxis\":\"y\",\"type\":\"scatter\"},{\"hovertemplate\":\"championName=Jax<br>totalDamageDealtToChampions=%{x}<br>totalDamageTaken=%{y}<extra></extra>\",\"legendgroup\":\"Jax\",\"marker\":{\"color\":\"#FECB52\",\"symbol\":\"circle\"},\"mode\":\"markers\",\"name\":\"Jax\",\"orientation\":\"v\",\"showlegend\":true,\"x\":[19948.0],\"xaxis\":\"x\",\"y\":[27679.0],\"yaxis\":\"y\",\"type\":\"scatter\"},{\"hovertemplate\":\"championName=Jayce<br>totalDamageDealtToChampions=%{x}<br>totalDamageTaken=%{y}<extra></extra>\",\"legendgroup\":\"Jayce\",\"marker\":{\"color\":\"#636efa\",\"symbol\":\"circle\"},\"mode\":\"markers\",\"name\":\"Jayce\",\"orientation\":\"v\",\"showlegend\":true,\"x\":[23542.0],\"xaxis\":\"x\",\"y\":[19733.0],\"yaxis\":\"y\",\"type\":\"scatter\"},{\"hovertemplate\":\"championName=Jhin<br>totalDamageDealtToChampions=%{x}<br>totalDamageTaken=%{y}<extra></extra>\",\"legendgroup\":\"Jhin\",\"marker\":{\"color\":\"#EF553B\",\"symbol\":\"circle\"},\"mode\":\"markers\",\"name\":\"Jhin\",\"orientation\":\"v\",\"showlegend\":true,\"x\":[19938.0],\"xaxis\":\"x\",\"y\":[17363.0],\"yaxis\":\"y\",\"type\":\"scatter\"},{\"hovertemplate\":\"championName=Jinx<br>totalDamageDealtToChampions=%{x}<br>totalDamageTaken=%{y}<extra></extra>\",\"legendgroup\":\"Jinx\",\"marker\":{\"color\":\"#00cc96\",\"symbol\":\"circle\"},\"mode\":\"markers\",\"name\":\"Jinx\",\"orientation\":\"v\",\"showlegend\":true,\"x\":[21026.0],\"xaxis\":\"x\",\"y\":[17185.0],\"yaxis\":\"y\",\"type\":\"scatter\"},{\"hovertemplate\":\"championName=KSante<br>totalDamageDealtToChampions=%{x}<br>totalDamageTaken=%{y}<extra></extra>\",\"legendgroup\":\"KSante\",\"marker\":{\"color\":\"#ab63fa\",\"symbol\":\"circle\"},\"mode\":\"markers\",\"name\":\"KSante\",\"orientation\":\"v\",\"showlegend\":true,\"x\":[19284.0],\"xaxis\":\"x\",\"y\":[28136.0],\"yaxis\":\"y\",\"type\":\"scatter\"},{\"hovertemplate\":\"championName=Kaisa<br>totalDamageDealtToChampions=%{x}<br>totalDamageTaken=%{y}<extra></extra>\",\"legendgroup\":\"Kaisa\",\"marker\":{\"color\":\"#FFA15A\",\"symbol\":\"circle\"},\"mode\":\"markers\",\"name\":\"Kaisa\",\"orientation\":\"v\",\"showlegend\":true,\"x\":[21397.0],\"xaxis\":\"x\",\"y\":[17535.0],\"yaxis\":\"y\",\"type\":\"scatter\"},{\"hovertemplate\":\"championName=Kalista<br>totalDamageDealtToChampions=%{x}<br>totalDamageTaken=%{y}<extra></extra>\",\"legendgroup\":\"Kalista\",\"marker\":{\"color\":\"#19d3f3\",\"symbol\":\"circle\"},\"mode\":\"markers\",\"name\":\"Kalista\",\"orientation\":\"v\",\"showlegend\":true,\"x\":[19749.0],\"xaxis\":\"x\",\"y\":[21365.0],\"yaxis\":\"y\",\"type\":\"scatter\"},{\"hovertemplate\":\"championName=Karma<br>totalDamageDealtToChampions=%{x}<br>totalDamageTaken=%{y}<extra></extra>\",\"legendgroup\":\"Karma\",\"marker\":{\"color\":\"#FF6692\",\"symbol\":\"circle\"},\"mode\":\"markers\",\"name\":\"Karma\",\"orientation\":\"v\",\"showlegend\":true,\"x\":[12520.0],\"xaxis\":\"x\",\"y\":[18446.0],\"yaxis\":\"y\",\"type\":\"scatter\"},{\"hovertemplate\":\"championName=Karthus<br>totalDamageDealtToChampions=%{x}<br>totalDamageTaken=%{y}<extra></extra>\",\"legendgroup\":\"Karthus\",\"marker\":{\"color\":\"#B6E880\",\"symbol\":\"circle\"},\"mode\":\"markers\",\"name\":\"Karthus\",\"orientation\":\"v\",\"showlegend\":true,\"x\":[30226.0],\"xaxis\":\"x\",\"y\":[28087.0],\"yaxis\":\"y\",\"type\":\"scatter\"},{\"hovertemplate\":\"championName=Kassadin<br>totalDamageDealtToChampions=%{x}<br>totalDamageTaken=%{y}<extra></extra>\",\"legendgroup\":\"Kassadin\",\"marker\":{\"color\":\"#FF97FF\",\"symbol\":\"circle\"},\"mode\":\"markers\",\"name\":\"Kassadin\",\"orientation\":\"v\",\"showlegend\":true,\"x\":[20407.0],\"xaxis\":\"x\",\"y\":[30707.0],\"yaxis\":\"y\",\"type\":\"scatter\"},{\"hovertemplate\":\"championName=Katarina<br>totalDamageDealtToChampions=%{x}<br>totalDamageTaken=%{y}<extra></extra>\",\"legendgroup\":\"Katarina\",\"marker\":{\"color\":\"#FECB52\",\"symbol\":\"circle\"},\"mode\":\"markers\",\"name\":\"Katarina\",\"orientation\":\"v\",\"showlegend\":true,\"x\":[24114.0],\"xaxis\":\"x\",\"y\":[23052.0],\"yaxis\":\"y\",\"type\":\"scatter\"},{\"hovertemplate\":\"championName=Kayle<br>totalDamageDealtToChampions=%{x}<br>totalDamageTaken=%{y}<extra></extra>\",\"legendgroup\":\"Kayle\",\"marker\":{\"color\":\"#636efa\",\"symbol\":\"circle\"},\"mode\":\"markers\",\"name\":\"Kayle\",\"orientation\":\"v\",\"showlegend\":true,\"x\":[23438.0],\"xaxis\":\"x\",\"y\":[22258.0],\"yaxis\":\"y\",\"type\":\"scatter\"},{\"hovertemplate\":\"championName=Kayn<br>totalDamageDealtToChampions=%{x}<br>totalDamageTaken=%{y}<extra></extra>\",\"legendgroup\":\"Kayn\",\"marker\":{\"color\":\"#EF553B\",\"symbol\":\"circle\"},\"mode\":\"markers\",\"name\":\"Kayn\",\"orientation\":\"v\",\"showlegend\":true,\"x\":[22113.0],\"xaxis\":\"x\",\"y\":[33458.0],\"yaxis\":\"y\",\"type\":\"scatter\"},{\"hovertemplate\":\"championName=Kennen<br>totalDamageDealtToChampions=%{x}<br>totalDamageTaken=%{y}<extra></extra>\",\"legendgroup\":\"Kennen\",\"marker\":{\"color\":\"#00cc96\",\"symbol\":\"circle\"},\"mode\":\"markers\",\"name\":\"Kennen\",\"orientation\":\"v\",\"showlegend\":true,\"x\":[19715.0],\"xaxis\":\"x\",\"y\":[18541.0],\"yaxis\":\"y\",\"type\":\"scatter\"},{\"hovertemplate\":\"championName=Khazix<br>totalDamageDealtToChampions=%{x}<br>totalDamageTaken=%{y}<extra></extra>\",\"legendgroup\":\"Khazix\",\"marker\":{\"color\":\"#ab63fa\",\"symbol\":\"circle\"},\"mode\":\"markers\",\"name\":\"Khazix\",\"orientation\":\"v\",\"showlegend\":true,\"x\":[19965.0],\"xaxis\":\"x\",\"y\":[29607.0],\"yaxis\":\"y\",\"type\":\"scatter\"},{\"hovertemplate\":\"championName=Kindred<br>totalDamageDealtToChampions=%{x}<br>totalDamageTaken=%{y}<extra></extra>\",\"legendgroup\":\"Kindred\",\"marker\":{\"color\":\"#FFA15A\",\"symbol\":\"circle\"},\"mode\":\"markers\",\"name\":\"Kindred\",\"orientation\":\"v\",\"showlegend\":true,\"x\":[19944.0],\"xaxis\":\"x\",\"y\":[28412.0],\"yaxis\":\"y\",\"type\":\"scatter\"},{\"hovertemplate\":\"championName=Kled<br>totalDamageDealtToChampions=%{x}<br>totalDamageTaken=%{y}<extra></extra>\",\"legendgroup\":\"Kled\",\"marker\":{\"color\":\"#19d3f3\",\"symbol\":\"circle\"},\"mode\":\"markers\",\"name\":\"Kled\",\"orientation\":\"v\",\"showlegend\":true,\"x\":[20442.0],\"xaxis\":\"x\",\"y\":[34108.0],\"yaxis\":\"y\",\"type\":\"scatter\"},{\"hovertemplate\":\"championName=KogMaw<br>totalDamageDealtToChampions=%{x}<br>totalDamageTaken=%{y}<extra></extra>\",\"legendgroup\":\"KogMaw\",\"marker\":{\"color\":\"#FF6692\",\"symbol\":\"circle\"},\"mode\":\"markers\",\"name\":\"KogMaw\",\"orientation\":\"v\",\"showlegend\":true,\"x\":[27119.0],\"xaxis\":\"x\",\"y\":[21482.0],\"yaxis\":\"y\",\"type\":\"scatter\"},{\"hovertemplate\":\"championName=Leblanc<br>totalDamageDealtToChampions=%{x}<br>totalDamageTaken=%{y}<extra></extra>\",\"legendgroup\":\"Leblanc\",\"marker\":{\"color\":\"#B6E880\",\"symbol\":\"circle\"},\"mode\":\"markers\",\"name\":\"Leblanc\",\"orientation\":\"v\",\"showlegend\":true,\"x\":[19824.0],\"xaxis\":\"x\",\"y\":[20170.0],\"yaxis\":\"y\",\"type\":\"scatter\"},{\"hovertemplate\":\"championName=LeeSin<br>totalDamageDealtToChampions=%{x}<br>totalDamageTaken=%{y}<extra></extra>\",\"legendgroup\":\"LeeSin\",\"marker\":{\"color\":\"#FF97FF\",\"symbol\":\"circle\"},\"mode\":\"markers\",\"name\":\"LeeSin\",\"orientation\":\"v\",\"showlegend\":true,\"x\":[15713.0],\"xaxis\":\"x\",\"y\":[32350.0],\"yaxis\":\"y\",\"type\":\"scatter\"},{\"hovertemplate\":\"championName=Leona<br>totalDamageDealtToChampions=%{x}<br>totalDamageTaken=%{y}<extra></extra>\",\"legendgroup\":\"Leona\",\"marker\":{\"color\":\"#FECB52\",\"symbol\":\"circle\"},\"mode\":\"markers\",\"name\":\"Leona\",\"orientation\":\"v\",\"showlegend\":true,\"x\":[11564.0],\"xaxis\":\"x\",\"y\":[24251.0],\"yaxis\":\"y\",\"type\":\"scatter\"},{\"hovertemplate\":\"championName=Lillia<br>totalDamageDealtToChampions=%{x}<br>totalDamageTaken=%{y}<extra></extra>\",\"legendgroup\":\"Lillia\",\"marker\":{\"color\":\"#636efa\",\"symbol\":\"circle\"},\"mode\":\"markers\",\"name\":\"Lillia\",\"orientation\":\"v\",\"showlegend\":true,\"x\":[26933.0],\"xaxis\":\"x\",\"y\":[32025.0],\"yaxis\":\"y\",\"type\":\"scatter\"},{\"hovertemplate\":\"championName=Lissandra<br>totalDamageDealtToChampions=%{x}<br>totalDamageTaken=%{y}<extra></extra>\",\"legendgroup\":\"Lissandra\",\"marker\":{\"color\":\"#EF553B\",\"symbol\":\"circle\"},\"mode\":\"markers\",\"name\":\"Lissandra\",\"orientation\":\"v\",\"showlegend\":true,\"x\":[18354.0],\"xaxis\":\"x\",\"y\":[21296.0],\"yaxis\":\"y\",\"type\":\"scatter\"},{\"hovertemplate\":\"championName=Lucian<br>totalDamageDealtToChampions=%{x}<br>totalDamageTaken=%{y}<extra></extra>\",\"legendgroup\":\"Lucian\",\"marker\":{\"color\":\"#00cc96\",\"symbol\":\"circle\"},\"mode\":\"markers\",\"name\":\"Lucian\",\"orientation\":\"v\",\"showlegend\":true,\"x\":[22892.0],\"xaxis\":\"x\",\"y\":[19120.0],\"yaxis\":\"y\",\"type\":\"scatter\"},{\"hovertemplate\":\"championName=Lulu<br>totalDamageDealtToChampions=%{x}<br>totalDamageTaken=%{y}<extra></extra>\",\"legendgroup\":\"Lulu\",\"marker\":{\"color\":\"#ab63fa\",\"symbol\":\"circle\"},\"mode\":\"markers\",\"name\":\"Lulu\",\"orientation\":\"v\",\"showlegend\":true,\"x\":[7305.0],\"xaxis\":\"x\",\"y\":[14585.0],\"yaxis\":\"y\",\"type\":\"scatter\"},{\"hovertemplate\":\"championName=Lux<br>totalDamageDealtToChampions=%{x}<br>totalDamageTaken=%{y}<extra></extra>\",\"legendgroup\":\"Lux\",\"marker\":{\"color\":\"#FFA15A\",\"symbol\":\"circle\"},\"mode\":\"markers\",\"name\":\"Lux\",\"orientation\":\"v\",\"showlegend\":true,\"x\":[17349.0],\"xaxis\":\"x\",\"y\":[14137.0],\"yaxis\":\"y\",\"type\":\"scatter\"},{\"hovertemplate\":\"championName=Malphite<br>totalDamageDealtToChampions=%{x}<br>totalDamageTaken=%{y}<extra></extra>\",\"legendgroup\":\"Malphite\",\"marker\":{\"color\":\"#19d3f3\",\"symbol\":\"circle\"},\"mode\":\"markers\",\"name\":\"Malphite\",\"orientation\":\"v\",\"showlegend\":true,\"x\":[17579.0],\"xaxis\":\"x\",\"y\":[21975.0],\"yaxis\":\"y\",\"type\":\"scatter\"},{\"hovertemplate\":\"championName=Malzahar<br>totalDamageDealtToChampions=%{x}<br>totalDamageTaken=%{y}<extra></extra>\",\"legendgroup\":\"Malzahar\",\"marker\":{\"color\":\"#FF6692\",\"symbol\":\"circle\"},\"mode\":\"markers\",\"name\":\"Malzahar\",\"orientation\":\"v\",\"showlegend\":true,\"x\":[22925.0],\"xaxis\":\"x\",\"y\":[17987.0],\"yaxis\":\"y\",\"type\":\"scatter\"},{\"hovertemplate\":\"championName=Maokai<br>totalDamageDealtToChampions=%{x}<br>totalDamageTaken=%{y}<extra></extra>\",\"legendgroup\":\"Maokai\",\"marker\":{\"color\":\"#B6E880\",\"symbol\":\"circle\"},\"mode\":\"markers\",\"name\":\"Maokai\",\"orientation\":\"v\",\"showlegend\":true,\"x\":[16271.0],\"xaxis\":\"x\",\"y\":[32105.0],\"yaxis\":\"y\",\"type\":\"scatter\"},{\"hovertemplate\":\"championName=MasterYi<br>totalDamageDealtToChampions=%{x}<br>totalDamageTaken=%{y}<extra></extra>\",\"legendgroup\":\"MasterYi\",\"marker\":{\"color\":\"#FF97FF\",\"symbol\":\"circle\"},\"mode\":\"markers\",\"name\":\"MasterYi\",\"orientation\":\"v\",\"showlegend\":true,\"x\":[22353.0],\"xaxis\":\"x\",\"y\":[27336.0],\"yaxis\":\"y\",\"type\":\"scatter\"},{\"hovertemplate\":\"championName=Milio<br>totalDamageDealtToChampions=%{x}<br>totalDamageTaken=%{y}<extra></extra>\",\"legendgroup\":\"Milio\",\"marker\":{\"color\":\"#FECB52\",\"symbol\":\"circle\"},\"mode\":\"markers\",\"name\":\"Milio\",\"orientation\":\"v\",\"showlegend\":true,\"x\":[4937.0],\"xaxis\":\"x\",\"y\":[13556.0],\"yaxis\":\"y\",\"type\":\"scatter\"},{\"hovertemplate\":\"championName=MissFortune<br>totalDamageDealtToChampions=%{x}<br>totalDamageTaken=%{y}<extra></extra>\",\"legendgroup\":\"MissFortune\",\"marker\":{\"color\":\"#636efa\",\"symbol\":\"circle\"},\"mode\":\"markers\",\"name\":\"MissFortune\",\"orientation\":\"v\",\"showlegend\":true,\"x\":[21465.0],\"xaxis\":\"x\",\"y\":[18305.0],\"yaxis\":\"y\",\"type\":\"scatter\"},{\"hovertemplate\":\"championName=MonkeyKing<br>totalDamageDealtToChampions=%{x}<br>totalDamageTaken=%{y}<extra></extra>\",\"legendgroup\":\"MonkeyKing\",\"marker\":{\"color\":\"#EF553B\",\"symbol\":\"circle\"},\"mode\":\"markers\",\"name\":\"MonkeyKing\",\"orientation\":\"v\",\"showlegend\":true,\"x\":[16257.0],\"xaxis\":\"x\",\"y\":[28449.0],\"yaxis\":\"y\",\"type\":\"scatter\"},{\"hovertemplate\":\"championName=Mordekaiser<br>totalDamageDealtToChampions=%{x}<br>totalDamageTaken=%{y}<extra></extra>\",\"legendgroup\":\"Mordekaiser\",\"marker\":{\"color\":\"#00cc96\",\"symbol\":\"circle\"},\"mode\":\"markers\",\"name\":\"Mordekaiser\",\"orientation\":\"v\",\"showlegend\":true,\"x\":[23945.0],\"xaxis\":\"x\",\"y\":[30755.0],\"yaxis\":\"y\",\"type\":\"scatter\"},{\"hovertemplate\":\"championName=Morgana<br>totalDamageDealtToChampions=%{x}<br>totalDamageTaken=%{y}<extra></extra>\",\"legendgroup\":\"Morgana\",\"marker\":{\"color\":\"#ab63fa\",\"symbol\":\"circle\"},\"mode\":\"markers\",\"name\":\"Morgana\",\"orientation\":\"v\",\"showlegend\":true,\"x\":[17045.0],\"xaxis\":\"x\",\"y\":[20447.0],\"yaxis\":\"y\",\"type\":\"scatter\"},{\"hovertemplate\":\"championName=Naafiri<br>totalDamageDealtToChampions=%{x}<br>totalDamageTaken=%{y}<extra></extra>\",\"legendgroup\":\"Naafiri\",\"marker\":{\"color\":\"#FFA15A\",\"symbol\":\"circle\"},\"mode\":\"markers\",\"name\":\"Naafiri\",\"orientation\":\"v\",\"showlegend\":true,\"x\":[28107.0],\"xaxis\":\"x\",\"y\":[26196.0],\"yaxis\":\"y\",\"type\":\"scatter\"},{\"hovertemplate\":\"championName=Nami<br>totalDamageDealtToChampions=%{x}<br>totalDamageTaken=%{y}<extra></extra>\",\"legendgroup\":\"Nami\",\"marker\":{\"color\":\"#19d3f3\",\"symbol\":\"circle\"},\"mode\":\"markers\",\"name\":\"Nami\",\"orientation\":\"v\",\"showlegend\":true,\"x\":[9612.0],\"xaxis\":\"x\",\"y\":[15990.0],\"yaxis\":\"y\",\"type\":\"scatter\"},{\"hovertemplate\":\"championName=Nasus<br>totalDamageDealtToChampions=%{x}<br>totalDamageTaken=%{y}<extra></extra>\",\"legendgroup\":\"Nasus\",\"marker\":{\"color\":\"#FF6692\",\"symbol\":\"circle\"},\"mode\":\"markers\",\"name\":\"Nasus\",\"orientation\":\"v\",\"showlegend\":true,\"x\":[19129.0],\"xaxis\":\"x\",\"y\":[32681.0],\"yaxis\":\"y\",\"type\":\"scatter\"},{\"hovertemplate\":\"championName=Nautilus<br>totalDamageDealtToChampions=%{x}<br>totalDamageTaken=%{y}<extra></extra>\",\"legendgroup\":\"Nautilus\",\"marker\":{\"color\":\"#B6E880\",\"symbol\":\"circle\"},\"mode\":\"markers\",\"name\":\"Nautilus\",\"orientation\":\"v\",\"showlegend\":true,\"x\":[7797.0],\"xaxis\":\"x\",\"y\":[20342.0],\"yaxis\":\"y\",\"type\":\"scatter\"},{\"hovertemplate\":\"championName=Neeko<br>totalDamageDealtToChampions=%{x}<br>totalDamageTaken=%{y}<extra></extra>\",\"legendgroup\":\"Neeko\",\"marker\":{\"color\":\"#FF97FF\",\"symbol\":\"circle\"},\"mode\":\"markers\",\"name\":\"Neeko\",\"orientation\":\"v\",\"showlegend\":true,\"x\":[18887.0],\"xaxis\":\"x\",\"y\":[18465.0],\"yaxis\":\"y\",\"type\":\"scatter\"},{\"hovertemplate\":\"championName=Nidalee<br>totalDamageDealtToChampions=%{x}<br>totalDamageTaken=%{y}<extra></extra>\",\"legendgroup\":\"Nidalee\",\"marker\":{\"color\":\"#FECB52\",\"symbol\":\"circle\"},\"mode\":\"markers\",\"name\":\"Nidalee\",\"orientation\":\"v\",\"showlegend\":true,\"x\":[18906.0],\"xaxis\":\"x\",\"y\":[30743.0],\"yaxis\":\"y\",\"type\":\"scatter\"},{\"hovertemplate\":\"championName=Nilah<br>totalDamageDealtToChampions=%{x}<br>totalDamageTaken=%{y}<extra></extra>\",\"legendgroup\":\"Nilah\",\"marker\":{\"color\":\"#636efa\",\"symbol\":\"circle\"},\"mode\":\"markers\",\"name\":\"Nilah\",\"orientation\":\"v\",\"showlegend\":true,\"x\":[19572.0],\"xaxis\":\"x\",\"y\":[22692.0],\"yaxis\":\"y\",\"type\":\"scatter\"},{\"hovertemplate\":\"championName=Nocturne<br>totalDamageDealtToChampions=%{x}<br>totalDamageTaken=%{y}<extra></extra>\",\"legendgroup\":\"Nocturne\",\"marker\":{\"color\":\"#EF553B\",\"symbol\":\"circle\"},\"mode\":\"markers\",\"name\":\"Nocturne\",\"orientation\":\"v\",\"showlegend\":true,\"x\":[16223.0],\"xaxis\":\"x\",\"y\":[32462.0],\"yaxis\":\"y\",\"type\":\"scatter\"},{\"hovertemplate\":\"championName=Nunu<br>totalDamageDealtToChampions=%{x}<br>totalDamageTaken=%{y}<extra></extra>\",\"legendgroup\":\"Nunu\",\"marker\":{\"color\":\"#00cc96\",\"symbol\":\"circle\"},\"mode\":\"markers\",\"name\":\"Nunu\",\"orientation\":\"v\",\"showlegend\":true,\"x\":[14414.0],\"xaxis\":\"x\",\"y\":[32123.0],\"yaxis\":\"y\",\"type\":\"scatter\"},{\"hovertemplate\":\"championName=Olaf<br>totalDamageDealtToChampions=%{x}<br>totalDamageTaken=%{y}<extra></extra>\",\"legendgroup\":\"Olaf\",\"marker\":{\"color\":\"#ab63fa\",\"symbol\":\"circle\"},\"mode\":\"markers\",\"name\":\"Olaf\",\"orientation\":\"v\",\"showlegend\":true,\"x\":[22747.0],\"xaxis\":\"x\",\"y\":[25378.0],\"yaxis\":\"y\",\"type\":\"scatter\"},{\"hovertemplate\":\"championName=Orianna<br>totalDamageDealtToChampions=%{x}<br>totalDamageTaken=%{y}<extra></extra>\",\"legendgroup\":\"Orianna\",\"marker\":{\"color\":\"#FFA15A\",\"symbol\":\"circle\"},\"mode\":\"markers\",\"name\":\"Orianna\",\"orientation\":\"v\",\"showlegend\":true,\"x\":[20008.0],\"xaxis\":\"x\",\"y\":[17039.0],\"yaxis\":\"y\",\"type\":\"scatter\"},{\"hovertemplate\":\"championName=Ornn<br>totalDamageDealtToChampions=%{x}<br>totalDamageTaken=%{y}<extra></extra>\",\"legendgroup\":\"Ornn\",\"marker\":{\"color\":\"#19d3f3\",\"symbol\":\"circle\"},\"mode\":\"markers\",\"name\":\"Ornn\",\"orientation\":\"v\",\"showlegend\":true,\"x\":[16210.0],\"xaxis\":\"x\",\"y\":[28599.0],\"yaxis\":\"y\",\"type\":\"scatter\"},{\"hovertemplate\":\"championName=Pantheon<br>totalDamageDealtToChampions=%{x}<br>totalDamageTaken=%{y}<extra></extra>\",\"legendgroup\":\"Pantheon\",\"marker\":{\"color\":\"#FF6692\",\"symbol\":\"circle\"},\"mode\":\"markers\",\"name\":\"Pantheon\",\"orientation\":\"v\",\"showlegend\":true,\"x\":[20851.0],\"xaxis\":\"x\",\"y\":[23264.0],\"yaxis\":\"y\",\"type\":\"scatter\"},{\"hovertemplate\":\"championName=Poppy<br>totalDamageDealtToChampions=%{x}<br>totalDamageTaken=%{y}<extra></extra>\",\"legendgroup\":\"Poppy\",\"marker\":{\"color\":\"#B6E880\",\"symbol\":\"circle\"},\"mode\":\"markers\",\"name\":\"Poppy\",\"orientation\":\"v\",\"showlegend\":true,\"x\":[17496.0],\"xaxis\":\"x\",\"y\":[26810.0],\"yaxis\":\"y\",\"type\":\"scatter\"},{\"hovertemplate\":\"championName=Pyke<br>totalDamageDealtToChampions=%{x}<br>totalDamageTaken=%{y}<extra></extra>\",\"legendgroup\":\"Pyke\",\"marker\":{\"color\":\"#FF97FF\",\"symbol\":\"circle\"},\"mode\":\"markers\",\"name\":\"Pyke\",\"orientation\":\"v\",\"showlegend\":true,\"x\":[10262.0],\"xaxis\":\"x\",\"y\":[20222.0],\"yaxis\":\"y\",\"type\":\"scatter\"},{\"hovertemplate\":\"championName=Qiyana<br>totalDamageDealtToChampions=%{x}<br>totalDamageTaken=%{y}<extra></extra>\",\"legendgroup\":\"Qiyana\",\"marker\":{\"color\":\"#FECB52\",\"symbol\":\"circle\"},\"mode\":\"markers\",\"name\":\"Qiyana\",\"orientation\":\"v\",\"showlegend\":true,\"x\":[21992.0],\"xaxis\":\"x\",\"y\":[21829.0],\"yaxis\":\"y\",\"type\":\"scatter\"},{\"hovertemplate\":\"championName=Quinn<br>totalDamageDealtToChampions=%{x}<br>totalDamageTaken=%{y}<extra></extra>\",\"legendgroup\":\"Quinn\",\"marker\":{\"color\":\"#636efa\",\"symbol\":\"circle\"},\"mode\":\"markers\",\"name\":\"Quinn\",\"orientation\":\"v\",\"showlegend\":true,\"x\":[23807.0],\"xaxis\":\"x\",\"y\":[22154.0],\"yaxis\":\"y\",\"type\":\"scatter\"},{\"hovertemplate\":\"championName=Rakan<br>totalDamageDealtToChampions=%{x}<br>totalDamageTaken=%{y}<extra></extra>\",\"legendgroup\":\"Rakan\",\"marker\":{\"color\":\"#EF553B\",\"symbol\":\"circle\"},\"mode\":\"markers\",\"name\":\"Rakan\",\"orientation\":\"v\",\"showlegend\":true,\"x\":[6314.0],\"xaxis\":\"x\",\"y\":[18462.0],\"yaxis\":\"y\",\"type\":\"scatter\"},{\"hovertemplate\":\"championName=Rammus<br>totalDamageDealtToChampions=%{x}<br>totalDamageTaken=%{y}<extra></extra>\",\"legendgroup\":\"Rammus\",\"marker\":{\"color\":\"#00cc96\",\"symbol\":\"circle\"},\"mode\":\"markers\",\"name\":\"Rammus\",\"orientation\":\"v\",\"showlegend\":true,\"x\":[15658.0],\"xaxis\":\"x\",\"y\":[29759.0],\"yaxis\":\"y\",\"type\":\"scatter\"},{\"hovertemplate\":\"championName=RekSai<br>totalDamageDealtToChampions=%{x}<br>totalDamageTaken=%{y}<extra></extra>\",\"legendgroup\":\"RekSai\",\"marker\":{\"color\":\"#ab63fa\",\"symbol\":\"circle\"},\"mode\":\"markers\",\"name\":\"RekSai\",\"orientation\":\"v\",\"showlegend\":true,\"x\":[13203.0],\"xaxis\":\"x\",\"y\":[27895.0],\"yaxis\":\"y\",\"type\":\"scatter\"},{\"hovertemplate\":\"championName=Rell<br>totalDamageDealtToChampions=%{x}<br>totalDamageTaken=%{y}<extra></extra>\",\"legendgroup\":\"Rell\",\"marker\":{\"color\":\"#FFA15A\",\"symbol\":\"circle\"},\"mode\":\"markers\",\"name\":\"Rell\",\"orientation\":\"v\",\"showlegend\":true,\"x\":[6315.0],\"xaxis\":\"x\",\"y\":[20050.0],\"yaxis\":\"y\",\"type\":\"scatter\"},{\"hovertemplate\":\"championName=Renata<br>totalDamageDealtToChampions=%{x}<br>totalDamageTaken=%{y}<extra></extra>\",\"legendgroup\":\"Renata\",\"marker\":{\"color\":\"#19d3f3\",\"symbol\":\"circle\"},\"mode\":\"markers\",\"name\":\"Renata\",\"orientation\":\"v\",\"showlegend\":true,\"x\":[8614.0],\"xaxis\":\"x\",\"y\":[17313.0],\"yaxis\":\"y\",\"type\":\"scatter\"},{\"hovertemplate\":\"championName=Renekton<br>totalDamageDealtToChampions=%{x}<br>totalDamageTaken=%{y}<extra></extra>\",\"legendgroup\":\"Renekton\",\"marker\":{\"color\":\"#FF6692\",\"symbol\":\"circle\"},\"mode\":\"markers\",\"name\":\"Renekton\",\"orientation\":\"v\",\"showlegend\":true,\"x\":[18803.0],\"xaxis\":\"x\",\"y\":[33443.0],\"yaxis\":\"y\",\"type\":\"scatter\"},{\"hovertemplate\":\"championName=Rengar<br>totalDamageDealtToChampions=%{x}<br>totalDamageTaken=%{y}<extra></extra>\",\"legendgroup\":\"Rengar\",\"marker\":{\"color\":\"#B6E880\",\"symbol\":\"circle\"},\"mode\":\"markers\",\"name\":\"Rengar\",\"orientation\":\"v\",\"showlegend\":true,\"x\":[20143.0],\"xaxis\":\"x\",\"y\":[30930.0],\"yaxis\":\"y\",\"type\":\"scatter\"},{\"hovertemplate\":\"championName=Riven<br>totalDamageDealtToChampions=%{x}<br>totalDamageTaken=%{y}<extra></extra>\",\"legendgroup\":\"Riven\",\"marker\":{\"color\":\"#FF97FF\",\"symbol\":\"circle\"},\"mode\":\"markers\",\"name\":\"Riven\",\"orientation\":\"v\",\"showlegend\":true,\"x\":[19651.0],\"xaxis\":\"x\",\"y\":[24486.0],\"yaxis\":\"y\",\"type\":\"scatter\"},{\"hovertemplate\":\"championName=Rumble<br>totalDamageDealtToChampions=%{x}<br>totalDamageTaken=%{y}<extra></extra>\",\"legendgroup\":\"Rumble\",\"marker\":{\"color\":\"#FECB52\",\"symbol\":\"circle\"},\"mode\":\"markers\",\"name\":\"Rumble\",\"orientation\":\"v\",\"showlegend\":true,\"x\":[21552.0],\"xaxis\":\"x\",\"y\":[20780.0],\"yaxis\":\"y\",\"type\":\"scatter\"},{\"hovertemplate\":\"championName=Ryze<br>totalDamageDealtToChampions=%{x}<br>totalDamageTaken=%{y}<extra></extra>\",\"legendgroup\":\"Ryze\",\"marker\":{\"color\":\"#636efa\",\"symbol\":\"circle\"},\"mode\":\"markers\",\"name\":\"Ryze\",\"orientation\":\"v\",\"showlegend\":true,\"x\":[22434.0],\"xaxis\":\"x\",\"y\":[26017.0],\"yaxis\":\"y\",\"type\":\"scatter\"},{\"hovertemplate\":\"championName=Samira<br>totalDamageDealtToChampions=%{x}<br>totalDamageTaken=%{y}<extra></extra>\",\"legendgroup\":\"Samira\",\"marker\":{\"color\":\"#EF553B\",\"symbol\":\"circle\"},\"mode\":\"markers\",\"name\":\"Samira\",\"orientation\":\"v\",\"showlegend\":true,\"x\":[22385.0],\"xaxis\":\"x\",\"y\":[21613.0],\"yaxis\":\"y\",\"type\":\"scatter\"},{\"hovertemplate\":\"championName=Sejuani<br>totalDamageDealtToChampions=%{x}<br>totalDamageTaken=%{y}<extra></extra>\",\"legendgroup\":\"Sejuani\",\"marker\":{\"color\":\"#00cc96\",\"symbol\":\"circle\"},\"mode\":\"markers\",\"name\":\"Sejuani\",\"orientation\":\"v\",\"showlegend\":true,\"x\":[12367.0],\"xaxis\":\"x\",\"y\":[31092.0],\"yaxis\":\"y\",\"type\":\"scatter\"},{\"hovertemplate\":\"championName=Senna<br>totalDamageDealtToChampions=%{x}<br>totalDamageTaken=%{y}<extra></extra>\",\"legendgroup\":\"Senna\",\"marker\":{\"color\":\"#ab63fa\",\"symbol\":\"circle\"},\"mode\":\"markers\",\"name\":\"Senna\",\"orientation\":\"v\",\"showlegend\":true,\"x\":[16920.0],\"xaxis\":\"x\",\"y\":[16977.0],\"yaxis\":\"y\",\"type\":\"scatter\"},{\"hovertemplate\":\"championName=Seraphine<br>totalDamageDealtToChampions=%{x}<br>totalDamageTaken=%{y}<extra></extra>\",\"legendgroup\":\"Seraphine\",\"marker\":{\"color\":\"#FFA15A\",\"symbol\":\"circle\"},\"mode\":\"markers\",\"name\":\"Seraphine\",\"orientation\":\"v\",\"showlegend\":true,\"x\":[12131.0],\"xaxis\":\"x\",\"y\":[15075.0],\"yaxis\":\"y\",\"type\":\"scatter\"},{\"hovertemplate\":\"championName=Sett<br>totalDamageDealtToChampions=%{x}<br>totalDamageTaken=%{y}<extra></extra>\",\"legendgroup\":\"Sett\",\"marker\":{\"color\":\"#19d3f3\",\"symbol\":\"circle\"},\"mode\":\"markers\",\"name\":\"Sett\",\"orientation\":\"v\",\"showlegend\":true,\"x\":[24594.0],\"xaxis\":\"x\",\"y\":[34260.0],\"yaxis\":\"y\",\"type\":\"scatter\"},{\"hovertemplate\":\"championName=Shaco<br>totalDamageDealtToChampions=%{x}<br>totalDamageTaken=%{y}<extra></extra>\",\"legendgroup\":\"Shaco\",\"marker\":{\"color\":\"#FF6692\",\"symbol\":\"circle\"},\"mode\":\"markers\",\"name\":\"Shaco\",\"orientation\":\"v\",\"showlegend\":true,\"x\":[19258.0],\"xaxis\":\"x\",\"y\":[21630.0],\"yaxis\":\"y\",\"type\":\"scatter\"},{\"hovertemplate\":\"championName=Shen<br>totalDamageDealtToChampions=%{x}<br>totalDamageTaken=%{y}<extra></extra>\",\"legendgroup\":\"Shen\",\"marker\":{\"color\":\"#B6E880\",\"symbol\":\"circle\"},\"mode\":\"markers\",\"name\":\"Shen\",\"orientation\":\"v\",\"showlegend\":true,\"x\":[14300.0],\"xaxis\":\"x\",\"y\":[26187.0],\"yaxis\":\"y\",\"type\":\"scatter\"},{\"hovertemplate\":\"championName=Shyvana<br>totalDamageDealtToChampions=%{x}<br>totalDamageTaken=%{y}<extra></extra>\",\"legendgroup\":\"Shyvana\",\"marker\":{\"color\":\"#FF97FF\",\"symbol\":\"circle\"},\"mode\":\"markers\",\"name\":\"Shyvana\",\"orientation\":\"v\",\"showlegend\":true,\"x\":[21380.0],\"xaxis\":\"x\",\"y\":[30939.0],\"yaxis\":\"y\",\"type\":\"scatter\"},{\"hovertemplate\":\"championName=Singed<br>totalDamageDealtToChampions=%{x}<br>totalDamageTaken=%{y}<extra></extra>\",\"legendgroup\":\"Singed\",\"marker\":{\"color\":\"#FECB52\",\"symbol\":\"circle\"},\"mode\":\"markers\",\"name\":\"Singed\",\"orientation\":\"v\",\"showlegend\":true,\"x\":[20643.0],\"xaxis\":\"x\",\"y\":[29585.0],\"yaxis\":\"y\",\"type\":\"scatter\"},{\"hovertemplate\":\"championName=Sion<br>totalDamageDealtToChampions=%{x}<br>totalDamageTaken=%{y}<extra></extra>\",\"legendgroup\":\"Sion\",\"marker\":{\"color\":\"#636efa\",\"symbol\":\"circle\"},\"mode\":\"markers\",\"name\":\"Sion\",\"orientation\":\"v\",\"showlegend\":true,\"x\":[25714.0],\"xaxis\":\"x\",\"y\":[46761.0],\"yaxis\":\"y\",\"type\":\"scatter\"},{\"hovertemplate\":\"championName=Sivir<br>totalDamageDealtToChampions=%{x}<br>totalDamageTaken=%{y}<extra></extra>\",\"legendgroup\":\"Sivir\",\"marker\":{\"color\":\"#EF553B\",\"symbol\":\"circle\"},\"mode\":\"markers\",\"name\":\"Sivir\",\"orientation\":\"v\",\"showlegend\":true,\"x\":[23431.0],\"xaxis\":\"x\",\"y\":[19141.0],\"yaxis\":\"y\",\"type\":\"scatter\"},{\"hovertemplate\":\"championName=Skarner<br>totalDamageDealtToChampions=%{x}<br>totalDamageTaken=%{y}<extra></extra>\",\"legendgroup\":\"Skarner\",\"marker\":{\"color\":\"#00cc96\",\"symbol\":\"circle\"},\"mode\":\"markers\",\"name\":\"Skarner\",\"orientation\":\"v\",\"showlegend\":true,\"x\":[20334.0],\"xaxis\":\"x\",\"y\":[29492.0],\"yaxis\":\"y\",\"type\":\"scatter\"},{\"hovertemplate\":\"championName=Sona<br>totalDamageDealtToChampions=%{x}<br>totalDamageTaken=%{y}<extra></extra>\",\"legendgroup\":\"Sona\",\"marker\":{\"color\":\"#ab63fa\",\"symbol\":\"circle\"},\"mode\":\"markers\",\"name\":\"Sona\",\"orientation\":\"v\",\"showlegend\":true,\"x\":[10127.0],\"xaxis\":\"x\",\"y\":[17374.0],\"yaxis\":\"y\",\"type\":\"scatter\"},{\"hovertemplate\":\"championName=Soraka<br>totalDamageDealtToChampions=%{x}<br>totalDamageTaken=%{y}<extra></extra>\",\"legendgroup\":\"Soraka\",\"marker\":{\"color\":\"#FFA15A\",\"symbol\":\"circle\"},\"mode\":\"markers\",\"name\":\"Soraka\",\"orientation\":\"v\",\"showlegend\":true,\"x\":[5981.0],\"xaxis\":\"x\",\"y\":[15553.0],\"yaxis\":\"y\",\"type\":\"scatter\"},{\"hovertemplate\":\"championName=Swain<br>totalDamageDealtToChampions=%{x}<br>totalDamageTaken=%{y}<extra></extra>\",\"legendgroup\":\"Swain\",\"marker\":{\"color\":\"#19d3f3\",\"symbol\":\"circle\"},\"mode\":\"markers\",\"name\":\"Swain\",\"orientation\":\"v\",\"showlegend\":true,\"x\":[24793.0],\"xaxis\":\"x\",\"y\":[33434.0],\"yaxis\":\"y\",\"type\":\"scatter\"},{\"hovertemplate\":\"championName=Sylas<br>totalDamageDealtToChampions=%{x}<br>totalDamageTaken=%{y}<extra></extra>\",\"legendgroup\":\"Sylas\",\"marker\":{\"color\":\"#FF6692\",\"symbol\":\"circle\"},\"mode\":\"markers\",\"name\":\"Sylas\",\"orientation\":\"v\",\"showlegend\":true,\"x\":[22256.0],\"xaxis\":\"x\",\"y\":[29775.0],\"yaxis\":\"y\",\"type\":\"scatter\"},{\"hovertemplate\":\"championName=Syndra<br>totalDamageDealtToChampions=%{x}<br>totalDamageTaken=%{y}<extra></extra>\",\"legendgroup\":\"Syndra\",\"marker\":{\"color\":\"#B6E880\",\"symbol\":\"circle\"},\"mode\":\"markers\",\"name\":\"Syndra\",\"orientation\":\"v\",\"showlegend\":true,\"x\":[23016.0],\"xaxis\":\"x\",\"y\":[17094.0],\"yaxis\":\"y\",\"type\":\"scatter\"},{\"hovertemplate\":\"championName=TahmKench<br>totalDamageDealtToChampions=%{x}<br>totalDamageTaken=%{y}<extra></extra>\",\"legendgroup\":\"TahmKench\",\"marker\":{\"color\":\"#FF97FF\",\"symbol\":\"circle\"},\"mode\":\"markers\",\"name\":\"TahmKench\",\"orientation\":\"v\",\"showlegend\":true,\"x\":[18661.0],\"xaxis\":\"x\",\"y\":[36659.0],\"yaxis\":\"y\",\"type\":\"scatter\"},{\"hovertemplate\":\"championName=Taliyah<br>totalDamageDealtToChampions=%{x}<br>totalDamageTaken=%{y}<extra></extra>\",\"legendgroup\":\"Taliyah\",\"marker\":{\"color\":\"#FECB52\",\"symbol\":\"circle\"},\"mode\":\"markers\",\"name\":\"Taliyah\",\"orientation\":\"v\",\"showlegend\":true,\"x\":[20514.0],\"xaxis\":\"x\",\"y\":[19247.0],\"yaxis\":\"y\",\"type\":\"scatter\"},{\"hovertemplate\":\"championName=Talon<br>totalDamageDealtToChampions=%{x}<br>totalDamageTaken=%{y}<extra></extra>\",\"legendgroup\":\"Talon\",\"marker\":{\"color\":\"#636efa\",\"symbol\":\"circle\"},\"mode\":\"markers\",\"name\":\"Talon\",\"orientation\":\"v\",\"showlegend\":true,\"x\":[21401.0],\"xaxis\":\"x\",\"y\":[26551.0],\"yaxis\":\"y\",\"type\":\"scatter\"},{\"hovertemplate\":\"championName=Taric<br>totalDamageDealtToChampions=%{x}<br>totalDamageTaken=%{y}<extra></extra>\",\"legendgroup\":\"Taric\",\"marker\":{\"color\":\"#EF553B\",\"symbol\":\"circle\"},\"mode\":\"markers\",\"name\":\"Taric\",\"orientation\":\"v\",\"showlegend\":true,\"x\":[9672.0],\"xaxis\":\"x\",\"y\":[26553.0],\"yaxis\":\"y\",\"type\":\"scatter\"},{\"hovertemplate\":\"championName=Teemo<br>totalDamageDealtToChampions=%{x}<br>totalDamageTaken=%{y}<extra></extra>\",\"legendgroup\":\"Teemo\",\"marker\":{\"color\":\"#00cc96\",\"symbol\":\"circle\"},\"mode\":\"markers\",\"name\":\"Teemo\",\"orientation\":\"v\",\"showlegend\":true,\"x\":[25894.0],\"xaxis\":\"x\",\"y\":[21989.0],\"yaxis\":\"y\",\"type\":\"scatter\"},{\"hovertemplate\":\"championName=Thresh<br>totalDamageDealtToChampions=%{x}<br>totalDamageTaken=%{y}<extra></extra>\",\"legendgroup\":\"Thresh\",\"marker\":{\"color\":\"#ab63fa\",\"symbol\":\"circle\"},\"mode\":\"markers\",\"name\":\"Thresh\",\"orientation\":\"v\",\"showlegend\":true,\"x\":[7532.0],\"xaxis\":\"x\",\"y\":[19725.0],\"yaxis\":\"y\",\"type\":\"scatter\"},{\"hovertemplate\":\"championName=Tristana<br>totalDamageDealtToChampions=%{x}<br>totalDamageTaken=%{y}<extra></extra>\",\"legendgroup\":\"Tristana\",\"marker\":{\"color\":\"#FFA15A\",\"symbol\":\"circle\"},\"mode\":\"markers\",\"name\":\"Tristana\",\"orientation\":\"v\",\"showlegend\":true,\"x\":[20559.0],\"xaxis\":\"x\",\"y\":[18423.0],\"yaxis\":\"y\",\"type\":\"scatter\"},{\"hovertemplate\":\"championName=Trundle<br>totalDamageDealtToChampions=%{x}<br>totalDamageTaken=%{y}<extra></extra>\",\"legendgroup\":\"Trundle\",\"marker\":{\"color\":\"#19d3f3\",\"symbol\":\"circle\"},\"mode\":\"markers\",\"name\":\"Trundle\",\"orientation\":\"v\",\"showlegend\":true,\"x\":[19856.0],\"xaxis\":\"x\",\"y\":[32994.0],\"yaxis\":\"y\",\"type\":\"scatter\"},{\"hovertemplate\":\"championName=Tryndamere<br>totalDamageDealtToChampions=%{x}<br>totalDamageTaken=%{y}<extra></extra>\",\"legendgroup\":\"Tryndamere\",\"marker\":{\"color\":\"#FF6692\",\"symbol\":\"circle\"},\"mode\":\"markers\",\"name\":\"Tryndamere\",\"orientation\":\"v\",\"showlegend\":true,\"x\":[18994.0],\"xaxis\":\"x\",\"y\":[33115.0],\"yaxis\":\"y\",\"type\":\"scatter\"},{\"hovertemplate\":\"championName=TwistedFate<br>totalDamageDealtToChampions=%{x}<br>totalDamageTaken=%{y}<extra></extra>\",\"legendgroup\":\"TwistedFate\",\"marker\":{\"color\":\"#B6E880\",\"symbol\":\"circle\"},\"mode\":\"markers\",\"name\":\"TwistedFate\",\"orientation\":\"v\",\"showlegend\":true,\"x\":[16037.0],\"xaxis\":\"x\",\"y\":[18781.0],\"yaxis\":\"y\",\"type\":\"scatter\"},{\"hovertemplate\":\"championName=Twitch<br>totalDamageDealtToChampions=%{x}<br>totalDamageTaken=%{y}<extra></extra>\",\"legendgroup\":\"Twitch\",\"marker\":{\"color\":\"#FF97FF\",\"symbol\":\"circle\"},\"mode\":\"markers\",\"name\":\"Twitch\",\"orientation\":\"v\",\"showlegend\":true,\"x\":[23915.0],\"xaxis\":\"x\",\"y\":[21001.0],\"yaxis\":\"y\",\"type\":\"scatter\"},{\"hovertemplate\":\"championName=Udyr<br>totalDamageDealtToChampions=%{x}<br>totalDamageTaken=%{y}<extra></extra>\",\"legendgroup\":\"Udyr\",\"marker\":{\"color\":\"#FECB52\",\"symbol\":\"circle\"},\"mode\":\"markers\",\"name\":\"Udyr\",\"orientation\":\"v\",\"showlegend\":true,\"x\":[18824.0],\"xaxis\":\"x\",\"y\":[28333.0],\"yaxis\":\"y\",\"type\":\"scatter\"},{\"hovertemplate\":\"championName=Urgot<br>totalDamageDealtToChampions=%{x}<br>totalDamageTaken=%{y}<extra></extra>\",\"legendgroup\":\"Urgot\",\"marker\":{\"color\":\"#636efa\",\"symbol\":\"circle\"},\"mode\":\"markers\",\"name\":\"Urgot\",\"orientation\":\"v\",\"showlegend\":true,\"x\":[25737.0],\"xaxis\":\"x\",\"y\":[32283.0],\"yaxis\":\"y\",\"type\":\"scatter\"},{\"hovertemplate\":\"championName=Varus<br>totalDamageDealtToChampions=%{x}<br>totalDamageTaken=%{y}<extra></extra>\",\"legendgroup\":\"Varus\",\"marker\":{\"color\":\"#EF553B\",\"symbol\":\"circle\"},\"mode\":\"markers\",\"name\":\"Varus\",\"orientation\":\"v\",\"showlegend\":true,\"x\":[21038.0],\"xaxis\":\"x\",\"y\":[18371.0],\"yaxis\":\"y\",\"type\":\"scatter\"},{\"hovertemplate\":\"championName=Vayne<br>totalDamageDealtToChampions=%{x}<br>totalDamageTaken=%{y}<extra></extra>\",\"legendgroup\":\"Vayne\",\"marker\":{\"color\":\"#00cc96\",\"symbol\":\"circle\"},\"mode\":\"markers\",\"name\":\"Vayne\",\"orientation\":\"v\",\"showlegend\":true,\"x\":[25106.0],\"xaxis\":\"x\",\"y\":[21763.0],\"yaxis\":\"y\",\"type\":\"scatter\"},{\"hovertemplate\":\"championName=Veigar<br>totalDamageDealtToChampions=%{x}<br>totalDamageTaken=%{y}<extra></extra>\",\"legendgroup\":\"Veigar\",\"marker\":{\"color\":\"#ab63fa\",\"symbol\":\"circle\"},\"mode\":\"markers\",\"name\":\"Veigar\",\"orientation\":\"v\",\"showlegend\":true,\"x\":[22840.0],\"xaxis\":\"x\",\"y\":[19957.0],\"yaxis\":\"y\",\"type\":\"scatter\"},{\"hovertemplate\":\"championName=Velkoz<br>totalDamageDealtToChampions=%{x}<br>totalDamageTaken=%{y}<extra></extra>\",\"legendgroup\":\"Velkoz\",\"marker\":{\"color\":\"#FFA15A\",\"symbol\":\"circle\"},\"mode\":\"markers\",\"name\":\"Velkoz\",\"orientation\":\"v\",\"showlegend\":true,\"x\":[20338.0],\"xaxis\":\"x\",\"y\":[15023.0],\"yaxis\":\"y\",\"type\":\"scatter\"},{\"hovertemplate\":\"championName=Vex<br>totalDamageDealtToChampions=%{x}<br>totalDamageTaken=%{y}<extra></extra>\",\"legendgroup\":\"Vex\",\"marker\":{\"color\":\"#19d3f3\",\"symbol\":\"circle\"},\"mode\":\"markers\",\"name\":\"Vex\",\"orientation\":\"v\",\"showlegend\":true,\"x\":[22399.0],\"xaxis\":\"x\",\"y\":[18068.0],\"yaxis\":\"y\",\"type\":\"scatter\"},{\"hovertemplate\":\"championName=Vi<br>totalDamageDealtToChampions=%{x}<br>totalDamageTaken=%{y}<extra></extra>\",\"legendgroup\":\"Vi\",\"marker\":{\"color\":\"#FF6692\",\"symbol\":\"circle\"},\"mode\":\"markers\",\"name\":\"Vi\",\"orientation\":\"v\",\"showlegend\":true,\"x\":[15554.0],\"xaxis\":\"x\",\"y\":[25645.0],\"yaxis\":\"y\",\"type\":\"scatter\"},{\"hovertemplate\":\"championName=Viego<br>totalDamageDealtToChampions=%{x}<br>totalDamageTaken=%{y}<extra></extra>\",\"legendgroup\":\"Viego\",\"marker\":{\"color\":\"#B6E880\",\"symbol\":\"circle\"},\"mode\":\"markers\",\"name\":\"Viego\",\"orientation\":\"v\",\"showlegend\":true,\"x\":[16139.0],\"xaxis\":\"x\",\"y\":[29583.0],\"yaxis\":\"y\",\"type\":\"scatter\"},{\"hovertemplate\":\"championName=Viktor<br>totalDamageDealtToChampions=%{x}<br>totalDamageTaken=%{y}<extra></extra>\",\"legendgroup\":\"Viktor\",\"marker\":{\"color\":\"#FF97FF\",\"symbol\":\"circle\"},\"mode\":\"markers\",\"name\":\"Viktor\",\"orientation\":\"v\",\"showlegend\":true,\"x\":[25087.0],\"xaxis\":\"x\",\"y\":[17676.0],\"yaxis\":\"y\",\"type\":\"scatter\"},{\"hovertemplate\":\"championName=Vladimir<br>totalDamageDealtToChampions=%{x}<br>totalDamageTaken=%{y}<extra></extra>\",\"legendgroup\":\"Vladimir\",\"marker\":{\"color\":\"#FECB52\",\"symbol\":\"circle\"},\"mode\":\"markers\",\"name\":\"Vladimir\",\"orientation\":\"v\",\"showlegend\":true,\"x\":[28265.0],\"xaxis\":\"x\",\"y\":[33257.0],\"yaxis\":\"y\",\"type\":\"scatter\"},{\"hovertemplate\":\"championName=Volibear<br>totalDamageDealtToChampions=%{x}<br>totalDamageTaken=%{y}<extra></extra>\",\"legendgroup\":\"Volibear\",\"marker\":{\"color\":\"#636efa\",\"symbol\":\"circle\"},\"mode\":\"markers\",\"name\":\"Volibear\",\"orientation\":\"v\",\"showlegend\":true,\"x\":[20770.0],\"xaxis\":\"x\",\"y\":[32766.0],\"yaxis\":\"y\",\"type\":\"scatter\"},{\"hovertemplate\":\"championName=Warwick<br>totalDamageDealtToChampions=%{x}<br>totalDamageTaken=%{y}<extra></extra>\",\"legendgroup\":\"Warwick\",\"marker\":{\"color\":\"#EF553B\",\"symbol\":\"circle\"},\"mode\":\"markers\",\"name\":\"Warwick\",\"orientation\":\"v\",\"showlegend\":true,\"x\":[17389.0],\"xaxis\":\"x\",\"y\":[32451.0],\"yaxis\":\"y\",\"type\":\"scatter\"},{\"hovertemplate\":\"championName=Xayah<br>totalDamageDealtToChampions=%{x}<br>totalDamageTaken=%{y}<extra></extra>\",\"legendgroup\":\"Xayah\",\"marker\":{\"color\":\"#00cc96\",\"symbol\":\"circle\"},\"mode\":\"markers\",\"name\":\"Xayah\",\"orientation\":\"v\",\"showlegend\":true,\"x\":[19126.0],\"xaxis\":\"x\",\"y\":[17015.0],\"yaxis\":\"y\",\"type\":\"scatter\"},{\"hovertemplate\":\"championName=Xerath<br>totalDamageDealtToChampions=%{x}<br>totalDamageTaken=%{y}<extra></extra>\",\"legendgroup\":\"Xerath\",\"marker\":{\"color\":\"#ab63fa\",\"symbol\":\"circle\"},\"mode\":\"markers\",\"name\":\"Xerath\",\"orientation\":\"v\",\"showlegend\":true,\"x\":[21760.0],\"xaxis\":\"x\",\"y\":[14874.0],\"yaxis\":\"y\",\"type\":\"scatter\"},{\"hovertemplate\":\"championName=XinZhao<br>totalDamageDealtToChampions=%{x}<br>totalDamageTaken=%{y}<extra></extra>\",\"legendgroup\":\"XinZhao\",\"marker\":{\"color\":\"#FFA15A\",\"symbol\":\"circle\"},\"mode\":\"markers\",\"name\":\"XinZhao\",\"orientation\":\"v\",\"showlegend\":true,\"x\":[17624.0],\"xaxis\":\"x\",\"y\":[32035.0],\"yaxis\":\"y\",\"type\":\"scatter\"},{\"hovertemplate\":\"championName=Yasuo<br>totalDamageDealtToChampions=%{x}<br>totalDamageTaken=%{y}<extra></extra>\",\"legendgroup\":\"Yasuo\",\"marker\":{\"color\":\"#19d3f3\",\"symbol\":\"circle\"},\"mode\":\"markers\",\"name\":\"Yasuo\",\"orientation\":\"v\",\"showlegend\":true,\"x\":[19054.0],\"xaxis\":\"x\",\"y\":[22177.0],\"yaxis\":\"y\",\"type\":\"scatter\"},{\"hovertemplate\":\"championName=Yone<br>totalDamageDealtToChampions=%{x}<br>totalDamageTaken=%{y}<extra></extra>\",\"legendgroup\":\"Yone\",\"marker\":{\"color\":\"#FF6692\",\"symbol\":\"circle\"},\"mode\":\"markers\",\"name\":\"Yone\",\"orientation\":\"v\",\"showlegend\":true,\"x\":[20668.0],\"xaxis\":\"x\",\"y\":[23745.0],\"yaxis\":\"y\",\"type\":\"scatter\"},{\"hovertemplate\":\"championName=Yorick<br>totalDamageDealtToChampions=%{x}<br>totalDamageTaken=%{y}<extra></extra>\",\"legendgroup\":\"Yorick\",\"marker\":{\"color\":\"#B6E880\",\"symbol\":\"circle\"},\"mode\":\"markers\",\"name\":\"Yorick\",\"orientation\":\"v\",\"showlegend\":true,\"x\":[23184.0],\"xaxis\":\"x\",\"y\":[22640.0],\"yaxis\":\"y\",\"type\":\"scatter\"},{\"hovertemplate\":\"championName=Yuumi<br>totalDamageDealtToChampions=%{x}<br>totalDamageTaken=%{y}<extra></extra>\",\"legendgroup\":\"Yuumi\",\"marker\":{\"color\":\"#FF97FF\",\"symbol\":\"circle\"},\"mode\":\"markers\",\"name\":\"Yuumi\",\"orientation\":\"v\",\"showlegend\":true,\"x\":[9258.0],\"xaxis\":\"x\",\"y\":[8942.0],\"yaxis\":\"y\",\"type\":\"scatter\"},{\"hovertemplate\":\"championName=Zac<br>totalDamageDealtToChampions=%{x}<br>totalDamageTaken=%{y}<extra></extra>\",\"legendgroup\":\"Zac\",\"marker\":{\"color\":\"#FECB52\",\"symbol\":\"circle\"},\"mode\":\"markers\",\"name\":\"Zac\",\"orientation\":\"v\",\"showlegend\":true,\"x\":[16705.0],\"xaxis\":\"x\",\"y\":[37528.0],\"yaxis\":\"y\",\"type\":\"scatter\"},{\"hovertemplate\":\"championName=Zed<br>totalDamageDealtToChampions=%{x}<br>totalDamageTaken=%{y}<extra></extra>\",\"legendgroup\":\"Zed\",\"marker\":{\"color\":\"#636efa\",\"symbol\":\"circle\"},\"mode\":\"markers\",\"name\":\"Zed\",\"orientation\":\"v\",\"showlegend\":true,\"x\":[27678.0],\"xaxis\":\"x\",\"y\":[21813.0],\"yaxis\":\"y\",\"type\":\"scatter\"},{\"hovertemplate\":\"championName=Zeri<br>totalDamageDealtToChampions=%{x}<br>totalDamageTaken=%{y}<extra></extra>\",\"legendgroup\":\"Zeri\",\"marker\":{\"color\":\"#EF553B\",\"symbol\":\"circle\"},\"mode\":\"markers\",\"name\":\"Zeri\",\"orientation\":\"v\",\"showlegend\":true,\"x\":[22739.0],\"xaxis\":\"x\",\"y\":[20042.0],\"yaxis\":\"y\",\"type\":\"scatter\"},{\"hovertemplate\":\"championName=Ziggs<br>totalDamageDealtToChampions=%{x}<br>totalDamageTaken=%{y}<extra></extra>\",\"legendgroup\":\"Ziggs\",\"marker\":{\"color\":\"#00cc96\",\"symbol\":\"circle\"},\"mode\":\"markers\",\"name\":\"Ziggs\",\"orientation\":\"v\",\"showlegend\":true,\"x\":[25129.0],\"xaxis\":\"x\",\"y\":[16031.0],\"yaxis\":\"y\",\"type\":\"scatter\"},{\"hovertemplate\":\"championName=Zilean<br>totalDamageDealtToChampions=%{x}<br>totalDamageTaken=%{y}<extra></extra>\",\"legendgroup\":\"Zilean\",\"marker\":{\"color\":\"#ab63fa\",\"symbol\":\"circle\"},\"mode\":\"markers\",\"name\":\"Zilean\",\"orientation\":\"v\",\"showlegend\":true,\"x\":[9183.0],\"xaxis\":\"x\",\"y\":[15796.0],\"yaxis\":\"y\",\"type\":\"scatter\"},{\"hovertemplate\":\"championName=Zoe<br>totalDamageDealtToChampions=%{x}<br>totalDamageTaken=%{y}<extra></extra>\",\"legendgroup\":\"Zoe\",\"marker\":{\"color\":\"#FFA15A\",\"symbol\":\"circle\"},\"mode\":\"markers\",\"name\":\"Zoe\",\"orientation\":\"v\",\"showlegend\":true,\"x\":[22752.0],\"xaxis\":\"x\",\"y\":[17401.0],\"yaxis\":\"y\",\"type\":\"scatter\"},{\"hovertemplate\":\"championName=Zyra<br>totalDamageDealtToChampions=%{x}<br>totalDamageTaken=%{y}<extra></extra>\",\"legendgroup\":\"Zyra\",\"marker\":{\"color\":\"#19d3f3\",\"symbol\":\"circle\"},\"mode\":\"markers\",\"name\":\"Zyra\",\"orientation\":\"v\",\"showlegend\":true,\"x\":[19344.0],\"xaxis\":\"x\",\"y\":[16100.0],\"yaxis\":\"y\",\"type\":\"scatter\"}],                        {\"template\":{\"data\":{\"histogram2dcontour\":[{\"type\":\"histogram2dcontour\",\"colorbar\":{\"outlinewidth\":0,\"ticks\":\"\"},\"colorscale\":[[0.0,\"#0d0887\"],[0.1111111111111111,\"#46039f\"],[0.2222222222222222,\"#7201a8\"],[0.3333333333333333,\"#9c179e\"],[0.4444444444444444,\"#bd3786\"],[0.5555555555555556,\"#d8576b\"],[0.6666666666666666,\"#ed7953\"],[0.7777777777777778,\"#fb9f3a\"],[0.8888888888888888,\"#fdca26\"],[1.0,\"#f0f921\"]]}],\"choropleth\":[{\"type\":\"choropleth\",\"colorbar\":{\"outlinewidth\":0,\"ticks\":\"\"}}],\"histogram2d\":[{\"type\":\"histogram2d\",\"colorbar\":{\"outlinewidth\":0,\"ticks\":\"\"},\"colorscale\":[[0.0,\"#0d0887\"],[0.1111111111111111,\"#46039f\"],[0.2222222222222222,\"#7201a8\"],[0.3333333333333333,\"#9c179e\"],[0.4444444444444444,\"#bd3786\"],[0.5555555555555556,\"#d8576b\"],[0.6666666666666666,\"#ed7953\"],[0.7777777777777778,\"#fb9f3a\"],[0.8888888888888888,\"#fdca26\"],[1.0,\"#f0f921\"]]}],\"heatmap\":[{\"type\":\"heatmap\",\"colorbar\":{\"outlinewidth\":0,\"ticks\":\"\"},\"colorscale\":[[0.0,\"#0d0887\"],[0.1111111111111111,\"#46039f\"],[0.2222222222222222,\"#7201a8\"],[0.3333333333333333,\"#9c179e\"],[0.4444444444444444,\"#bd3786\"],[0.5555555555555556,\"#d8576b\"],[0.6666666666666666,\"#ed7953\"],[0.7777777777777778,\"#fb9f3a\"],[0.8888888888888888,\"#fdca26\"],[1.0,\"#f0f921\"]]}],\"heatmapgl\":[{\"type\":\"heatmapgl\",\"colorbar\":{\"outlinewidth\":0,\"ticks\":\"\"},\"colorscale\":[[0.0,\"#0d0887\"],[0.1111111111111111,\"#46039f\"],[0.2222222222222222,\"#7201a8\"],[0.3333333333333333,\"#9c179e\"],[0.4444444444444444,\"#bd3786\"],[0.5555555555555556,\"#d8576b\"],[0.6666666666666666,\"#ed7953\"],[0.7777777777777778,\"#fb9f3a\"],[0.8888888888888888,\"#fdca26\"],[1.0,\"#f0f921\"]]}],\"contourcarpet\":[{\"type\":\"contourcarpet\",\"colorbar\":{\"outlinewidth\":0,\"ticks\":\"\"}}],\"contour\":[{\"type\":\"contour\",\"colorbar\":{\"outlinewidth\":0,\"ticks\":\"\"},\"colorscale\":[[0.0,\"#0d0887\"],[0.1111111111111111,\"#46039f\"],[0.2222222222222222,\"#7201a8\"],[0.3333333333333333,\"#9c179e\"],[0.4444444444444444,\"#bd3786\"],[0.5555555555555556,\"#d8576b\"],[0.6666666666666666,\"#ed7953\"],[0.7777777777777778,\"#fb9f3a\"],[0.8888888888888888,\"#fdca26\"],[1.0,\"#f0f921\"]]}],\"surface\":[{\"type\":\"surface\",\"colorbar\":{\"outlinewidth\":0,\"ticks\":\"\"},\"colorscale\":[[0.0,\"#0d0887\"],[0.1111111111111111,\"#46039f\"],[0.2222222222222222,\"#7201a8\"],[0.3333333333333333,\"#9c179e\"],[0.4444444444444444,\"#bd3786\"],[0.5555555555555556,\"#d8576b\"],[0.6666666666666666,\"#ed7953\"],[0.7777777777777778,\"#fb9f3a\"],[0.8888888888888888,\"#fdca26\"],[1.0,\"#f0f921\"]]}],\"mesh3d\":[{\"type\":\"mesh3d\",\"colorbar\":{\"outlinewidth\":0,\"ticks\":\"\"}}],\"scatter\":[{\"fillpattern\":{\"fillmode\":\"overlay\",\"size\":10,\"solidity\":0.2},\"type\":\"scatter\"}],\"parcoords\":[{\"type\":\"parcoords\",\"line\":{\"colorbar\":{\"outlinewidth\":0,\"ticks\":\"\"}}}],\"scatterpolargl\":[{\"type\":\"scatterpolargl\",\"marker\":{\"colorbar\":{\"outlinewidth\":0,\"ticks\":\"\"}}}],\"bar\":[{\"error_x\":{\"color\":\"#2a3f5f\"},\"error_y\":{\"color\":\"#2a3f5f\"},\"marker\":{\"line\":{\"color\":\"#E5ECF6\",\"width\":0.5},\"pattern\":{\"fillmode\":\"overlay\",\"size\":10,\"solidity\":0.2}},\"type\":\"bar\"}],\"scattergeo\":[{\"type\":\"scattergeo\",\"marker\":{\"colorbar\":{\"outlinewidth\":0,\"ticks\":\"\"}}}],\"scatterpolar\":[{\"type\":\"scatterpolar\",\"marker\":{\"colorbar\":{\"outlinewidth\":0,\"ticks\":\"\"}}}],\"histogram\":[{\"marker\":{\"pattern\":{\"fillmode\":\"overlay\",\"size\":10,\"solidity\":0.2}},\"type\":\"histogram\"}],\"scattergl\":[{\"type\":\"scattergl\",\"marker\":{\"colorbar\":{\"outlinewidth\":0,\"ticks\":\"\"}}}],\"scatter3d\":[{\"type\":\"scatter3d\",\"line\":{\"colorbar\":{\"outlinewidth\":0,\"ticks\":\"\"}},\"marker\":{\"colorbar\":{\"outlinewidth\":0,\"ticks\":\"\"}}}],\"scattermapbox\":[{\"type\":\"scattermapbox\",\"marker\":{\"colorbar\":{\"outlinewidth\":0,\"ticks\":\"\"}}}],\"scatterternary\":[{\"type\":\"scatterternary\",\"marker\":{\"colorbar\":{\"outlinewidth\":0,\"ticks\":\"\"}}}],\"scattercarpet\":[{\"type\":\"scattercarpet\",\"marker\":{\"colorbar\":{\"outlinewidth\":0,\"ticks\":\"\"}}}],\"carpet\":[{\"aaxis\":{\"endlinecolor\":\"#2a3f5f\",\"gridcolor\":\"white\",\"linecolor\":\"white\",\"minorgridcolor\":\"white\",\"startlinecolor\":\"#2a3f5f\"},\"baxis\":{\"endlinecolor\":\"#2a3f5f\",\"gridcolor\":\"white\",\"linecolor\":\"white\",\"minorgridcolor\":\"white\",\"startlinecolor\":\"#2a3f5f\"},\"type\":\"carpet\"}],\"table\":[{\"cells\":{\"fill\":{\"color\":\"#EBF0F8\"},\"line\":{\"color\":\"white\"}},\"header\":{\"fill\":{\"color\":\"#C8D4E3\"},\"line\":{\"color\":\"white\"}},\"type\":\"table\"}],\"barpolar\":[{\"marker\":{\"line\":{\"color\":\"#E5ECF6\",\"width\":0.5},\"pattern\":{\"fillmode\":\"overlay\",\"size\":10,\"solidity\":0.2}},\"type\":\"barpolar\"}],\"pie\":[{\"automargin\":true,\"type\":\"pie\"}]},\"layout\":{\"autotypenumbers\":\"strict\",\"colorway\":[\"#636efa\",\"#EF553B\",\"#00cc96\",\"#ab63fa\",\"#FFA15A\",\"#19d3f3\",\"#FF6692\",\"#B6E880\",\"#FF97FF\",\"#FECB52\"],\"font\":{\"color\":\"#2a3f5f\"},\"hovermode\":\"closest\",\"hoverlabel\":{\"align\":\"left\"},\"paper_bgcolor\":\"white\",\"plot_bgcolor\":\"#E5ECF6\",\"polar\":{\"bgcolor\":\"#E5ECF6\",\"angularaxis\":{\"gridcolor\":\"white\",\"linecolor\":\"white\",\"ticks\":\"\"},\"radialaxis\":{\"gridcolor\":\"white\",\"linecolor\":\"white\",\"ticks\":\"\"}},\"ternary\":{\"bgcolor\":\"#E5ECF6\",\"aaxis\":{\"gridcolor\":\"white\",\"linecolor\":\"white\",\"ticks\":\"\"},\"baxis\":{\"gridcolor\":\"white\",\"linecolor\":\"white\",\"ticks\":\"\"},\"caxis\":{\"gridcolor\":\"white\",\"linecolor\":\"white\",\"ticks\":\"\"}},\"coloraxis\":{\"colorbar\":{\"outlinewidth\":0,\"ticks\":\"\"}},\"colorscale\":{\"sequential\":[[0.0,\"#0d0887\"],[0.1111111111111111,\"#46039f\"],[0.2222222222222222,\"#7201a8\"],[0.3333333333333333,\"#9c179e\"],[0.4444444444444444,\"#bd3786\"],[0.5555555555555556,\"#d8576b\"],[0.6666666666666666,\"#ed7953\"],[0.7777777777777778,\"#fb9f3a\"],[0.8888888888888888,\"#fdca26\"],[1.0,\"#f0f921\"]],\"sequentialminus\":[[0.0,\"#0d0887\"],[0.1111111111111111,\"#46039f\"],[0.2222222222222222,\"#7201a8\"],[0.3333333333333333,\"#9c179e\"],[0.4444444444444444,\"#bd3786\"],[0.5555555555555556,\"#d8576b\"],[0.6666666666666666,\"#ed7953\"],[0.7777777777777778,\"#fb9f3a\"],[0.8888888888888888,\"#fdca26\"],[1.0,\"#f0f921\"]],\"diverging\":[[0,\"#8e0152\"],[0.1,\"#c51b7d\"],[0.2,\"#de77ae\"],[0.3,\"#f1b6da\"],[0.4,\"#fde0ef\"],[0.5,\"#f7f7f7\"],[0.6,\"#e6f5d0\"],[0.7,\"#b8e186\"],[0.8,\"#7fbc41\"],[0.9,\"#4d9221\"],[1,\"#276419\"]]},\"xaxis\":{\"gridcolor\":\"white\",\"linecolor\":\"white\",\"ticks\":\"\",\"title\":{\"standoff\":15},\"zerolinecolor\":\"white\",\"automargin\":true,\"zerolinewidth\":2},\"yaxis\":{\"gridcolor\":\"white\",\"linecolor\":\"white\",\"ticks\":\"\",\"title\":{\"standoff\":15},\"zerolinecolor\":\"white\",\"automargin\":true,\"zerolinewidth\":2},\"scene\":{\"xaxis\":{\"backgroundcolor\":\"#E5ECF6\",\"gridcolor\":\"white\",\"linecolor\":\"white\",\"showbackground\":true,\"ticks\":\"\",\"zerolinecolor\":\"white\",\"gridwidth\":2},\"yaxis\":{\"backgroundcolor\":\"#E5ECF6\",\"gridcolor\":\"white\",\"linecolor\":\"white\",\"showbackground\":true,\"ticks\":\"\",\"zerolinecolor\":\"white\",\"gridwidth\":2},\"zaxis\":{\"backgroundcolor\":\"#E5ECF6\",\"gridcolor\":\"white\",\"linecolor\":\"white\",\"showbackground\":true,\"ticks\":\"\",\"zerolinecolor\":\"white\",\"gridwidth\":2}},\"shapedefaults\":{\"line\":{\"color\":\"#2a3f5f\"}},\"annotationdefaults\":{\"arrowcolor\":\"#2a3f5f\",\"arrowhead\":0,\"arrowwidth\":1},\"geo\":{\"bgcolor\":\"white\",\"landcolor\":\"#E5ECF6\",\"subunitcolor\":\"white\",\"showland\":true,\"showlakes\":true,\"lakecolor\":\"white\"},\"title\":{\"x\":0.05},\"mapbox\":{\"style\":\"light\"}}},\"xaxis\":{\"anchor\":\"y\",\"domain\":[0.0,1.0],\"title\":{\"text\":\"totalDamageDealtToChampions\"}},\"yaxis\":{\"anchor\":\"x\",\"domain\":[0.0,1.0],\"title\":{\"text\":\"totalDamageTaken\"}},\"legend\":{\"title\":{\"text\":\"championName\"},\"tracegroupgap\":0},\"margin\":{\"t\":60}},                        {\"responsive\": true}                    ).then(function(){\n",
       "                            \n",
       "var gd = document.getElementById('4f707704-6e5d-40e1-8b52-4ddc0cfc3d81');\n",
       "var x = new MutationObserver(function (mutations, observer) {{\n",
       "        var display = window.getComputedStyle(gd).display;\n",
       "        if (!display || display === 'none') {{\n",
       "            console.log([gd, 'removed!']);\n",
       "            Plotly.purge(gd);\n",
       "            observer.disconnect();\n",
       "        }}\n",
       "}});\n",
       "\n",
       "// Listen for the removal of the full notebook cells\n",
       "var notebookContainer = gd.closest('#notebook-container');\n",
       "if (notebookContainer) {{\n",
       "    x.observe(notebookContainer, {childList: true});\n",
       "}}\n",
       "\n",
       "// Listen for the clearing of the current output cell\n",
       "var outputEl = gd.closest('.output');\n",
       "if (outputEl) {{\n",
       "    x.observe(outputEl, {childList: true});\n",
       "}}\n",
       "\n",
       "                        })                };                });            </script>        </div>"
      ]
     },
     "metadata": {},
     "output_type": "display_data"
    }
   ],
   "source": [
    "fig = px.scatter(tmp_lol,\n",
    "                 x = 'totalDamageDealtToChampions',\n",
    "                 y = 'totalDamageTaken',\n",
    "                color = 'championName')\n",
    "fig.show()"
   ]
  },
  {
   "cell_type": "markdown",
   "id": "ac4d2a2c",
   "metadata": {},
   "source": [
    "# 챔피언 시너지 또는 2:2구도 분석"
   ]
  },
  {
   "cell_type": "markdown",
   "id": "2f184e43",
   "metadata": {},
   "source": [
    "- blue팀 정글포지션인 사람들만 꺼내서 [GAMEID,CHAMPIONNAME,WIN].RENAME(CHAMPIONID -> j_champ) (테이블 이름 - blue_jungle)\n",
    "- blue팀 탑포지션인 사람들만 꺼내서 [GAMEID,CHAMPIONNAME,WIN].RENAME(CHAMPIONID -> t_champ) (테이블 이름 - blue_top)\n",
    "- blue팀끼리 merge \n",
    "\n",
    "- red 동일하게 정글, 탑 뽑아내서 merge\n",
    "\n",
    "\n",
    "- blue팀과 red팀의 데이터를 merge하기 위해서 enemy_blue / enemy_red 라는 데이터프레임 제작 \n",
    "- 이후 championName들을 rename을 통해 각각 enemy_j_champ_cham enemy_t_champ으로 변환\n",
    "\n",
    "\n",
    "- blue팀입장에서 red팀의 데이터 merge\n",
    "- red 팀 입장에서 blue팀 데이터 merge\n",
    "\n",
    "- 위에서 만들어진 merge테이블을 concat을 이용해서 하나의 데이터 테이블로 만들기\n",
    "- games와 win의 횟수를 구하고 win_rate(승률) 컬럼을 추가한 result 테이블 "
   ]
  },
  {
   "cell_type": "code",
   "execution_count": 291,
   "id": "900bad8c",
   "metadata": {},
   "outputs": [
    {
     "data": {
      "text/plain": [
       "Index(['gameId', 'gameDuration', 'gameVersion', 'summonerName',\n",
       "       'summonerLevel', 'participantId', 'championName', 'champExperience',\n",
       "       'teamPosition', 'teamId', 'win', 'kills', 'deaths', 'assists',\n",
       "       'totalDamageDealtToChampions', 'totalDamageTaken', 'g_5', 'g_6', 'g_7',\n",
       "       'g_8', 'g_9', 'g_10', 'g_11', 'g_12', 'g_13', 'g_14', 'g_15', 'g_16',\n",
       "       'g_17', 'g_18', 'g_19', 'g_20', 'g_21', 'g_22', 'g_23', 'g_24', 'g_25'],\n",
       "      dtype='object')"
      ]
     },
     "execution_count": 291,
     "metadata": {},
     "output_type": "execute_result"
    }
   ],
   "source": [
    "lol_df.columns"
   ]
  },
  {
   "cell_type": "code",
   "execution_count": 319,
   "id": "71725eed",
   "metadata": {
    "scrolled": true
   },
   "outputs": [
    {
     "data": {
      "text/html": [
       "<div>\n",
       "<style scoped>\n",
       "    .dataframe tbody tr th:only-of-type {\n",
       "        vertical-align: middle;\n",
       "    }\n",
       "\n",
       "    .dataframe tbody tr th {\n",
       "        vertical-align: top;\n",
       "    }\n",
       "\n",
       "    .dataframe thead th {\n",
       "        text-align: right;\n",
       "    }\n",
       "</style>\n",
       "<table border=\"1\" class=\"dataframe\">\n",
       "  <thead>\n",
       "    <tr style=\"text-align: right;\">\n",
       "      <th></th>\n",
       "      <th>gameId</th>\n",
       "      <th>gameDuration</th>\n",
       "      <th>gameVersion</th>\n",
       "      <th>summonerName</th>\n",
       "      <th>summonerLevel</th>\n",
       "      <th>participantId</th>\n",
       "      <th>championName</th>\n",
       "      <th>champExperience</th>\n",
       "      <th>teamPosition</th>\n",
       "      <th>teamId</th>\n",
       "      <th>...</th>\n",
       "      <th>g_16</th>\n",
       "      <th>g_17</th>\n",
       "      <th>g_18</th>\n",
       "      <th>g_19</th>\n",
       "      <th>g_20</th>\n",
       "      <th>g_21</th>\n",
       "      <th>g_22</th>\n",
       "      <th>g_23</th>\n",
       "      <th>g_24</th>\n",
       "      <th>g_25</th>\n",
       "    </tr>\n",
       "  </thead>\n",
       "  <tbody>\n",
       "    <tr>\n",
       "      <th>1</th>\n",
       "      <td>KR_6622380599</td>\n",
       "      <td>1104</td>\n",
       "      <td>13.14.522.7601</td>\n",
       "      <td>제이를 좋아해요</td>\n",
       "      <td>93</td>\n",
       "      <td>2</td>\n",
       "      <td>Viego</td>\n",
       "      <td>8808</td>\n",
       "      <td>JUNGLE</td>\n",
       "      <td>100</td>\n",
       "      <td>...</td>\n",
       "      <td>7449</td>\n",
       "      <td>8106</td>\n",
       "      <td>9034</td>\n",
       "      <td>9252</td>\n",
       "      <td>0</td>\n",
       "      <td>0</td>\n",
       "      <td>0</td>\n",
       "      <td>0</td>\n",
       "      <td>0</td>\n",
       "      <td>0</td>\n",
       "    </tr>\n",
       "    <tr>\n",
       "      <th>11</th>\n",
       "      <td>KR_6624359428</td>\n",
       "      <td>1742</td>\n",
       "      <td>13.14.522.7601</td>\n",
       "      <td>우 울</td>\n",
       "      <td>49</td>\n",
       "      <td>2</td>\n",
       "      <td>LeeSin</td>\n",
       "      <td>14304</td>\n",
       "      <td>JUNGLE</td>\n",
       "      <td>100</td>\n",
       "      <td>...</td>\n",
       "      <td>7049</td>\n",
       "      <td>7342</td>\n",
       "      <td>7552</td>\n",
       "      <td>7680</td>\n",
       "      <td>8061</td>\n",
       "      <td>9334</td>\n",
       "      <td>9675</td>\n",
       "      <td>9912</td>\n",
       "      <td>10702</td>\n",
       "      <td>10845</td>\n",
       "    </tr>\n",
       "    <tr>\n",
       "      <th>21</th>\n",
       "      <td>KR_6624429645</td>\n",
       "      <td>1770</td>\n",
       "      <td>13.14.522.7601</td>\n",
       "      <td>M1anhua</td>\n",
       "      <td>158</td>\n",
       "      <td>2</td>\n",
       "      <td>JarvanIV</td>\n",
       "      <td>11254</td>\n",
       "      <td>JUNGLE</td>\n",
       "      <td>100</td>\n",
       "      <td>...</td>\n",
       "      <td>5608</td>\n",
       "      <td>5988</td>\n",
       "      <td>6576</td>\n",
       "      <td>7080</td>\n",
       "      <td>7222</td>\n",
       "      <td>7514</td>\n",
       "      <td>7731</td>\n",
       "      <td>7889</td>\n",
       "      <td>8363</td>\n",
       "      <td>8667</td>\n",
       "    </tr>\n",
       "    <tr>\n",
       "      <th>31</th>\n",
       "      <td>KR_6630380523</td>\n",
       "      <td>1164</td>\n",
       "      <td>13.15.523.2423</td>\n",
       "      <td>짜히 견</td>\n",
       "      <td>74</td>\n",
       "      <td>2</td>\n",
       "      <td>Nidalee</td>\n",
       "      <td>8649</td>\n",
       "      <td>JUNGLE</td>\n",
       "      <td>100</td>\n",
       "      <td>...</td>\n",
       "      <td>7015</td>\n",
       "      <td>7532</td>\n",
       "      <td>7939</td>\n",
       "      <td>8161</td>\n",
       "      <td>8338</td>\n",
       "      <td>0</td>\n",
       "      <td>0</td>\n",
       "      <td>0</td>\n",
       "      <td>0</td>\n",
       "      <td>0</td>\n",
       "    </tr>\n",
       "    <tr>\n",
       "      <th>41</th>\n",
       "      <td>KR_6630417447</td>\n",
       "      <td>1623</td>\n",
       "      <td>13.15.523.2423</td>\n",
       "      <td>버츄얼 아이코</td>\n",
       "      <td>340</td>\n",
       "      <td>2</td>\n",
       "      <td>JarvanIV</td>\n",
       "      <td>12158</td>\n",
       "      <td>JUNGLE</td>\n",
       "      <td>100</td>\n",
       "      <td>...</td>\n",
       "      <td>6275</td>\n",
       "      <td>6626</td>\n",
       "      <td>7156</td>\n",
       "      <td>7890</td>\n",
       "      <td>8240</td>\n",
       "      <td>8553</td>\n",
       "      <td>8799</td>\n",
       "      <td>9221</td>\n",
       "      <td>9842</td>\n",
       "      <td>10075</td>\n",
       "    </tr>\n",
       "    <tr>\n",
       "      <th>...</th>\n",
       "      <td>...</td>\n",
       "      <td>...</td>\n",
       "      <td>...</td>\n",
       "      <td>...</td>\n",
       "      <td>...</td>\n",
       "      <td>...</td>\n",
       "      <td>...</td>\n",
       "      <td>...</td>\n",
       "      <td>...</td>\n",
       "      <td>...</td>\n",
       "      <td>...</td>\n",
       "      <td>...</td>\n",
       "      <td>...</td>\n",
       "      <td>...</td>\n",
       "      <td>...</td>\n",
       "      <td>...</td>\n",
       "      <td>...</td>\n",
       "      <td>...</td>\n",
       "      <td>...</td>\n",
       "      <td>...</td>\n",
       "      <td>...</td>\n",
       "    </tr>\n",
       "    <tr>\n",
       "      <th>36831</th>\n",
       "      <td>KR_6871449527</td>\n",
       "      <td>1344</td>\n",
       "      <td>13.24.547.9214</td>\n",
       "      <td>전역하면25살</td>\n",
       "      <td>113</td>\n",
       "      <td>2</td>\n",
       "      <td>LeeSin</td>\n",
       "      <td>12534</td>\n",
       "      <td>JUNGLE</td>\n",
       "      <td>100</td>\n",
       "      <td>...</td>\n",
       "      <td>8912</td>\n",
       "      <td>9444</td>\n",
       "      <td>9714</td>\n",
       "      <td>10330</td>\n",
       "      <td>11166</td>\n",
       "      <td>11743</td>\n",
       "      <td>12588</td>\n",
       "      <td>12894</td>\n",
       "      <td>0</td>\n",
       "      <td>0</td>\n",
       "    </tr>\n",
       "    <tr>\n",
       "      <th>36841</th>\n",
       "      <td>KR_6871456917</td>\n",
       "      <td>1434</td>\n",
       "      <td>13.24.547.9214</td>\n",
       "      <td>간절하면닷지해</td>\n",
       "      <td>126</td>\n",
       "      <td>2</td>\n",
       "      <td>Maokai</td>\n",
       "      <td>9121</td>\n",
       "      <td>JUNGLE</td>\n",
       "      <td>100</td>\n",
       "      <td>...</td>\n",
       "      <td>4878</td>\n",
       "      <td>5297</td>\n",
       "      <td>5881</td>\n",
       "      <td>6232</td>\n",
       "      <td>6549</td>\n",
       "      <td>6671</td>\n",
       "      <td>6851</td>\n",
       "      <td>7360</td>\n",
       "      <td>7791</td>\n",
       "      <td>0</td>\n",
       "    </tr>\n",
       "    <tr>\n",
       "      <th>36851</th>\n",
       "      <td>KR_6871460455</td>\n",
       "      <td>1803</td>\n",
       "      <td>13.24.547.9214</td>\n",
       "      <td>서공삼</td>\n",
       "      <td>160</td>\n",
       "      <td>2</td>\n",
       "      <td>LeeSin</td>\n",
       "      <td>14288</td>\n",
       "      <td>JUNGLE</td>\n",
       "      <td>100</td>\n",
       "      <td>...</td>\n",
       "      <td>6072</td>\n",
       "      <td>6598</td>\n",
       "      <td>7035</td>\n",
       "      <td>7162</td>\n",
       "      <td>7588</td>\n",
       "      <td>7979</td>\n",
       "      <td>8151</td>\n",
       "      <td>8577</td>\n",
       "      <td>9538</td>\n",
       "      <td>9814</td>\n",
       "    </tr>\n",
       "    <tr>\n",
       "      <th>36885</th>\n",
       "      <td>KR_6871482544</td>\n",
       "      <td>1509</td>\n",
       "      <td>13.24.547.9214</td>\n",
       "      <td>Sionen</td>\n",
       "      <td>774</td>\n",
       "      <td>2</td>\n",
       "      <td>Graves</td>\n",
       "      <td>10550</td>\n",
       "      <td>JUNGLE</td>\n",
       "      <td>100</td>\n",
       "      <td>...</td>\n",
       "      <td>4966</td>\n",
       "      <td>5416</td>\n",
       "      <td>5647</td>\n",
       "      <td>5995</td>\n",
       "      <td>6287</td>\n",
       "      <td>6858</td>\n",
       "      <td>7147</td>\n",
       "      <td>7721</td>\n",
       "      <td>7843</td>\n",
       "      <td>8616</td>\n",
       "    </tr>\n",
       "    <tr>\n",
       "      <th>36895</th>\n",
       "      <td>KR_6871485807</td>\n",
       "      <td>1536</td>\n",
       "      <td>13.24.547.9214</td>\n",
       "      <td>간절하면닷지해</td>\n",
       "      <td>126</td>\n",
       "      <td>2</td>\n",
       "      <td>MonkeyKing</td>\n",
       "      <td>9926</td>\n",
       "      <td>JUNGLE</td>\n",
       "      <td>100</td>\n",
       "      <td>...</td>\n",
       "      <td>6006</td>\n",
       "      <td>6489</td>\n",
       "      <td>7258</td>\n",
       "      <td>7608</td>\n",
       "      <td>7731</td>\n",
       "      <td>8443</td>\n",
       "      <td>8870</td>\n",
       "      <td>9018</td>\n",
       "      <td>9303</td>\n",
       "      <td>9450</td>\n",
       "    </tr>\n",
       "  </tbody>\n",
       "</table>\n",
       "<p>3372 rows × 37 columns</p>\n",
       "</div>"
      ],
      "text/plain": [
       "              gameId  gameDuration     gameVersion summonerName  \\\n",
       "1      KR_6622380599          1104  13.14.522.7601     제이를 좋아해요   \n",
       "11     KR_6624359428          1742  13.14.522.7601          우 울   \n",
       "21     KR_6624429645          1770  13.14.522.7601      M1anhua   \n",
       "31     KR_6630380523          1164  13.15.523.2423         짜히 견   \n",
       "41     KR_6630417447          1623  13.15.523.2423      버츄얼 아이코   \n",
       "...              ...           ...             ...          ...   \n",
       "36831  KR_6871449527          1344  13.24.547.9214      전역하면25살   \n",
       "36841  KR_6871456917          1434  13.24.547.9214      간절하면닷지해   \n",
       "36851  KR_6871460455          1803  13.24.547.9214          서공삼   \n",
       "36885  KR_6871482544          1509  13.24.547.9214       Sionen   \n",
       "36895  KR_6871485807          1536  13.24.547.9214      간절하면닷지해   \n",
       "\n",
       "       summonerLevel  participantId championName  champExperience  \\\n",
       "1                 93              2        Viego             8808   \n",
       "11                49              2       LeeSin            14304   \n",
       "21               158              2     JarvanIV            11254   \n",
       "31                74              2      Nidalee             8649   \n",
       "41               340              2     JarvanIV            12158   \n",
       "...              ...            ...          ...              ...   \n",
       "36831            113              2       LeeSin            12534   \n",
       "36841            126              2       Maokai             9121   \n",
       "36851            160              2       LeeSin            14288   \n",
       "36885            774              2       Graves            10550   \n",
       "36895            126              2   MonkeyKing             9926   \n",
       "\n",
       "      teamPosition  teamId  ...  g_16  g_17  g_18   g_19   g_20   g_21   g_22  \\\n",
       "1           JUNGLE     100  ...  7449  8106  9034   9252      0      0      0   \n",
       "11          JUNGLE     100  ...  7049  7342  7552   7680   8061   9334   9675   \n",
       "21          JUNGLE     100  ...  5608  5988  6576   7080   7222   7514   7731   \n",
       "31          JUNGLE     100  ...  7015  7532  7939   8161   8338      0      0   \n",
       "41          JUNGLE     100  ...  6275  6626  7156   7890   8240   8553   8799   \n",
       "...            ...     ...  ...   ...   ...   ...    ...    ...    ...    ...   \n",
       "36831       JUNGLE     100  ...  8912  9444  9714  10330  11166  11743  12588   \n",
       "36841       JUNGLE     100  ...  4878  5297  5881   6232   6549   6671   6851   \n",
       "36851       JUNGLE     100  ...  6072  6598  7035   7162   7588   7979   8151   \n",
       "36885       JUNGLE     100  ...  4966  5416  5647   5995   6287   6858   7147   \n",
       "36895       JUNGLE     100  ...  6006  6489  7258   7608   7731   8443   8870   \n",
       "\n",
       "        g_23   g_24   g_25  \n",
       "1          0      0      0  \n",
       "11      9912  10702  10845  \n",
       "21      7889   8363   8667  \n",
       "31         0      0      0  \n",
       "41      9221   9842  10075  \n",
       "...      ...    ...    ...  \n",
       "36831  12894      0      0  \n",
       "36841   7360   7791      0  \n",
       "36851   8577   9538   9814  \n",
       "36885   7721   7843   8616  \n",
       "36895   9018   9303   9450  \n",
       "\n",
       "[3372 rows x 37 columns]"
      ]
     },
     "execution_count": 319,
     "metadata": {},
     "output_type": "execute_result"
    }
   ],
   "source": [
    "blue_df"
   ]
  },
  {
   "cell_type": "code",
   "execution_count": 439,
   "id": "ae8860a5",
   "metadata": {},
   "outputs": [],
   "source": [
    "blue_df = lol_df[lol_df.teamId == 100]"
   ]
  },
  {
   "cell_type": "code",
   "execution_count": 440,
   "id": "5294c584",
   "metadata": {},
   "outputs": [],
   "source": [
    "blue_jg = blue_df[blue_df.teamPosition == 'JUNGLE']"
   ]
  },
  {
   "cell_type": "code",
   "execution_count": 441,
   "id": "b9c62480",
   "metadata": {},
   "outputs": [],
   "source": [
    "blue_jg = blue_jg[['gameId', 'championName', 'win']]"
   ]
  },
  {
   "cell_type": "code",
   "execution_count": 442,
   "id": "1df558f2",
   "metadata": {},
   "outputs": [],
   "source": [
    "blue_jg.columns = ('gameId', 'j_champ', 'win')"
   ]
  },
  {
   "cell_type": "code",
   "execution_count": 443,
   "id": "ed4c3e25",
   "metadata": {},
   "outputs": [],
   "source": [
    "blue_top = blue_df[blue_df.teamPosition == 'TOP']"
   ]
  },
  {
   "cell_type": "code",
   "execution_count": 444,
   "id": "604a402d",
   "metadata": {},
   "outputs": [],
   "source": [
    "blue_top = blue_top[['gameId', 'championName']]"
   ]
  },
  {
   "cell_type": "code",
   "execution_count": 445,
   "id": "ce501721",
   "metadata": {},
   "outputs": [],
   "source": [
    "blue_top.columns = ('gameId', 't_champ')"
   ]
  },
  {
   "cell_type": "code",
   "execution_count": 446,
   "id": "d6773a99",
   "metadata": {},
   "outputs": [],
   "source": [
    "blue_merge = blue_top.merge(blue_jg, on = 'gameId')"
   ]
  },
  {
   "cell_type": "code",
   "execution_count": 361,
   "id": "1a646d8f",
   "metadata": {},
   "outputs": [
    {
     "data": {
      "text/html": [
       "<div>\n",
       "<style scoped>\n",
       "    .dataframe tbody tr th:only-of-type {\n",
       "        vertical-align: middle;\n",
       "    }\n",
       "\n",
       "    .dataframe tbody tr th {\n",
       "        vertical-align: top;\n",
       "    }\n",
       "\n",
       "    .dataframe thead th {\n",
       "        text-align: right;\n",
       "    }\n",
       "</style>\n",
       "<table border=\"1\" class=\"dataframe\">\n",
       "  <thead>\n",
       "    <tr style=\"text-align: right;\">\n",
       "      <th></th>\n",
       "      <th>gameId</th>\n",
       "      <th>t_champ</th>\n",
       "      <th>j_champ</th>\n",
       "      <th>win</th>\n",
       "    </tr>\n",
       "  </thead>\n",
       "  <tbody>\n",
       "    <tr>\n",
       "      <th>0</th>\n",
       "      <td>KR_6622380599</td>\n",
       "      <td>Poppy</td>\n",
       "      <td>Viego</td>\n",
       "      <td>True</td>\n",
       "    </tr>\n",
       "    <tr>\n",
       "      <th>1</th>\n",
       "      <td>KR_6624359428</td>\n",
       "      <td>Aatrox</td>\n",
       "      <td>LeeSin</td>\n",
       "      <td>True</td>\n",
       "    </tr>\n",
       "    <tr>\n",
       "      <th>2</th>\n",
       "      <td>KR_6624429645</td>\n",
       "      <td>Yone</td>\n",
       "      <td>JarvanIV</td>\n",
       "      <td>False</td>\n",
       "    </tr>\n",
       "    <tr>\n",
       "      <th>3</th>\n",
       "      <td>KR_6630380523</td>\n",
       "      <td>Riven</td>\n",
       "      <td>Nidalee</td>\n",
       "      <td>True</td>\n",
       "    </tr>\n",
       "    <tr>\n",
       "      <th>4</th>\n",
       "      <td>KR_6630417447</td>\n",
       "      <td>Gwen</td>\n",
       "      <td>JarvanIV</td>\n",
       "      <td>True</td>\n",
       "    </tr>\n",
       "    <tr>\n",
       "      <th>...</th>\n",
       "      <td>...</td>\n",
       "      <td>...</td>\n",
       "      <td>...</td>\n",
       "      <td>...</td>\n",
       "    </tr>\n",
       "    <tr>\n",
       "      <th>3367</th>\n",
       "      <td>KR_6871449527</td>\n",
       "      <td>Shen</td>\n",
       "      <td>LeeSin</td>\n",
       "      <td>True</td>\n",
       "    </tr>\n",
       "    <tr>\n",
       "      <th>3368</th>\n",
       "      <td>KR_6871456917</td>\n",
       "      <td>Jax</td>\n",
       "      <td>Maokai</td>\n",
       "      <td>False</td>\n",
       "    </tr>\n",
       "    <tr>\n",
       "      <th>3369</th>\n",
       "      <td>KR_6871460455</td>\n",
       "      <td>Udyr</td>\n",
       "      <td>LeeSin</td>\n",
       "      <td>False</td>\n",
       "    </tr>\n",
       "    <tr>\n",
       "      <th>3370</th>\n",
       "      <td>KR_6871482544</td>\n",
       "      <td>Rengar</td>\n",
       "      <td>Graves</td>\n",
       "      <td>False</td>\n",
       "    </tr>\n",
       "    <tr>\n",
       "      <th>3371</th>\n",
       "      <td>KR_6871485807</td>\n",
       "      <td>Quinn</td>\n",
       "      <td>MonkeyKing</td>\n",
       "      <td>False</td>\n",
       "    </tr>\n",
       "  </tbody>\n",
       "</table>\n",
       "<p>3372 rows × 4 columns</p>\n",
       "</div>"
      ],
      "text/plain": [
       "             gameId t_champ     j_champ    win\n",
       "0     KR_6622380599   Poppy       Viego   True\n",
       "1     KR_6624359428  Aatrox      LeeSin   True\n",
       "2     KR_6624429645    Yone    JarvanIV  False\n",
       "3     KR_6630380523   Riven     Nidalee   True\n",
       "4     KR_6630417447    Gwen    JarvanIV   True\n",
       "...             ...     ...         ...    ...\n",
       "3367  KR_6871449527    Shen      LeeSin   True\n",
       "3368  KR_6871456917     Jax      Maokai  False\n",
       "3369  KR_6871460455    Udyr      LeeSin  False\n",
       "3370  KR_6871482544  Rengar      Graves  False\n",
       "3371  KR_6871485807   Quinn  MonkeyKing  False\n",
       "\n",
       "[3372 rows x 4 columns]"
      ]
     },
     "execution_count": 361,
     "metadata": {},
     "output_type": "execute_result"
    }
   ],
   "source": [
    "blue_merge"
   ]
  },
  {
   "cell_type": "code",
   "execution_count": 429,
   "id": "a1f6b639",
   "metadata": {},
   "outputs": [],
   "source": [
    "red_df = lol_df[lol_df.teamId == 200]"
   ]
  },
  {
   "cell_type": "code",
   "execution_count": 430,
   "id": "f763efd9",
   "metadata": {},
   "outputs": [],
   "source": [
    "red_jg = red_df[red_df.teamPosition == 'JUNGLE']"
   ]
  },
  {
   "cell_type": "code",
   "execution_count": 431,
   "id": "e4cdbf4a",
   "metadata": {},
   "outputs": [],
   "source": [
    "red_jg = red_jg[['gameId', 'championName', 'win']]"
   ]
  },
  {
   "cell_type": "code",
   "execution_count": 432,
   "id": "ce86af5c",
   "metadata": {},
   "outputs": [],
   "source": [
    "red_jg.columns = ('gameId', 'enemy_j_champ', 'win')"
   ]
  },
  {
   "cell_type": "code",
   "execution_count": 433,
   "id": "3c51e5cb",
   "metadata": {},
   "outputs": [],
   "source": [
    "red_top = red_df[red_df.teamPosition == 'TOP']"
   ]
  },
  {
   "cell_type": "code",
   "execution_count": 434,
   "id": "58a64237",
   "metadata": {},
   "outputs": [],
   "source": [
    "red_top = red_top[['gameId', 'championName']]"
   ]
  },
  {
   "cell_type": "code",
   "execution_count": 435,
   "id": "d41f50d5",
   "metadata": {},
   "outputs": [],
   "source": [
    "red_top.columns = ('gameId', 'enemy_t_champ')"
   ]
  },
  {
   "cell_type": "code",
   "execution_count": 436,
   "id": "65be0c3e",
   "metadata": {},
   "outputs": [],
   "source": [
    "red_merge = red_top.merge(red_jg, on = 'gameId')"
   ]
  },
  {
   "cell_type": "code",
   "execution_count": 437,
   "id": "21257ba6",
   "metadata": {},
   "outputs": [],
   "source": [
    "red_merge.drop('win', axis = 1, inplace=True)"
   ]
  },
  {
   "cell_type": "code",
   "execution_count": 438,
   "id": "54ddc156",
   "metadata": {},
   "outputs": [],
   "source": [
    "blue_lol_merge = blue_merge.merge(red_merge, on = 'gameId')"
   ]
  },
  {
   "cell_type": "code",
   "execution_count": 467,
   "id": "4d3d7e7f",
   "metadata": {},
   "outputs": [],
   "source": [
    "blue_lol_merge.columns = ('gameId', 't_champ', 'j_champ', 'win', 'enemy_t_champ', 'enemy_j_champ')"
   ]
  },
  {
   "cell_type": "code",
   "execution_count": 449,
   "id": "d89ba703",
   "metadata": {},
   "outputs": [
    {
     "data": {
      "text/html": [
       "<div>\n",
       "<style scoped>\n",
       "    .dataframe tbody tr th:only-of-type {\n",
       "        vertical-align: middle;\n",
       "    }\n",
       "\n",
       "    .dataframe tbody tr th {\n",
       "        vertical-align: top;\n",
       "    }\n",
       "\n",
       "    .dataframe thead th {\n",
       "        text-align: right;\n",
       "    }\n",
       "</style>\n",
       "<table border=\"1\" class=\"dataframe\">\n",
       "  <thead>\n",
       "    <tr style=\"text-align: right;\">\n",
       "      <th></th>\n",
       "      <th>gameId</th>\n",
       "      <th>t_champ</th>\n",
       "      <th>j_champ</th>\n",
       "      <th>win</th>\n",
       "      <th>enemy_t_champ</th>\n",
       "      <th>enemy_j_champ_y</th>\n",
       "    </tr>\n",
       "  </thead>\n",
       "  <tbody>\n",
       "    <tr>\n",
       "      <th>0</th>\n",
       "      <td>KR_6622380599</td>\n",
       "      <td>Poppy</td>\n",
       "      <td>Viego</td>\n",
       "      <td>True</td>\n",
       "      <td>Aatrox</td>\n",
       "      <td>LeeSin</td>\n",
       "    </tr>\n",
       "    <tr>\n",
       "      <th>1</th>\n",
       "      <td>KR_6624359428</td>\n",
       "      <td>Aatrox</td>\n",
       "      <td>LeeSin</td>\n",
       "      <td>True</td>\n",
       "      <td>Fiora</td>\n",
       "      <td>Khazix</td>\n",
       "    </tr>\n",
       "    <tr>\n",
       "      <th>2</th>\n",
       "      <td>KR_6624429645</td>\n",
       "      <td>Yone</td>\n",
       "      <td>JarvanIV</td>\n",
       "      <td>False</td>\n",
       "      <td>Gnar</td>\n",
       "      <td>Elise</td>\n",
       "    </tr>\n",
       "    <tr>\n",
       "      <th>3</th>\n",
       "      <td>KR_6630380523</td>\n",
       "      <td>Riven</td>\n",
       "      <td>Nidalee</td>\n",
       "      <td>True</td>\n",
       "      <td>Irelia</td>\n",
       "      <td>Belveth</td>\n",
       "    </tr>\n",
       "    <tr>\n",
       "      <th>4</th>\n",
       "      <td>KR_6630417447</td>\n",
       "      <td>Gwen</td>\n",
       "      <td>JarvanIV</td>\n",
       "      <td>True</td>\n",
       "      <td>Aatrox</td>\n",
       "      <td>Sylas</td>\n",
       "    </tr>\n",
       "    <tr>\n",
       "      <th>...</th>\n",
       "      <td>...</td>\n",
       "      <td>...</td>\n",
       "      <td>...</td>\n",
       "      <td>...</td>\n",
       "      <td>...</td>\n",
       "      <td>...</td>\n",
       "    </tr>\n",
       "    <tr>\n",
       "      <th>3367</th>\n",
       "      <td>KR_6871449527</td>\n",
       "      <td>Shen</td>\n",
       "      <td>LeeSin</td>\n",
       "      <td>True</td>\n",
       "      <td>Jayce</td>\n",
       "      <td>Graves</td>\n",
       "    </tr>\n",
       "    <tr>\n",
       "      <th>3368</th>\n",
       "      <td>KR_6871456917</td>\n",
       "      <td>Jax</td>\n",
       "      <td>Maokai</td>\n",
       "      <td>False</td>\n",
       "      <td>Quinn</td>\n",
       "      <td>Talon</td>\n",
       "    </tr>\n",
       "    <tr>\n",
       "      <th>3369</th>\n",
       "      <td>KR_6871460455</td>\n",
       "      <td>Udyr</td>\n",
       "      <td>LeeSin</td>\n",
       "      <td>False</td>\n",
       "      <td>Rengar</td>\n",
       "      <td>Graves</td>\n",
       "    </tr>\n",
       "    <tr>\n",
       "      <th>3370</th>\n",
       "      <td>KR_6871482544</td>\n",
       "      <td>Rengar</td>\n",
       "      <td>Graves</td>\n",
       "      <td>False</td>\n",
       "      <td>TahmKench</td>\n",
       "      <td>Viego</td>\n",
       "    </tr>\n",
       "    <tr>\n",
       "      <th>3371</th>\n",
       "      <td>KR_6871485807</td>\n",
       "      <td>Quinn</td>\n",
       "      <td>MonkeyKing</td>\n",
       "      <td>False</td>\n",
       "      <td>Ornn</td>\n",
       "      <td>Graves</td>\n",
       "    </tr>\n",
       "  </tbody>\n",
       "</table>\n",
       "<p>3372 rows × 6 columns</p>\n",
       "</div>"
      ],
      "text/plain": [
       "             gameId t_champ     j_champ    win enemy_t_champ enemy_j_champ_y\n",
       "0     KR_6622380599   Poppy       Viego   True        Aatrox          LeeSin\n",
       "1     KR_6624359428  Aatrox      LeeSin   True         Fiora          Khazix\n",
       "2     KR_6624429645    Yone    JarvanIV  False          Gnar           Elise\n",
       "3     KR_6630380523   Riven     Nidalee   True        Irelia         Belveth\n",
       "4     KR_6630417447    Gwen    JarvanIV   True        Aatrox           Sylas\n",
       "...             ...     ...         ...    ...           ...             ...\n",
       "3367  KR_6871449527    Shen      LeeSin   True         Jayce          Graves\n",
       "3368  KR_6871456917     Jax      Maokai  False         Quinn           Talon\n",
       "3369  KR_6871460455    Udyr      LeeSin  False        Rengar          Graves\n",
       "3370  KR_6871482544  Rengar      Graves  False     TahmKench           Viego\n",
       "3371  KR_6871485807   Quinn  MonkeyKing  False          Ornn          Graves\n",
       "\n",
       "[3372 rows x 6 columns]"
      ]
     },
     "execution_count": 449,
     "metadata": {},
     "output_type": "execute_result"
    }
   ],
   "source": [
    "blue_lol_merge"
   ]
  },
  {
   "cell_type": "code",
   "execution_count": 362,
   "id": "cc2990ec",
   "metadata": {},
   "outputs": [],
   "source": [
    "blue_jg2 = blue_jg.columns = ('gameId', 'enemy_j_champ', 'win')"
   ]
  },
  {
   "cell_type": "code",
   "execution_count": 363,
   "id": "a8a8109b",
   "metadata": {},
   "outputs": [],
   "source": [
    "blue_top2 = blue_df[blue_df.teamPosition == 'TOP']"
   ]
  },
  {
   "cell_type": "code",
   "execution_count": 367,
   "id": "e2ffee8e",
   "metadata": {},
   "outputs": [],
   "source": [
    "blue_top2 = blue_top[['gameId', 't_champ']]"
   ]
  },
  {
   "cell_type": "code",
   "execution_count": 370,
   "id": "06b3031c",
   "metadata": {},
   "outputs": [],
   "source": [
    "blue_top2.columns = ('gameId', 'emeny_t_champ')"
   ]
  },
  {
   "cell_type": "code",
   "execution_count": 372,
   "id": "64926b41",
   "metadata": {},
   "outputs": [],
   "source": [
    "blue_merge2 = blue_top.merge(blue_jg, on = 'gameId')"
   ]
  },
  {
   "cell_type": "code",
   "execution_count": 374,
   "id": "4fc03f8d",
   "metadata": {},
   "outputs": [],
   "source": [
    "blue_merge2.drop('win', axis = 1, inplace=True)"
   ]
  },
  {
   "cell_type": "code",
   "execution_count": 375,
   "id": "9bf04a14",
   "metadata": {},
   "outputs": [
    {
     "data": {
      "text/html": [
       "<div>\n",
       "<style scoped>\n",
       "    .dataframe tbody tr th:only-of-type {\n",
       "        vertical-align: middle;\n",
       "    }\n",
       "\n",
       "    .dataframe tbody tr th {\n",
       "        vertical-align: top;\n",
       "    }\n",
       "\n",
       "    .dataframe thead th {\n",
       "        text-align: right;\n",
       "    }\n",
       "</style>\n",
       "<table border=\"1\" class=\"dataframe\">\n",
       "  <thead>\n",
       "    <tr style=\"text-align: right;\">\n",
       "      <th></th>\n",
       "      <th>gameId</th>\n",
       "      <th>emeny_t_champ</th>\n",
       "      <th>enemy_j_champ</th>\n",
       "    </tr>\n",
       "  </thead>\n",
       "  <tbody>\n",
       "    <tr>\n",
       "      <th>0</th>\n",
       "      <td>KR_6622380599</td>\n",
       "      <td>Poppy</td>\n",
       "      <td>Viego</td>\n",
       "    </tr>\n",
       "    <tr>\n",
       "      <th>1</th>\n",
       "      <td>KR_6624359428</td>\n",
       "      <td>Aatrox</td>\n",
       "      <td>LeeSin</td>\n",
       "    </tr>\n",
       "    <tr>\n",
       "      <th>2</th>\n",
       "      <td>KR_6624429645</td>\n",
       "      <td>Yone</td>\n",
       "      <td>JarvanIV</td>\n",
       "    </tr>\n",
       "    <tr>\n",
       "      <th>3</th>\n",
       "      <td>KR_6630380523</td>\n",
       "      <td>Riven</td>\n",
       "      <td>Nidalee</td>\n",
       "    </tr>\n",
       "    <tr>\n",
       "      <th>4</th>\n",
       "      <td>KR_6630417447</td>\n",
       "      <td>Gwen</td>\n",
       "      <td>JarvanIV</td>\n",
       "    </tr>\n",
       "    <tr>\n",
       "      <th>...</th>\n",
       "      <td>...</td>\n",
       "      <td>...</td>\n",
       "      <td>...</td>\n",
       "    </tr>\n",
       "    <tr>\n",
       "      <th>3367</th>\n",
       "      <td>KR_6871449527</td>\n",
       "      <td>Shen</td>\n",
       "      <td>LeeSin</td>\n",
       "    </tr>\n",
       "    <tr>\n",
       "      <th>3368</th>\n",
       "      <td>KR_6871456917</td>\n",
       "      <td>Jax</td>\n",
       "      <td>Maokai</td>\n",
       "    </tr>\n",
       "    <tr>\n",
       "      <th>3369</th>\n",
       "      <td>KR_6871460455</td>\n",
       "      <td>Udyr</td>\n",
       "      <td>LeeSin</td>\n",
       "    </tr>\n",
       "    <tr>\n",
       "      <th>3370</th>\n",
       "      <td>KR_6871482544</td>\n",
       "      <td>Rengar</td>\n",
       "      <td>Graves</td>\n",
       "    </tr>\n",
       "    <tr>\n",
       "      <th>3371</th>\n",
       "      <td>KR_6871485807</td>\n",
       "      <td>Quinn</td>\n",
       "      <td>MonkeyKing</td>\n",
       "    </tr>\n",
       "  </tbody>\n",
       "</table>\n",
       "<p>3372 rows × 3 columns</p>\n",
       "</div>"
      ],
      "text/plain": [
       "             gameId emeny_t_champ enemy_j_champ\n",
       "0     KR_6622380599         Poppy         Viego\n",
       "1     KR_6624359428        Aatrox        LeeSin\n",
       "2     KR_6624429645          Yone      JarvanIV\n",
       "3     KR_6630380523         Riven       Nidalee\n",
       "4     KR_6630417447          Gwen      JarvanIV\n",
       "...             ...           ...           ...\n",
       "3367  KR_6871449527          Shen        LeeSin\n",
       "3368  KR_6871456917           Jax        Maokai\n",
       "3369  KR_6871460455          Udyr        LeeSin\n",
       "3370  KR_6871482544        Rengar        Graves\n",
       "3371  KR_6871485807         Quinn    MonkeyKing\n",
       "\n",
       "[3372 rows x 3 columns]"
      ]
     },
     "execution_count": 375,
     "metadata": {},
     "output_type": "execute_result"
    }
   ],
   "source": [
    "blue_merge2"
   ]
  },
  {
   "cell_type": "code",
   "execution_count": 376,
   "id": "ca16a845",
   "metadata": {},
   "outputs": [],
   "source": [
    "red_df2 = lol_df[lol_df.teamId == 200]"
   ]
  },
  {
   "cell_type": "code",
   "execution_count": 377,
   "id": "db94caa2",
   "metadata": {},
   "outputs": [],
   "source": [
    "red_jg2 = red_df2[red_df.teamPosition == 'JUNGLE']"
   ]
  },
  {
   "cell_type": "code",
   "execution_count": 402,
   "id": "4e03d820",
   "metadata": {},
   "outputs": [],
   "source": [
    "red_jg2.columns = ('gameId', 'j_champ', 'win')"
   ]
  },
  {
   "cell_type": "code",
   "execution_count": 403,
   "id": "342fd5bb",
   "metadata": {},
   "outputs": [
    {
     "data": {
      "text/html": [
       "<div>\n",
       "<style scoped>\n",
       "    .dataframe tbody tr th:only-of-type {\n",
       "        vertical-align: middle;\n",
       "    }\n",
       "\n",
       "    .dataframe tbody tr th {\n",
       "        vertical-align: top;\n",
       "    }\n",
       "\n",
       "    .dataframe thead th {\n",
       "        text-align: right;\n",
       "    }\n",
       "</style>\n",
       "<table border=\"1\" class=\"dataframe\">\n",
       "  <thead>\n",
       "    <tr style=\"text-align: right;\">\n",
       "      <th></th>\n",
       "      <th>gameId</th>\n",
       "      <th>g_champ</th>\n",
       "      <th>win</th>\n",
       "    </tr>\n",
       "  </thead>\n",
       "  <tbody>\n",
       "    <tr>\n",
       "      <th>6</th>\n",
       "      <td>KR_6622380599</td>\n",
       "      <td>LeeSin</td>\n",
       "      <td>False</td>\n",
       "    </tr>\n",
       "    <tr>\n",
       "      <th>16</th>\n",
       "      <td>KR_6624359428</td>\n",
       "      <td>Khazix</td>\n",
       "      <td>False</td>\n",
       "    </tr>\n",
       "    <tr>\n",
       "      <th>26</th>\n",
       "      <td>KR_6624429645</td>\n",
       "      <td>Elise</td>\n",
       "      <td>True</td>\n",
       "    </tr>\n",
       "    <tr>\n",
       "      <th>36</th>\n",
       "      <td>KR_6630380523</td>\n",
       "      <td>Belveth</td>\n",
       "      <td>False</td>\n",
       "    </tr>\n",
       "    <tr>\n",
       "      <th>46</th>\n",
       "      <td>KR_6630417447</td>\n",
       "      <td>Sylas</td>\n",
       "      <td>False</td>\n",
       "    </tr>\n",
       "    <tr>\n",
       "      <th>...</th>\n",
       "      <td>...</td>\n",
       "      <td>...</td>\n",
       "      <td>...</td>\n",
       "    </tr>\n",
       "    <tr>\n",
       "      <th>36836</th>\n",
       "      <td>KR_6871449527</td>\n",
       "      <td>Graves</td>\n",
       "      <td>False</td>\n",
       "    </tr>\n",
       "    <tr>\n",
       "      <th>36846</th>\n",
       "      <td>KR_6871456917</td>\n",
       "      <td>Talon</td>\n",
       "      <td>True</td>\n",
       "    </tr>\n",
       "    <tr>\n",
       "      <th>36856</th>\n",
       "      <td>KR_6871460455</td>\n",
       "      <td>Graves</td>\n",
       "      <td>True</td>\n",
       "    </tr>\n",
       "    <tr>\n",
       "      <th>36890</th>\n",
       "      <td>KR_6871482544</td>\n",
       "      <td>Viego</td>\n",
       "      <td>True</td>\n",
       "    </tr>\n",
       "    <tr>\n",
       "      <th>36900</th>\n",
       "      <td>KR_6871485807</td>\n",
       "      <td>Graves</td>\n",
       "      <td>True</td>\n",
       "    </tr>\n",
       "  </tbody>\n",
       "</table>\n",
       "<p>3372 rows × 3 columns</p>\n",
       "</div>"
      ],
      "text/plain": [
       "              gameId  g_champ    win\n",
       "6      KR_6622380599   LeeSin  False\n",
       "16     KR_6624359428   Khazix  False\n",
       "26     KR_6624429645    Elise   True\n",
       "36     KR_6630380523  Belveth  False\n",
       "46     KR_6630417447    Sylas  False\n",
       "...              ...      ...    ...\n",
       "36836  KR_6871449527   Graves  False\n",
       "36846  KR_6871456917    Talon   True\n",
       "36856  KR_6871460455   Graves   True\n",
       "36890  KR_6871482544    Viego   True\n",
       "36900  KR_6871485807   Graves   True\n",
       "\n",
       "[3372 rows x 3 columns]"
      ]
     },
     "execution_count": 403,
     "metadata": {},
     "output_type": "execute_result"
    }
   ],
   "source": [
    "red_jg2"
   ]
  },
  {
   "cell_type": "code",
   "execution_count": 379,
   "id": "7c2b6b10",
   "metadata": {},
   "outputs": [],
   "source": [
    "red_jg2 = red_jg2[['gameId', 'championName', 'win']]"
   ]
  },
  {
   "cell_type": "code",
   "execution_count": 381,
   "id": "ddc20c16",
   "metadata": {},
   "outputs": [],
   "source": [
    "red_top2 = red_df2[red_df2.teamPosition == 'TOP']"
   ]
  },
  {
   "cell_type": "code",
   "execution_count": 396,
   "id": "e0e75f1e",
   "metadata": {},
   "outputs": [],
   "source": [
    "red_top2.columns = ('gameId', 't_champ')"
   ]
  },
  {
   "cell_type": "code",
   "execution_count": 397,
   "id": "dee49c79",
   "metadata": {},
   "outputs": [
    {
     "data": {
      "text/html": [
       "<div>\n",
       "<style scoped>\n",
       "    .dataframe tbody tr th:only-of-type {\n",
       "        vertical-align: middle;\n",
       "    }\n",
       "\n",
       "    .dataframe tbody tr th {\n",
       "        vertical-align: top;\n",
       "    }\n",
       "\n",
       "    .dataframe thead th {\n",
       "        text-align: right;\n",
       "    }\n",
       "</style>\n",
       "<table border=\"1\" class=\"dataframe\">\n",
       "  <thead>\n",
       "    <tr style=\"text-align: right;\">\n",
       "      <th></th>\n",
       "      <th>gameId</th>\n",
       "      <th>t_champ</th>\n",
       "    </tr>\n",
       "  </thead>\n",
       "  <tbody>\n",
       "    <tr>\n",
       "      <th>5</th>\n",
       "      <td>KR_6622380599</td>\n",
       "      <td>Aatrox</td>\n",
       "    </tr>\n",
       "    <tr>\n",
       "      <th>15</th>\n",
       "      <td>KR_6624359428</td>\n",
       "      <td>Fiora</td>\n",
       "    </tr>\n",
       "    <tr>\n",
       "      <th>25</th>\n",
       "      <td>KR_6624429645</td>\n",
       "      <td>Gnar</td>\n",
       "    </tr>\n",
       "    <tr>\n",
       "      <th>35</th>\n",
       "      <td>KR_6630380523</td>\n",
       "      <td>Irelia</td>\n",
       "    </tr>\n",
       "    <tr>\n",
       "      <th>45</th>\n",
       "      <td>KR_6630417447</td>\n",
       "      <td>Aatrox</td>\n",
       "    </tr>\n",
       "    <tr>\n",
       "      <th>...</th>\n",
       "      <td>...</td>\n",
       "      <td>...</td>\n",
       "    </tr>\n",
       "    <tr>\n",
       "      <th>36835</th>\n",
       "      <td>KR_6871449527</td>\n",
       "      <td>Jayce</td>\n",
       "    </tr>\n",
       "    <tr>\n",
       "      <th>36845</th>\n",
       "      <td>KR_6871456917</td>\n",
       "      <td>Quinn</td>\n",
       "    </tr>\n",
       "    <tr>\n",
       "      <th>36855</th>\n",
       "      <td>KR_6871460455</td>\n",
       "      <td>Rengar</td>\n",
       "    </tr>\n",
       "    <tr>\n",
       "      <th>36889</th>\n",
       "      <td>KR_6871482544</td>\n",
       "      <td>TahmKench</td>\n",
       "    </tr>\n",
       "    <tr>\n",
       "      <th>36899</th>\n",
       "      <td>KR_6871485807</td>\n",
       "      <td>Ornn</td>\n",
       "    </tr>\n",
       "  </tbody>\n",
       "</table>\n",
       "<p>3372 rows × 2 columns</p>\n",
       "</div>"
      ],
      "text/plain": [
       "              gameId    t_champ\n",
       "5      KR_6622380599     Aatrox\n",
       "15     KR_6624359428      Fiora\n",
       "25     KR_6624429645       Gnar\n",
       "35     KR_6630380523     Irelia\n",
       "45     KR_6630417447     Aatrox\n",
       "...              ...        ...\n",
       "36835  KR_6871449527      Jayce\n",
       "36845  KR_6871456917      Quinn\n",
       "36855  KR_6871460455     Rengar\n",
       "36889  KR_6871482544  TahmKench\n",
       "36899  KR_6871485807       Ornn\n",
       "\n",
       "[3372 rows x 2 columns]"
      ]
     },
     "execution_count": 397,
     "metadata": {},
     "output_type": "execute_result"
    }
   ],
   "source": [
    "red_top2"
   ]
  },
  {
   "cell_type": "code",
   "execution_count": 404,
   "id": "f165fada",
   "metadata": {},
   "outputs": [],
   "source": [
    "red_merge2 = red_top2.merge(red_jg2, on = 'gameId')"
   ]
  },
  {
   "cell_type": "code",
   "execution_count": 385,
   "id": "0cc4262b",
   "metadata": {},
   "outputs": [],
   "source": [
    "red_merge2.columns = ('gameId', 't_champ', 'win', 'j_champ')"
   ]
  },
  {
   "cell_type": "code",
   "execution_count": 387,
   "id": "8912c0b0",
   "metadata": {},
   "outputs": [],
   "source": [
    "red_merge2.drop('wiii', axis = 1, inplace=True)"
   ]
  },
  {
   "cell_type": "code",
   "execution_count": 528,
   "id": "88511b5d",
   "metadata": {},
   "outputs": [
    {
     "data": {
      "text/html": [
       "<div>\n",
       "<style scoped>\n",
       "    .dataframe tbody tr th:only-of-type {\n",
       "        vertical-align: middle;\n",
       "    }\n",
       "\n",
       "    .dataframe tbody tr th {\n",
       "        vertical-align: top;\n",
       "    }\n",
       "\n",
       "    .dataframe thead th {\n",
       "        text-align: right;\n",
       "    }\n",
       "</style>\n",
       "<table border=\"1\" class=\"dataframe\">\n",
       "  <thead>\n",
       "    <tr style=\"text-align: right;\">\n",
       "      <th></th>\n",
       "      <th>gameId</th>\n",
       "      <th>t_champ</th>\n",
       "      <th>g_champ</th>\n",
       "      <th>win</th>\n",
       "    </tr>\n",
       "  </thead>\n",
       "  <tbody>\n",
       "    <tr>\n",
       "      <th>0</th>\n",
       "      <td>KR_6622380599</td>\n",
       "      <td>Aatrox</td>\n",
       "      <td>LeeSin</td>\n",
       "      <td>False</td>\n",
       "    </tr>\n",
       "    <tr>\n",
       "      <th>1</th>\n",
       "      <td>KR_6624359428</td>\n",
       "      <td>Fiora</td>\n",
       "      <td>Khazix</td>\n",
       "      <td>False</td>\n",
       "    </tr>\n",
       "    <tr>\n",
       "      <th>2</th>\n",
       "      <td>KR_6624429645</td>\n",
       "      <td>Gnar</td>\n",
       "      <td>Elise</td>\n",
       "      <td>True</td>\n",
       "    </tr>\n",
       "    <tr>\n",
       "      <th>3</th>\n",
       "      <td>KR_6630380523</td>\n",
       "      <td>Irelia</td>\n",
       "      <td>Belveth</td>\n",
       "      <td>False</td>\n",
       "    </tr>\n",
       "    <tr>\n",
       "      <th>4</th>\n",
       "      <td>KR_6630417447</td>\n",
       "      <td>Aatrox</td>\n",
       "      <td>Sylas</td>\n",
       "      <td>False</td>\n",
       "    </tr>\n",
       "    <tr>\n",
       "      <th>...</th>\n",
       "      <td>...</td>\n",
       "      <td>...</td>\n",
       "      <td>...</td>\n",
       "      <td>...</td>\n",
       "    </tr>\n",
       "    <tr>\n",
       "      <th>3367</th>\n",
       "      <td>KR_6871449527</td>\n",
       "      <td>Jayce</td>\n",
       "      <td>Graves</td>\n",
       "      <td>False</td>\n",
       "    </tr>\n",
       "    <tr>\n",
       "      <th>3368</th>\n",
       "      <td>KR_6871456917</td>\n",
       "      <td>Quinn</td>\n",
       "      <td>Talon</td>\n",
       "      <td>True</td>\n",
       "    </tr>\n",
       "    <tr>\n",
       "      <th>3369</th>\n",
       "      <td>KR_6871460455</td>\n",
       "      <td>Rengar</td>\n",
       "      <td>Graves</td>\n",
       "      <td>True</td>\n",
       "    </tr>\n",
       "    <tr>\n",
       "      <th>3370</th>\n",
       "      <td>KR_6871482544</td>\n",
       "      <td>TahmKench</td>\n",
       "      <td>Viego</td>\n",
       "      <td>True</td>\n",
       "    </tr>\n",
       "    <tr>\n",
       "      <th>3371</th>\n",
       "      <td>KR_6871485807</td>\n",
       "      <td>Ornn</td>\n",
       "      <td>Graves</td>\n",
       "      <td>True</td>\n",
       "    </tr>\n",
       "  </tbody>\n",
       "</table>\n",
       "<p>3372 rows × 4 columns</p>\n",
       "</div>"
      ],
      "text/plain": [
       "             gameId    t_champ  g_champ    win\n",
       "0     KR_6622380599     Aatrox   LeeSin  False\n",
       "1     KR_6624359428      Fiora   Khazix  False\n",
       "2     KR_6624429645       Gnar    Elise   True\n",
       "3     KR_6630380523     Irelia  Belveth  False\n",
       "4     KR_6630417447     Aatrox    Sylas  False\n",
       "...             ...        ...      ...    ...\n",
       "3367  KR_6871449527      Jayce   Graves  False\n",
       "3368  KR_6871456917      Quinn    Talon   True\n",
       "3369  KR_6871460455     Rengar   Graves   True\n",
       "3370  KR_6871482544  TahmKench    Viego   True\n",
       "3371  KR_6871485807       Ornn   Graves   True\n",
       "\n",
       "[3372 rows x 4 columns]"
      ]
     },
     "execution_count": 528,
     "metadata": {},
     "output_type": "execute_result"
    }
   ],
   "source": [
    "red_merge2"
   ]
  },
  {
   "cell_type": "code",
   "execution_count": 426,
   "id": "fcb71e0e",
   "metadata": {},
   "outputs": [],
   "source": [
    "red_lol_merge = red_merge2.merge(blue_merge2, on = 'gameId')"
   ]
  },
  {
   "cell_type": "code",
   "execution_count": 478,
   "id": "ede0f6ba",
   "metadata": {},
   "outputs": [],
   "source": [
    "red_lol_merge.columns = ('gameId', 't_champ', 'j_champ', 'win', 'enemy_t_champ', 'enemy_j_champ')"
   ]
  },
  {
   "cell_type": "code",
   "execution_count": 479,
   "id": "585c2ee2",
   "metadata": {},
   "outputs": [
    {
     "data": {
      "text/html": [
       "<div>\n",
       "<style scoped>\n",
       "    .dataframe tbody tr th:only-of-type {\n",
       "        vertical-align: middle;\n",
       "    }\n",
       "\n",
       "    .dataframe tbody tr th {\n",
       "        vertical-align: top;\n",
       "    }\n",
       "\n",
       "    .dataframe thead th {\n",
       "        text-align: right;\n",
       "    }\n",
       "</style>\n",
       "<table border=\"1\" class=\"dataframe\">\n",
       "  <thead>\n",
       "    <tr style=\"text-align: right;\">\n",
       "      <th></th>\n",
       "      <th>gameId</th>\n",
       "      <th>t_champ</th>\n",
       "      <th>j_champ</th>\n",
       "      <th>win</th>\n",
       "      <th>enemy_t_champ</th>\n",
       "      <th>enemy_j_champ</th>\n",
       "    </tr>\n",
       "  </thead>\n",
       "  <tbody>\n",
       "    <tr>\n",
       "      <th>0</th>\n",
       "      <td>KR_6622380599</td>\n",
       "      <td>Aatrox</td>\n",
       "      <td>LeeSin</td>\n",
       "      <td>False</td>\n",
       "      <td>Poppy</td>\n",
       "      <td>Viego</td>\n",
       "    </tr>\n",
       "    <tr>\n",
       "      <th>1</th>\n",
       "      <td>KR_6624359428</td>\n",
       "      <td>Fiora</td>\n",
       "      <td>Khazix</td>\n",
       "      <td>False</td>\n",
       "      <td>Aatrox</td>\n",
       "      <td>LeeSin</td>\n",
       "    </tr>\n",
       "    <tr>\n",
       "      <th>2</th>\n",
       "      <td>KR_6624429645</td>\n",
       "      <td>Gnar</td>\n",
       "      <td>Elise</td>\n",
       "      <td>True</td>\n",
       "      <td>Yone</td>\n",
       "      <td>JarvanIV</td>\n",
       "    </tr>\n",
       "    <tr>\n",
       "      <th>3</th>\n",
       "      <td>KR_6630380523</td>\n",
       "      <td>Irelia</td>\n",
       "      <td>Belveth</td>\n",
       "      <td>False</td>\n",
       "      <td>Riven</td>\n",
       "      <td>Nidalee</td>\n",
       "    </tr>\n",
       "    <tr>\n",
       "      <th>4</th>\n",
       "      <td>KR_6630417447</td>\n",
       "      <td>Aatrox</td>\n",
       "      <td>Sylas</td>\n",
       "      <td>False</td>\n",
       "      <td>Gwen</td>\n",
       "      <td>JarvanIV</td>\n",
       "    </tr>\n",
       "    <tr>\n",
       "      <th>...</th>\n",
       "      <td>...</td>\n",
       "      <td>...</td>\n",
       "      <td>...</td>\n",
       "      <td>...</td>\n",
       "      <td>...</td>\n",
       "      <td>...</td>\n",
       "    </tr>\n",
       "    <tr>\n",
       "      <th>3367</th>\n",
       "      <td>KR_6871449527</td>\n",
       "      <td>Jayce</td>\n",
       "      <td>Graves</td>\n",
       "      <td>False</td>\n",
       "      <td>Shen</td>\n",
       "      <td>LeeSin</td>\n",
       "    </tr>\n",
       "    <tr>\n",
       "      <th>3368</th>\n",
       "      <td>KR_6871456917</td>\n",
       "      <td>Quinn</td>\n",
       "      <td>Talon</td>\n",
       "      <td>True</td>\n",
       "      <td>Jax</td>\n",
       "      <td>Maokai</td>\n",
       "    </tr>\n",
       "    <tr>\n",
       "      <th>3369</th>\n",
       "      <td>KR_6871460455</td>\n",
       "      <td>Rengar</td>\n",
       "      <td>Graves</td>\n",
       "      <td>True</td>\n",
       "      <td>Udyr</td>\n",
       "      <td>LeeSin</td>\n",
       "    </tr>\n",
       "    <tr>\n",
       "      <th>3370</th>\n",
       "      <td>KR_6871482544</td>\n",
       "      <td>TahmKench</td>\n",
       "      <td>Viego</td>\n",
       "      <td>True</td>\n",
       "      <td>Rengar</td>\n",
       "      <td>Graves</td>\n",
       "    </tr>\n",
       "    <tr>\n",
       "      <th>3371</th>\n",
       "      <td>KR_6871485807</td>\n",
       "      <td>Ornn</td>\n",
       "      <td>Graves</td>\n",
       "      <td>True</td>\n",
       "      <td>Quinn</td>\n",
       "      <td>MonkeyKing</td>\n",
       "    </tr>\n",
       "  </tbody>\n",
       "</table>\n",
       "<p>3372 rows × 6 columns</p>\n",
       "</div>"
      ],
      "text/plain": [
       "             gameId    t_champ  j_champ    win enemy_t_champ enemy_j_champ\n",
       "0     KR_6622380599     Aatrox   LeeSin  False         Poppy         Viego\n",
       "1     KR_6624359428      Fiora   Khazix  False        Aatrox        LeeSin\n",
       "2     KR_6624429645       Gnar    Elise   True          Yone      JarvanIV\n",
       "3     KR_6630380523     Irelia  Belveth  False         Riven       Nidalee\n",
       "4     KR_6630417447     Aatrox    Sylas  False          Gwen      JarvanIV\n",
       "...             ...        ...      ...    ...           ...           ...\n",
       "3367  KR_6871449527      Jayce   Graves  False          Shen        LeeSin\n",
       "3368  KR_6871456917      Quinn    Talon   True           Jax        Maokai\n",
       "3369  KR_6871460455     Rengar   Graves   True          Udyr        LeeSin\n",
       "3370  KR_6871482544  TahmKench    Viego   True        Rengar        Graves\n",
       "3371  KR_6871485807       Ornn   Graves   True         Quinn    MonkeyKing\n",
       "\n",
       "[3372 rows x 6 columns]"
      ]
     },
     "execution_count": 479,
     "metadata": {},
     "output_type": "execute_result"
    }
   ],
   "source": [
    "red_lol_merge"
   ]
  },
  {
   "cell_type": "code",
   "execution_count": 468,
   "id": "81c9fc27",
   "metadata": {},
   "outputs": [
    {
     "data": {
      "text/html": [
       "<div>\n",
       "<style scoped>\n",
       "    .dataframe tbody tr th:only-of-type {\n",
       "        vertical-align: middle;\n",
       "    }\n",
       "\n",
       "    .dataframe tbody tr th {\n",
       "        vertical-align: top;\n",
       "    }\n",
       "\n",
       "    .dataframe thead th {\n",
       "        text-align: right;\n",
       "    }\n",
       "</style>\n",
       "<table border=\"1\" class=\"dataframe\">\n",
       "  <thead>\n",
       "    <tr style=\"text-align: right;\">\n",
       "      <th></th>\n",
       "      <th>gameId</th>\n",
       "      <th>t_champ</th>\n",
       "      <th>j_champ</th>\n",
       "      <th>win</th>\n",
       "      <th>enemy_t_champ</th>\n",
       "      <th>enemy_j_champ</th>\n",
       "    </tr>\n",
       "  </thead>\n",
       "  <tbody>\n",
       "    <tr>\n",
       "      <th>0</th>\n",
       "      <td>KR_6622380599</td>\n",
       "      <td>Poppy</td>\n",
       "      <td>Viego</td>\n",
       "      <td>True</td>\n",
       "      <td>Aatrox</td>\n",
       "      <td>LeeSin</td>\n",
       "    </tr>\n",
       "    <tr>\n",
       "      <th>1</th>\n",
       "      <td>KR_6624359428</td>\n",
       "      <td>Aatrox</td>\n",
       "      <td>LeeSin</td>\n",
       "      <td>True</td>\n",
       "      <td>Fiora</td>\n",
       "      <td>Khazix</td>\n",
       "    </tr>\n",
       "    <tr>\n",
       "      <th>2</th>\n",
       "      <td>KR_6624429645</td>\n",
       "      <td>Yone</td>\n",
       "      <td>JarvanIV</td>\n",
       "      <td>False</td>\n",
       "      <td>Gnar</td>\n",
       "      <td>Elise</td>\n",
       "    </tr>\n",
       "    <tr>\n",
       "      <th>3</th>\n",
       "      <td>KR_6630380523</td>\n",
       "      <td>Riven</td>\n",
       "      <td>Nidalee</td>\n",
       "      <td>True</td>\n",
       "      <td>Irelia</td>\n",
       "      <td>Belveth</td>\n",
       "    </tr>\n",
       "    <tr>\n",
       "      <th>4</th>\n",
       "      <td>KR_6630417447</td>\n",
       "      <td>Gwen</td>\n",
       "      <td>JarvanIV</td>\n",
       "      <td>True</td>\n",
       "      <td>Aatrox</td>\n",
       "      <td>Sylas</td>\n",
       "    </tr>\n",
       "    <tr>\n",
       "      <th>...</th>\n",
       "      <td>...</td>\n",
       "      <td>...</td>\n",
       "      <td>...</td>\n",
       "      <td>...</td>\n",
       "      <td>...</td>\n",
       "      <td>...</td>\n",
       "    </tr>\n",
       "    <tr>\n",
       "      <th>3367</th>\n",
       "      <td>KR_6871449527</td>\n",
       "      <td>Shen</td>\n",
       "      <td>LeeSin</td>\n",
       "      <td>True</td>\n",
       "      <td>Jayce</td>\n",
       "      <td>Graves</td>\n",
       "    </tr>\n",
       "    <tr>\n",
       "      <th>3368</th>\n",
       "      <td>KR_6871456917</td>\n",
       "      <td>Jax</td>\n",
       "      <td>Maokai</td>\n",
       "      <td>False</td>\n",
       "      <td>Quinn</td>\n",
       "      <td>Talon</td>\n",
       "    </tr>\n",
       "    <tr>\n",
       "      <th>3369</th>\n",
       "      <td>KR_6871460455</td>\n",
       "      <td>Udyr</td>\n",
       "      <td>LeeSin</td>\n",
       "      <td>False</td>\n",
       "      <td>Rengar</td>\n",
       "      <td>Graves</td>\n",
       "    </tr>\n",
       "    <tr>\n",
       "      <th>3370</th>\n",
       "      <td>KR_6871482544</td>\n",
       "      <td>Rengar</td>\n",
       "      <td>Graves</td>\n",
       "      <td>False</td>\n",
       "      <td>TahmKench</td>\n",
       "      <td>Viego</td>\n",
       "    </tr>\n",
       "    <tr>\n",
       "      <th>3371</th>\n",
       "      <td>KR_6871485807</td>\n",
       "      <td>Quinn</td>\n",
       "      <td>MonkeyKing</td>\n",
       "      <td>False</td>\n",
       "      <td>Ornn</td>\n",
       "      <td>Graves</td>\n",
       "    </tr>\n",
       "  </tbody>\n",
       "</table>\n",
       "<p>3372 rows × 6 columns</p>\n",
       "</div>"
      ],
      "text/plain": [
       "             gameId t_champ     j_champ    win enemy_t_champ enemy_j_champ\n",
       "0     KR_6622380599   Poppy       Viego   True        Aatrox        LeeSin\n",
       "1     KR_6624359428  Aatrox      LeeSin   True         Fiora        Khazix\n",
       "2     KR_6624429645    Yone    JarvanIV  False          Gnar         Elise\n",
       "3     KR_6630380523   Riven     Nidalee   True        Irelia       Belveth\n",
       "4     KR_6630417447    Gwen    JarvanIV   True        Aatrox         Sylas\n",
       "...             ...     ...         ...    ...           ...           ...\n",
       "3367  KR_6871449527    Shen      LeeSin   True         Jayce        Graves\n",
       "3368  KR_6871456917     Jax      Maokai  False         Quinn         Talon\n",
       "3369  KR_6871460455    Udyr      LeeSin  False        Rengar        Graves\n",
       "3370  KR_6871482544  Rengar      Graves  False     TahmKench         Viego\n",
       "3371  KR_6871485807   Quinn  MonkeyKing  False          Ornn        Graves\n",
       "\n",
       "[3372 rows x 6 columns]"
      ]
     },
     "execution_count": 468,
     "metadata": {},
     "output_type": "execute_result"
    }
   ],
   "source": [
    "blue_lol_merge"
   ]
  },
  {
   "cell_type": "code",
   "execution_count": 492,
   "id": "6835be09",
   "metadata": {},
   "outputs": [],
   "source": [
    "lol_concat = pd.concat([blue_lol_merge, red_lol_merge], axis = 0)"
   ]
  },
  {
   "cell_type": "code",
   "execution_count": 482,
   "id": "c039b7b3",
   "metadata": {},
   "outputs": [],
   "source": [
    "lol_concat.drop('gameId', axis = 1, inplace=True)"
   ]
  },
  {
   "cell_type": "code",
   "execution_count": 493,
   "id": "5dc1867a",
   "metadata": {},
   "outputs": [],
   "source": [
    "lol_concat = lol_concat[['t_champ', 'j_champ', 'enemy_t_champ', 'enemy_j_champ', 'win']]"
   ]
  },
  {
   "cell_type": "code",
   "execution_count": 494,
   "id": "674d726e",
   "metadata": {},
   "outputs": [],
   "source": [
    "lol_concat['win'] = lol_concat.apply(lambda x : 1 if x.win == 'True' else 0, axis = 1)"
   ]
  },
  {
   "cell_type": "code",
   "execution_count": 496,
   "id": "0d959d84",
   "metadata": {},
   "outputs": [],
   "source": [
    "cnt = lol_concat[['t_champ', 'j_champ', 'enemy_t_champ', 'enemy_j_champ', 'win']].groupby(['t_champ', 'j_champ', 'enemy_t_champ', 'enemy_j_champ']).count()"
   ]
  },
  {
   "cell_type": "code",
   "execution_count": 504,
   "id": "3f33c9a2",
   "metadata": {},
   "outputs": [
    {
     "data": {
      "text/html": [
       "<div>\n",
       "<style scoped>\n",
       "    .dataframe tbody tr th:only-of-type {\n",
       "        vertical-align: middle;\n",
       "    }\n",
       "\n",
       "    .dataframe tbody tr th {\n",
       "        vertical-align: top;\n",
       "    }\n",
       "\n",
       "    .dataframe thead th {\n",
       "        text-align: right;\n",
       "    }\n",
       "</style>\n",
       "<table border=\"1\" class=\"dataframe\">\n",
       "  <thead>\n",
       "    <tr style=\"text-align: right;\">\n",
       "      <th></th>\n",
       "      <th></th>\n",
       "      <th></th>\n",
       "      <th></th>\n",
       "      <th>cnt</th>\n",
       "    </tr>\n",
       "    <tr>\n",
       "      <th>t_champ</th>\n",
       "      <th>j_champ</th>\n",
       "      <th>enemy_t_champ</th>\n",
       "      <th>enemy_j_champ</th>\n",
       "      <th></th>\n",
       "    </tr>\n",
       "  </thead>\n",
       "  <tbody>\n",
       "    <tr>\n",
       "      <th>Aatrox</th>\n",
       "      <th>LeeSin</th>\n",
       "      <th>Jax</th>\n",
       "      <th>Belveth</th>\n",
       "      <td>3</td>\n",
       "    </tr>\n",
       "    <tr>\n",
       "      <th>Jax</th>\n",
       "      <th>Belveth</th>\n",
       "      <th>Aatrox</th>\n",
       "      <th>LeeSin</th>\n",
       "      <td>3</td>\n",
       "    </tr>\n",
       "    <tr>\n",
       "      <th>Darius</th>\n",
       "      <th>Graves</th>\n",
       "      <th>Aatrox</th>\n",
       "      <th>Evelynn</th>\n",
       "      <td>2</td>\n",
       "    </tr>\n",
       "    <tr>\n",
       "      <th>KSante</th>\n",
       "      <th>LeeSin</th>\n",
       "      <th>Trundle</th>\n",
       "      <th>Graves</th>\n",
       "      <td>2</td>\n",
       "    </tr>\n",
       "    <tr>\n",
       "      <th>Poppy</th>\n",
       "      <th>Graves</th>\n",
       "      <th>Trundle</th>\n",
       "      <th>Ekko</th>\n",
       "      <td>2</td>\n",
       "    </tr>\n",
       "    <tr>\n",
       "      <th>...</th>\n",
       "      <th>...</th>\n",
       "      <th>...</th>\n",
       "      <th>...</th>\n",
       "      <td>...</td>\n",
       "    </tr>\n",
       "    <tr>\n",
       "      <th rowspan=\"4\" valign=\"top\">Irelia</th>\n",
       "      <th rowspan=\"4\" valign=\"top\">LeeSin</th>\n",
       "      <th>Rumble</th>\n",
       "      <th>XinZhao</th>\n",
       "      <td>1</td>\n",
       "    </tr>\n",
       "    <tr>\n",
       "      <th>Riven</th>\n",
       "      <th>Graves</th>\n",
       "      <td>1</td>\n",
       "    </tr>\n",
       "    <tr>\n",
       "      <th>Renekton</th>\n",
       "      <th>Elise</th>\n",
       "      <td>1</td>\n",
       "    </tr>\n",
       "    <tr>\n",
       "      <th>Kled</th>\n",
       "      <th>Sylas</th>\n",
       "      <td>1</td>\n",
       "    </tr>\n",
       "    <tr>\n",
       "      <th>Zilean</th>\n",
       "      <th>Zac</th>\n",
       "      <th>Kennen</th>\n",
       "      <th>Viego</th>\n",
       "      <td>1</td>\n",
       "    </tr>\n",
       "  </tbody>\n",
       "</table>\n",
       "<p>6680 rows × 1 columns</p>\n",
       "</div>"
      ],
      "text/plain": [
       "                                             cnt\n",
       "t_champ j_champ enemy_t_champ enemy_j_champ     \n",
       "Aatrox  LeeSin  Jax           Belveth          3\n",
       "Jax     Belveth Aatrox        LeeSin           3\n",
       "Darius  Graves  Aatrox        Evelynn          2\n",
       "KSante  LeeSin  Trundle       Graves           2\n",
       "Poppy   Graves  Trundle       Ekko             2\n",
       "...                                          ...\n",
       "Irelia  LeeSin  Rumble        XinZhao          1\n",
       "                Riven         Graves           1\n",
       "                Renekton      Elise            1\n",
       "                Kled          Sylas            1\n",
       "Zilean  Zac     Kennen        Viego            1\n",
       "\n",
       "[6680 rows x 1 columns]"
      ]
     },
     "execution_count": 504,
     "metadata": {},
     "output_type": "execute_result"
    }
   ],
   "source": [
    "cnt.sort_values(by = 'cnt', ascending=False)"
   ]
  },
  {
   "cell_type": "code",
   "execution_count": 503,
   "id": "f53d715b",
   "metadata": {},
   "outputs": [],
   "source": [
    "cnt = cnt.rename(columns =  {'win' : 'cnt'})"
   ]
  },
  {
   "cell_type": "code",
   "execution_count": 505,
   "id": "e73e4249",
   "metadata": {},
   "outputs": [],
   "source": [
    "win_cnt = lol_concat[['t_champ', 'j_champ', 'enemy_t_champ', 'enemy_j_champ', 'win']].groupby(['t_champ', 'j_champ', 'enemy_t_champ', 'enemy_j_champ']).sum()"
   ]
  },
  {
   "cell_type": "code",
   "execution_count": 509,
   "id": "be05d3fd",
   "metadata": {},
   "outputs": [
    {
     "data": {
      "text/html": [
       "<div>\n",
       "<style scoped>\n",
       "    .dataframe tbody tr th:only-of-type {\n",
       "        vertical-align: middle;\n",
       "    }\n",
       "\n",
       "    .dataframe tbody tr th {\n",
       "        vertical-align: top;\n",
       "    }\n",
       "\n",
       "    .dataframe thead th {\n",
       "        text-align: right;\n",
       "    }\n",
       "</style>\n",
       "<table border=\"1\" class=\"dataframe\">\n",
       "  <thead>\n",
       "    <tr style=\"text-align: right;\">\n",
       "      <th></th>\n",
       "      <th></th>\n",
       "      <th></th>\n",
       "      <th></th>\n",
       "      <th>win_cnt</th>\n",
       "    </tr>\n",
       "    <tr>\n",
       "      <th>t_champ</th>\n",
       "      <th>j_champ</th>\n",
       "      <th>enemy_t_champ</th>\n",
       "      <th>enemy_j_champ</th>\n",
       "      <th></th>\n",
       "    </tr>\n",
       "  </thead>\n",
       "  <tbody>\n",
       "    <tr>\n",
       "      <th rowspan=\"3\" valign=\"top\">Aatrox</th>\n",
       "      <th>LeeSin</th>\n",
       "      <th>Jax</th>\n",
       "      <th>Belveth</th>\n",
       "      <td>2</td>\n",
       "    </tr>\n",
       "    <tr>\n",
       "      <th>Nidalee</th>\n",
       "      <th>Jax</th>\n",
       "      <th>LeeSin</th>\n",
       "      <td>2</td>\n",
       "    </tr>\n",
       "    <tr>\n",
       "      <th>LeeSin</th>\n",
       "      <th>Yone</th>\n",
       "      <th>FiddleSticks</th>\n",
       "      <td>2</td>\n",
       "    </tr>\n",
       "    <tr>\n",
       "      <th>Trundle</th>\n",
       "      <th>Nidalee</th>\n",
       "      <th>Jax</th>\n",
       "      <th>LeeSin</th>\n",
       "      <td>2</td>\n",
       "    </tr>\n",
       "    <tr>\n",
       "      <th>Garen</th>\n",
       "      <th>Graves</th>\n",
       "      <th>Yone</th>\n",
       "      <th>LeeSin</th>\n",
       "      <td>2</td>\n",
       "    </tr>\n",
       "    <tr>\n",
       "      <th>...</th>\n",
       "      <th>...</th>\n",
       "      <th>...</th>\n",
       "      <th>...</th>\n",
       "      <td>...</td>\n",
       "    </tr>\n",
       "    <tr>\n",
       "      <th rowspan=\"4\" valign=\"top\">Jayce</th>\n",
       "      <th rowspan=\"2\" valign=\"top\">Shaco</th>\n",
       "      <th>Jax</th>\n",
       "      <th>Briar</th>\n",
       "      <td>0</td>\n",
       "    </tr>\n",
       "    <tr>\n",
       "      <th>Malphite</th>\n",
       "      <th>Nocturne</th>\n",
       "      <td>0</td>\n",
       "    </tr>\n",
       "    <tr>\n",
       "      <th rowspan=\"2\" valign=\"top\">Sylas</th>\n",
       "      <th>Gangplank</th>\n",
       "      <th>Evelynn</th>\n",
       "      <td>0</td>\n",
       "    </tr>\n",
       "    <tr>\n",
       "      <th>Tryndamere</th>\n",
       "      <th>Ivern</th>\n",
       "      <td>0</td>\n",
       "    </tr>\n",
       "    <tr>\n",
       "      <th>Zilean</th>\n",
       "      <th>Zac</th>\n",
       "      <th>Kennen</th>\n",
       "      <th>Viego</th>\n",
       "      <td>0</td>\n",
       "    </tr>\n",
       "  </tbody>\n",
       "</table>\n",
       "<p>6680 rows × 1 columns</p>\n",
       "</div>"
      ],
      "text/plain": [
       "                                             win_cnt\n",
       "t_champ j_champ enemy_t_champ enemy_j_champ         \n",
       "Aatrox  LeeSin  Jax           Belveth              2\n",
       "        Nidalee Jax           LeeSin               2\n",
       "        LeeSin  Yone          FiddleSticks         2\n",
       "Trundle Nidalee Jax           LeeSin               2\n",
       "Garen   Graves  Yone          LeeSin               2\n",
       "...                                              ...\n",
       "Jayce   Shaco   Jax           Briar                0\n",
       "                Malphite      Nocturne             0\n",
       "        Sylas   Gangplank     Evelynn              0\n",
       "                Tryndamere    Ivern                0\n",
       "Zilean  Zac     Kennen        Viego                0\n",
       "\n",
       "[6680 rows x 1 columns]"
      ]
     },
     "execution_count": 509,
     "metadata": {},
     "output_type": "execute_result"
    }
   ],
   "source": [
    "win_cnt.sort_values(by = 'win_cnt', ascending=False)"
   ]
  },
  {
   "cell_type": "code",
   "execution_count": 507,
   "id": "a29c7b46",
   "metadata": {},
   "outputs": [],
   "source": [
    "win_cnt = win_cnt.rename(columns =  {'win' : 'win_cnt'})"
   ]
  },
  {
   "cell_type": "code",
   "execution_count": 584,
   "id": "2c8b05e9",
   "metadata": {},
   "outputs": [],
   "source": [
    "result = cnt.join(win_cnt)"
   ]
  },
  {
   "cell_type": "code",
   "execution_count": 586,
   "id": "1273e51a",
   "metadata": {},
   "outputs": [
    {
     "data": {
      "text/html": [
       "<div>\n",
       "<style scoped>\n",
       "    .dataframe tbody tr th:only-of-type {\n",
       "        vertical-align: middle;\n",
       "    }\n",
       "\n",
       "    .dataframe tbody tr th {\n",
       "        vertical-align: top;\n",
       "    }\n",
       "\n",
       "    .dataframe thead th {\n",
       "        text-align: right;\n",
       "    }\n",
       "</style>\n",
       "<table border=\"1\" class=\"dataframe\">\n",
       "  <thead>\n",
       "    <tr style=\"text-align: right;\">\n",
       "      <th></th>\n",
       "      <th></th>\n",
       "      <th></th>\n",
       "      <th></th>\n",
       "      <th>cnt</th>\n",
       "      <th>win_cnt</th>\n",
       "      <th>win_rate</th>\n",
       "    </tr>\n",
       "    <tr>\n",
       "      <th>t_champ</th>\n",
       "      <th>j_champ</th>\n",
       "      <th>enemy_t_champ</th>\n",
       "      <th>enemy_j_champ</th>\n",
       "      <th></th>\n",
       "      <th></th>\n",
       "      <th></th>\n",
       "    </tr>\n",
       "  </thead>\n",
       "  <tbody>\n",
       "    <tr>\n",
       "      <th>Aatrox</th>\n",
       "      <th>LeeSin</th>\n",
       "      <th>Jax</th>\n",
       "      <th>Belveth</th>\n",
       "      <td>3</td>\n",
       "      <td>2</td>\n",
       "      <td>0.7</td>\n",
       "    </tr>\n",
       "    <tr>\n",
       "      <th>Jax</th>\n",
       "      <th>Belveth</th>\n",
       "      <th>Aatrox</th>\n",
       "      <th>LeeSin</th>\n",
       "      <td>3</td>\n",
       "      <td>1</td>\n",
       "      <td>0.3</td>\n",
       "    </tr>\n",
       "    <tr>\n",
       "      <th>Darius</th>\n",
       "      <th>Graves</th>\n",
       "      <th>Aatrox</th>\n",
       "      <th>Evelynn</th>\n",
       "      <td>2</td>\n",
       "      <td>1</td>\n",
       "      <td>0.5</td>\n",
       "    </tr>\n",
       "    <tr>\n",
       "      <th>KSante</th>\n",
       "      <th>LeeSin</th>\n",
       "      <th>Trundle</th>\n",
       "      <th>Graves</th>\n",
       "      <td>2</td>\n",
       "      <td>2</td>\n",
       "      <td>1.0</td>\n",
       "    </tr>\n",
       "    <tr>\n",
       "      <th>Poppy</th>\n",
       "      <th>Graves</th>\n",
       "      <th>Trundle</th>\n",
       "      <th>Ekko</th>\n",
       "      <td>2</td>\n",
       "      <td>2</td>\n",
       "      <td>1.0</td>\n",
       "    </tr>\n",
       "    <tr>\n",
       "      <th>...</th>\n",
       "      <th>...</th>\n",
       "      <th>...</th>\n",
       "      <th>...</th>\n",
       "      <td>...</td>\n",
       "      <td>...</td>\n",
       "      <td>...</td>\n",
       "    </tr>\n",
       "    <tr>\n",
       "      <th rowspan=\"4\" valign=\"top\">Irelia</th>\n",
       "      <th rowspan=\"4\" valign=\"top\">LeeSin</th>\n",
       "      <th>Rumble</th>\n",
       "      <th>XinZhao</th>\n",
       "      <td>1</td>\n",
       "      <td>1</td>\n",
       "      <td>1.0</td>\n",
       "    </tr>\n",
       "    <tr>\n",
       "      <th>Riven</th>\n",
       "      <th>Graves</th>\n",
       "      <td>1</td>\n",
       "      <td>1</td>\n",
       "      <td>1.0</td>\n",
       "    </tr>\n",
       "    <tr>\n",
       "      <th>Renekton</th>\n",
       "      <th>Elise</th>\n",
       "      <td>1</td>\n",
       "      <td>1</td>\n",
       "      <td>1.0</td>\n",
       "    </tr>\n",
       "    <tr>\n",
       "      <th>Kled</th>\n",
       "      <th>Sylas</th>\n",
       "      <td>1</td>\n",
       "      <td>0</td>\n",
       "      <td>0.0</td>\n",
       "    </tr>\n",
       "    <tr>\n",
       "      <th>Zilean</th>\n",
       "      <th>Zac</th>\n",
       "      <th>Kennen</th>\n",
       "      <th>Viego</th>\n",
       "      <td>1</td>\n",
       "      <td>0</td>\n",
       "      <td>0.0</td>\n",
       "    </tr>\n",
       "  </tbody>\n",
       "</table>\n",
       "<p>6680 rows × 3 columns</p>\n",
       "</div>"
      ],
      "text/plain": [
       "                                             cnt  win_cnt  win_rate\n",
       "t_champ j_champ enemy_t_champ enemy_j_champ                        \n",
       "Aatrox  LeeSin  Jax           Belveth          3        2       0.7\n",
       "Jax     Belveth Aatrox        LeeSin           3        1       0.3\n",
       "Darius  Graves  Aatrox        Evelynn          2        1       0.5\n",
       "KSante  LeeSin  Trundle       Graves           2        2       1.0\n",
       "Poppy   Graves  Trundle       Ekko             2        2       1.0\n",
       "...                                          ...      ...       ...\n",
       "Irelia  LeeSin  Rumble        XinZhao          1        1       1.0\n",
       "                Riven         Graves           1        1       1.0\n",
       "                Renekton      Elise            1        1       1.0\n",
       "                Kled          Sylas            1        0       0.0\n",
       "Zilean  Zac     Kennen        Viego            1        0       0.0\n",
       "\n",
       "[6680 rows x 3 columns]"
      ]
     },
     "execution_count": 586,
     "metadata": {},
     "output_type": "execute_result"
    }
   ],
   "source": [
    "result.sort_values(by = 'cnt', ascending=False)"
   ]
  },
  {
   "cell_type": "code",
   "execution_count": 585,
   "id": "3385cefe",
   "metadata": {
    "scrolled": true
   },
   "outputs": [],
   "source": [
    "result['win_rate']= result.apply(win_rate, axis = 1)"
   ]
  },
  {
   "cell_type": "code",
   "execution_count": 583,
   "id": "5cb1e158",
   "metadata": {},
   "outputs": [],
   "source": [
    "def win_rate(x):\n",
    "    if x.cnt == 0:\n",
    "        return 0\n",
    "    else:\n",
    "        rate = round(x.win_cnt / x.cnt, 1)\n",
    "        return rate"
   ]
  },
  {
   "cell_type": "code",
   "execution_count": null,
   "id": "13119204",
   "metadata": {},
   "outputs": [],
   "source": []
  },
  {
   "cell_type": "code",
   "execution_count": null,
   "id": "7e78f9d5",
   "metadata": {},
   "outputs": [],
   "source": []
  },
  {
   "cell_type": "code",
   "execution_count": null,
   "id": "40b35ff0",
   "metadata": {},
   "outputs": [],
   "source": []
  },
  {
   "cell_type": "code",
   "execution_count": null,
   "id": "fac6155c",
   "metadata": {},
   "outputs": [],
   "source": []
  },
  {
   "cell_type": "code",
   "execution_count": null,
   "id": "d968e636",
   "metadata": {},
   "outputs": [],
   "source": []
  },
  {
   "cell_type": "code",
   "execution_count": null,
   "id": "a0fe30a8",
   "metadata": {},
   "outputs": [],
   "source": []
  }
 ],
 "metadata": {
  "kernelspec": {
   "display_name": "Python 3 (ipykernel)",
   "language": "python",
   "name": "python3"
  },
  "language_info": {
   "codemirror_mode": {
    "name": "ipython",
    "version": 3
   },
   "file_extension": ".py",
   "mimetype": "text/x-python",
   "name": "python",
   "nbconvert_exporter": "python",
   "pygments_lexer": "ipython3",
   "version": "3.11.5"
  }
 },
 "nbformat": 4,
 "nbformat_minor": 5
}
