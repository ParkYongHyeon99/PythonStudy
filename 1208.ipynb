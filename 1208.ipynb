{
 "cells": [
  {
   "cell_type": "markdown",
   "id": "e67f100b",
   "metadata": {},
   "source": [
    "튜플"
   ]
  },
  {
   "cell_type": "code",
   "execution_count": 4,
   "id": "725307d0",
   "metadata": {},
   "outputs": [],
   "source": [
    "t1 = (1,2,3,4,5,6)"
   ]
  },
  {
   "cell_type": "code",
   "execution_count": 6,
   "id": "6a53fd72",
   "metadata": {},
   "outputs": [
    {
     "data": {
      "text/plain": [
       "2"
      ]
     },
     "execution_count": 6,
     "metadata": {},
     "output_type": "execute_result"
    }
   ],
   "source": [
    "t1[1]"
   ]
  },
  {
   "cell_type": "code",
   "execution_count": 7,
   "id": "17f59a6a",
   "metadata": {},
   "outputs": [],
   "source": [
    "t2 = (7,8,9)"
   ]
  },
  {
   "cell_type": "code",
   "execution_count": 9,
   "id": "cd9858c1",
   "metadata": {},
   "outputs": [
    {
     "data": {
      "text/plain": [
       "(1, 2, 3, 4, 5, 6, 7, 8, 9)"
      ]
     },
     "execution_count": 9,
     "metadata": {},
     "output_type": "execute_result"
    }
   ],
   "source": [
    "t1 + t2"
   ]
  },
  {
   "cell_type": "code",
   "execution_count": 12,
   "id": "9410be71",
   "metadata": {},
   "outputs": [
    {
     "data": {
      "text/plain": [
       "3"
      ]
     },
     "execution_count": 12,
     "metadata": {},
     "output_type": "execute_result"
    }
   ],
   "source": [
    "len(t2)"
   ]
  },
  {
   "cell_type": "code",
   "execution_count": 14,
   "id": "faf6ba30",
   "metadata": {},
   "outputs": [
    {
     "data": {
      "text/plain": [
       "tuple"
      ]
     },
     "execution_count": 14,
     "metadata": {},
     "output_type": "execute_result"
    }
   ],
   "source": [
    "type(t1)"
   ]
  },
  {
   "cell_type": "markdown",
   "id": "1fc38f09",
   "metadata": {},
   "source": [
    "# 딕셔너리"
   ]
  },
  {
   "cell_type": "code",
   "execution_count": 20,
   "id": "bbe6cabc",
   "metadata": {},
   "outputs": [],
   "source": [
    "a = {'이름':'김기찬', '회사':'게임아이'}"
   ]
  },
  {
   "cell_type": "code",
   "execution_count": 22,
   "id": "f69d6caf",
   "metadata": {},
   "outputs": [
    {
     "data": {
      "text/plain": [
       "dict"
      ]
     },
     "execution_count": 22,
     "metadata": {},
     "output_type": "execute_result"
    }
   ],
   "source": [
    "type(a)"
   ]
  },
  {
   "cell_type": "code",
   "execution_count": 23,
   "id": "fe1f002e",
   "metadata": {},
   "outputs": [],
   "source": [
    "a = {'이름들':['태민,혜린,용현']}"
   ]
  },
  {
   "cell_type": "code",
   "execution_count": 26,
   "id": "f34923bc",
   "metadata": {},
   "outputs": [
    {
     "data": {
      "text/plain": [
       "['태민,혜린,용현']"
      ]
     },
     "execution_count": 26,
     "metadata": {},
     "output_type": "execute_result"
    }
   ],
   "source": [
    "a['이름들']"
   ]
  },
  {
   "cell_type": "code",
   "execution_count": 27,
   "id": "f28f79f8",
   "metadata": {},
   "outputs": [],
   "source": [
    "a = {'이름':'김기찬', '회사':'게임아이'}"
   ]
  },
  {
   "cell_type": "code",
   "execution_count": 29,
   "id": "0dbeba47",
   "metadata": {},
   "outputs": [
    {
     "data": {
      "text/plain": [
       "'게임아이'"
      ]
     },
     "execution_count": 29,
     "metadata": {},
     "output_type": "execute_result"
    }
   ],
   "source": [
    "a['회사']"
   ]
  },
  {
   "cell_type": "code",
   "execution_count": 31,
   "id": "e9910b72",
   "metadata": {},
   "outputs": [
    {
     "data": {
      "text/plain": [
       "'김기찬'"
      ]
     },
     "execution_count": 31,
     "metadata": {},
     "output_type": "execute_result"
    }
   ],
   "source": [
    "a['이름']"
   ]
  },
  {
   "cell_type": "code",
   "execution_count": 34,
   "id": "2b03e200",
   "metadata": {},
   "outputs": [
    {
     "data": {
      "text/plain": [
       "'김기찬'"
      ]
     },
     "execution_count": 34,
     "metadata": {},
     "output_type": "execute_result"
    }
   ],
   "source": [
    "a.get('이름')"
   ]
  },
  {
   "cell_type": "code",
   "execution_count": 36,
   "id": "ca65a3a7",
   "metadata": {},
   "outputs": [
    {
     "data": {
      "text/plain": [
       "'게임아이'"
      ]
     },
     "execution_count": 36,
     "metadata": {},
     "output_type": "execute_result"
    }
   ],
   "source": [
    "a.get('회사')"
   ]
  },
  {
   "cell_type": "code",
   "execution_count": 38,
   "id": "7a14767a",
   "metadata": {},
   "outputs": [],
   "source": [
    "a['좋아하는 챔피언'] = '흐웨이'"
   ]
  },
  {
   "cell_type": "code",
   "execution_count": 40,
   "id": "c4db2ab1",
   "metadata": {},
   "outputs": [
    {
     "data": {
      "text/plain": [
       "{'이름': '김기찬', '회사': '게임아이', '좋아하는 챔피언': '흐웨이'}"
      ]
     },
     "execution_count": 40,
     "metadata": {},
     "output_type": "execute_result"
    }
   ],
   "source": [
    "a"
   ]
  },
  {
   "cell_type": "code",
   "execution_count": 42,
   "id": "85379bb5",
   "metadata": {},
   "outputs": [],
   "source": [
    "a['라인전 주챔'] = {'탑':'잭스', '미드':'아리', '원딜':'제리'}"
   ]
  },
  {
   "cell_type": "code",
   "execution_count": 45,
   "id": "b4639144",
   "metadata": {},
   "outputs": [
    {
     "data": {
      "text/plain": [
       "'잭스'"
      ]
     },
     "execution_count": 45,
     "metadata": {},
     "output_type": "execute_result"
    }
   ],
   "source": [
    "a['라인전 주챔']['탑']"
   ]
  },
  {
   "cell_type": "code",
   "execution_count": 47,
   "id": "ed852a35",
   "metadata": {},
   "outputs": [
    {
     "data": {
      "text/plain": [
       "dict_keys(['이름', '회사', '좋아하는 챔피언', '라인전 주챔'])"
      ]
     },
     "execution_count": 47,
     "metadata": {},
     "output_type": "execute_result"
    }
   ],
   "source": [
    "a.keys()"
   ]
  },
  {
   "cell_type": "code",
   "execution_count": 49,
   "id": "a38dc868",
   "metadata": {},
   "outputs": [
    {
     "data": {
      "text/plain": [
       "dict_values(['김기찬', '게임아이', '흐웨이', {'탑': '잭스', '미드': '아리', '원딜': '제리'}])"
      ]
     },
     "execution_count": 49,
     "metadata": {},
     "output_type": "execute_result"
    }
   ],
   "source": [
    "a.values()"
   ]
  },
  {
   "cell_type": "code",
   "execution_count": 51,
   "id": "c2500862",
   "metadata": {},
   "outputs": [
    {
     "data": {
      "text/plain": [
       "dict_items([('이름', '김기찬'), ('회사', '게임아이'), ('좋아하는 챔피언', '흐웨이'), ('라인전 주챔', {'탑': '잭스', '미드': '아리', '원딜': '제리'})])"
      ]
     },
     "execution_count": 51,
     "metadata": {},
     "output_type": "execute_result"
    }
   ],
   "source": [
    "a.items()"
   ]
  },
  {
   "cell_type": "code",
   "execution_count": 54,
   "id": "58e8bd43",
   "metadata": {},
   "outputs": [
    {
     "data": {
      "text/plain": [
       "[('이름', '김기찬'),\n",
       " ('회사', '게임아이'),\n",
       " ('좋아하는 챔피언', '흐웨이'),\n",
       " ('라인전 주챔', {'탑': '잭스', '미드': '아리', '원딜': '제리'})]"
      ]
     },
     "execution_count": 54,
     "metadata": {},
     "output_type": "execute_result"
    }
   ],
   "source": [
    "list(a.items())"
   ]
  },
  {
   "cell_type": "code",
   "execution_count": 55,
   "id": "1930b988",
   "metadata": {},
   "outputs": [],
   "source": [
    "a.clear()"
   ]
  },
  {
   "cell_type": "code",
   "execution_count": 56,
   "id": "778fd662",
   "metadata": {},
   "outputs": [
    {
     "data": {
      "text/plain": [
       "{}"
      ]
     },
     "execution_count": 56,
     "metadata": {},
     "output_type": "execute_result"
    }
   ],
   "source": [
    "a"
   ]
  },
  {
   "cell_type": "code",
   "execution_count": 57,
   "id": "31b5b276",
   "metadata": {},
   "outputs": [],
   "source": [
    "c = {\"aa\" : 'bb'}"
   ]
  },
  {
   "cell_type": "code",
   "execution_count": 58,
   "id": "4ec83863",
   "metadata": {},
   "outputs": [
    {
     "data": {
      "text/plain": [
       "False"
      ]
     },
     "execution_count": 58,
     "metadata": {},
     "output_type": "execute_result"
    }
   ],
   "source": [
    "'cc' in c"
   ]
  },
  {
   "cell_type": "code",
   "execution_count": 59,
   "id": "6e8ccce6",
   "metadata": {},
   "outputs": [
    {
     "data": {
      "text/plain": [
       "{'aa': 'bb'}"
      ]
     },
     "execution_count": 59,
     "metadata": {},
     "output_type": "execute_result"
    }
   ],
   "source": [
    "c"
   ]
  },
  {
   "cell_type": "code",
   "execution_count": 81,
   "id": "228d216d",
   "metadata": {},
   "outputs": [],
   "source": [
    "price = ['20180728', 100, 130, 140, 150, 160, 170]"
   ]
  },
  {
   "cell_type": "code",
   "execution_count": 63,
   "id": "97f67844",
   "metadata": {},
   "outputs": [],
   "source": [
    "interest = ['삼성전자', 'LG전자', 'NAVER']"
   ]
  },
  {
   "cell_type": "code",
   "execution_count": 82,
   "id": "85c897e6",
   "metadata": {},
   "outputs": [],
   "source": [
    "price_only = price[1:]"
   ]
  },
  {
   "cell_type": "code",
   "execution_count": 84,
   "id": "a385e1d2",
   "metadata": {},
   "outputs": [
    {
     "data": {
      "text/plain": [
       "[100, 130, 140, 150, 160, 170]"
      ]
     },
     "execution_count": 84,
     "metadata": {},
     "output_type": "execute_result"
    }
   ],
   "source": [
    "price_only"
   ]
  },
  {
   "cell_type": "code",
   "execution_count": 86,
   "id": "d1919aa9",
   "metadata": {},
   "outputs": [
    {
     "name": "stdout",
     "output_type": "stream",
     "text": [
      "삼성전자 NAVER\n"
     ]
    }
   ],
   "source": [
    "print(interest[0], interest[2])"
   ]
  },
  {
   "cell_type": "code",
   "execution_count": 89,
   "id": "283f7728",
   "metadata": {},
   "outputs": [],
   "source": [
    "icecream_price = {'메로나':'1000', '폴라포':'1200', '빵빠레':'1800'}"
   ]
  },
  {
   "cell_type": "code",
   "execution_count": 92,
   "id": "9f81c7c3",
   "metadata": {},
   "outputs": [
    {
     "data": {
      "text/plain": [
       "[('메로나', '1000'), ('폴라포', '1200'), ('빵빠레', '1800')]"
      ]
     },
     "execution_count": 92,
     "metadata": {},
     "output_type": "execute_result"
    }
   ],
   "source": [
    "list(icecream_price.items())"
   ]
  },
  {
   "cell_type": "code",
   "execution_count": 93,
   "id": "00ccb16c",
   "metadata": {},
   "outputs": [],
   "source": [
    "blue_ban = ['가렌', '아리', '파이크', '흐웨이', '제드']\n",
    "red_ban = ['갱플랭크', '아리', '파이크', '탈론', '소나']"
   ]
  },
  {
   "cell_type": "code",
   "execution_count": 94,
   "id": "ad907ab9",
   "metadata": {},
   "outputs": [
    {
     "data": {
      "text/plain": [
       "['갱플랭크', '제드', '탈론', '흐웨이', '가렌', '소나', '파이크', '아리']"
      ]
     },
     "execution_count": 94,
     "metadata": {},
     "output_type": "execute_result"
    }
   ],
   "source": [
    "list(set(blue_ban + red_ban))"
   ]
  },
  {
   "cell_type": "code",
   "execution_count": 104,
   "id": "13cfd432",
   "metadata": {},
   "outputs": [],
   "source": [
    "money = True"
   ]
  },
  {
   "cell_type": "code",
   "execution_count": 105,
   "id": "060db3b7",
   "metadata": {},
   "outputs": [
    {
     "name": "stdout",
     "output_type": "stream",
     "text": [
      "택시타\n"
     ]
    }
   ],
   "source": [
    "if money:\n",
    "    print('택시타')\n",
    "else:\n",
    "    print('걸어가')"
   ]
  },
  {
   "cell_type": "code",
   "execution_count": 114,
   "id": "9b331004",
   "metadata": {},
   "outputs": [],
   "source": [
    "money = 3000"
   ]
  },
  {
   "cell_type": "code",
   "execution_count": 115,
   "id": "0f895d17",
   "metadata": {},
   "outputs": [
    {
     "name": "stdout",
     "output_type": "stream",
     "text": [
      "걸어가\n"
     ]
    }
   ],
   "source": [
    "if money >= 6000:\n",
    "    print('택시타')\n",
    "elif money > 4000:\n",
    "    print('버스타')\n",
    "else:\n",
    "    print('걸어가')"
   ]
  },
  {
   "cell_type": "code",
   "execution_count": 120,
   "id": "a453f5ee",
   "metadata": {},
   "outputs": [],
   "source": [
    "position = 'TOP'\n",
    "champion = '다리우스'"
   ]
  },
  {
   "cell_type": "code",
   "execution_count": 125,
   "id": "fa1d51d2",
   "metadata": {},
   "outputs": [
    {
     "name": "stdout",
     "output_type": "stream",
     "text": [
      "퀸\n"
     ]
    }
   ],
   "source": [
    "if position == 'TOP' or champion == 'Garen':\n",
    "    print('퀸')\n",
    "else:\n",
    "    print('가렌')"
   ]
  },
  {
   "cell_type": "markdown",
   "id": "5e63ae6d",
   "metadata": {},
   "source": [
    "# 변수 a가 3의 배수일 경우 3을 출력하고 아닐경우 0을 출력하는 코드 작성"
   ]
  },
  {
   "cell_type": "code",
   "execution_count": 142,
   "id": "e8058a54",
   "metadata": {},
   "outputs": [],
   "source": [
    "a = 12"
   ]
  },
  {
   "cell_type": "code",
   "execution_count": 130,
   "id": "1a596167",
   "metadata": {},
   "outputs": [
    {
     "name": "stdout",
     "output_type": "stream",
     "text": [
      "3\n"
     ]
    }
   ],
   "source": [
    "if a % 3 == 0 :\n",
    "    print('3')\n",
    "else:\n",
    "    print('0')"
   ]
  },
  {
   "cell_type": "markdown",
   "id": "81e54482",
   "metadata": {},
   "source": [
    "# 변수 a가 3의 배수 혹은 5의 배수일 경우 \"정답\"을 출력하고 아닐경우 \"틀림\"출력"
   ]
  },
  {
   "cell_type": "code",
   "execution_count": 143,
   "id": "1d9be2e2",
   "metadata": {},
   "outputs": [
    {
     "name": "stdout",
     "output_type": "stream",
     "text": [
      "정답\n"
     ]
    }
   ],
   "source": [
    "if a % 3 == 0 or a % 5 == 0:\n",
    "    print('정답')\n",
    "else:\n",
    "    print('틀림')"
   ]
  },
  {
   "cell_type": "markdown",
   "id": "2d8df45c",
   "metadata": {},
   "source": [
    "# while문"
   ]
  },
  {
   "cell_type": "code",
   "execution_count": 144,
   "id": "273fc265",
   "metadata": {},
   "outputs": [],
   "source": [
    "a = 0"
   ]
  },
  {
   "cell_type": "code",
   "execution_count": 147,
   "id": "e12f4701",
   "metadata": {},
   "outputs": [
    {
     "name": "stdout",
     "output_type": "stream",
     "text": [
      "0\n",
      "1\n",
      "2\n",
      "3\n",
      "4\n",
      "5\n",
      "6\n",
      "7\n",
      "8\n",
      "9\n"
     ]
    }
   ],
   "source": [
    "while a<10:\n",
    "    print(a)\n",
    "    a += 1"
   ]
  },
  {
   "cell_type": "code",
   "execution_count": 150,
   "id": "04706738",
   "metadata": {},
   "outputs": [
    {
     "name": "stdout",
     "output_type": "stream",
     "text": [
      "0\n",
      "2\n",
      "4\n",
      "6\n",
      "8\n",
      "10\n",
      "12\n",
      "14\n",
      "16\n",
      "18\n",
      "20\n"
     ]
    }
   ],
   "source": [
    "a = 0\n",
    "while True:\n",
    "    print(a)\n",
    "    a += 2\n",
    "    if a > 20:\n",
    "        break"
   ]
  },
  {
   "cell_type": "code",
   "execution_count": 156,
   "id": "4e408d23",
   "metadata": {},
   "outputs": [
    {
     "name": "stdout",
     "output_type": "stream",
     "text": [
      "믹스커피를 구매합니다.\n",
      "남은 커피의 양은 9개입니다.\n",
      "남은 돈은  251원 입니다.\n",
      "====================\n",
      "믹스커피를 구매합니다.\n",
      "남은 커피의 양은 8개입니다.\n",
      "남은 돈은  201원 입니다.\n",
      "====================\n",
      "믹스커피를 구매합니다.\n",
      "남은 커피의 양은 7개입니다.\n",
      "남은 돈은  151원 입니다.\n",
      "====================\n",
      "믹스커피를 구매합니다.\n",
      "남은 커피의 양은 6개입니다.\n",
      "남은 돈은  101원 입니다.\n",
      "====================\n",
      "믹스커피를 구매합니다.\n",
      "남은 커피의 양은 5개입니다.\n",
      "남은 돈은  51원 입니다.\n",
      "====================\n",
      "믹스커피를 구매합니다.\n",
      "남은 커피의 양은 4개입니다.\n",
      "남은 돈은  1원 입니다.\n",
      "====================\n",
      "돈이 없어서 구매를 할 수 없습니다.\n"
     ]
    }
   ],
   "source": [
    "coffee = 10\n",
    "money = 301\n",
    "\n",
    "while True:\n",
    "    print('믹스커피를 구매합니다.')\n",
    "    coffee -= 1\n",
    "    money -= 50\n",
    "    print(\"남은 커피의 양은 %d개입니다.\" % coffee)\n",
    "    print(\"남은 돈은  %d원 입니다.\"% money)\n",
    "    print(\"====================\")\n",
    "    if coffee == 0:\n",
    "        print('커피가 다 떨어졌습니다. 판매를 중지합니다')\n",
    "        break;\n",
    "    if money <= 49:\n",
    "        print('돈이 없어서 구매를 할 수 없습니다.')\n",
    "        break;"
   ]
  },
  {
   "cell_type": "code",
   "execution_count": 160,
   "id": "e0826ea5",
   "metadata": {},
   "outputs": [],
   "source": [
    "num_list = [1, 2, 3, 4, 5]"
   ]
  },
  {
   "cell_type": "code",
   "execution_count": 162,
   "id": "80050e14",
   "metadata": {
    "scrolled": true
   },
   "outputs": [
    {
     "name": "stdout",
     "output_type": "stream",
     "text": [
      "4\n",
      "5\n",
      "6\n",
      "7\n",
      "8\n"
     ]
    }
   ],
   "source": [
    "for i in num_list:\n",
    "    print(i + 3)"
   ]
  },
  {
   "cell_type": "code",
   "execution_count": 163,
   "id": "8c438c21",
   "metadata": {},
   "outputs": [],
   "source": [
    "score_list = [90, 80, 24, 37, 59]"
   ]
  },
  {
   "cell_type": "code",
   "execution_count": 180,
   "id": "98b14eb1",
   "metadata": {},
   "outputs": [],
   "source": [
    "number = 0"
   ]
  },
  {
   "cell_type": "markdown",
   "id": "9ab20e46",
   "metadata": {},
   "source": [
    "# 시험점수가 60점 이상이면 number번째 학생은 합격입니다. 출력,\n",
    "# 60점 미만이면 number번째 학생은 불합격입니다. 출력\n",
    "\n",
    " "
   ]
  },
  {
   "cell_type": "code",
   "execution_count": 181,
   "id": "1ee16927",
   "metadata": {},
   "outputs": [
    {
     "name": "stdout",
     "output_type": "stream",
     "text": [
      "1번째 학생은 합격입니다\n",
      "2번째 학생은 합격입니다\n",
      "3번째 학생은 불합격입니다\n",
      "4번째 학생은 불합격입니다\n",
      "5번째 학생은 불합격입니다\n"
     ]
    }
   ],
   "source": [
    "for i in score_list:\n",
    "    number += 1\n",
    "    if(i > 60):\n",
    "        print(\"%d번째 학생은 합격입니다\"% number)\n",
    "    else:\n",
    "        print(\"%d번째 학생은 불합격입니다\"% number)"
   ]
  },
  {
   "cell_type": "code",
   "execution_count": 183,
   "id": "2732959b",
   "metadata": {},
   "outputs": [
    {
     "name": "stdout",
     "output_type": "stream",
     "text": [
      "1\n",
      "2\n",
      "3\n",
      "4\n",
      "5\n",
      "6\n",
      "7\n",
      "8\n",
      "9\n"
     ]
    }
   ],
   "source": [
    "for i in range(1,10):\n",
    "    print(i)"
   ]
  },
  {
   "cell_type": "code",
   "execution_count": 186,
   "id": "1a32e19f",
   "metadata": {},
   "outputs": [
    {
     "name": "stdout",
     "output_type": "stream",
     "text": [
      "0 2 2\n",
      "1 2 3\n",
      "2 2 4\n",
      "3 2 5\n",
      "4 2 6\n",
      "5 2 7\n",
      "6 2 8\n",
      "7 2 9\n",
      "8 2 10\n",
      "9 2 11\n"
     ]
    }
   ],
   "source": [
    "for i in range(10):\n",
    "    for j in range(2,3):\n",
    "        print(i, j, i + j)"
   ]
  },
  {
   "cell_type": "markdown",
   "id": "c1c49ffe",
   "metadata": {},
   "source": [
    "# 이중 for문 사용해서 2~9단 만들어보기"
   ]
  },
  {
   "cell_type": "code",
   "execution_count": 367,
   "id": "a5672351",
   "metadata": {},
   "outputs": [],
   "source": [
    "table = []\n",
    "num_list = []"
   ]
  },
  {
   "cell_type": "code",
   "execution_count": 366,
   "id": "38cf0294",
   "metadata": {
    "scrolled": true
   },
   "outputs": [
    {
     "data": {
      "text/plain": [
       "[9, 18, 27, 36, 45, 54, 63, 72, 81]"
      ]
     },
     "execution_count": 366,
     "metadata": {},
     "output_type": "execute_result"
    }
   ],
   "source": [
    "num_list"
   ]
  },
  {
   "cell_type": "code",
   "execution_count": 370,
   "id": "c0b43a4a",
   "metadata": {
    "scrolled": true
   },
   "outputs": [
    {
     "data": {
      "text/plain": [
       "[[2, 4, 6, 8, 10, 12, 14, 16, 18],\n",
       " [3, 6, 9, 12, 15, 18, 21, 24, 27],\n",
       " [4, 8, 12, 16, 20, 24, 28, 32, 36],\n",
       " [5, 10, 15, 20, 25, 30, 35, 40, 45],\n",
       " [6, 12, 18, 24, 30, 36, 42, 48, 54],\n",
       " [7, 14, 21, 28, 35, 42, 49, 56, 63],\n",
       " [8, 16, 24, 32, 40, 48, 56, 64, 72],\n",
       " [9, 18, 27, 36, 45, 54, 63, 72, 81]]"
      ]
     },
     "execution_count": 370,
     "metadata": {},
     "output_type": "execute_result"
    }
   ],
   "source": [
    "table"
   ]
  },
  {
   "cell_type": "code",
   "execution_count": 371,
   "id": "91b2650c",
   "metadata": {
    "scrolled": false
   },
   "outputs": [],
   "source": [
    "for i in range(2, 10):\n",
    "    num_list = []\n",
    "    for j in range(1,10):\n",
    "        num_list.append(i*j)\n",
    "    table.append(num_list)"
   ]
  },
  {
   "cell_type": "code",
   "execution_count": 5,
   "id": "f4cd1eab",
   "metadata": {},
   "outputs": [],
   "source": [
    "my_list = [[20, 38], [41, 50], [2, 4], [3, 4], [5, 8], [9, 10]]"
   ]
  },
  {
   "cell_type": "code",
   "execution_count": 11,
   "id": "ae5259b3",
   "metadata": {},
   "outputs": [],
   "source": [
    "plus = 0"
   ]
  },
  {
   "cell_type": "markdown",
   "id": "5672725a",
   "metadata": {},
   "source": [
    "# 리스트에 저장된 수 중에 짝수들의 합을 출력하세요 (for문) plus = 136\n"
   ]
  },
  {
   "cell_type": "code",
   "execution_count": 12,
   "id": "3d7f23f8",
   "metadata": {},
   "outputs": [
    {
     "name": "stdout",
     "output_type": "stream",
     "text": [
      "136\n"
     ]
    }
   ],
   "source": [
    "for i in my_list:\n",
    "    for j in i:\n",
    "        if j % 2 == 0:\n",
    "            plus += j\n",
    "print(plus)"
   ]
  },
  {
   "cell_type": "code",
   "execution_count": 8,
   "id": "c9d70778",
   "metadata": {},
   "outputs": [
    {
     "data": {
      "text/plain": [
       "136"
      ]
     },
     "execution_count": 8,
     "metadata": {},
     "output_type": "execute_result"
    }
   ],
   "source": []
  }
 ],
 "metadata": {
  "kernelspec": {
   "display_name": "Python 3 (ipykernel)",
   "language": "python",
   "name": "python3"
  },
  "language_info": {
   "codemirror_mode": {
    "name": "ipython",
    "version": 3
   },
   "file_extension": ".py",
   "mimetype": "text/x-python",
   "name": "python",
   "nbconvert_exporter": "python",
   "pygments_lexer": "ipython3",
   "version": "3.11.5"
  }
 },
 "nbformat": 4,
 "nbformat_minor": 5
}
